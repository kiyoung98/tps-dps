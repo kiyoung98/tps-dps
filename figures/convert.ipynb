{
 "cells": [
  {
   "cell_type": "code",
   "execution_count": 15,
   "metadata": {},
   "outputs": [],
   "source": [
    "from pdf2image import convert_from_path\n",
    "import os\n",
    "import fitz\n"
   ]
  },
  {
   "cell_type": "code",
   "execution_count": 4,
   "metadata": {},
   "outputs": [
    {
     "name": "stdout",
     "output_type": "stream",
     "text": [
      "['synthetic-potential-tps-dps-p.pdf', 'synthetic-potential-smd1.pdf', 'alanine-ram-tps-dps-f.pdf', 'synthetic-potential-tps-dps-f.pdf', 'alanine-ram-pips.pdf', 'alanine-ram-smd10.pdf', 'synthetic-potential-smd0.5.pdf', 'alanine-ram-md.pdf', 'synthetic-potential-md.pdf', 'alanine-ram-smd20.pdf', 'synthetic-potential-gt.pdf', 'alanine-ram-tps-dps-p.pdf']\n"
     ]
    }
   ],
   "source": [
    "files_in_figures = os.listdir('./')\n",
    "pdf_files = [file for file in files_in_figures if file.endswith('.pdf')]\n",
    "print(pdf_files)"
   ]
  },
  {
   "cell_type": "code",
   "execution_count": 18,
   "metadata": {},
   "outputs": [],
   "source": [
    "for i, pdf_file_path in enumerate(pdf_files):\n",
    "\tdoc = fitz.open(pdf_file_path)\n",
    "\tpdf_file_name = pdf_file_path.replace('.pdf', '')\n",
    "\tfor i, page in enumerate(doc):\n",
    "\t\timg = page.get_pixmap()\n",
    "\t\timg.save(f\"./{pdf_file_name}.png\", \"PNG\")"
   ]
  },
  {
   "cell_type": "code",
   "execution_count": null,
   "metadata": {},
   "outputs": [],
   "source": []
  }
 ],
 "metadata": {
  "kernelspec": {
   "display_name": "tps_gflow",
   "language": "python",
   "name": "python3"
  },
  "language_info": {
   "codemirror_mode": {
    "name": "ipython",
    "version": 3
   },
   "file_extension": ".py",
   "mimetype": "text/x-python",
   "name": "python",
   "nbconvert_exporter": "python",
   "pygments_lexer": "ipython3",
   "version": "3.9.19"
  }
 },
 "nbformat": 4,
 "nbformat_minor": 2
}
