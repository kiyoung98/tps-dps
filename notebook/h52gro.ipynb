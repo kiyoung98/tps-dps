{
 "cells": [
  {
   "cell_type": "code",
   "execution_count": 1,
   "metadata": {},
   "outputs": [
    {
     "data": {
      "application/vnd.jupyter.widget-view+json": {
       "model_id": "dec060c4b2e04db39bd26ecc7a807169",
       "version_major": 2,
       "version_minor": 0
      },
      "text/plain": []
     },
     "metadata": {},
     "output_type": "display_data"
    }
   ],
   "source": [
    "import mdtraj as md\n",
    "import nglview as nv\n",
    "\n",
    "IMAGE_SIZE = \"400px\""
   ]
  },
  {
   "cell_type": "code",
   "execution_count": 2,
   "metadata": {},
   "outputs": [],
   "source": [
    "molecule = \"bba\"\n",
    "# molecule = \"trpcage\""
   ]
  },
  {
   "cell_type": "code",
   "execution_count": 3,
   "metadata": {},
   "outputs": [],
   "source": [
    "traj = md.load(f\"../data/{molecule}/{molecule}.h5\")"
   ]
  },
  {
   "cell_type": "code",
   "execution_count": 4,
   "metadata": {},
   "outputs": [
    {
     "data": {
      "application/vnd.jupyter.widget-view+json": {
       "model_id": "e3195325a0d04739a7929caf778cadab",
       "version_major": 2,
       "version_minor": 0
      },
      "text/plain": [
       "NGLWidget(max_frame=4831)"
      ]
     },
     "metadata": {},
     "output_type": "display_data"
    }
   ],
   "source": [
    "traj = md.load(\n",
    "    f\"../data/{molecule}/{molecule}.h5\",\n",
    "    # top=f\"../data/{molecule}/unfolded.pdb\"\n",
    ")\n",
    "traj_view = nv.show_mdtraj(traj, width=IMAGE_SIZE, height=IMAGE_SIZE)\n",
    "traj_view.add_ball_and_stick('protein', aspectRatio=2, radius=0.1)\n",
    "traj_view.center()\n",
    "\n",
    "traj_view"
   ]
  },
  {
   "cell_type": "code",
   "execution_count": null,
   "metadata": {},
   "outputs": [],
   "source": [
    "traj.save_gro(f\"../data/{molecule}/{molecule}-v2.gro\")"
   ]
  },
  {
   "cell_type": "code",
   "execution_count": null,
   "metadata": {},
   "outputs": [
    {
     "name": "stderr",
     "output_type": "stream",
     "text": [
      "/home/shpark/.conda/envs/tps_gflow/lib/python3.9/site-packages/mdtraj/formats/pdb/pdbfile.py:196: UserWarning: Unlikely unit cell vectors detected in PDB file likely resulting from a dummy CRYST1 record. Discarding unit cell vectors.\n",
      "  warnings.warn('Unlikely unit cell vectors detected in PDB file likely '\n",
      "/home/shpark/.conda/envs/tps_gflow/lib/python3.9/site-packages/mdtraj/core/trajectory.py:422: UserWarning: top= kwarg ignored since file contains topology information\n",
      "  warnings.warn('top= kwarg ignored since file contains topology information')\n",
      "/home/shpark/.conda/envs/tps_gflow/lib/python3.9/site-packages/mdtraj/formats/gro.py:307: UserWarning: WARNING: two consecutive residues with same number (GLN, GLU)\n",
      "  warnings.warn(\"WARNING: two consecutive residues with same number (%s, %s)\" % (thisresname, residue.name))\n",
      "/home/shpark/.conda/envs/tps_gflow/lib/python3.9/site-packages/mdtraj/formats/gro.py:307: UserWarning: WARNING: two consecutive residues with same number (TYR, GLN)\n",
      "  warnings.warn(\"WARNING: two consecutive residues with same number (%s, %s)\" % (thisresname, residue.name))\n",
      "/home/shpark/.conda/envs/tps_gflow/lib/python3.9/site-packages/mdtraj/formats/gro.py:307: UserWarning: WARNING: two consecutive residues with same number (THR, TYR)\n",
      "  warnings.warn(\"WARNING: two consecutive residues with same number (%s, %s)\" % (thisresname, residue.name))\n",
      "/home/shpark/.conda/envs/tps_gflow/lib/python3.9/site-packages/mdtraj/formats/gro.py:307: UserWarning: WARNING: two consecutive residues with same number (ALA, THR)\n",
      "  warnings.warn(\"WARNING: two consecutive residues with same number (%s, %s)\" % (thisresname, residue.name))\n",
      "/home/shpark/.conda/envs/tps_gflow/lib/python3.9/site-packages/mdtraj/formats/gro.py:307: UserWarning: WARNING: two consecutive residues with same number (LYS, ALA)\n",
      "  warnings.warn(\"WARNING: two consecutive residues with same number (%s, %s)\" % (thisresname, residue.name))\n",
      "/home/shpark/.conda/envs/tps_gflow/lib/python3.9/site-packages/mdtraj/formats/gro.py:307: UserWarning: WARNING: two consecutive residues with same number (TYR, LYS)\n",
      "  warnings.warn(\"WARNING: two consecutive residues with same number (%s, %s)\" % (thisresname, residue.name))\n",
      "/home/shpark/.conda/envs/tps_gflow/lib/python3.9/site-packages/mdtraj/formats/gro.py:307: UserWarning: WARNING: two consecutive residues with same number (LYS, TYR)\n",
      "  warnings.warn(\"WARNING: two consecutive residues with same number (%s, %s)\" % (thisresname, residue.name))\n",
      "/home/shpark/.conda/envs/tps_gflow/lib/python3.9/site-packages/mdtraj/formats/gro.py:307: UserWarning: WARNING: two consecutive residues with same number (GLY, LYS)\n",
      "  warnings.warn(\"WARNING: two consecutive residues with same number (%s, %s)\" % (thisresname, residue.name))\n",
      "/home/shpark/.conda/envs/tps_gflow/lib/python3.9/site-packages/mdtraj/formats/gro.py:307: UserWarning: WARNING: two consecutive residues with same number (ARG, GLY)\n",
      "  warnings.warn(\"WARNING: two consecutive residues with same number (%s, %s)\" % (thisresname, residue.name))\n",
      "/home/shpark/.conda/envs/tps_gflow/lib/python3.9/site-packages/mdtraj/formats/gro.py:307: UserWarning: WARNING: two consecutive residues with same number (THR, ARG)\n",
      "  warnings.warn(\"WARNING: two consecutive residues with same number (%s, %s)\" % (thisresname, residue.name))\n",
      "/home/shpark/.conda/envs/tps_gflow/lib/python3.9/site-packages/mdtraj/formats/gro.py:307: UserWarning: WARNING: two consecutive residues with same number (PHE, THR)\n",
      "  warnings.warn(\"WARNING: two consecutive residues with same number (%s, %s)\" % (thisresname, residue.name))\n",
      "/home/shpark/.conda/envs/tps_gflow/lib/python3.9/site-packages/mdtraj/formats/gro.py:307: UserWarning: WARNING: two consecutive residues with same number (ARG, PHE)\n",
      "  warnings.warn(\"WARNING: two consecutive residues with same number (%s, %s)\" % (thisresname, residue.name))\n",
      "/home/shpark/.conda/envs/tps_gflow/lib/python3.9/site-packages/mdtraj/formats/gro.py:307: UserWarning: WARNING: two consecutive residues with same number (ASN, ARG)\n",
      "  warnings.warn(\"WARNING: two consecutive residues with same number (%s, %s)\" % (thisresname, residue.name))\n",
      "/home/shpark/.conda/envs/tps_gflow/lib/python3.9/site-packages/mdtraj/formats/gro.py:307: UserWarning: WARNING: two consecutive residues with same number (GLU, ASN)\n",
      "  warnings.warn(\"WARNING: two consecutive residues with same number (%s, %s)\" % (thisresname, residue.name))\n",
      "/home/shpark/.conda/envs/tps_gflow/lib/python3.9/site-packages/mdtraj/formats/gro.py:307: UserWarning: WARNING: two consecutive residues with same number (LYS, GLU)\n",
      "  warnings.warn(\"WARNING: two consecutive residues with same number (%s, %s)\" % (thisresname, residue.name))\n",
      "/home/shpark/.conda/envs/tps_gflow/lib/python3.9/site-packages/mdtraj/formats/gro.py:307: UserWarning: WARNING: two consecutive residues with same number (GLU, LYS)\n",
      "  warnings.warn(\"WARNING: two consecutive residues with same number (%s, %s)\" % (thisresname, residue.name))\n",
      "/home/shpark/.conda/envs/tps_gflow/lib/python3.9/site-packages/mdtraj/formats/gro.py:307: UserWarning: WARNING: two consecutive residues with same number (LEU, GLU)\n",
      "  warnings.warn(\"WARNING: two consecutive residues with same number (%s, %s)\" % (thisresname, residue.name))\n",
      "/home/shpark/.conda/envs/tps_gflow/lib/python3.9/site-packages/mdtraj/formats/gro.py:307: UserWarning: WARNING: two consecutive residues with same number (ARG, LEU)\n",
      "  warnings.warn(\"WARNING: two consecutive residues with same number (%s, %s)\" % (thisresname, residue.name))\n",
      "/home/shpark/.conda/envs/tps_gflow/lib/python3.9/site-packages/mdtraj/formats/gro.py:307: UserWarning: WARNING: two consecutive residues with same number (ASP, ARG)\n",
      "  warnings.warn(\"WARNING: two consecutive residues with same number (%s, %s)\" % (thisresname, residue.name))\n",
      "/home/shpark/.conda/envs/tps_gflow/lib/python3.9/site-packages/mdtraj/formats/gro.py:307: UserWarning: WARNING: two consecutive residues with same number (PHE, ASP)\n",
      "  warnings.warn(\"WARNING: two consecutive residues with same number (%s, %s)\" % (thisresname, residue.name))\n",
      "/home/shpark/.conda/envs/tps_gflow/lib/python3.9/site-packages/mdtraj/formats/gro.py:307: UserWarning: WARNING: two consecutive residues with same number (ILE, PHE)\n",
      "  warnings.warn(\"WARNING: two consecutive residues with same number (%s, %s)\" % (thisresname, residue.name))\n",
      "/home/shpark/.conda/envs/tps_gflow/lib/python3.9/site-packages/mdtraj/formats/gro.py:307: UserWarning: WARNING: two consecutive residues with same number (GLU, ILE)\n",
      "  warnings.warn(\"WARNING: two consecutive residues with same number (%s, %s)\" % (thisresname, residue.name))\n",
      "/home/shpark/.conda/envs/tps_gflow/lib/python3.9/site-packages/mdtraj/formats/gro.py:307: UserWarning: WARNING: two consecutive residues with same number (PHE, LYS)\n",
      "  warnings.warn(\"WARNING: two consecutive residues with same number (%s, %s)\" % (thisresname, residue.name))\n",
      "/home/shpark/.conda/envs/tps_gflow/lib/python3.9/site-packages/mdtraj/formats/gro.py:307: UserWarning: WARNING: two consecutive residues with same number (LYS, PHE)\n",
      "  warnings.warn(\"WARNING: two consecutive residues with same number (%s, %s)\" % (thisresname, residue.name))\n"
     ]
    },
    {
     "data": {
      "application/vnd.jupyter.widget-view+json": {
       "model_id": "1d42d9ec0aba41ab925d5c79e430596a",
       "version_major": 2,
       "version_minor": 0
      },
      "text/plain": [
       "NGLWidget(max_frame=4831)"
      ]
     },
     "metadata": {},
     "output_type": "display_data"
    }
   ],
   "source": [
    "traj = md.load(\n",
    "    f\"../data/{molecule}/{molecule}-v2.gro\",\n",
    "    top=f\"../data/{molecule}/unfolded.pdb\"\n",
    ")\n",
    "traj_view = nv.show_mdtraj(traj, width=IMAGE_SIZE, height=IMAGE_SIZE)\n",
    "traj_view.add_ball_and_stick('protein', aspectRatio=2, radius=0.1)\n",
    "traj_view.center()\n",
    "\n",
    "traj_view"
   ]
  },
  {
   "cell_type": "code",
   "execution_count": null,
   "metadata": {},
   "outputs": [],
   "source": []
  }
 ],
 "metadata": {
  "kernelspec": {
   "display_name": "tps_gflow",
   "language": "python",
   "name": "python3"
  },
  "language_info": {
   "codemirror_mode": {
    "name": "ipython",
    "version": 3
   },
   "file_extension": ".py",
   "mimetype": "text/x-python",
   "name": "python",
   "nbconvert_exporter": "python",
   "pygments_lexer": "ipython3",
   "version": "3.9.19"
  },
  "widgets": {
   "application/vnd.jupyter.widget-state+json": {
    "state": {
     "01fab2e4798747e1b9eb18a54e274b03": {
      "model_module": "@jupyter-widgets/controls",
      "model_module_version": "2.0.0",
      "model_name": "LinkModel",
      "state": {
       "source": [
        "IPY_MODEL_27dd0bbcdd944dbaadd9c20bb1e40c72",
        "max"
       ],
       "target": [
        "IPY_MODEL_1d42d9ec0aba41ab925d5c79e430596a",
        "max_frame"
       ]
      }
     },
     "05a58e9ec698479a928a56abee85b768": {
      "model_module": "@jupyter-widgets/base",
      "model_module_version": "2.0.0",
      "model_name": "LayoutModel",
      "state": {}
     },
     "067d05195afe434c84cd301adb29dc3c": {
      "model_module": "@jupyter-widgets/base",
      "model_module_version": "2.0.0",
      "model_name": "LayoutModel",
      "state": {}
     },
     "0e9923ca35d34effa48899dbac4a9d7d": {
      "model_module": "@jupyter-widgets/base",
      "model_module_version": "2.0.0",
      "model_name": "LayoutModel",
      "state": {}
     },
     "12b73e2728d242e2bb0d38d79f65208e": {
      "model_module": "@jupyter-widgets/base",
      "model_module_version": "2.0.0",
      "model_name": "LayoutModel",
      "state": {}
     },
     "13bb7e036cb7463d82c6fc134fa68639": {
      "model_module": "@jupyter-widgets/controls",
      "model_module_version": "2.0.0",
      "model_name": "HBoxModel",
      "state": {
       "children": [
        "IPY_MODEL_a8c43961c0a743659eda4d75006744a6",
        "IPY_MODEL_f75bf560103a4c99a5deedb72b6e7f88"
       ],
       "layout": "IPY_MODEL_12b73e2728d242e2bb0d38d79f65208e"
      }
     },
     "1a1cb7be3fd04ad4a773010dc5cd2e8e": {
      "model_module": "@jupyter-widgets/base",
      "model_module_version": "2.0.0",
      "model_name": "LayoutModel",
      "state": {}
     },
     "1ccd078439414dbc903ab1c3cb978951": {
      "model_module": "@jupyter-widgets/controls",
      "model_module_version": "2.0.0",
      "model_name": "LinkModel",
      "state": {
       "source": [
        "IPY_MODEL_2a27cfa3c3e34f48b98b69b9492a8689",
        "max"
       ],
       "target": [
        "IPY_MODEL_1d42d9ec0aba41ab925d5c79e430596a",
        "max_frame"
       ]
      }
     },
     "1d42d9ec0aba41ab925d5c79e430596a": {
      "model_module": "nglview-js-widgets",
      "model_module_version": "3.1.0",
      "model_name": "NGLModel",
      "state": {
       "_camera_orientation": [
        57.60429349499711,
        -54.43169914587381,
        -8.731976585937536,
        0,
        -36.904690498809686,
        -47.457718166312,
        52.37480999198028,
        0,
        -40.95242491222399,
        -33.79744118423809,
        -59.48061683665233,
        0,
        3.3299999237060547,
        -1.5,
        1.2950000762939453,
        1
       ],
       "_camera_str": "orthographic",
       "_gui_theme": null,
       "_ibtn_fullscreen": "IPY_MODEL_7b25a141861d4ee384feebc43a340eaf",
       "_igui": null,
       "_iplayer": "IPY_MODEL_4aa0f62f8ff548ebafa1aba70c85970c",
       "_ngl_color_dict": {},
       "_ngl_coordinate_resource": {},
       "_ngl_full_stage_parameters": {
        "ambientColor": 14540253,
        "ambientIntensity": 0.2,
        "backgroundColor": "white",
        "cameraEyeSep": 0.3,
        "cameraFov": 40,
        "cameraType": "perspective",
        "clipDist": 10,
        "clipFar": 100,
        "clipMode": "scene",
        "clipNear": 0,
        "clipScale": "relative",
        "fogFar": 100,
        "fogNear": 50,
        "hoverTimeout": 0,
        "impostor": true,
        "lightColor": 14540253,
        "lightIntensity": 1,
        "mousePreset": "default",
        "panSpeed": 1,
        "quality": "medium",
        "rotateSpeed": 2,
        "sampleLevel": 0,
        "tooltip": true,
        "workerDefault": true,
        "zoomSpeed": 1.2
       },
       "_ngl_msg_archive": [
        {
         "args": [
          {
           "binary": false,
           "data": "MODEL        0\nATOM      0  N   GLU A   1     -14.790  -3.290  18.980  1.00  0.00           N  \nATOM      1  CA  GLU A   1     -13.720  -4.300  18.760  1.00  0.00           C  \nATOM      2  C   GLU A   1     -12.950  -3.980  17.470  1.00  0.00           C  \nATOM      3  O   GLU A   1     -13.540  -3.450  16.520  1.00  0.00           O  \nATOM      4  CB  GLU A   1     -14.300  -5.720  18.740  1.00  0.00           C  \nATOM      5  CG  GLU A   1     -13.330  -6.890  18.520  1.00  0.00           C  \nATOM      6  CD  GLU A   1     -12.210  -6.990  19.570  1.00  0.00           C  \nATOM      7  OE1 GLU A   1     -11.560  -5.960  19.860  1.00  0.00           O  \nATOM      8  OE2 GLU A   1     -11.960  -8.100  20.090  1.00  0.00           O  \nATOM      9  H   GLU A   1     -15.320  -3.470  19.820  1.00  0.00           H  \nATOM     10  H2  GLU A   1     -15.440  -3.290  18.210  1.00  0.00           H  \nATOM     11  H3  GLU A   1     -14.390  -2.370  19.040  1.00  0.00           H  \nATOM     12  HA  GLU A   1     -13.010  -4.250  19.580  1.00  0.00           H  \nATOM     13  HB2 GLU A   1     -14.810  -5.920  19.690  1.00  0.00           H  \nATOM     14  HB3 GLU A   1     -15.070  -5.790  17.970  1.00  0.00           H  \nATOM     15  HG2 GLU A   1     -13.910  -7.810  18.520  1.00  0.00           H  \nATOM     16  HG3 GLU A   1     -12.900  -6.740  17.530  1.00  0.00           H  \nATOM     17  N   GLN A   2     -11.640  -4.280  17.430  1.00  0.00           N  \nATOM     18  CA  GLN A   2     -10.790  -4.070  16.260  1.00  0.00           C  \nATOM     19  C   GLN A   2      -9.720  -5.160  16.130  1.00  0.00           C  \nATOM     20  O   GLN A   2      -9.400  -5.880  17.090  1.00  0.00           O  \nATOM     21  CB  GLN A   2     -10.140  -2.670  16.320  1.00  0.00           C  \nATOM     22  CG  GLN A   2      -9.130  -2.490  17.510  1.00  0.00           C  \nATOM     23  CD  GLN A   2      -8.480  -1.090  17.520  1.00  0.00           C  \nATOM     24  OE1 GLN A   2      -8.730  -0.220  16.710  1.00  0.00           O  \nATOM     25  NE2 GLN A   2      -7.590  -0.850  18.460  1.00  0.00           N  \nATOM     26  H   GLN A   2     -11.270  -4.740  18.250  1.00  0.00           H  \nATOM     27  HA  GLN A   2     -11.380  -4.100  15.350  1.00  0.00           H  \nATOM     28  HB2 GLN A   2      -9.620  -2.490  15.380  1.00  0.00           H  \nATOM     29  HB3 GLN A   2     -10.910  -1.910  16.440  1.00  0.00           H  \nATOM     30  HG2 GLN A   2      -9.680  -2.640  18.440  1.00  0.00           H  \nATOM     31  HG3 GLN A   2      -8.330  -3.220  17.410  1.00  0.00           H  \nATOM     32 HE21 GLN A   2      -7.330  -1.550  19.140  1.00  0.00           H  \nATOM     33 HE22 GLN A   2      -7.150   0.050  18.490  1.00  0.00           H  \nATOM     34  N   TYR A   3      -9.130  -5.290  14.930  1.00  0.00           N  \nATOM     35  CA  TYR A   3      -8.000  -6.170  14.630  1.00  0.00           C  \nATOM     36  C   TYR A   3      -7.100  -5.570  13.530  1.00  0.00           C  \nATOM     37  O   TYR A   3      -7.560  -4.770  12.720  1.00  0.00           O  \nATOM     38  CB  TYR A   3      -8.520  -7.560  14.200  1.00  0.00           C  \nATOM     39  CG  TYR A   3      -7.450  -8.530  13.770  1.00  0.00           C  \nATOM     40  CD1 TYR A   3      -6.600  -9.150  14.730  1.00  0.00           C  \nATOM     41  CD2 TYR A   3      -7.220  -8.780  12.400  1.00  0.00           C  \nATOM     42  CE1 TYR A   3      -5.570 -10.000  14.320  1.00  0.00           C  \nATOM     43  CE2 TYR A   3      -6.170  -9.620  11.990  1.00  0.00           C  \nATOM     44  CZ  TYR A   3      -5.340 -10.240  12.930  1.00  0.00           C  \nATOM     45  OH  TYR A   3      -4.320 -11.050  12.550  1.00  0.00           O  \nATOM     46  H   TYR A   3      -9.450  -4.700  14.180  1.00  0.00           H  \nATOM     47  HA  TYR A   3      -7.380  -6.320  15.510  1.00  0.00           H  \nATOM     48  HB2 TYR A   3      -9.040  -8.000  15.050  1.00  0.00           H  \nATOM     49  HB3 TYR A   3      -9.230  -7.460  13.380  1.00  0.00           H  \nATOM     50  HD1 TYR A   3      -6.740  -8.950  15.780  1.00  0.00           H  \nATOM     51  HD2 TYR A   3      -7.840  -8.310  11.650  1.00  0.00           H  \nATOM     52  HE1 TYR A   3      -4.900 -10.440  15.040  1.00  0.00           H  \nATOM     53  HE2 TYR A   3      -5.960  -9.800  10.940  1.00  0.00           H  \nATOM     54  HH  TYR A   3      -3.770 -11.270  13.300  1.00  0.00           H  \nATOM     55  N   THR A   4      -5.830  -5.990  13.490  1.00  0.00           N  \nATOM     56  CA  THR A   4      -4.890  -5.740  12.370  1.00  0.00           C  \nATOM     57  C   THR A   4      -3.900  -6.900  12.250  1.00  0.00           C  \nATOM     58  O   THR A   4      -3.600  -7.560  13.250  1.00  0.00           O  \nATOM     59  CB  THR A   4      -4.170  -4.390  12.540  1.00  0.00           C  \nATOM     60  OG1 THR A   4      -3.350  -4.150  11.410  1.00  0.00           O  \nATOM     61  CG2 THR A   4      -3.260  -4.310  13.750  1.00  0.00           C  \nATOM     62  H   THR A   4      -5.520  -6.690  14.150  1.00  0.00           H  \nATOM     63  HA  THR A   4      -5.460  -5.740  11.440  1.00  0.00           H  \nATOM     64  HB  THR A   4      -4.900  -3.580  12.550  1.00  0.00           H  \nATOM     65  HG1 THR A   4      -3.880  -3.700  10.750  1.00  0.00           H  \nATOM     66 HG21 THR A   4      -2.440  -5.030  13.680  1.00  0.00           H  \nATOM     67 HG22 THR A   4      -3.860  -4.450  14.660  1.00  0.00           H  \nATOM     68 HG23 THR A   4      -2.800  -3.320  13.800  1.00  0.00           H  \nATOM     69  N   ALA A   5      -3.350  -7.110  11.060  1.00  0.00           N  \nATOM     70  CA  ALA A   5      -2.290  -8.060  10.790  1.00  0.00           C  \nATOM     71  C   ALA A   5      -0.900  -7.390  10.550  1.00  0.00           C  \nATOM     72  O   ALA A   5       0.050  -8.100  10.220  1.00  0.00           O  \nATOM     73  CB  ALA A   5      -2.710  -8.930   9.590  1.00  0.00           C  \nATOM     74  H   ALA A   5      -3.640  -6.520  10.300  1.00  0.00           H  \nATOM     75  HA  ALA A   5      -2.170  -8.730  11.640  1.00  0.00           H  \nATOM     76  HB1 ALA A   5      -2.800  -8.300   8.700  1.00  0.00           H  \nATOM     77  HB2 ALA A   5      -3.650  -9.440   9.840  1.00  0.00           H  \nATOM     78  HB3 ALA A   5      -1.940  -9.680   9.420  1.00  0.00           H  \nATOM     79  N   LYS A   6      -0.780  -6.070  10.710  1.00  0.00           N  \nATOM     80  CA  LYS A   6       0.350  -5.240  10.190  1.00  0.00           C  \nATOM     81  C   LYS A   6       1.770  -5.660  10.600  1.00  0.00           C  \nATOM     82  O   LYS A   6       2.740  -5.250   9.970  1.00  0.00           O  \nATOM     83  CB  LYS A   6       0.090  -3.760  10.520  1.00  0.00           C  \nATOM     84  CG  LYS A   6       0.190  -3.420  12.030  1.00  0.00           C  \nATOM     85  CD  LYS A   6      -0.130  -1.950  12.290  1.00  0.00           C  \nATOM     86  CE  LYS A   6       0.030  -1.640  13.790  1.00  0.00           C  \nATOM     87  NZ  LYS A   6      -0.180  -0.200  14.080  1.00  0.00           N  \nATOM     88  H   LYS A   6      -1.600  -5.550  10.990  1.00  0.00           H  \nATOM     89  HA  LYS A   6       0.320  -5.350   9.100  1.00  0.00           H  \nATOM     90  HB2 LYS A   6       0.820  -3.150   9.990  1.00  0.00           H  \nATOM     91  HB3 LYS A   6      -0.900  -3.460  10.200  1.00  0.00           H  \nATOM     92  HG2 LYS A   6      -0.500  -4.040  12.610  1.00  0.00           H  \nATOM     93  HG3 LYS A   6       1.180  -3.660  12.410  1.00  0.00           H  \nATOM     94  HD2 LYS A   6       0.530  -1.320  11.690  1.00  0.00           H  \nATOM     95  HD3 LYS A   6      -1.160  -1.720  12.030  1.00  0.00           H  \nATOM     96  HE2 LYS A   6      -0.700  -2.220  14.350  1.00  0.00           H  \nATOM     97  HE3 LYS A   6       1.020  -1.960  14.110  1.00  0.00           H  \nATOM     98  HZ1 LYS A   6      -0.080  -0.010  15.070  1.00  0.00           H  \nATOM     99  HZ2 LYS A   6      -1.110   0.120  13.830  1.00  0.00           H  \nATOM    100  HZ3 LYS A   6       0.490   0.380  13.610  1.00  0.00           H  \nATOM    101  N   TYR A   7       1.920  -6.460  11.660  1.00  0.00           N  \nATOM    102  CA  TYR A   7       3.170  -7.080  12.130  1.00  0.00           C  \nATOM    103  C   TYR A   7       3.620  -8.280  11.280  1.00  0.00           C  \nATOM    104  O   TYR A   7       4.790  -8.650  11.350  1.00  0.00           O  \nATOM    105  CB  TYR A   7       2.980  -7.460  13.610  1.00  0.00           C  \nATOM    106  CG  TYR A   7       1.630  -8.070  13.920  1.00  0.00           C  \nATOM    107  CD1 TYR A   7       0.560  -7.240  14.340  1.00  0.00           C  \nATOM    108  CD2 TYR A   7       1.430  -9.440  13.730  1.00  0.00           C  \nATOM    109  CE1 TYR A   7      -0.720  -7.770  14.480  1.00  0.00           C  \nATOM    110  CE2 TYR A   7       0.130  -9.980  13.910  1.00  0.00           C  \nATOM    111  CZ  TYR A   7      -0.950  -9.140  14.250  1.00  0.00           C  \nATOM    112  OH  TYR A   7      -2.210  -9.640  14.330  1.00  0.00           O  \nATOM    113  H   TYR A   7       1.060  -6.740  12.120  1.00  0.00           H  \nATOM    114  HA  TYR A   7       3.950  -6.320  12.070  1.00  0.00           H  \nATOM    115  HB2 TYR A   7       3.790  -8.130  13.890  1.00  0.00           H  \nATOM    116  HB3 TYR A   7       3.100  -6.540  14.200  1.00  0.00           H  \nATOM    117  HD1 TYR A   7       0.710  -6.180  14.460  1.00  0.00           H  \nATOM    118  HD2 TYR A   7       2.250 -10.080  13.430  1.00  0.00           H  \nATOM    119  HE1 TYR A   7      -1.550  -7.140  14.760  1.00  0.00           H  \nATOM    120  HE2 TYR A   7      -0.050 -11.030  13.710  1.00  0.00           H  \nATOM    121  HH  TYR A   7      -2.840  -8.960  14.050  1.00  0.00           H  \nATOM    122  N   LYS A   8       2.720  -8.910  10.490  1.00  0.00           N  \nATOM    123  CA  LYS A   8       3.000 -10.090   9.650  1.00  0.00           C  \nATOM    124  C   LYS A   8       2.370 -10.060   8.240  1.00  0.00           C  \nATOM    125  O   LYS A   8       2.770 -10.880   7.410  1.00  0.00           O  \nATOM    126  CB  LYS A   8       2.640 -11.370  10.430  1.00  0.00           C  \nATOM    127  CG  LYS A   8       1.160 -11.580  10.820  1.00  0.00           C  \nATOM    128  CD  LYS A   8       0.290 -12.210   9.720  1.00  0.00           C  \nATOM    129  CE  LYS A   8      -1.090 -12.560  10.300  1.00  0.00           C  \nATOM    130  NZ  LYS A   8      -1.950 -13.250   9.300  1.00  0.00           N  \nATOM    131  H   LYS A   8       1.770  -8.560  10.530  1.00  0.00           H  \nATOM    132  HA  LYS A   8       4.070 -10.110   9.460  1.00  0.00           H  \nATOM    133  HB2 LYS A   8       2.990 -12.250   9.890  1.00  0.00           H  \nATOM    134  HB3 LYS A   8       3.230 -11.380  11.350  1.00  0.00           H  \nATOM    135  HG2 LYS A   8       1.140 -12.270  11.660  1.00  0.00           H  \nATOM    136  HG3 LYS A   8       0.730 -10.630  11.150  1.00  0.00           H  \nATOM    137  HD2 LYS A   8       0.140 -11.500   8.910  1.00  0.00           H  \nATOM    138  HD3 LYS A   8       0.790 -13.110   9.360  1.00  0.00           H  \nATOM    139  HE2 LYS A   8      -0.980 -13.230  11.160  1.00  0.00           H  \nATOM    140  HE3 LYS A   8      -1.590 -11.670  10.660  1.00  0.00           H  \nATOM    141  HZ1 LYS A   8      -2.860 -13.470   9.680  1.00  0.00           H  \nATOM    142  HZ2 LYS A   8      -1.520 -14.100   8.960  1.00  0.00           H  \nATOM    143  HZ3 LYS A   8      -2.090 -12.630   8.510  1.00  0.00           H  \nATOM    144  N   GLY A   9       1.460  -9.140   7.940  1.00  0.00           N  \nATOM    145  CA  GLY A   9       0.850  -8.970   6.610  1.00  0.00           C  \nATOM    146  C   GLY A   9       0.230  -7.590   6.420  1.00  0.00           C  \nATOM    147  O   GLY A   9      -0.320  -7.020   7.370  1.00  0.00           O  \nATOM    148  H   GLY A   9       1.120  -8.540   8.670  1.00  0.00           H  \nATOM    149  HA2 GLY A   9       1.610  -9.120   5.840  1.00  0.00           H  \nATOM    150  HA3 GLY A   9       0.070  -9.720   6.460  1.00  0.00           H  \nATOM    151  N   ARG A  10       0.340  -7.030   5.210  1.00  0.00           N  \nATOM    152  CA  ARG A  10      -0.040  -5.630   4.880  1.00  0.00           C  \nATOM    153  C   ARG A  10      -0.720  -5.530   3.510  1.00  0.00           C  \nATOM    154  O   ARG A  10      -0.680  -6.440   2.720  1.00  0.00           O  \nATOM    155  CB  ARG A  10       1.190  -4.710   4.960  1.00  0.00           C  \nATOM    156  CG  ARG A  10       1.830  -4.670   6.360  1.00  0.00           C  \nATOM    157  CD  ARG A  10       3.020  -3.710   6.400  1.00  0.00           C  \nATOM    158  NE  ARG A  10       3.690  -3.750   7.710  1.00  0.00           N  \nATOM    159  CZ  ARG A  10       4.820  -3.160   8.050  1.00  0.00           C  \nATOM    160  NH1 ARG A  10       5.500  -2.410   7.230  1.00  0.00           N  \nATOM    161  NH2 ARG A  10       5.300  -3.330   9.250  1.00  0.00           N  \nATOM    162  H   ARG A  10       0.740  -7.590   4.480  1.00  0.00           H  \nATOM    163  HA  ARG A  10      -0.760  -5.280   5.630  1.00  0.00           H  \nATOM    164  HB2 ARG A  10       1.940  -5.020   4.230  1.00  0.00           H  \nATOM    165  HB3 ARG A  10       0.900  -3.700   4.680  1.00  0.00           H  \nATOM    166  HG2 ARG A  10       1.090  -4.330   7.090  1.00  0.00           H  \nATOM    167  HG3 ARG A  10       2.180  -5.680   6.600  1.00  0.00           H  \nATOM    168  HD2 ARG A  10       3.740  -3.990   5.630  1.00  0.00           H  \nATOM    169  HD3 ARG A  10       2.660  -2.700   6.220  1.00  0.00           H  \nATOM    170  HE  ARG A  10       3.300  -4.310   8.450  1.00  0.00           H  \nATOM    171 HH11 ARG A  10       5.160  -2.190   6.310  1.00  0.00           H  \nATOM    172 HH12 ARG A  10       6.350  -1.970   7.540  1.00  0.00           H  \nATOM    173 HH21 ARG A  10       4.780  -3.890   9.900  1.00  0.00           H  \nATOM    174 HH22 ARG A  10       6.170  -2.880   9.510  1.00  0.00           H  \nATOM    175  N   THR A  11      -1.330  -4.370   3.230  1.00  0.00           N  \nATOM    176  CA  THR A  11      -2.040  -4.050   1.980  1.00  0.00           C  \nATOM    177  C   THR A  11      -1.700  -2.640   1.490  1.00  0.00           C  \nATOM    178  O   THR A  11      -1.360  -1.750   2.270  1.00  0.00           O  \nATOM    179  CB  THR A  11      -3.550  -4.260   2.140  1.00  0.00           C  \nATOM    180  OG1 THR A  11      -4.210  -4.020   0.910  1.00  0.00           O  \nATOM    181  CG2 THR A  11      -4.210  -3.340   3.180  1.00  0.00           C  \nATOM    182  H   THR A  11      -1.310  -3.620   3.910  1.00  0.00           H  \nATOM    183  HA  THR A  11      -1.710  -4.740   1.210  1.00  0.00           H  \nATOM    184  HB  THR A  11      -3.720  -5.300   2.440  1.00  0.00           H  \nATOM    185  HG1 THR A  11      -5.070  -4.420   1.000  1.00  0.00           H  \nATOM    186 HG21 THR A  11      -3.790  -3.530   4.170  1.00  0.00           H  \nATOM    187 HG22 THR A  11      -5.280  -3.520   3.240  1.00  0.00           H  \nATOM    188 HG23 THR A  11      -4.040  -2.300   2.900  1.00  0.00           H  \nATOM    189  N   PHE A  12      -1.860  -2.390   0.180  1.00  0.00           N  \nATOM    190  CA  PHE A  12      -1.520  -1.120  -0.470  1.00  0.00           C  \nATOM    191  C   PHE A  12      -2.390   0.080  -0.060  1.00  0.00           C  \nATOM    192  O   PHE A  12      -2.050   1.220  -0.360  1.00  0.00           O  \nATOM    193  CB  PHE A  12      -1.560  -1.340  -2.000  1.00  0.00           C  \nATOM    194  CG  PHE A  12      -0.630  -2.410  -2.510  1.00  0.00           C  \nATOM    195  CD1 PHE A  12       0.750  -2.160  -2.590  1.00  0.00           C  \nATOM    196  CD2 PHE A  12      -1.130  -3.680  -2.870  1.00  0.00           C  \nATOM    197  CE1 PHE A  12       1.620  -3.160  -3.040  1.00  0.00           C  \nATOM    198  CE2 PHE A  12      -0.250  -4.690  -3.310  1.00  0.00           C  \nATOM    199  CZ  PHE A  12       1.130  -4.440  -3.390  1.00  0.00           C  \nATOM    200  H   PHE A  12      -2.220  -3.140  -0.380  1.00  0.00           H  \nATOM    201  HA  PHE A  12      -0.490  -0.900  -0.200  1.00  0.00           H  \nATOM    202  HB2 PHE A  12      -2.580  -1.590  -2.300  1.00  0.00           H  \nATOM    203  HB3 PHE A  12      -1.290  -0.410  -2.490  1.00  0.00           H  \nATOM    204  HD1 PHE A  12       1.160  -1.200  -2.320  1.00  0.00           H  \nATOM    205  HD2 PHE A  12      -2.190  -3.880  -2.800  1.00  0.00           H  \nATOM    206  HE1 PHE A  12       2.680  -2.960  -3.120  1.00  0.00           H  \nATOM    207  HE2 PHE A  12      -0.640  -5.660  -3.550  1.00  0.00           H  \nATOM    208  HZ  PHE A  12       1.810  -5.200  -3.720  1.00  0.00           H  \nATOM    209  N   ARG A  13      -3.490  -0.140   0.690  1.00  0.00           N  \nATOM    210  CA  ARG A  13      -4.250   0.910   1.370  1.00  0.00           C  \nATOM    211  C   ARG A  13      -3.590   1.430   2.660  1.00  0.00           C  \nATOM    212  O   ARG A  13      -4.000   2.460   3.190  1.00  0.00           O  \nATOM    213  CB  ARG A  13      -5.700   0.430   1.660  1.00  0.00           C  \nATOM    214  CG  ARG A  13      -6.500   0.060   0.410  1.00  0.00           C  \nATOM    215  CD  ARG A  13      -6.580   1.140  -0.680  1.00  0.00           C  \nATOM    216  NE  ARG A  13      -7.120   2.410  -0.170  1.00  0.00           N  \nATOM    217  CZ  ARG A  13      -6.880   3.630  -0.630  1.00  0.00           C  \nATOM    218  NH1 ARG A  13      -6.130   3.850  -1.660  1.00  0.00           N  \nATOM    219  NH2 ARG A  13      -7.410   4.660  -0.060  1.00  0.00           N  \nATOM    220  H   ARG A  13      -3.740  -1.110   0.840  1.00  0.00           H  \nATOM    221  HA  ARG A  13      -4.340   1.770   0.710  1.00  0.00           H  \nATOM    222  HB2 ARG A  13      -5.660  -0.440   2.320  1.00  0.00           H  \nATOM    223  HB3 ARG A  13      -6.230   1.220   2.200  1.00  0.00           H  \nATOM    224  HG2 ARG A  13      -6.070  -0.850   0.000  1.00  0.00           H  \nATOM    225  HG3 ARG A  13      -7.520  -0.210   0.710  1.00  0.00           H  \nATOM    226  HD2 ARG A  13      -5.580   1.310  -1.090  1.00  0.00           H  \nATOM    227  HD3 ARG A  13      -7.200   0.800  -1.510  1.00  0.00           H  \nATOM    228  HE  ARG A  13      -7.740   2.330   0.630  1.00  0.00           H  \nATOM    229 HH11 ARG A  13      -5.730   3.080  -2.180  1.00  0.00           H  \nATOM    230 HH12 ARG A  13      -5.970   4.790  -1.990  1.00  0.00           H  \nATOM    231 HH21 ARG A  13      -8.020   4.570   0.750  1.00  0.00           H  \nATOM    232 HH22 ARG A  13      -7.220   5.590  -0.380  1.00  0.00           H  \nATOM    233  N   ASN A  14      -2.540   0.750   3.150  1.00  0.00           N  \nATOM    234  CA  ASN A  14      -1.760   1.120   4.350  1.00  0.00           C  \nATOM    235  C   ASN A  14      -0.250   1.240   4.080  1.00  0.00           C  \nATOM    236  O   ASN A  14       0.420   2.070   4.680  1.00  0.00           O  \nATOM    237  CB  ASN A  14      -2.040   0.080   5.450  1.00  0.00           C  \nATOM    238  CG  ASN A  14      -3.500   0.050   5.880  1.00  0.00           C  \nATOM    239  OD1 ASN A  14      -4.340  -0.610   5.280  1.00  0.00           O  \nATOM    240  ND2 ASN A  14      -3.860   0.780   6.910  1.00  0.00           N  \nATOM    241  H   ASN A  14      -2.240  -0.110   2.710  1.00  0.00           H  \nATOM    242  HA  ASN A  14      -2.100   2.090   4.710  1.00  0.00           H  \nATOM    243  HB2 ASN A  14      -1.790  -0.920   5.120  1.00  0.00           H  \nATOM    244  HB3 ASN A  14      -1.440   0.280   6.340  1.00  0.00           H  \nATOM    245 HD21 ASN A  14      -3.180   1.310   7.440  1.00  0.00           H  \nATOM    246 HD22 ASN A  14      -4.830   0.740   7.180  1.00  0.00           H  \nATOM    247  N   GLU A  15       0.300   0.460   3.130  1.00  0.00           N  \nATOM    248  CA  GLU A  15       1.700   0.540   2.700  1.00  0.00           C  \nATOM    249  C   GLU A  15       1.980   1.690   1.720  1.00  0.00           C  \nATOM    250  O   GLU A  15       1.080   2.240   1.090  1.00  0.00           O  \nATOM    251  CB  GLU A  15       2.140  -0.810   2.080  1.00  0.00           C  \nATOM    252  CG  GLU A  15       2.840  -1.720   3.120  1.00  0.00           C  \nATOM    253  CD  GLU A  15       4.160  -1.150   3.630  1.00  0.00           C  \nATOM    254  OE1 GLU A  15       4.750  -1.740   4.570  1.00  0.00           O  \nATOM    255  OE2 GLU A  15       4.660  -0.110   3.130  1.00  0.00           O  \nATOM    256  H   GLU A  15      -0.290  -0.230   2.690  1.00  0.00           H  \nATOM    257  HA  GLU A  15       2.300   0.760   3.580  1.00  0.00           H  \nATOM    258  HB2 GLU A  15       1.270  -1.350   1.700  1.00  0.00           H  \nATOM    259  HB3 GLU A  15       2.810  -0.670   1.240  1.00  0.00           H  \nATOM    260  HG2 GLU A  15       2.170  -1.860   3.970  1.00  0.00           H  \nATOM    261  HG3 GLU A  15       2.980  -2.690   2.650  1.00  0.00           H  \nATOM    262  N   LYS A  16       3.260   2.050   1.570  1.00  0.00           N  \nATOM    263  CA  LYS A  16       3.760   3.120   0.670  1.00  0.00           C  \nATOM    264  C   LYS A  16       4.200   2.660  -0.720  1.00  0.00           C  \nATOM    265  O   LYS A  16       4.830   3.410  -1.470  1.00  0.00           O  \nATOM    266  CB  LYS A  16       4.840   3.950   1.410  1.00  0.00           C  \nATOM    267  CG  LYS A  16       6.130   3.160   1.700  1.00  0.00           C  \nATOM    268  CD  LYS A  16       7.260   4.040   2.290  1.00  0.00           C  \nATOM    269  CE  LYS A  16       6.870   4.620   3.660  1.00  0.00           C  \nATOM    270  NZ  LYS A  16       7.970   5.430   4.230  1.00  0.00           N  \nATOM    271  H   LYS A  16       3.960   1.530   2.090  1.00  0.00           H  \nATOM    272  HA  LYS A  16       2.910   3.780   0.530  1.00  0.00           H  \nATOM    273  HB2 LYS A  16       5.100   4.810   0.790  1.00  0.00           H  \nATOM    274  HB3 LYS A  16       4.420   4.330   2.340  1.00  0.00           H  \nATOM    275  HG2 LYS A  16       5.900   2.370   2.410  1.00  0.00           H  \nATOM    276  HG3 LYS A  16       6.490   2.750   0.760  1.00  0.00           H  \nATOM    277  HD2 LYS A  16       8.140   3.410   2.410  1.00  0.00           H  \nATOM    278  HD3 LYS A  16       7.460   4.840   1.590  1.00  0.00           H  \nATOM    279  HE2 LYS A  16       5.980   5.240   3.510  1.00  0.00           H  \nATOM    280  HE3 LYS A  16       6.640   3.810   4.350  1.00  0.00           H  \nATOM    281  HZ1 LYS A  16       7.730   5.800   5.140  1.00  0.00           H  \nATOM    282  HZ2 LYS A  16       8.210   6.200   3.620  1.00  0.00           H  \nATOM    283  HZ3 LYS A  16       8.780   4.840   4.350  1.00  0.00           H  \nATOM    284  N   GLU A  17       3.870   1.410  -1.080  1.00  0.00           N  \nATOM    285  CA  GLU A  17       4.190   0.790  -2.380  1.00  0.00           C  \nATOM    286  C   GLU A  17       3.110   1.090  -3.450  1.00  0.00           C  \nATOM    287  O   GLU A  17       1.970   1.410  -3.110  1.00  0.00           O  \nATOM    288  CB  GLU A  17       4.410  -0.720  -2.180  1.00  0.00           C  \nATOM    289  CG  GLU A  17       5.590  -1.020  -1.280  1.00  0.00           C  \nATOM    290  CD  GLU A  17       5.920  -2.530  -1.180  1.00  0.00           C  \nATOM    291  OE1 GLU A  17       5.030  -3.380  -1.350  1.00  0.00           O  \nATOM    292  OE2 GLU A  17       7.100  -2.880  -0.920  1.00  0.00           O  \nATOM    293  H   GLU A  17       3.310   0.900  -0.420  1.00  0.00           H  \nATOM    294  HA  GLU A  17       5.140   1.180  -2.750  1.00  0.00           H  \nATOM    295  HB2 GLU A  17       3.510  -1.160  -1.750  1.00  0.00           H  \nATOM    296  HB3 GLU A  17       4.570  -1.170  -3.160  1.00  0.00           H  \nATOM    297  HG2 GLU A  17       6.460  -0.490  -1.650  1.00  0.00           H  \nATOM    298  HG3 GLU A  17       5.390  -0.680  -0.260  1.00  0.00           H  \nATOM    299  N   LEU A  18       3.470   0.970  -4.730  1.00  0.00           N  \nATOM    300  CA  LEU A  18       2.610   1.170  -5.910  1.00  0.00           C  \nATOM    301  C   LEU A  18       1.900   2.550  -6.030  1.00  0.00           C  \nATOM    302  O   LEU A  18       0.970   2.710  -6.830  1.00  0.00           O  \nATOM    303  CB  LEU A  18       1.610  -0.010  -6.080  1.00  0.00           C  \nATOM    304  CG  LEU A  18       2.230  -1.420  -6.170  1.00  0.00           C  \nATOM    305  CD1 LEU A  18       1.120  -2.430  -6.380  1.00  0.00           C  \nATOM    306  CD2 LEU A  18       3.210  -1.540  -7.350  1.00  0.00           C  \nATOM    307  H   LEU A  18       4.430   0.710  -4.900  1.00  0.00           H  \nATOM    308  HA  LEU A  18       3.270   1.140  -6.770  1.00  0.00           H  \nATOM    309  HB2 LEU A  18       0.910   0.010  -5.250  1.00  0.00           H  \nATOM    310  HB3 LEU A  18       1.030   0.150  -6.990  1.00  0.00           H  \nATOM    311  HG  LEU A  18       2.790  -1.630  -5.260  1.00  0.00           H  \nATOM    312 HD11 LEU A  18       0.630  -2.260  -7.340  1.00  0.00           H  \nATOM    313 HD12 LEU A  18       0.400  -2.330  -5.560  1.00  0.00           H  \nATOM    314 HD13 LEU A  18       1.530  -3.440  -6.360  1.00  0.00           H  \nATOM    315 HD21 LEU A  18       2.710  -1.280  -8.280  1.00  0.00           H  \nATOM    316 HD22 LEU A  18       3.560  -2.570  -7.400  1.00  0.00           H  \nATOM    317 HD23 LEU A  18       4.050  -0.870  -7.180  1.00  0.00           H  \nATOM    318  N   ARG A  19       2.340   3.570  -5.280  1.00  0.00           N  \nATOM    319  CA  ARG A  19       1.680   4.900  -5.200  1.00  0.00           C  \nATOM    320  C   ARG A  19       1.410   5.570  -6.550  1.00  0.00           C  \nATOM    321  O   ARG A  19       0.350   6.130  -6.740  1.00  0.00           O  \nATOM    322  CB  ARG A  19       2.500   5.840  -4.290  1.00  0.00           C  \nATOM    323  CG  ARG A  19       2.390   5.440  -2.800  1.00  0.00           C  \nATOM    324  CD  ARG A  19       3.290   6.290  -1.900  1.00  0.00           C  \nATOM    325  NE  ARG A  19       2.880   7.710  -1.880  1.00  0.00           N  \nATOM    326  CZ  ARG A  19       3.490   8.750  -2.440  1.00  0.00           C  \nATOM    327  NH1 ARG A  19       4.600   8.630  -3.090  1.00  0.00           N  \nATOM    328  NH2 ARG A  19       2.970   9.930  -2.340  1.00  0.00           N  \nATOM    329  H   ARG A  19       3.110   3.360  -4.660  1.00  0.00           H  \nATOM    330  HA  ARG A  19       0.690   4.770  -4.750  1.00  0.00           H  \nATOM    331  HB2 ARG A  19       3.550   5.820  -4.580  1.00  0.00           H  \nATOM    332  HB3 ARG A  19       2.140   6.860  -4.400  1.00  0.00           H  \nATOM    333  HG2 ARG A  19       1.370   5.530  -2.450  1.00  0.00           H  \nATOM    334  HG3 ARG A  19       2.700   4.400  -2.670  1.00  0.00           H  \nATOM    335  HD2 ARG A  19       3.220   5.890  -0.890  1.00  0.00           H  \nATOM    336  HD3 ARG A  19       4.330   6.200  -2.180  1.00  0.00           H  \nATOM    337  HE  ARG A  19       2.030   7.920  -1.370  1.00  0.00           H  \nATOM    338 HH11 ARG A  19       5.060   7.740  -3.180  1.00  0.00           H  \nATOM    339 HH12 ARG A  19       5.020   9.460  -3.510  1.00  0.00           H  \nATOM    340 HH21 ARG A  19       2.090  10.070  -1.860  1.00  0.00           H  \nATOM    341 HH22 ARG A  19       3.390  10.730  -2.790  1.00  0.00           H  \nATOM    342  N   ASP A  20       2.330   5.440  -7.510  1.00  0.00           N  \nATOM    343  CA  ASP A  20       2.160   5.980  -8.870  1.00  0.00           C  \nATOM    344  C   ASP A  20       0.950   5.370  -9.600  1.00  0.00           C  \nATOM    345  O   ASP A  20       0.210   6.060 -10.280  1.00  0.00           O  \nATOM    346  CB  ASP A  20       3.430   5.830  -9.700  1.00  0.00           C  \nATOM    347  CG  ASP A  20       4.660   6.570  -9.170  1.00  0.00           C  \nATOM    348  OD1 ASP A  20       4.540   7.450  -8.290  1.00  0.00           O  \nATOM    349  OD2 ASP A  20       5.790   6.260  -9.630  1.00  0.00           O  \nATOM    350  H   ASP A  20       3.200   4.970  -7.280  1.00  0.00           H  \nATOM    351  HA  ASP A  20       1.960   7.050  -8.780  1.00  0.00           H  \nATOM    352  HB2 ASP A  20       3.680   4.770  -9.720  1.00  0.00           H  \nATOM    353  HB3 ASP A  20       3.260   6.170 -10.710  1.00  0.00           H  \nATOM    354  N   PHE A  21       0.720   4.050  -9.420  1.00  0.00           N  \nATOM    355  CA  PHE A  21      -0.420   3.340 -10.020  1.00  0.00           C  \nATOM    356  C   PHE A  21      -1.730   3.630  -9.250  1.00  0.00           C  \nATOM    357  O   PHE A  21      -2.790   3.790  -9.880  1.00  0.00           O  \nATOM    358  CB  PHE A  21      -0.150   1.830 -10.050  1.00  0.00           C  \nATOM    359  CG  PHE A  21       1.160   1.470 -10.730  1.00  0.00           C  \nATOM    360  CD1 PHE A  21       1.250   1.440 -12.150  1.00  0.00           C  \nATOM    361  CD2 PHE A  21       2.300   1.140  -9.960  1.00  0.00           C  \nATOM    362  CE1 PHE A  21       2.460   1.090 -12.780  1.00  0.00           C  \nATOM    363  CE2 PHE A  21       3.500   0.810 -10.600  1.00  0.00           C  \nATOM    364  CZ  PHE A  21       3.590   0.790 -12.000  1.00  0.00           C  \nATOM    365  H   PHE A  21       1.330   3.570  -8.780  1.00  0.00           H  \nATOM    366  HA  PHE A  21      -0.540   3.700 -11.040  1.00  0.00           H  \nATOM    367  HB2 PHE A  21      -0.110   1.470  -9.030  1.00  0.00           H  \nATOM    368  HB3 PHE A  21      -0.960   1.320 -10.560  1.00  0.00           H  \nATOM    369  HD1 PHE A  21       0.380   1.710 -12.730  1.00  0.00           H  \nATOM    370  HD2 PHE A  21       2.240   1.200  -8.890  1.00  0.00           H  \nATOM    371  HE1 PHE A  21       2.500   1.050 -13.850  1.00  0.00           H  \nATOM    372  HE2 PHE A  21       4.380   0.600 -10.010  1.00  0.00           H  \nATOM    373  HZ  PHE A  21       4.510   0.510 -12.490  1.00  0.00           H  \nATOM    374  N   ILE A  22      -1.650   3.820  -7.940  1.00  0.00           N  \nATOM    375  CA  ILE A  22      -2.790   4.160  -7.060  1.00  0.00           C  \nATOM    376  C   ILE A  22      -3.280   5.590  -7.360  1.00  0.00           C  \nATOM    377  O   ILE A  22      -4.490   5.820  -7.410  1.00  0.00           O  \nATOM    378  CB  ILE A  22      -2.380   3.970  -5.570  1.00  0.00           C  \nATOM    379  CG1 ILE A  22      -2.070   2.480  -5.300  1.00  0.00           C  \nATOM    380  CG2 ILE A  22      -3.450   4.480  -4.610  1.00  0.00           C  \nATOM    381  CD1 ILE A  22      -1.280   2.260  -4.000  1.00  0.00           C  \nATOM    382  H   ILE A  22      -0.740   3.650  -7.520  1.00  0.00           H  \nATOM    383  HA  ILE A  22      -3.630   3.490  -7.250  1.00  0.00           H  \nATOM    384  HB  ILE A  22      -1.470   4.550  -5.420  1.00  0.00           H  \nATOM    385 HG12 ILE A  22      -3.010   1.930  -5.220  1.00  0.00           H  \nATOM    386 HG13 ILE A  22      -1.470   2.010  -6.080  1.00  0.00           H  \nATOM    387 HG21 ILE A  22      -3.120   4.320  -3.580  1.00  0.00           H  \nATOM    388 HG22 ILE A  22      -4.400   3.980  -4.780  1.00  0.00           H  \nATOM    389 HG23 ILE A  22      -3.600   5.550  -4.730  1.00  0.00           H  \nATOM    390 HD11 ILE A  22      -1.940   2.430  -3.160  1.00  0.00           H  \nATOM    391 HD12 ILE A  22      -0.400   2.900  -3.950  1.00  0.00           H  \nATOM    392 HD13 ILE A  22      -0.950   1.220  -3.970  1.00  0.00           H  \nATOM    393  N   GLU A  23      -2.360   6.520  -7.640  1.00  0.00           N  \nATOM    394  CA  GLU A  23      -2.660   7.880  -8.120  1.00  0.00           C  \nATOM    395  C   GLU A  23      -2.900   7.970  -9.650  1.00  0.00           C  \nATOM    396  O   GLU A  23      -3.120   9.050 -10.180  1.00  0.00           O  \nATOM    397  CB  GLU A  23      -1.530   8.840  -7.670  1.00  0.00           C  \nATOM    398  CG  GLU A  23      -1.380   8.990  -6.150  1.00  0.00           C  \nATOM    399  CD  GLU A  23      -2.650   9.540  -5.450  1.00  0.00           C  \nATOM    400  OE1 GLU A  23      -2.820   9.280  -4.230  1.00  0.00           O  \nATOM    401  OE2 GLU A  23      -3.460  10.280  -6.060  1.00  0.00           O  \nATOM    402  H   GLU A  23      -1.390   6.280  -7.510  1.00  0.00           H  \nATOM    403  HA  GLU A  23      -3.600   8.190  -7.660  1.00  0.00           H  \nATOM    404  HB2 GLU A  23      -0.600   8.450  -8.080  1.00  0.00           H  \nATOM    405  HB3 GLU A  23      -1.720   9.830  -8.090  1.00  0.00           H  \nATOM    406  HG2 GLU A  23      -1.110   8.030  -5.720  1.00  0.00           H  \nATOM    407  HG3 GLU A  23      -0.560   9.680  -5.970  1.00  0.00           H  \nATOM    408  N   LYS A  24      -2.860   6.810 -10.350  1.00  0.00           N  \nATOM    409  CA  LYS A  24      -3.090   6.680 -11.800  1.00  0.00           C  \nATOM    410  C   LYS A  24      -2.180   7.600 -12.680  1.00  0.00           C  \nATOM    411  O   LYS A  24      -2.610   8.150 -13.680  1.00  0.00           O  \nATOM    412  CB  LYS A  24      -4.600   6.790 -12.100  1.00  0.00           C  \nATOM    413  CG  LYS A  24      -5.020   6.090 -13.400  1.00  0.00           C  \nATOM    414  CD  LYS A  24      -6.540   6.220 -13.610  1.00  0.00           C  \nATOM    415  CE  LYS A  24      -7.020   5.550 -14.910  1.00  0.00           C  \nATOM    416  NZ  LYS A  24      -6.910   4.060 -14.860  1.00  0.00           N  \nATOM    417  H   LYS A  24      -2.710   5.970  -9.820  1.00  0.00           H  \nATOM    418  HA  LYS A  24      -2.750   5.680 -12.070  1.00  0.00           H  \nATOM    419  HB2 LYS A  24      -5.160   6.350 -11.280  1.00  0.00           H  \nATOM    420  HB3 LYS A  24      -4.900   7.840 -12.100  1.00  0.00           H  \nATOM    421  HG2 LYS A  24      -4.530   6.540 -14.250  1.00  0.00           H  \nATOM    422  HG3 LYS A  24      -4.740   5.030 -13.330  1.00  0.00           H  \nATOM    423  HD2 LYS A  24      -7.080   5.790 -12.770  1.00  0.00           H  \nATOM    424  HD3 LYS A  24      -6.790   7.280 -13.650  1.00  0.00           H  \nATOM    425  HE2 LYS A  24      -8.060   5.820 -15.090  1.00  0.00           H  \nATOM    426  HE3 LYS A  24      -6.420   5.950 -15.730  1.00  0.00           H  \nATOM    427  HZ1 LYS A  24      -7.450   3.720 -14.080  1.00  0.00           H  \nATOM    428  HZ2 LYS A  24      -5.960   3.760 -14.730  1.00  0.00           H  \nATOM    429  HZ3 LYS A  24      -7.260   3.620 -15.700  1.00  0.00           H  \nATOM    430  N   PHE A  25      -0.930   7.760 -12.260  1.00  0.00           N  \nATOM    431  CA  PHE A  25       0.080   8.550 -12.950  1.00  0.00           C  \nATOM    432  C   PHE A  25       0.710   7.770 -14.140  1.00  0.00           C  \nATOM    433  O   PHE A  25       0.980   6.580 -14.030  1.00  0.00           O  \nATOM    434  CB  PHE A  25       1.160   8.980 -11.960  1.00  0.00           C  \nATOM    435  CG  PHE A  25       2.270   9.820 -12.530  1.00  0.00           C  \nATOM    436  CD1 PHE A  25       3.530   9.240 -12.790  1.00  0.00           C  \nATOM    437  CD2 PHE A  25       2.070  11.180 -12.820  1.00  0.00           C  \nATOM    438  CE1 PHE A  25       4.570  10.010 -13.330  1.00  0.00           C  \nATOM    439  CE2 PHE A  25       3.130  11.960 -13.350  1.00  0.00           C  \nATOM    440  CZ  PHE A  25       4.370  11.360 -13.590  1.00  0.00           C  \nATOM    441  H   PHE A  25      -0.640   7.240 -11.440  1.00  0.00           H  \nATOM    442  HA  PHE A  25      -0.360   9.460 -13.350  1.00  0.00           H  \nATOM    443  HB2 PHE A  25       0.700   9.560 -11.160  1.00  0.00           H  \nATOM    444  HB3 PHE A  25       1.580   8.110 -11.450  1.00  0.00           H  \nATOM    445  HD1 PHE A  25       3.700   8.190 -12.580  1.00  0.00           H  \nATOM    446  HD2 PHE A  25       1.110  11.630 -12.630  1.00  0.00           H  \nATOM    447  HE1 PHE A  25       5.530   9.550 -13.520  1.00  0.00           H  \nATOM    448  HE2 PHE A  25       2.980  13.010 -13.560  1.00  0.00           H  \nATOM    449  HZ  PHE A  25       5.180  11.950 -14.000  1.00  0.00           H  \nATOM    450  N   LYS A  26       0.940   8.460 -15.270  1.00  0.00           N  \nATOM    451  CA  LYS A  26       1.460   7.870 -16.530  1.00  0.00           C  \nATOM    452  C   LYS A  26       2.610   8.640 -17.170  1.00  0.00           C  \nATOM    453  O   LYS A  26       2.980   8.370 -18.320  1.00  0.00           O  \nATOM    454  CB  LYS A  26       0.290   7.680 -17.530  1.00  0.00           C  \nATOM    455  CG  LYS A  26      -0.790   6.710 -17.010  1.00  0.00           C  \nATOM    456  CD  LYS A  26      -1.830   6.320 -18.070  1.00  0.00           C  \nATOM    457  CE  LYS A  26      -2.650   7.560 -18.540  1.00  0.00           C  \nATOM    458  NZ  LYS A  26      -3.640   7.160 -19.580  1.00  0.00           N  \nATOM    459  H   LYS A  26       0.660   9.430 -15.310  1.00  0.00           H  \nATOM    460  HA  LYS A  26       1.890   6.900 -16.310  1.00  0.00           H  \nATOM    461  HB2 LYS A  26      -0.150   8.650 -17.750  1.00  0.00           H  \nATOM    462  HB3 LYS A  26       0.680   7.250 -18.450  1.00  0.00           H  \nATOM    463  HG2 LYS A  26      -0.300   5.790 -16.690  1.00  0.00           H  \nATOM    464  HG3 LYS A  26      -1.290   7.170 -16.160  1.00  0.00           H  \nATOM    465  HD2 LYS A  26      -1.320   5.880 -18.930  1.00  0.00           H  \nATOM    466  HD3 LYS A  26      -2.520   5.590 -17.660  1.00  0.00           H  \nATOM    467  HE2 LYS A  26      -3.190   7.990 -17.700  1.00  0.00           H  \nATOM    468  HE3 LYS A  26      -1.970   8.300 -18.970  1.00  0.00           H  \nATOM    469  HZ1 LYS A  26      -3.200   6.790 -20.410  1.00  0.00           H  \nATOM    470  HZ2 LYS A  26      -4.190   7.960 -19.870  1.00  0.00           H  \nATOM    471  HZ3 LYS A  26      -4.310   6.490 -19.230  1.00  0.00           H  \nATOM    472  N   GLY A  27       3.200   9.650 -16.480  1.00  0.00           N  \nATOM    473  CA  GLY A  27       4.240  10.510 -17.040  1.00  0.00           C  \nATOM    474  C   GLY A  27       3.730  11.420 -18.170  1.00  0.00           C  \nATOM    475  O   GLY A  27       2.570  11.840 -18.170  1.00  0.00           O  \nATOM    476  H   GLY A  27       2.850   9.830 -15.550  1.00  0.00           H  \nATOM    477  HA2 GLY A  27       4.660  11.130 -16.250  1.00  0.00           H  \nATOM    478  HA3 GLY A  27       5.040   9.870 -17.420  1.00  0.00           H  \nATOM    479  N   ARG A  28       4.620  11.720 -19.130  1.00  0.00           N  \nATOM    480  CA  ARG A  28       4.350  12.550 -20.320  1.00  0.00           C  \nATOM    481  C   ARG A  28       5.070  12.030 -21.580  1.00  0.00           C  \nATOM    482  O   ARG A  28       6.140  11.420 -21.430  1.00  0.00           O  \nATOM    483  CB  ARG A  28       4.680  14.030 -20.050  1.00  0.00           C  \nATOM    484  CG  ARG A  28       6.160  14.310 -19.740  1.00  0.00           C  \nATOM    485  CD  ARG A  28       6.430  15.790 -19.460  1.00  0.00           C  \nATOM    486  NE  ARG A  28       5.770  16.280 -18.240  1.00  0.00           N  \nATOM    487  CZ  ARG A  28       6.190  16.160 -17.000  1.00  0.00           C  \nATOM    488  NH1 ARG A  28       7.320  15.600 -16.700  1.00  0.00           N  \nATOM    489  NH2 ARG A  28       5.500  16.640 -16.020  1.00  0.00           N  \nATOM    490  OXT ARG A  28       4.520  12.190 -22.680  1.00  0.00           O  \nATOM    491  H   ARG A  28       5.550  11.330 -19.080  1.00  0.00           H  \nATOM    492  HA  ARG A  28       3.280  12.500 -20.530  1.00  0.00           H  \nATOM    493  HB2 ARG A  28       4.390  14.620 -20.920  1.00  0.00           H  \nATOM    494  HB3 ARG A  28       4.070  14.360 -19.210  1.00  0.00           H  \nATOM    495  HG2 ARG A  28       6.500  13.740 -18.880  1.00  0.00           H  \nATOM    496  HG3 ARG A  28       6.770  14.000 -20.590  1.00  0.00           H  \nATOM    497  HD2 ARG A  28       7.500  15.980 -19.390  1.00  0.00           H  \nATOM    498  HD3 ARG A  28       6.090  16.380 -20.310  1.00  0.00           H  \nATOM    499  HE  ARG A  28       4.880  16.740 -18.370  1.00  0.00           H  \nATOM    500 HH11 ARG A  28       7.910  15.230 -17.430  1.00  0.00           H  \nATOM    501 HH12 ARG A  28       7.640  15.530 -15.740  1.00  0.00           H  \nATOM    502 HH21 ARG A  28       4.610  17.100 -16.190  1.00  0.00           H  \nATOM    503 HH22 ARG A  28       5.860  16.540 -15.080  1.00  0.00           H  \nTER     504      ARG A  28\nENDMDL\nEND\n",
           "type": "blob"
          }
         ],
         "kwargs": {
          "defaultRepresentation": true,
          "ext": "pdb",
          "height": "400px",
          "name": "nglview.adaptor.MDTrajTrajectory",
          "width": "400px"
         },
         "methodName": "loadFile",
         "reconstruc_color_scheme": false,
         "target": "Stage",
         "type": "call_method"
        },
        {
         "args": [
          "ball+stick"
         ],
         "component_index": 0,
         "kwargs": {
          "aspectRatio": 2,
          "radius": 0.1,
          "sele": "protein"
         },
         "methodName": "addRepresentation",
         "reconstruc_color_scheme": false,
         "target": "compList",
         "type": "call_method"
        }
       ],
       "_ngl_original_stage_parameters": {
        "ambientColor": 14540253,
        "ambientIntensity": 0.2,
        "backgroundColor": "white",
        "cameraEyeSep": 0.3,
        "cameraFov": 40,
        "cameraType": "perspective",
        "clipDist": 10,
        "clipFar": 100,
        "clipMode": "scene",
        "clipNear": 0,
        "clipScale": "relative",
        "fogFar": 100,
        "fogNear": 50,
        "hoverTimeout": 0,
        "impostor": true,
        "lightColor": 14540253,
        "lightIntensity": 1,
        "mousePreset": "default",
        "panSpeed": 1,
        "quality": "medium",
        "rotateSpeed": 2,
        "sampleLevel": 0,
        "tooltip": true,
        "workerDefault": true,
        "zoomSpeed": 1.2
       },
       "_ngl_repr_dict": {
        "0": {
         "0": {
          "params": {
           "aspectRatio": 5,
           "assembly": "default",
           "capped": true,
           "clipCenter": {
            "x": 0,
            "y": 0,
            "z": 0
           },
           "clipNear": 0,
           "clipRadius": 0,
           "colorMode": "hcl",
           "colorReverse": true,
           "colorScale": "Spectral",
           "colorScheme": "residueindex",
           "colorValue": 9474192,
           "defaultAssembly": "",
           "depthWrite": true,
           "diffuse": 16777215,
           "diffuseInterior": false,
           "disablePicking": false,
           "flatShaded": false,
           "interiorColor": 2236962,
           "interiorDarkening": 0,
           "lazy": false,
           "matrix": {
            "elements": [
             1,
             0,
             0,
             0,
             0,
             1,
             0,
             0,
             0,
             0,
             1,
             0,
             0,
             0,
             0,
             1
            ]
           },
           "metalness": 0,
           "opacity": 1,
           "quality": "high",
           "radialSegments": 20,
           "radiusData": {},
           "radiusScale": 0.7,
           "radiusSize": 1,
           "radiusType": "sstruc",
           "roughness": 0.4,
           "sele": "",
           "side": "double",
           "smoothSheet": false,
           "subdiv": 6,
           "tension": null,
           "useInteriorColor": true,
           "visible": true,
           "wireframe": false
          },
          "type": "cartoon"
         },
         "1": {
          "params": {
           "aspectRatio": 1,
           "assembly": "default",
           "bondScale": 0.4,
           "clipCenter": {
            "x": 0,
            "y": 0,
            "z": 0
           },
           "clipNear": 0,
           "clipRadius": 0,
           "colorMode": "hcl",
           "colorReverse": true,
           "colorScale": "Spectral",
           "colorScheme": "residueindex",
           "colorValue": 9474192,
           "cylinderOnly": false,
           "defaultAssembly": "",
           "depthWrite": true,
           "diffuse": 16777215,
           "diffuseInterior": false,
           "disableImpostor": false,
           "disablePicking": false,
           "flatShaded": false,
           "interiorColor": 2236962,
           "interiorDarkening": 0,
           "lazy": false,
           "lineOnly": false,
           "linewidth": 2,
           "matrix": {
            "elements": [
             1,
             0,
             0,
             0,
             0,
             1,
             0,
             0,
             0,
             0,
             1,
             0,
             0,
             0,
             0,
             1
            ]
           },
           "metalness": 0,
           "opacity": 1,
           "openEnded": true,
           "quality": "high",
           "radialSegments": 20,
           "radiusData": {},
           "radiusScale": 1,
           "radiusSize": 0.3,
           "radiusType": "size",
           "roughness": 0.4,
           "sele": "",
           "side": "double",
           "sphereDetail": 2,
           "useInteriorColor": true,
           "visible": true,
           "wireframe": false
          },
          "type": "base"
         },
         "2": {
          "params": {
           "aspectRatio": 1.5,
           "assembly": "default",
           "bondScale": 0.3,
           "bondSpacing": 0.75,
           "clipCenter": {
            "x": 0,
            "y": 0,
            "z": 0
           },
           "clipNear": 0,
           "clipRadius": 0,
           "colorMode": "hcl",
           "colorReverse": false,
           "colorScale": "",
           "colorScheme": "element",
           "colorValue": 9474192,
           "cylinderOnly": false,
           "defaultAssembly": "",
           "depthWrite": true,
           "diffuse": 16777215,
           "diffuseInterior": false,
           "disableImpostor": false,
           "disablePicking": false,
           "flatShaded": false,
           "interiorColor": 2236962,
           "interiorDarkening": 0,
           "lazy": false,
           "lineOnly": false,
           "linewidth": 2,
           "matrix": {
            "elements": [
             1,
             0,
             0,
             0,
             0,
             1,
             0,
             0,
             0,
             0,
             1,
             0,
             0,
             0,
             0,
             1
            ]
           },
           "metalness": 0,
           "multipleBond": "off",
           "opacity": 1,
           "openEnded": true,
           "quality": "high",
           "radialSegments": 20,
           "radiusData": {},
           "radiusScale": 2,
           "radiusSize": 0.15,
           "radiusType": "size",
           "roughness": 0.4,
           "sele": "ligand",
           "side": "double",
           "sphereDetail": 2,
           "useInteriorColor": true,
           "visible": true,
           "wireframe": false
          },
          "type": "ball+stick"
         },
         "3": {
          "params": {
           "aspectRatio": 2,
           "assembly": "default",
           "bondScale": 0.4,
           "bondSpacing": 1,
           "clipCenter": {
            "x": 0,
            "y": 0,
            "z": 0
           },
           "clipNear": 0,
           "clipRadius": 0,
           "colorMode": "hcl",
           "colorReverse": false,
           "colorScale": "",
           "colorScheme": "element",
           "colorValue": 9474192,
           "cylinderOnly": false,
           "defaultAssembly": "",
           "depthWrite": true,
           "diffuse": 16777215,
           "diffuseInterior": false,
           "disableImpostor": false,
           "disablePicking": false,
           "flatShaded": false,
           "interiorColor": 2236962,
           "interiorDarkening": 0,
           "lazy": false,
           "lineOnly": false,
           "linewidth": 2,
           "matrix": {
            "elements": [
             1,
             0,
             0,
             0,
             0,
             1,
             0,
             0,
             0,
             0,
             1,
             0,
             0,
             0,
             0,
             1
            ]
           },
           "metalness": 0,
           "multipleBond": "off",
           "opacity": 1,
           "openEnded": true,
           "quality": "medium",
           "radialSegments": 10,
           "radiusData": {},
           "radiusScale": 1,
           "radiusSize": 0.1,
           "radiusType": "size",
           "roughness": 0.4,
           "sele": "protein",
           "side": "double",
           "sphereDetail": 1,
           "useInteriorColor": true,
           "visible": true,
           "wireframe": false
          },
          "type": "ball+stick"
         }
        }
       },
       "_ngl_serialize": false,
       "_ngl_version": "2.2.2",
       "_ngl_view_id": [
        "2622B399-2A85-41DE-97E6-0549FF1A40B6"
       ],
       "_player_dict": {},
       "_scene_position": {},
       "_scene_rotation": {},
       "_synced_model_ids": [],
       "_synced_repr_model_ids": [],
       "_view_height": "400px",
       "_view_width": "400px",
       "background": "white",
       "frame": 4831,
       "gui_style": null,
       "layout": "IPY_MODEL_a32385ac7b64426aa0c25b3165e4dd81",
       "max_frame": 4831,
       "n_components": 1,
       "picked": {}
      }
     },
     "270a11c9c56649a5a0e672c284d52304": {
      "model_module": "@jupyter-widgets/controls",
      "model_module_version": "2.0.0",
      "model_name": "ButtonStyleModel",
      "state": {
       "font_family": null,
       "font_size": null,
       "font_style": null,
       "font_variant": null,
       "font_weight": null,
       "text_color": null,
       "text_decoration": null
      }
     },
     "27dd0bbcdd944dbaadd9c20bb1e40c72": {
      "model_module": "@jupyter-widgets/controls",
      "model_module_version": "2.0.0",
      "model_name": "PlayModel",
      "state": {
       "layout": "IPY_MODEL_05a58e9ec698479a928a56abee85b768",
       "max": 4831,
       "style": "IPY_MODEL_7feaf16f14f34cb08d2ea0c0145d2d43",
       "value": 4831
      }
     },
     "2a27cfa3c3e34f48b98b69b9492a8689": {
      "model_module": "@jupyter-widgets/controls",
      "model_module_version": "2.0.0",
      "model_name": "IntSliderModel",
      "state": {
       "behavior": "drag-tap",
       "layout": "IPY_MODEL_9929cdb2e3eb418b9586481fcb73b54f",
       "max": 4831,
       "style": "IPY_MODEL_6df84cdb93a940f6a2995b72dea2646b",
       "value": 4831
      }
     },
     "2b50787c4fdc4cb5b37302ca3464f833": {
      "model_module": "@jupyter-widgets/controls",
      "model_module_version": "2.0.0",
      "model_name": "LinkModel",
      "state": {
       "source": [
        "IPY_MODEL_27dd0bbcdd944dbaadd9c20bb1e40c72",
        "value"
       ],
       "target": [
        "IPY_MODEL_2a27cfa3c3e34f48b98b69b9492a8689",
        "value"
       ]
      }
     },
     "344c7d6aab314d489b74160d1a89c365": {
      "model_module": "@jupyter-widgets/base",
      "model_module_version": "2.0.0",
      "model_name": "LayoutModel",
      "state": {}
     },
     "3e1aec79aefc4dad8cd9225bfa1903a3": {
      "model_module": "@jupyter-widgets/controls",
      "model_module_version": "2.0.0",
      "model_name": "LinkModel",
      "state": {
       "source": [
        "IPY_MODEL_a8c43961c0a743659eda4d75006744a6",
        "value"
       ],
       "target": [
        "IPY_MODEL_e3195325a0d04739a7929caf778cadab",
        "frame"
       ]
      }
     },
     "42fe4f6d0c644245849d1e2f52a29922": {
      "model_module": "@jupyter-widgets/controls",
      "model_module_version": "2.0.0",
      "model_name": "DescriptionStyleModel",
      "state": {
       "description_width": ""
      }
     },
     "4aa0f62f8ff548ebafa1aba70c85970c": {
      "model_module": "@jupyter-widgets/controls",
      "model_module_version": "2.0.0",
      "model_name": "HBoxModel",
      "state": {
       "children": [
        "IPY_MODEL_27dd0bbcdd944dbaadd9c20bb1e40c72",
        "IPY_MODEL_2a27cfa3c3e34f48b98b69b9492a8689"
       ],
       "layout": "IPY_MODEL_5577dc329bdc443486df1d7a380fa666"
      }
     },
     "4b5f02c889b14d328e1be82b51d06d9a": {
      "model_module": "@jupyter-widgets/controls",
      "model_module_version": "2.0.0",
      "model_name": "LinkModel",
      "state": {
       "source": [
        "IPY_MODEL_f75bf560103a4c99a5deedb72b6e7f88",
        "max"
       ],
       "target": [
        "IPY_MODEL_e3195325a0d04739a7929caf778cadab",
        "max_frame"
       ]
      }
     },
     "4d5e396e974b45759d8bb4d678550836": {
      "model_module": "@jupyter-widgets/base",
      "model_module_version": "2.0.0",
      "model_name": "LayoutModel",
      "state": {}
     },
     "50617ee8e6f14535b4c8030ce3ebf659": {
      "model_module": "@jupyter-widgets/base",
      "model_module_version": "2.0.0",
      "model_name": "LayoutModel",
      "state": {
       "width": "34px"
      }
     },
     "50eb4f28c9cb47199180c5a301c45cd2": {
      "model_module": "@jupyter-widgets/controls",
      "model_module_version": "2.0.0",
      "model_name": "ButtonModel",
      "state": {
       "icon": "compress",
       "layout": "IPY_MODEL_d8facf1f818f4fa0b7daf88662ae7dcb",
       "style": "IPY_MODEL_948fcfc225934c018255b39e663e55e8",
       "tooltip": null
      }
     },
     "5577dc329bdc443486df1d7a380fa666": {
      "model_module": "@jupyter-widgets/base",
      "model_module_version": "2.0.0",
      "model_name": "LayoutModel",
      "state": {}
     },
     "580a36cfc3484e28b32ad89466376b2a": {
      "model_module": "@jupyter-widgets/base",
      "model_module_version": "2.0.0",
      "model_name": "LayoutModel",
      "state": {}
     },
     "5c8692435e034f19a3d06ebf9a227799": {
      "model_module": "@jupyter-widgets/controls",
      "model_module_version": "2.0.0",
      "model_name": "LinkModel",
      "state": {
       "source": [
        "IPY_MODEL_27dd0bbcdd944dbaadd9c20bb1e40c72",
        "value"
       ],
       "target": [
        "IPY_MODEL_1d42d9ec0aba41ab925d5c79e430596a",
        "frame"
       ]
      }
     },
     "6df84cdb93a940f6a2995b72dea2646b": {
      "model_module": "@jupyter-widgets/controls",
      "model_module_version": "2.0.0",
      "model_name": "SliderStyleModel",
      "state": {
       "description_width": ""
      }
     },
     "7b25a141861d4ee384feebc43a340eaf": {
      "model_module": "@jupyter-widgets/controls",
      "model_module_version": "2.0.0",
      "model_name": "ButtonModel",
      "state": {
       "icon": "compress",
       "layout": "IPY_MODEL_50617ee8e6f14535b4c8030ce3ebf659",
       "style": "IPY_MODEL_270a11c9c56649a5a0e672c284d52304",
       "tooltip": null
      }
     },
     "7feaf16f14f34cb08d2ea0c0145d2d43": {
      "model_module": "@jupyter-widgets/controls",
      "model_module_version": "2.0.0",
      "model_name": "DescriptionStyleModel",
      "state": {
       "description_width": ""
      }
     },
     "876d2b4114c34a09bfa38f8bcc2f7b85": {
      "model_module": "@jupyter-widgets/controls",
      "model_module_version": "2.0.0",
      "model_name": "LinkModel",
      "state": {
       "source": [
        "IPY_MODEL_a8c43961c0a743659eda4d75006744a6",
        "max"
       ],
       "target": [
        "IPY_MODEL_e3195325a0d04739a7929caf778cadab",
        "max_frame"
       ]
      }
     },
     "948fcfc225934c018255b39e663e55e8": {
      "model_module": "@jupyter-widgets/controls",
      "model_module_version": "2.0.0",
      "model_name": "ButtonStyleModel",
      "state": {
       "font_family": null,
       "font_size": null,
       "font_style": null,
       "font_variant": null,
       "font_weight": null,
       "text_color": null,
       "text_decoration": null
      }
     },
     "9929cdb2e3eb418b9586481fcb73b54f": {
      "model_module": "@jupyter-widgets/base",
      "model_module_version": "2.0.0",
      "model_name": "LayoutModel",
      "state": {}
     },
     "9edaf34d26064ee2a56306896d91d459": {
      "model_module": "@jupyter-widgets/controls",
      "model_module_version": "2.0.0",
      "model_name": "ImageModel",
      "state": {
       "layout": "IPY_MODEL_0e9923ca35d34effa48899dbac4a9d7d",
       "width": "900.0"
      }
     },
     "a32385ac7b64426aa0c25b3165e4dd81": {
      "model_module": "@jupyter-widgets/base",
      "model_module_version": "2.0.0",
      "model_name": "LayoutModel",
      "state": {}
     },
     "a8c43961c0a743659eda4d75006744a6": {
      "model_module": "@jupyter-widgets/controls",
      "model_module_version": "2.0.0",
      "model_name": "PlayModel",
      "state": {
       "layout": "IPY_MODEL_4d5e396e974b45759d8bb4d678550836",
       "max": 4831,
       "style": "IPY_MODEL_42fe4f6d0c644245849d1e2f52a29922"
      }
     },
     "d8facf1f818f4fa0b7daf88662ae7dcb": {
      "model_module": "@jupyter-widgets/base",
      "model_module_version": "2.0.0",
      "model_name": "LayoutModel",
      "state": {
       "width": "34px"
      }
     },
     "db77308c2f0a4cec919d3ace635624bf": {
      "model_module": "@jupyter-widgets/controls",
      "model_module_version": "2.0.0",
      "model_name": "ImageModel",
      "state": {
       "layout": "IPY_MODEL_344c7d6aab314d489b74160d1a89c365",
       "width": "900.0"
      }
     },
     "dec060c4b2e04db39bd26ecc7a807169": {
      "model_module": "nglview-js-widgets",
      "model_module_version": "3.1.0",
      "model_name": "ColormakerRegistryModel",
      "state": {
       "_msg_ar": [],
       "_msg_q": [],
       "_ready": true,
       "layout": "IPY_MODEL_1a1cb7be3fd04ad4a773010dc5cd2e8e"
      }
     },
     "e3195325a0d04739a7929caf778cadab": {
      "model_module": "nglview-js-widgets",
      "model_module_version": "3.1.0",
      "model_name": "NGLModel",
      "state": {
       "_camera_orientation": [
        79.72896049909382,
        0,
        0,
        0,
        0,
        79.72896049909382,
        0,
        0,
        0,
        0,
        79.72896049909382,
        0,
        3.332000255584717,
        -1.4995002746582031,
        1.2965002059936523,
        1
       ],
       "_camera_str": "orthographic",
       "_gui_theme": null,
       "_ibtn_fullscreen": "IPY_MODEL_50eb4f28c9cb47199180c5a301c45cd2",
       "_igui": null,
       "_iplayer": "IPY_MODEL_13bb7e036cb7463d82c6fc134fa68639",
       "_ngl_color_dict": {},
       "_ngl_coordinate_resource": {},
       "_ngl_full_stage_parameters": {
        "ambientColor": 14540253,
        "ambientIntensity": 0.2,
        "backgroundColor": "white",
        "cameraEyeSep": 0.3,
        "cameraFov": 40,
        "cameraType": "perspective",
        "clipDist": 10,
        "clipFar": 100,
        "clipMode": "scene",
        "clipNear": 0,
        "clipScale": "relative",
        "fogFar": 100,
        "fogNear": 50,
        "hoverTimeout": 0,
        "impostor": true,
        "lightColor": 14540253,
        "lightIntensity": 1,
        "mousePreset": "default",
        "panSpeed": 1,
        "quality": "medium",
        "rotateSpeed": 2,
        "sampleLevel": 0,
        "tooltip": true,
        "workerDefault": true,
        "zoomSpeed": 1.2
       },
       "_ngl_msg_archive": [
        {
         "args": [
          {
           "binary": false,
           "data": "MODEL        0\nATOM      1  N   GLU A   1     -14.788  -3.293  18.977  1.00  0.00      A    N  \nATOM      2  CA  GLU A   1     -13.718  -4.301  18.758  1.00  0.00      A    C  \nATOM      3  C   GLU A   1     -12.953  -3.979  17.471  1.00  0.00      A    C  \nATOM      4  O   GLU A   1     -13.538  -3.452  16.520  1.00  0.00      A    O  \nATOM      5  CB  GLU A   1     -14.305  -5.725  18.742  1.00  0.00      A    C  \nATOM      6  CG  GLU A   1     -13.327  -6.888  18.522  1.00  0.00      A    C  \nATOM      7  CD  GLU A   1     -12.207  -6.989  19.566  1.00  0.00      A    C  \nATOM      8  OE1 GLU A   1     -11.559  -5.963  19.858  1.00  0.00      A    O  \nATOM      9  OE2 GLU A   1     -11.963  -8.101  20.087  1.00  0.00      A    O  \nATOM     10  H   GLU A   1     -15.322  -3.468  19.816  1.00  0.00      A    H  \nATOM     11  H2  GLU A   1     -15.444  -3.292  18.208  1.00  0.00      A    H  \nATOM     12  H3  GLU A   1     -14.390  -2.367  19.037  1.00  0.00      A    H  \nATOM     13  HA  GLU A   1     -13.007  -4.253  19.583  1.00  0.00      A    H  \nATOM     14  HB2 GLU A   1     -14.813  -5.922  19.687  1.00  0.00      A    H  \nATOM     15  HB3 GLU A   1     -15.072  -5.794  17.971  1.00  0.00      A    H  \nATOM     16  HG2 GLU A   1     -13.912  -7.808  18.523  1.00  0.00      A    H  \nATOM     17  HG3 GLU A   1     -12.898  -6.741  17.531  1.00  0.00      A    H  \nATOM     18  N   GLN A   2     -11.641  -4.280  17.431  1.00  0.00      A    N  \nATOM     19  CA  GLN A   2     -10.786  -4.073  16.263  1.00  0.00      A    C  \nATOM     20  C   GLN A   2      -9.716  -5.163  16.130  1.00  0.00      A    C  \nATOM     21  O   GLN A   2      -9.401  -5.875  17.093  1.00  0.00      A    O  \nATOM     22  CB  GLN A   2     -10.135  -2.667  16.324  1.00  0.00      A    C  \nATOM     23  CG  GLN A   2      -9.132  -2.491  17.505  1.00  0.00      A    C  \nATOM     24  CD  GLN A   2      -8.478  -1.094  17.521  1.00  0.00      A    C  \nATOM     25  OE1 GLN A   2      -8.726  -0.222  16.713  1.00  0.00      A    O  \nATOM     26  NE2 GLN A   2      -7.592  -0.853  18.459  1.00  0.00      A    N  \nATOM     27  H   GLN A   2     -11.268  -4.745  18.247  1.00  0.00      A    H  \nATOM     28  HA  GLN A   2     -11.379  -4.104  15.349  1.00  0.00      A    H  \nATOM     29  HB2 GLN A   2      -9.624  -2.485  15.379  1.00  0.00      A    H  \nATOM     30  HB3 GLN A   2     -10.910  -1.910  16.445  1.00  0.00      A    H  \nATOM     31  HG2 GLN A   2      -9.677  -2.638  18.438  1.00  0.00      A    H  \nATOM     32  HG3 GLN A   2      -8.328  -3.221  17.412  1.00  0.00      A    H  \nATOM     33 HE21 GLN A   2      -7.331  -1.550  19.142  1.00  0.00      A    H  \nATOM     34 HE22 GLN A   2      -7.150   0.055  18.487  1.00  0.00      A    H  \nATOM     35  N   TYR A   3      -9.127  -5.295  14.930  1.00  0.00      A    N  \nATOM     36  CA  TYR A   3      -7.996  -6.169  14.628  1.00  0.00      A    C  \nATOM     37  C   TYR A   3      -7.100  -5.565  13.535  1.00  0.00      A    C  \nATOM     38  O   TYR A   3      -7.562  -4.773  12.719  1.00  0.00      A    O  \nATOM     39  CB  TYR A   3      -8.520  -7.562  14.201  1.00  0.00      A    C  \nATOM     40  CG  TYR A   3      -7.449  -8.531  13.765  1.00  0.00      A    C  \nATOM     41  CD1 TYR A   3      -6.605  -9.149  14.731  1.00  0.00      A    C  \nATOM     42  CD2 TYR A   3      -7.220  -8.775  12.397  1.00  0.00      A    C  \nATOM     43  CE1 TYR A   3      -5.567  -9.997  14.316  1.00  0.00      A    C  \nATOM     44  CE2 TYR A   3      -6.173  -9.625  11.985  1.00  0.00      A    C  \nATOM     45  CZ  TYR A   3      -5.337 -10.240  12.931  1.00  0.00      A    C  \nATOM     46  OH  TYR A   3      -4.324 -11.045  12.550  1.00  0.00      A    O  \nATOM     47  H   TYR A   3      -9.452  -4.704  14.179  1.00  0.00      A    H  \nATOM     48  HA  TYR A   3      -7.381  -6.324  15.514  1.00  0.00      A    H  \nATOM     49  HB2 TYR A   3      -9.041  -7.999  15.053  1.00  0.00      A    H  \nATOM     50  HB3 TYR A   3      -9.232  -7.456  13.382  1.00  0.00      A    H  \nATOM     51  HD1 TYR A   3      -6.745  -8.948  15.783  1.00  0.00      A    H  \nATOM     52  HD2 TYR A   3      -7.844  -8.307  11.651  1.00  0.00      A    H  \nATOM     53  HE1 TYR A   3      -4.897 -10.436  15.040  1.00  0.00      A    H  \nATOM     54  HE2 TYR A   3      -5.960  -9.799  10.941  1.00  0.00      A    H  \nATOM     55  HH  TYR A   3      -3.768 -11.269  13.299  1.00  0.00      A    H  \nATOM     56  N   THR A   4      -5.830  -5.986  13.485  1.00  0.00      A    N  \nATOM     57  CA  THR A   4      -4.894  -5.742  12.371  1.00  0.00      A    C  \nATOM     58  C   THR A   4      -3.896  -6.905  12.250  1.00  0.00      A    C  \nATOM     59  O   THR A   4      -3.595  -7.560  13.251  1.00  0.00      A    O  \nATOM     60  CB  THR A   4      -4.171  -4.389  12.540  1.00  0.00      A    C  \nATOM     61  OG1 THR A   4      -3.349  -4.153  11.413  1.00  0.00      A    O  \nATOM     62  CG2 THR A   4      -3.263  -4.312  13.754  1.00  0.00      A    C  \nATOM     63  H   THR A   4      -5.522  -6.686  14.145  1.00  0.00      A    H  \nATOM     64  HA  THR A   4      -5.464  -5.741  11.442  1.00  0.00      A    H  \nATOM     65  HB  THR A   4      -4.904  -3.582  12.552  1.00  0.00      A    H  \nATOM     66  HG1 THR A   4      -3.876  -3.696  10.754  1.00  0.00      A    H  \nATOM     67 HG21 THR A   4      -2.445  -5.028  13.681  1.00  0.00      A    H  \nATOM     68 HG22 THR A   4      -3.855  -4.452  14.658  1.00  0.00      A    H  \nATOM     69 HG23 THR A   4      -2.803  -3.325  13.801  1.00  0.00      A    H  \nATOM     70  N   ALA A   5      -3.346  -7.111  11.064  1.00  0.00      A    N  \nATOM     71  CA  ALA A   5      -2.288  -8.062  10.792  1.00  0.00      A    C  \nATOM     72  C   ALA A   5      -0.902  -7.393  10.553  1.00  0.00      A    C  \nATOM     73  O   ALA A   5       0.052  -8.102  10.216  1.00  0.00      A    O  \nATOM     74  CB  ALA A   5      -2.715  -8.929   9.591  1.00  0.00      A    C  \nATOM     75  H   ALA A   5      -3.637  -6.524  10.296  1.00  0.00      A    H  \nATOM     76  HA  ALA A   5      -2.170  -8.733  11.643  1.00  0.00      A    H  \nATOM     77  HB1 ALA A   5      -2.803  -8.305   8.702  1.00  0.00      A    H  \nATOM     78  HB2 ALA A   5      -3.648  -9.437   9.837  1.00  0.00      A    H  \nATOM     79  HB3 ALA A   5      -1.943  -9.679   9.421  1.00  0.00      A    H  \nATOM     80  N   LYS A   6      -0.776  -6.071  10.705  1.00  0.00      A    N  \nATOM     81  CA  LYS A   6       0.353  -5.236  10.187  1.00  0.00      A    C  \nATOM     82  C   LYS A   6       1.772  -5.656  10.605  1.00  0.00      A    C  \nATOM     83  O   LYS A   6       2.735  -5.253   9.969  1.00  0.00      A    O  \nATOM     84  CB  LYS A   6       0.095  -3.756  10.525  1.00  0.00      A    C  \nATOM     85  CG  LYS A   6       0.191  -3.420  12.031  1.00  0.00      A    C  \nATOM     86  CD  LYS A   6      -0.131  -1.950  12.291  1.00  0.00      A    C  \nATOM     87  CE  LYS A   6       0.031  -1.643  13.789  1.00  0.00      A    C  \nATOM     88  NZ  LYS A   6      -0.184  -0.203  14.082  1.00  0.00      A    N  \nATOM     89  H   LYS A   6      -1.595  -5.552  10.988  1.00  0.00      A    H  \nATOM     90  HA  LYS A   6       0.322  -5.347   9.103  1.00  0.00      A    H  \nATOM     91  HB2 LYS A   6       0.824  -3.148   9.990  1.00  0.00      A    H  \nATOM     92  HB3 LYS A   6      -0.902  -3.458  10.199  1.00  0.00      A    H  \nATOM     93  HG2 LYS A   6      -0.497  -4.038  12.608  1.00  0.00      A    H  \nATOM     94  HG3 LYS A   6       1.184  -3.659  12.412  1.00  0.00      A    H  \nATOM     95  HD2 LYS A   6       0.528  -1.323  11.689  1.00  0.00      A    H  \nATOM     96  HD3 LYS A   6      -1.164  -1.724  12.028  1.00  0.00      A    H  \nATOM     97  HE2 LYS A   6      -0.704  -2.218  14.353  1.00  0.00      A    H  \nATOM     98  HE3 LYS A   6       1.023  -1.958  14.111  1.00  0.00      A    H  \nATOM     99  HZ1 LYS A   6      -0.076  -0.014  15.068  1.00  0.00      A    H  \nATOM    100  HZ2 LYS A   6      -1.107   0.119  13.827  1.00  0.00      A    H  \nATOM    101  HZ3 LYS A   6       0.490   0.383  13.609  1.00  0.00      A    H  \nATOM    102  N   TYR A   7       1.917  -6.459  11.661  1.00  0.00      A    N  \nATOM    103  CA  TYR A   7       3.170  -7.075  12.130  1.00  0.00      A    C  \nATOM    104  C   TYR A   7       3.616  -8.284  11.275  1.00  0.00      A    C  \nATOM    105  O   TYR A   7       4.791  -8.651  11.345  1.00  0.00      A    O  \nATOM    106  CB  TYR A   7       2.983  -7.456  13.613  1.00  0.00      A    C  \nATOM    107  CG  TYR A   7       1.630  -8.073  13.925  1.00  0.00      A    C  \nATOM    108  CD1 TYR A   7       0.564  -7.244  14.336  1.00  0.00      A    C  \nATOM    109  CD2 TYR A   7       1.430  -9.444  13.728  1.00  0.00      A    C  \nATOM    110  CE1 TYR A   7      -0.721  -7.768  14.483  1.00  0.00      A    C  \nATOM    111  CE2 TYR A   7       0.133  -9.985  13.906  1.00  0.00      A    C  \nATOM    112  CZ  TYR A   7      -0.948  -9.144  14.252  1.00  0.00      A    C  \nATOM    113  OH  TYR A   7      -2.215  -9.637  14.327  1.00  0.00      A    O  \nATOM    114  H   TYR A   7       1.062  -6.741  12.118  1.00  0.00      A    H  \nATOM    115  HA  TYR A   7       3.953  -6.320  12.065  1.00  0.00      A    H  \nATOM    116  HB2 TYR A   7       3.794  -8.131  13.886  1.00  0.00      A    H  \nATOM    117  HB3 TYR A   7       3.103  -6.544  14.198  1.00  0.00      A    H  \nATOM    118  HD1 TYR A   7       0.706  -6.181  14.458  1.00  0.00      A    H  \nATOM    119  HD2 TYR A   7       2.251 -10.080  13.429  1.00  0.00      A    H  \nATOM    120  HE1 TYR A   7      -1.552  -7.135  14.758  1.00  0.00      A    H  \nATOM    121  HE2 TYR A   7      -0.045 -11.031  13.705  1.00  0.00      A    H  \nATOM    122  HH  TYR A   7      -2.840  -8.963  14.052  1.00  0.00      A    H  \nATOM    123  N   LYS A   8       2.722  -8.912  10.488  1.00  0.00      A    N  \nATOM    124  CA  LYS A   8       3.001 -10.089   9.650  1.00  0.00      A    C  \nATOM    125  C   LYS A   8       2.375 -10.060   8.236  1.00  0.00      A    C  \nATOM    126  O   LYS A   8       2.771 -10.885   7.408  1.00  0.00      A    O  \nATOM    127  CB  LYS A   8       2.642 -11.370  10.433  1.00  0.00      A    C  \nATOM    128  CG  LYS A   8       1.159 -11.577  10.815  1.00  0.00      A    C  \nATOM    129  CD  LYS A   8       0.293 -12.211   9.724  1.00  0.00      A    C  \nATOM    130  CE  LYS A   8      -1.090 -12.564  10.302  1.00  0.00      A    C  \nATOM    131  NZ  LYS A   8      -1.948 -13.248   9.299  1.00  0.00      A    N  \nATOM    132  H   LYS A   8       1.775  -8.564  10.534  1.00  0.00      A    H  \nATOM    133  HA  LYS A   8       4.074 -10.112   9.459  1.00  0.00      A    H  \nATOM    134  HB2 LYS A   8       2.992 -12.246   9.887  1.00  0.00      A    H  \nATOM    135  HB3 LYS A   8       3.231 -11.380  11.351  1.00  0.00      A    H  \nATOM    136  HG2 LYS A   8       1.144 -12.266  11.660  1.00  0.00      A    H  \nATOM    137  HG3 LYS A   8       0.726 -10.633  11.146  1.00  0.00      A    H  \nATOM    138  HD2 LYS A   8       0.141 -11.500   8.911  1.00  0.00      A    H  \nATOM    139  HD3 LYS A   8       0.786 -13.111   9.356  1.00  0.00      A    H  \nATOM    140  HE2 LYS A   8      -0.983 -13.233  11.156  1.00  0.00      A    H  \nATOM    141  HE3 LYS A   8      -1.590 -11.665  10.661  1.00  0.00      A    H  \nATOM    142  HZ1 LYS A   8      -2.857 -13.471   9.679  1.00  0.00      A    H  \nATOM    143  HZ2 LYS A   8      -1.523 -14.100   8.965  1.00  0.00      A    H  \nATOM    144  HZ3 LYS A   8      -2.092 -12.628   8.515  1.00  0.00      A    H  \nATOM    145  N   GLY A   9       1.458  -9.141   7.935  1.00  0.00      A    N  \nATOM    146  CA  GLY A   9       0.855  -8.974   6.609  1.00  0.00      A    C  \nATOM    147  C   GLY A   9       0.228  -7.589   6.416  1.00  0.00      A    C  \nATOM    148  O   GLY A   9      -0.323  -7.022   7.371  1.00  0.00      A    O  \nATOM    149  H   GLY A   9       1.119  -8.537   8.670  1.00  0.00      A    H  \nATOM    150  HA2 GLY A   9       1.614  -9.121   5.841  1.00  0.00      A    H  \nATOM    151  HA3 GLY A   9       0.070  -9.716   6.461  1.00  0.00      A    H  \nATOM    152  N   ARG A  10       0.335  -7.026   5.208  1.00  0.00      A    N  \nATOM    153  CA  ARG A  10      -0.040  -5.630   4.885  1.00  0.00      A    C  \nATOM    154  C   ARG A  10      -0.723  -5.527   3.508  1.00  0.00      A    C  \nATOM    155  O   ARG A  10      -0.677  -6.445   2.719  1.00  0.00      A    O  \nATOM    156  CB  ARG A  10       1.194  -4.713   4.961  1.00  0.00      A    C  \nATOM    157  CG  ARG A  10       1.835  -4.672   6.364  1.00  0.00      A    C  \nATOM    158  CD  ARG A  10       3.025  -3.707   6.400  1.00  0.00      A    C  \nATOM    159  NE  ARG A  10       3.690  -3.749   7.708  1.00  0.00      A    N  \nATOM    160  CZ  ARG A  10       4.825  -3.164   8.050  1.00  0.00      A    C  \nATOM    161  NH1 ARG A  10       5.496  -2.408   7.233  1.00  0.00      A    N  \nATOM    162  NH2 ARG A  10       5.304  -3.329   9.247  1.00  0.00      A    N  \nATOM    163  H   ARG A  10       0.740  -7.594   4.477  1.00  0.00      A    H  \nATOM    164  HA  ARG A  10      -0.757  -5.281   5.628  1.00  0.00      A    H  \nATOM    165  HB2 ARG A  10       1.940  -5.021   4.228  1.00  0.00      A    H  \nATOM    166  HB3 ARG A  10       0.899  -3.703   4.679  1.00  0.00      A    H  \nATOM    167  HG2 ARG A  10       1.091  -4.335   7.086  1.00  0.00      A    H  \nATOM    168  HG3 ARG A  10       2.182  -5.677   6.603  1.00  0.00      A    H  \nATOM    169  HD2 ARG A  10       3.738  -3.991   5.627  1.00  0.00      A    H  \nATOM    170  HD3 ARG A  10       2.658  -2.697   6.216  1.00  0.00      A    H  \nATOM    171  HE  ARG A  10       3.299  -4.312   8.450  1.00  0.00      A    H  \nATOM    172 HH11 ARG A  10       5.159  -2.188   6.307  1.00  0.00      A    H  \nATOM    173 HH12 ARG A  10       6.353  -1.970   7.539  1.00  0.00      A    H  \nATOM    174 HH21 ARG A  10       4.781  -3.892   9.902  1.00  0.00      A    H  \nATOM    175 HH22 ARG A  10       6.169  -2.877   9.506  1.00  0.00      A    H  \nATOM    176  N   THR A  11      -1.332  -4.367   3.233  1.00  0.00      A    N  \nATOM    177  CA  THR A  11      -2.045  -4.049   1.979  1.00  0.00      A    C  \nATOM    178  C   THR A  11      -1.702  -2.639   1.491  1.00  0.00      A    C  \nATOM    179  O   THR A  11      -1.357  -1.753   2.272  1.00  0.00      A    O  \nATOM    180  CB  THR A  11      -3.554  -4.261   2.144  1.00  0.00      A    C  \nATOM    181  OG1 THR A  11      -4.206  -4.017   0.906  1.00  0.00      A    O  \nATOM    182  CG2 THR A  11      -4.212  -3.344   3.176  1.00  0.00      A    C  \nATOM    183  H   THR A  11      -1.309  -3.616   3.908  1.00  0.00      A    H  \nATOM    184  HA  THR A  11      -1.707  -4.738   1.205  1.00  0.00      A    H  \nATOM    185  HB  THR A  11      -3.721  -5.298   2.435  1.00  0.00      A    H  \nATOM    186  HG1 THR A  11      -5.072  -4.420   1.000  1.00  0.00      A    H  \nATOM    187 HG21 THR A  11      -3.794  -3.531   4.165  1.00  0.00      A    H  \nATOM    188 HG22 THR A  11      -5.285  -3.524   3.241  1.00  0.00      A    H  \nATOM    189 HG23 THR A  11      -4.035  -2.304   2.904  1.00  0.00      A    H  \nATOM    190  N   PHE A  12      -1.863  -2.387   0.182  1.00  0.00      A    N  \nATOM    191  CA  PHE A  12      -1.519  -1.122  -0.470  1.00  0.00      A    C  \nATOM    192  C   PHE A  12      -2.386   0.082  -0.057  1.00  0.00      A    C  \nATOM    193  O   PHE A  12      -2.045   1.222  -0.357  1.00  0.00      A    O  \nATOM    194  CB  PHE A  12      -1.562  -1.336  -2.000  1.00  0.00      A    C  \nATOM    195  CG  PHE A  12      -0.625  -2.412  -2.507  1.00  0.00      A    C  \nATOM    196  CD1 PHE A  12       0.749  -2.159  -2.592  1.00  0.00      A    C  \nATOM    197  CD2 PHE A  12      -1.133  -3.676  -2.870  1.00  0.00      A    C  \nATOM    198  CE1 PHE A  12       1.625  -3.163  -3.036  1.00  0.00      A    C  \nATOM    199  CE2 PHE A  12      -0.255  -4.687  -3.305  1.00  0.00      A    C  \nATOM    200  CZ  PHE A  12       1.130  -4.435  -3.390  1.00  0.00      A    C  \nATOM    201  H   PHE A  12      -2.225  -3.141  -0.384  1.00  0.00      A    H  \nATOM    202  HA  PHE A  12      -0.488  -0.896  -0.198  1.00  0.00      A    H  \nATOM    203  HB2 PHE A  12      -2.580  -1.588  -2.296  1.00  0.00      A    H  \nATOM    204  HB3 PHE A  12      -1.286  -0.405  -2.495  1.00  0.00      A    H  \nATOM    205  HD1 PHE A  12       1.155  -1.196  -2.319  1.00  0.00      A    H  \nATOM    206  HD2 PHE A  12      -2.192  -3.881  -2.801  1.00  0.00      A    H  \nATOM    207  HE1 PHE A  12       2.682  -2.962  -3.123  1.00  0.00      A    H  \nATOM    208  HE2 PHE A  12      -0.640  -5.665  -3.552  1.00  0.00      A    H  \nATOM    209  HZ  PHE A  12       1.813  -5.203  -3.721  1.00  0.00      A    H  \nATOM    210  N   ARG A  13      -3.493  -0.144   0.687  1.00  0.00      A    N  \nATOM    211  CA  ARG A  13      -4.254   0.911   1.374  1.00  0.00      A    C  \nATOM    212  C   ARG A  13      -3.586   1.429   2.661  1.00  0.00      A    C  \nATOM    213  O   ARG A  13      -3.997   2.458   3.190  1.00  0.00      A    O  \nATOM    214  CB  ARG A  13      -5.698   0.430   1.661  1.00  0.00      A    C  \nATOM    215  CG  ARG A  13      -6.505   0.061   0.409  1.00  0.00      A    C  \nATOM    216  CD  ARG A  13      -6.578   1.145  -0.679  1.00  0.00      A    C  \nATOM    217  NE  ARG A  13      -7.122   2.412  -0.165  1.00  0.00      A    N  \nATOM    218  CZ  ARG A  13      -6.884   3.632  -0.634  1.00  0.00      A    C  \nATOM    219  NH1 ARG A  13      -6.128   3.847  -1.665  1.00  0.00      A    N  \nATOM    220  NH2 ARG A  13      -7.413   4.656  -0.060  1.00  0.00      A    N  \nATOM    221  H   ARG A  13      -3.743  -1.110   0.841  1.00  0.00      A    H  \nATOM    222  HA  ARG A  13      -4.344   1.768   0.707  1.00  0.00      A    H  \nATOM    223  HB2 ARG A  13      -5.663  -0.439   2.319  1.00  0.00      A    H  \nATOM    224  HB3 ARG A  13      -6.230   1.216   2.197  1.00  0.00      A    H  \nATOM    225  HG2 ARG A  13      -6.069  -0.853   0.005  1.00  0.00      A    H  \nATOM    226  HG3 ARG A  13      -7.518  -0.208   0.707  1.00  0.00      A    H  \nATOM    227  HD2 ARG A  13      -5.583   1.310  -1.093  1.00  0.00      A    H  \nATOM    228  HD3 ARG A  13      -7.196   0.799  -1.507  1.00  0.00      A    H  \nATOM    229  HE  ARG A  13      -7.742   2.332   0.628  1.00  0.00      A    H  \nATOM    230 HH11 ARG A  13      -5.726   3.079  -2.183  1.00  0.00      A    H  \nATOM    231 HH12 ARG A  13      -5.975   4.791  -1.989  1.00  0.00      A    H  \nATOM    232 HH21 ARG A  13      -8.016   4.567   0.745  1.00  0.00      A    H  \nATOM    233 HH22 ARG A  13      -7.217   5.594  -0.379  1.00  0.00      A    H  \nATOM    234  N   ASN A  14      -2.537   0.754   3.152  1.00  0.00      A    N  \nATOM    235  CA  ASN A  14      -1.762   1.117   4.348  1.00  0.00      A    C  \nATOM    236  C   ASN A  14      -0.251   1.240   4.077  1.00  0.00      A    C  \nATOM    237  O   ASN A  14       0.418   2.068   4.684  1.00  0.00      A    O  \nATOM    238  CB  ASN A  14      -2.043   0.084   5.451  1.00  0.00      A    C  \nATOM    239  CG  ASN A  14      -3.499   0.048   5.877  1.00  0.00      A    C  \nATOM    240  OD1 ASN A  14      -4.337  -0.608   5.282  1.00  0.00      A    O  \nATOM    241  ND2 ASN A  14      -3.857   0.778   6.909  1.00  0.00      A    N  \nATOM    242  H   ASN A  14      -2.244  -0.108   2.715  1.00  0.00      A    H  \nATOM    243  HA  ASN A  14      -2.099   2.088   4.713  1.00  0.00      A    H  \nATOM    244  HB2 ASN A  14      -1.788  -0.922   5.119  1.00  0.00      A    H  \nATOM    245  HB3 ASN A  14      -1.445   0.285   6.340  1.00  0.00      A    H  \nATOM    246 HD21 ASN A  14      -3.185   1.310   7.444  1.00  0.00      A    H  \nATOM    247 HD22 ASN A  14      -4.828   0.741   7.184  1.00  0.00      A    H  \nATOM    248  N   GLU A  15       0.300   0.461   3.129  1.00  0.00      A    N  \nATOM    249  CA  GLU A  15       1.701   0.539   2.702  1.00  0.00      A    C  \nATOM    250  C   GLU A  15       1.977   1.694   1.716  1.00  0.00      A    C  \nATOM    251  O   GLU A  15       1.082   2.243   1.090  1.00  0.00      A    O  \nATOM    252  CB  GLU A  15       2.136  -0.809   2.082  1.00  0.00      A    C  \nATOM    253  CG  GLU A  15       2.836  -1.717   3.118  1.00  0.00      A    C  \nATOM    254  CD  GLU A  15       4.163  -1.150   3.633  1.00  0.00      A    C  \nATOM    255  OE1 GLU A  15       4.750  -1.737   4.565  1.00  0.00      A    O  \nATOM    256  OE2 GLU A  15       4.656  -0.107   3.127  1.00  0.00      A    O  \nATOM    257  H   GLU A  15      -0.286  -0.234   2.688  1.00  0.00      A    H  \nATOM    258  HA  GLU A  15       2.302   0.764   3.584  1.00  0.00      A    H  \nATOM    259  HB2 GLU A  15       1.273  -1.350   1.695  1.00  0.00      A    H  \nATOM    260  HB3 GLU A  15       2.814  -0.671   1.240  1.00  0.00      A    H  \nATOM    261  HG2 GLU A  15       2.171  -1.865   3.968  1.00  0.00      A    H  \nATOM    262  HG3 GLU A  15       2.978  -2.692   2.651  1.00  0.00      A    H  \nATOM    263  N   LYS A  16       3.262   2.046   1.569  1.00  0.00      A    N  \nATOM    264  CA  LYS A  16       3.764   3.119   0.672  1.00  0.00      A    C  \nATOM    265  C   LYS A  16       4.202   2.656  -0.718  1.00  0.00      A    C  \nATOM    266  O   LYS A  16       4.832   3.411  -1.469  1.00  0.00      A    O  \nATOM    267  CB  LYS A  16       4.844   3.950   1.408  1.00  0.00      A    C  \nATOM    268  CG  LYS A  16       6.131   3.163   1.698  1.00  0.00      A    C  \nATOM    269  CD  LYS A  16       7.256   4.038   2.295  1.00  0.00      A    C  \nATOM    270  CE  LYS A  16       6.865   4.623   3.662  1.00  0.00      A    C  \nATOM    271  NZ  LYS A  16       7.971   5.430   4.234  1.00  0.00      A    N  \nATOM    272  H   LYS A  16       3.960   1.530   2.085  1.00  0.00      A    H  \nATOM    273  HA  LYS A  16       2.910   3.780   0.526  1.00  0.00      A    H  \nATOM    274  HB2 LYS A  16       5.099   4.813   0.793  1.00  0.00      A    H  \nATOM    275  HB3 LYS A  16       4.424   4.332   2.338  1.00  0.00      A    H  \nATOM    276  HG2 LYS A  16       5.902   2.370   2.409  1.00  0.00      A    H  \nATOM    277  HG3 LYS A  16       6.490   2.747   0.756  1.00  0.00      A    H  \nATOM    278  HD2 LYS A  16       8.137   3.408   2.414  1.00  0.00      A    H  \nATOM    279  HD3 LYS A  16       7.459   4.844   1.590  1.00  0.00      A    H  \nATOM    280  HE2 LYS A  16       5.979   5.239   3.514  1.00  0.00      A    H  \nATOM    281  HE3 LYS A  16       6.637   3.808   4.349  1.00  0.00      A    H  \nATOM    282  HZ1 LYS A  16       7.727   5.798   5.142  1.00  0.00      A    H  \nATOM    283  HZ2 LYS A  16       8.209   6.198   3.621  1.00  0.00      A    H  \nATOM    284  HZ3 LYS A  16       8.780   4.837   4.348  1.00  0.00      A    H  \nATOM    285  N   GLU A  17       3.873   1.407  -1.078  1.00  0.00      A    N  \nATOM    286  CA  GLU A  17       4.194   0.790  -2.382  1.00  0.00      A    C  \nATOM    287  C   GLU A  17       3.111   1.088  -3.447  1.00  0.00      A    C  \nATOM    288  O   GLU A  17       1.966   1.408  -3.115  1.00  0.00      A    O  \nATOM    289  CB  GLU A  17       4.413  -0.719  -2.184  1.00  0.00      A    C  \nATOM    290  CG  GLU A  17       5.590  -1.025  -1.275  1.00  0.00      A    C  \nATOM    291  CD  GLU A  17       5.925  -2.530  -1.183  1.00  0.00      A    C  \nATOM    292  OE1 GLU A  17       5.026  -3.382  -1.346  1.00  0.00      A    O  \nATOM    293  OE2 GLU A  17       7.103  -2.875  -0.916  1.00  0.00      A    O  \nATOM    294  H   GLU A  17       3.306   0.895  -0.417  1.00  0.00      A    H  \nATOM    295  HA  GLU A  17       5.143   1.179  -2.751  1.00  0.00      A    H  \nATOM    296  HB2 GLU A  17       3.514  -1.155  -1.748  1.00  0.00      A    H  \nATOM    297  HB3 GLU A  17       4.574  -1.173  -3.162  1.00  0.00      A    H  \nATOM    298  HG2 GLU A  17       6.463  -0.489  -1.648  1.00  0.00      A    H  \nATOM    299  HG3 GLU A  17       5.392  -0.678  -0.261  1.00  0.00      A    H  \nATOM    300  N   LEU A  18       3.468   0.968  -4.727  1.00  0.00      A    N  \nATOM    301  CA  LEU A  18       2.607   1.173  -5.911  1.00  0.00      A    C  \nATOM    302  C   LEU A  18       1.900   2.553  -6.026  1.00  0.00      A    C  \nATOM    303  O   LEU A  18       0.973   2.705  -6.826  1.00  0.00      A    O  \nATOM    304  CB  LEU A  18       1.610  -0.014  -6.084  1.00  0.00      A    C  \nATOM    305  CG  LEU A  18       2.232  -1.416  -6.170  1.00  0.00      A    C  \nATOM    306  CD1 LEU A  18       1.121  -2.432  -6.377  1.00  0.00      A    C  \nATOM    307  CD2 LEU A  18       3.207  -1.543  -7.346  1.00  0.00      A    C  \nATOM    308  H   LEU A  18       4.428   0.706  -4.901  1.00  0.00      A    H  \nATOM    309  HA  LEU A  18       3.272   1.145  -6.775  1.00  0.00      A    H  \nATOM    310  HB2 LEU A  18       0.912   0.010  -5.248  1.00  0.00      A    H  \nATOM    311  HB3 LEU A  18       1.031   0.154  -6.992  1.00  0.00      A    H  \nATOM    312  HG  LEU A  18       2.791  -1.632  -5.260  1.00  0.00      A    H  \nATOM    313 HD11 LEU A  18       0.633  -2.264  -7.338  1.00  0.00      A    H  \nATOM    314 HD12 LEU A  18       0.403  -2.333  -5.563  1.00  0.00      A    H  \nATOM    315 HD13 LEU A  18       1.527  -3.443  -6.361  1.00  0.00      A    H  \nATOM    316 HD21 LEU A  18       2.708  -1.281  -8.279  1.00  0.00      A    H  \nATOM    317 HD22 LEU A  18       3.563  -2.572  -7.402  1.00  0.00      A    H  \nATOM    318 HD23 LEU A  18       4.049  -0.869  -7.183  1.00  0.00      A    H  \nATOM    319  N   ARG A  19       2.336   3.571  -5.278  1.00  0.00      A    N  \nATOM    320  CA  ARG A  19       1.676   4.896  -5.198  1.00  0.00      A    C  \nATOM    321  C   ARG A  19       1.412   5.566  -6.554  1.00  0.00      A    C  \nATOM    322  O   ARG A  19       0.353   6.130  -6.743  1.00  0.00      A    O  \nATOM    323  CB  ARG A  19       2.503   5.836  -4.287  1.00  0.00      A    C  \nATOM    324  CG  ARG A  19       2.395   5.440  -2.801  1.00  0.00      A    C  \nATOM    325  CD  ARG A  19       3.285   6.293  -1.903  1.00  0.00      A    C  \nATOM    326  NE  ARG A  19       2.876   7.714  -1.879  1.00  0.00      A    N  \nATOM    327  CZ  ARG A  19       3.487   8.749  -2.441  1.00  0.00      A    C  \nATOM    328  NH1 ARG A  19       4.603   8.634  -3.095  1.00  0.00      A    N  \nATOM    329  NH2 ARG A  19       2.969   9.929  -2.341  1.00  0.00      A    N  \nATOM    330  H   ARG A  19       3.109   3.362  -4.663  1.00  0.00      A    H  \nATOM    331  HA  ARG A  19       0.692   4.766  -4.748  1.00  0.00      A    H  \nATOM    332  HB2 ARG A  19       3.552   5.819  -4.581  1.00  0.00      A    H  \nATOM    333  HB3 ARG A  19       2.142   6.858  -4.397  1.00  0.00      A    H  \nATOM    334  HG2 ARG A  19       1.367   5.533  -2.451  1.00  0.00      A    H  \nATOM    335  HG3 ARG A  19       2.695   4.401  -2.667  1.00  0.00      A    H  \nATOM    336  HD2 ARG A  19       3.220   5.894  -0.891  1.00  0.00      A    H  \nATOM    337  HD3 ARG A  19       4.335   6.200  -2.184  1.00  0.00      A    H  \nATOM    338  HE  ARG A  19       2.031   7.923  -1.366  1.00  0.00      A    H  \nATOM    339 HH11 ARG A  19       5.061   7.738  -3.175  1.00  0.00      A    H  \nATOM    340 HH12 ARG A  19       5.017   9.455  -3.512  1.00  0.00      A    H  \nATOM    341 HH21 ARG A  19       2.093  10.069  -1.858  1.00  0.00      A    H  \nATOM    342 HH22 ARG A  19       3.393  10.726  -2.793  1.00  0.00      A    H  \nATOM    343  N   ASP A  20       2.334   5.439  -7.508  1.00  0.00      A    N  \nATOM    344  CA  ASP A  20       2.157   5.982  -8.865  1.00  0.00      A    C  \nATOM    345  C   ASP A  20       0.954   5.367  -9.598  1.00  0.00      A    C  \nATOM    346  O   ASP A  20       0.211   6.064 -10.282  1.00  0.00      A    O  \nATOM    347  CB  ASP A  20       3.426   5.825  -9.696  1.00  0.00      A    C  \nATOM    348  CG  ASP A  20       4.662   6.566  -9.168  1.00  0.00      A    C  \nATOM    349  OD1 ASP A  20       4.543   7.450  -8.293  1.00  0.00      A    O  \nATOM    350  OD2 ASP A  20       5.785   6.262  -9.630  1.00  0.00      A    O  \nATOM    351  H   ASP A  20       3.200   4.971  -7.283  1.00  0.00      A    H  \nATOM    352  HA  ASP A  20       1.958   7.051  -8.780  1.00  0.00      A    H  \nATOM    353  HB2 ASP A  20       3.684   4.767  -9.722  1.00  0.00      A    H  \nATOM    354  HB3 ASP A  20       3.257   6.172 -10.715  1.00  0.00      A    H  \nATOM    355  N   PHE A  21       0.718   4.053  -9.424  1.00  0.00      A    N  \nATOM    356  CA  PHE A  21      -0.418   3.339 -10.016  1.00  0.00      A    C  \nATOM    357  C   PHE A  21      -1.729   3.635  -9.254  1.00  0.00      A    C  \nATOM    358  O   PHE A  21      -2.789   3.792  -9.878  1.00  0.00      A    O  \nATOM    359  CB  PHE A  21      -0.147   1.834 -10.053  1.00  0.00      A    C  \nATOM    360  CG  PHE A  21       1.156   1.468 -10.731  1.00  0.00      A    C  \nATOM    361  CD1 PHE A  21       1.248   1.440 -12.152  1.00  0.00      A    C  \nATOM    362  CD2 PHE A  21       2.300   1.143  -9.962  1.00  0.00      A    C  \nATOM    363  CE1 PHE A  21       2.456   1.094 -12.777  1.00  0.00      A    C  \nATOM    364  CE2 PHE A  21       3.504   0.814 -10.602  1.00  0.00      A    C  \nATOM    365  CZ  PHE A  21       3.590   0.788 -11.996  1.00  0.00      A    C  \nATOM    366  H   PHE A  21       1.330   3.567  -8.783  1.00  0.00      A    H  \nATOM    367  HA  PHE A  21      -0.538   3.701 -11.037  1.00  0.00      A    H  \nATOM    368  HB2 PHE A  21      -0.112   1.472  -9.025  1.00  0.00      A    H  \nATOM    369  HB3 PHE A  21      -0.964   1.324 -10.562  1.00  0.00      A    H  \nATOM    370  HD1 PHE A  21       0.378   1.706 -12.735  1.00  0.00      A    H  \nATOM    371  HD2 PHE A  21       2.242   1.199  -8.885  1.00  0.00      A    H  \nATOM    372  HE1 PHE A  21       2.503   1.045 -13.854  1.00  0.00      A    H  \nATOM    373  HE2 PHE A  21       4.382   0.599 -10.011  1.00  0.00      A    H  \nATOM    374  HZ  PHE A  21       4.510   0.505 -12.486  1.00  0.00      A    H  \nATOM    375  N   ILE A  22      -1.646   3.818  -7.942  1.00  0.00      A    N  \nATOM    376  CA  ILE A  22      -2.790   4.160  -7.061  1.00  0.00      A    C  \nATOM    377  C   ILE A  22      -3.280   5.591  -7.356  1.00  0.00      A    C  \nATOM    378  O   ILE A  22      -4.491   5.824  -7.410  1.00  0.00      A    O  \nATOM    379  CB  ILE A  22      -2.379   3.972  -5.575  1.00  0.00      A    C  \nATOM    380  CG1 ILE A  22      -2.071   2.475  -5.296  1.00  0.00      A    C  \nATOM    381  CG2 ILE A  22      -3.448   4.476  -4.608  1.00  0.00      A    C  \nATOM    382  CD1 ILE A  22      -1.275   2.261  -4.005  1.00  0.00      A    C  \nATOM    383  H   ILE A  22      -0.742   3.652  -7.522  1.00  0.00      A    H  \nATOM    384  HA  ILE A  22      -3.632   3.493  -7.253  1.00  0.00      A    H  \nATOM    385  HB  ILE A  22      -1.466   4.547  -5.416  1.00  0.00      A    H  \nATOM    386 HG12 ILE A  22      -3.013   1.932  -5.221  1.00  0.00      A    H  \nATOM    387 HG13 ILE A  22      -1.469   2.014  -6.079  1.00  0.00      A    H  \nATOM    388 HG21 ILE A  22      -3.120   4.318  -3.581  1.00  0.00      A    H  \nATOM    389 HG22 ILE A  22      -4.401   3.977  -4.784  1.00  0.00      A    H  \nATOM    390 HG23 ILE A  22      -3.602   5.548  -4.730  1.00  0.00      A    H  \nATOM    391 HD11 ILE A  22      -1.939   2.435  -3.158  1.00  0.00      A    H  \nATOM    392 HD12 ILE A  22      -0.395   2.902  -3.954  1.00  0.00      A    H  \nATOM    393 HD13 ILE A  22      -0.950   1.221  -3.967  1.00  0.00      A    H  \nATOM    394  N   GLU A  23      -2.364   6.520  -7.637  1.00  0.00      A    N  \nATOM    395  CA  GLU A  23      -2.661   7.884  -8.122  1.00  0.00      A    C  \nATOM    396  C   GLU A  23      -2.896   7.970  -9.648  1.00  0.00      A    C  \nATOM    397  O   GLU A  23      -3.118   9.051 -10.180  1.00  0.00      A    O  \nATOM    398  CB  GLU A  23      -1.531   8.843  -7.670  1.00  0.00      A    C  \nATOM    399  CG  GLU A  23      -1.382   8.993  -6.145  1.00  0.00      A    C  \nATOM    400  CD  GLU A  23      -2.648   9.545  -5.447  1.00  0.00      A    C  \nATOM    401  OE1 GLU A  23      -2.818   9.282  -4.235  1.00  0.00      A    O  \nATOM    402  OE2 GLU A  23      -3.459  10.283  -6.057  1.00  0.00      A    O  \nATOM    403  H   GLU A  23      -1.391   6.281  -7.513  1.00  0.00      A    H  \nATOM    404  HA  GLU A  23      -3.601   8.187  -7.661  1.00  0.00      A    H  \nATOM    405  HB2 GLU A  23      -0.601   8.451  -8.082  1.00  0.00      A    H  \nATOM    406  HB3 GLU A  23      -1.724   9.831  -8.088  1.00  0.00      A    H  \nATOM    407  HG2 GLU A  23      -1.108   8.030  -5.715  1.00  0.00      A    H  \nATOM    408  HG3 GLU A  23      -0.555   9.682  -5.972  1.00  0.00      A    H  \nATOM    409  N   LYS A  24      -2.857   6.813 -10.348  1.00  0.00      A    N  \nATOM    410  CA  LYS A  24      -3.087   6.678 -11.804  1.00  0.00      A    C  \nATOM    411  C   LYS A  24      -2.179   7.596 -12.676  1.00  0.00      A    C  \nATOM    412  O   LYS A  24      -2.611   8.150 -13.684  1.00  0.00      A    O  \nATOM    413  CB  LYS A  24      -4.600   6.791 -12.100  1.00  0.00      A    C  \nATOM    414  CG  LYS A  24      -5.024   6.086 -13.396  1.00  0.00      A    C  \nATOM    415  CD  LYS A  24      -6.543   6.220 -13.614  1.00  0.00      A    C  \nATOM    416  CE  LYS A  24      -7.015   5.546 -14.910  1.00  0.00      A    C  \nATOM    417  NZ  LYS A  24      -6.913   4.058 -14.862  1.00  0.00      A    N  \nATOM    418  H   LYS A  24      -2.707   5.966  -9.820  1.00  0.00      A    H  \nATOM    419  HA  LYS A  24      -2.755   5.675 -12.071  1.00  0.00      A    H  \nATOM    420  HB2 LYS A  24      -5.163   6.346 -11.279  1.00  0.00      A    H  \nATOM    421  HB3 LYS A  24      -4.901   7.839 -12.100  1.00  0.00      A    H  \nATOM    422  HG2 LYS A  24      -4.526   6.541 -14.253  1.00  0.00      A    H  \nATOM    423  HG3 LYS A  24      -4.745   5.034 -13.325  1.00  0.00      A    H  \nATOM    424  HD2 LYS A  24      -7.080   5.788 -12.770  1.00  0.00      A    H  \nATOM    425  HD3 LYS A  24      -6.793   7.280 -13.649  1.00  0.00      A    H  \nATOM    426  HE2 LYS A  24      -8.055   5.820 -15.089  1.00  0.00      A    H  \nATOM    427  HE3 LYS A  24      -6.424   5.945 -15.735  1.00  0.00      A    H  \nATOM    428  HZ1 LYS A  24      -7.449   3.718 -14.077  1.00  0.00      A    H  \nATOM    429  HZ2 LYS A  24      -5.957   3.763 -14.725  1.00  0.00      A    H  \nATOM    430  HZ3 LYS A  24      -7.258   3.618 -15.703  1.00  0.00      A    H  \nATOM    431  N   PHE A  25      -0.930   7.759 -12.258  1.00  0.00      A    N  \nATOM    432  CA  PHE A  25       0.080   8.548 -12.955  1.00  0.00      A    C  \nATOM    433  C   PHE A  25       0.711   7.773 -14.143  1.00  0.00      A    C  \nATOM    434  O   PHE A  25       0.983   6.575 -14.028  1.00  0.00      A    O  \nATOM    435  CB  PHE A  25       1.160   8.978 -11.958  1.00  0.00      A    C  \nATOM    436  CG  PHE A  25       2.274   9.822 -12.534  1.00  0.00      A    C  \nATOM    437  CD1 PHE A  25       3.531   9.238 -12.786  1.00  0.00      A    C  \nATOM    438  CD2 PHE A  25       2.067  11.180 -12.818  1.00  0.00      A    C  \nATOM    439  CE1 PHE A  25       4.574  10.007 -13.329  1.00  0.00      A    C  \nATOM    440  CE2 PHE A  25       3.126  11.964 -13.350  1.00  0.00      A    C  \nATOM    441  CZ  PHE A  25       4.375  11.365 -13.591  1.00  0.00      A    C  \nATOM    442  H   PHE A  25      -0.638   7.242 -11.441  1.00  0.00      A    H  \nATOM    443  HA  PHE A  25      -0.361   9.462 -13.354  1.00  0.00      A    H  \nATOM    444  HB2 PHE A  25       0.701   9.558 -11.158  1.00  0.00      A    H  \nATOM    445  HB3 PHE A  25       1.577   8.107 -11.453  1.00  0.00      A    H  \nATOM    446  HD1 PHE A  25       3.699   8.190 -12.583  1.00  0.00      A    H  \nATOM    447  HD2 PHE A  25       1.105  11.634 -12.631  1.00  0.00      A    H  \nATOM    448  HE1 PHE A  25       5.534   9.552 -13.521  1.00  0.00      A    H  \nATOM    449  HE2 PHE A  25       2.978  13.012 -13.564  1.00  0.00      A    H  \nATOM    450  HZ  PHE A  25       5.184  11.951 -13.999  1.00  0.00      A    H  \nATOM    451  N   LYS A  26       0.939   8.464 -15.273  1.00  0.00      A    N  \nATOM    452  CA  LYS A  26       1.458   7.873 -16.534  1.00  0.00      A    C  \nATOM    453  C   LYS A  26       2.607   8.644 -17.175  1.00  0.00      A    C  \nATOM    454  O   LYS A  26       2.981   8.365 -18.318  1.00  0.00      A    O  \nATOM    455  CB  LYS A  26       0.290   7.675 -17.525  1.00  0.00      A    C  \nATOM    456  CG  LYS A  26      -0.786   6.707 -17.005  1.00  0.00      A    C  \nATOM    457  CD  LYS A  26      -1.828   6.324 -18.072  1.00  0.00      A    C  \nATOM    458  CE  LYS A  26      -2.645   7.555 -18.544  1.00  0.00      A    C  \nATOM    459  NZ  LYS A  26      -3.641   7.161 -19.584  1.00  0.00      A    N  \nATOM    460  H   LYS A  26       0.660   9.434 -15.313  1.00  0.00      A    H  \nATOM    461  HA  LYS A  26       1.893   6.899 -16.305  1.00  0.00      A    H  \nATOM    462  HB2 LYS A  26      -0.152   8.645 -17.751  1.00  0.00      A    H  \nATOM    463  HB3 LYS A  26       0.679   7.253 -18.452  1.00  0.00      A    H  \nATOM    464  HG2 LYS A  26      -0.297   5.786 -16.688  1.00  0.00      A    H  \nATOM    465  HG3 LYS A  26      -1.290   7.167 -16.156  1.00  0.00      A    H  \nATOM    466  HD2 LYS A  26      -1.320   5.880 -18.928  1.00  0.00      A    H  \nATOM    467  HD3 LYS A  26      -2.520   5.588 -17.664  1.00  0.00      A    H  \nATOM    468  HE2 LYS A  26      -3.186   7.986 -17.702  1.00  0.00      A    H  \nATOM    469  HE3 LYS A  26      -1.968   8.297 -18.967  1.00  0.00      A    H  \nATOM    470  HZ1 LYS A  26      -3.196   6.793 -20.413  1.00  0.00      A    H  \nATOM    471  HZ2 LYS A  26      -4.185   7.964 -19.866  1.00  0.00      A    H  \nATOM    472  HZ3 LYS A  26      -4.308   6.490 -19.230  1.00  0.00      A    H  \nATOM    473  N   GLY A  27       3.201   9.650 -16.483  1.00  0.00      A    N  \nATOM    474  CA  GLY A  27       4.235  10.512 -17.042  1.00  0.00      A    C  \nATOM    475  C   GLY A  27       3.733  11.417 -18.168  1.00  0.00      A    C  \nATOM    476  O   GLY A  27       2.574  11.843 -18.173  1.00  0.00      A    O  \nATOM    477  H   GLY A  27       2.854   9.828 -15.551  1.00  0.00      A    H  \nATOM    478  HA2 GLY A  27       4.658  11.128 -16.249  1.00  0.00      A    H  \nATOM    479  HA3 GLY A  27       5.036   9.875 -17.417  1.00  0.00      A    H  \nATOM    480  N   ARG A  28       4.618  11.724 -19.130  1.00  0.00      A    N  \nATOM    481  CA  ARG A  28       4.347  12.555 -20.325  1.00  0.00      A    C  \nATOM    482  C   ARG A  28       5.067  12.032 -21.577  1.00  0.00      A    C  \nATOM    483  O   ARG A  28       6.140  11.422 -21.431  1.00  0.00      A    O  \nATOM    484  CB  ARG A  28       4.682  14.029 -20.047  1.00  0.00      A    C  \nATOM    485  CG  ARG A  28       6.159  14.313 -19.741  1.00  0.00      A    C  \nATOM    486  CD  ARG A  28       6.428  15.791 -19.461  1.00  0.00      A    C  \nATOM    487  NE  ARG A  28       5.770  16.283 -18.236  1.00  0.00      A    N  \nATOM    488  CZ  ARG A  28       6.195  16.165 -17.003  1.00  0.00      A    C  \nATOM    489  NH1 ARG A  28       7.324  15.595 -16.697  1.00  0.00      A    N  \nATOM    490  NH2 ARG A  28       5.496  16.641 -16.016  1.00  0.00      A    N  \nATOM    491  OXT ARG A  28       4.520  12.189 -22.680  1.00  0.00      A    O  \nATOM    492  H   ARG A  28       5.546  11.328 -19.084  1.00  0.00      A    H  \nATOM    493  HA  ARG A  28       3.278  12.504 -20.533  1.00  0.00      A    H  \nATOM    494  HB2 ARG A  28       4.392  14.615 -20.919  1.00  0.00      A    H  \nATOM    495  HB3 ARG A  28       4.069  14.359 -19.208  1.00  0.00      A    H  \nATOM    496  HG2 ARG A  28       6.496  13.740 -18.877  1.00  0.00      A    H  \nATOM    497  HG3 ARG A  28       6.775  14.004 -20.585  1.00  0.00      A    H  \nATOM    498  HD2 ARG A  28       7.498  15.982 -19.391  1.00  0.00      A    H  \nATOM    499  HD3 ARG A  28       6.092  16.382 -20.314  1.00  0.00      A    H  \nATOM    500  HE  ARG A  28       4.879  16.738 -18.373  1.00  0.00      A    H  \nATOM    501 HH11 ARG A  28       7.913  15.235 -17.434  1.00  0.00      A    H  \nATOM    502 HH12 ARG A  28       7.642  15.531 -15.741  1.00  0.00      A    H  \nATOM    503 HH21 ARG A  28       4.614  17.099 -16.194  1.00  0.00      A    H  \nATOM    504 HH22 ARG A  28       5.859  16.543 -15.079  1.00  0.00      A    H  \nTER     505      ARG A  28\nENDMDL\nEND\n",
           "type": "blob"
          }
         ],
         "kwargs": {
          "defaultRepresentation": true,
          "ext": "pdb",
          "height": "400px",
          "name": "nglview.adaptor.MDTrajTrajectory",
          "width": "400px"
         },
         "methodName": "loadFile",
         "reconstruc_color_scheme": false,
         "target": "Stage",
         "type": "call_method"
        },
        {
         "args": [
          "ball+stick"
         ],
         "component_index": 0,
         "kwargs": {
          "aspectRatio": 2,
          "radius": 0.1,
          "sele": "protein"
         },
         "methodName": "addRepresentation",
         "reconstruc_color_scheme": false,
         "target": "compList",
         "type": "call_method"
        }
       ],
       "_ngl_original_stage_parameters": {
        "ambientColor": 14540253,
        "ambientIntensity": 0.2,
        "backgroundColor": "white",
        "cameraEyeSep": 0.3,
        "cameraFov": 40,
        "cameraType": "perspective",
        "clipDist": 10,
        "clipFar": 100,
        "clipMode": "scene",
        "clipNear": 0,
        "clipScale": "relative",
        "fogFar": 100,
        "fogNear": 50,
        "hoverTimeout": 0,
        "impostor": true,
        "lightColor": 14540253,
        "lightIntensity": 1,
        "mousePreset": "default",
        "panSpeed": 1,
        "quality": "medium",
        "rotateSpeed": 2,
        "sampleLevel": 0,
        "tooltip": true,
        "workerDefault": true,
        "zoomSpeed": 1.2
       },
       "_ngl_repr_dict": {
        "0": {
         "0": {
          "params": {
           "aspectRatio": 5,
           "assembly": "default",
           "capped": true,
           "clipCenter": {
            "x": 0,
            "y": 0,
            "z": 0
           },
           "clipNear": 0,
           "clipRadius": 0,
           "colorMode": "hcl",
           "colorReverse": true,
           "colorScale": "Spectral",
           "colorScheme": "residueindex",
           "colorValue": 9474192,
           "defaultAssembly": "",
           "depthWrite": true,
           "diffuse": 16777215,
           "diffuseInterior": false,
           "disablePicking": false,
           "flatShaded": false,
           "interiorColor": 2236962,
           "interiorDarkening": 0,
           "lazy": false,
           "matrix": {
            "elements": [
             1,
             0,
             0,
             0,
             0,
             1,
             0,
             0,
             0,
             0,
             1,
             0,
             0,
             0,
             0,
             1
            ]
           },
           "metalness": 0,
           "opacity": 1,
           "quality": "high",
           "radialSegments": 20,
           "radiusData": {},
           "radiusScale": 0.7,
           "radiusSize": 1,
           "radiusType": "sstruc",
           "roughness": 0.4,
           "sele": "",
           "side": "double",
           "smoothSheet": false,
           "subdiv": 6,
           "tension": null,
           "useInteriorColor": true,
           "visible": true,
           "wireframe": false
          },
          "type": "cartoon"
         },
         "1": {
          "params": {
           "aspectRatio": 1,
           "assembly": "default",
           "bondScale": 0.4,
           "clipCenter": {
            "x": 0,
            "y": 0,
            "z": 0
           },
           "clipNear": 0,
           "clipRadius": 0,
           "colorMode": "hcl",
           "colorReverse": true,
           "colorScale": "Spectral",
           "colorScheme": "residueindex",
           "colorValue": 9474192,
           "cylinderOnly": false,
           "defaultAssembly": "",
           "depthWrite": true,
           "diffuse": 16777215,
           "diffuseInterior": false,
           "disableImpostor": false,
           "disablePicking": false,
           "flatShaded": false,
           "interiorColor": 2236962,
           "interiorDarkening": 0,
           "lazy": false,
           "lineOnly": false,
           "linewidth": 2,
           "matrix": {
            "elements": [
             1,
             0,
             0,
             0,
             0,
             1,
             0,
             0,
             0,
             0,
             1,
             0,
             0,
             0,
             0,
             1
            ]
           },
           "metalness": 0,
           "opacity": 1,
           "openEnded": true,
           "quality": "high",
           "radialSegments": 20,
           "radiusData": {},
           "radiusScale": 1,
           "radiusSize": 0.3,
           "radiusType": "size",
           "roughness": 0.4,
           "sele": "",
           "side": "double",
           "sphereDetail": 2,
           "useInteriorColor": true,
           "visible": true,
           "wireframe": false
          },
          "type": "base"
         },
         "2": {
          "params": {
           "aspectRatio": 1.5,
           "assembly": "default",
           "bondScale": 0.3,
           "bondSpacing": 0.75,
           "clipCenter": {
            "x": 0,
            "y": 0,
            "z": 0
           },
           "clipNear": 0,
           "clipRadius": 0,
           "colorMode": "hcl",
           "colorReverse": false,
           "colorScale": "",
           "colorScheme": "element",
           "colorValue": 9474192,
           "cylinderOnly": false,
           "defaultAssembly": "",
           "depthWrite": true,
           "diffuse": 16777215,
           "diffuseInterior": false,
           "disableImpostor": false,
           "disablePicking": false,
           "flatShaded": false,
           "interiorColor": 2236962,
           "interiorDarkening": 0,
           "lazy": false,
           "lineOnly": false,
           "linewidth": 2,
           "matrix": {
            "elements": [
             1,
             0,
             0,
             0,
             0,
             1,
             0,
             0,
             0,
             0,
             1,
             0,
             0,
             0,
             0,
             1
            ]
           },
           "metalness": 0,
           "multipleBond": "off",
           "opacity": 1,
           "openEnded": true,
           "quality": "high",
           "radialSegments": 20,
           "radiusData": {},
           "radiusScale": 2,
           "radiusSize": 0.15,
           "radiusType": "size",
           "roughness": 0.4,
           "sele": "ligand",
           "side": "double",
           "sphereDetail": 2,
           "useInteriorColor": true,
           "visible": true,
           "wireframe": false
          },
          "type": "ball+stick"
         },
         "3": {
          "params": {
           "aspectRatio": 2,
           "assembly": "default",
           "bondScale": 0.4,
           "bondSpacing": 1,
           "clipCenter": {
            "x": 0,
            "y": 0,
            "z": 0
           },
           "clipNear": 0,
           "clipRadius": 0,
           "colorMode": "hcl",
           "colorReverse": false,
           "colorScale": "",
           "colorScheme": "element",
           "colorValue": 9474192,
           "cylinderOnly": false,
           "defaultAssembly": "",
           "depthWrite": true,
           "diffuse": 16777215,
           "diffuseInterior": false,
           "disableImpostor": false,
           "disablePicking": false,
           "flatShaded": false,
           "interiorColor": 2236962,
           "interiorDarkening": 0,
           "lazy": false,
           "lineOnly": false,
           "linewidth": 2,
           "matrix": {
            "elements": [
             1,
             0,
             0,
             0,
             0,
             1,
             0,
             0,
             0,
             0,
             1,
             0,
             0,
             0,
             0,
             1
            ]
           },
           "metalness": 0,
           "multipleBond": "off",
           "opacity": 1,
           "openEnded": true,
           "quality": "medium",
           "radialSegments": 10,
           "radiusData": {},
           "radiusScale": 1,
           "radiusSize": 0.1,
           "radiusType": "size",
           "roughness": 0.4,
           "sele": "protein",
           "side": "double",
           "sphereDetail": 1,
           "useInteriorColor": true,
           "visible": true,
           "wireframe": false
          },
          "type": "ball+stick"
         }
        }
       },
       "_ngl_serialize": false,
       "_ngl_version": "2.2.2",
       "_ngl_view_id": [
        "A3A3A75F-BAAE-45C1-864E-E428F13A296A"
       ],
       "_player_dict": {},
       "_scene_position": {},
       "_scene_rotation": {},
       "_synced_model_ids": [],
       "_synced_repr_model_ids": [],
       "_view_height": "400px",
       "_view_width": "400px",
       "background": "white",
       "frame": 0,
       "gui_style": null,
       "layout": "IPY_MODEL_580a36cfc3484e28b32ad89466376b2a",
       "max_frame": 4831,
       "n_components": 1,
       "picked": {}
      }
     },
     "e398af52528a41308ae57dcc75867a78": {
      "model_module": "@jupyter-widgets/controls",
      "model_module_version": "2.0.0",
      "model_name": "LinkModel",
      "state": {
       "source": [
        "IPY_MODEL_a8c43961c0a743659eda4d75006744a6",
        "value"
       ],
       "target": [
        "IPY_MODEL_f75bf560103a4c99a5deedb72b6e7f88",
        "value"
       ]
      }
     },
     "f75bf560103a4c99a5deedb72b6e7f88": {
      "model_module": "@jupyter-widgets/controls",
      "model_module_version": "2.0.0",
      "model_name": "IntSliderModel",
      "state": {
       "behavior": "drag-tap",
       "layout": "IPY_MODEL_067d05195afe434c84cd301adb29dc3c",
       "max": 4831,
       "style": "IPY_MODEL_ff7a5826295943f9a38bc1bd93602a4d"
      }
     },
     "ff7a5826295943f9a38bc1bd93602a4d": {
      "model_module": "@jupyter-widgets/controls",
      "model_module_version": "2.0.0",
      "model_name": "SliderStyleModel",
      "state": {
       "description_width": ""
      }
     }
    },
    "version_major": 2,
    "version_minor": 0
   }
  }
 },
 "nbformat": 4,
 "nbformat_minor": 4
}
