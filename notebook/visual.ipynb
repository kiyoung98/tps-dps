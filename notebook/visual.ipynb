{
 "cells": [
  {
   "cell_type": "markdown",
   "metadata": {},
   "source": [
    "# Setup"
   ]
  },
  {
   "cell_type": "code",
   "execution_count": 1,
   "metadata": {},
   "outputs": [
    {
     "data": {
      "application/vnd.jupyter.widget-view+json": {
       "model_id": "367cda010d6f4eb0be9c50a7be664ae4",
       "version_major": 2,
       "version_minor": 0
      },
      "text/plain": []
     },
     "metadata": {},
     "output_type": "display_data"
    }
   ],
   "source": [
    "# NOTE: This job does not work well in vscode\n",
    "# PLEASE execute the ipynb file on the browser by ''jupyter notebook'', rather than in vscode.\n",
    "\n",
    "import os\n",
    "import time\n",
    "import torch\n",
    "import imageio\n",
    "import matplotlib\n",
    "\n",
    "import numpy as np\n",
    "import mdtraj as md\n",
    "import nglview as nv"
   ]
  },
  {
   "cell_type": "markdown",
   "metadata": {},
   "source": [
    "# 3d views"
   ]
  },
  {
   "cell_type": "code",
   "execution_count": 2,
   "metadata": {},
   "outputs": [],
   "source": [
    "# Molecule configs\n",
    "\n",
    "# start_file = f\"../page/data/bba/unfolded.pdb\"\n",
    "# md_file = f\"../page/data/bba/bba.gro\"\n",
    "start_file = f\"../page/data/trpcage/unfolded.pdb\"\n",
    "md_file = f\"../page/data/trpcage/trpcage.gro\"\n",
    "# start_file = f\"../page/data/chignolin-unfolded.pdb\"\n",
    "# md_file = f\"../page/data/chignolin-path.gro\"\n",
    "\n",
    "# Image config\n",
    "IMAGE_SIZE = \"400px\""
   ]
  },
  {
   "cell_type": "code",
   "execution_count": 3,
   "metadata": {},
   "outputs": [
    {
     "name": "stderr",
     "output_type": "stream",
     "text": [
      "/home/shpark/.conda/envs/cmd/lib/python3.9/site-packages/mdtraj/formats/pdb/pdbfile.py:196: UserWarning: Unlikely unit cell vectors detected in PDB file likely resulting from a dummy CRYST1 record. Discarding unit cell vectors.\n",
      "  warnings.warn('Unlikely unit cell vectors detected in PDB file likely '\n",
      "/home/shpark/.conda/envs/cmd/lib/python3.9/site-packages/mdtraj/core/trajectory.py:422: UserWarning: top= kwarg ignored since file contains topology information\n",
      "  warnings.warn('top= kwarg ignored since file contains topology information')\n",
      "/home/shpark/.conda/envs/cmd/lib/python3.9/site-packages/mdtraj/formats/gro.py:307: UserWarning: WARNING: two consecutive residues with same number (ALA, ASP)\n",
      "  warnings.warn(\"WARNING: two consecutive residues with same number (%s, %s)\" % (thisresname, residue.name))\n",
      "/home/shpark/.conda/envs/cmd/lib/python3.9/site-packages/mdtraj/formats/gro.py:307: UserWarning: WARNING: two consecutive residues with same number (TYR, ALA)\n",
      "  warnings.warn(\"WARNING: two consecutive residues with same number (%s, %s)\" % (thisresname, residue.name))\n",
      "/home/shpark/.conda/envs/cmd/lib/python3.9/site-packages/mdtraj/formats/gro.py:307: UserWarning: WARNING: two consecutive residues with same number (ALA, TYR)\n",
      "  warnings.warn(\"WARNING: two consecutive residues with same number (%s, %s)\" % (thisresname, residue.name))\n",
      "/home/shpark/.conda/envs/cmd/lib/python3.9/site-packages/mdtraj/formats/gro.py:307: UserWarning: WARNING: two consecutive residues with same number (GLN, ALA)\n",
      "  warnings.warn(\"WARNING: two consecutive residues with same number (%s, %s)\" % (thisresname, residue.name))\n",
      "/home/shpark/.conda/envs/cmd/lib/python3.9/site-packages/mdtraj/formats/gro.py:307: UserWarning: WARNING: two consecutive residues with same number (TRP, GLN)\n",
      "  warnings.warn(\"WARNING: two consecutive residues with same number (%s, %s)\" % (thisresname, residue.name))\n",
      "/home/shpark/.conda/envs/cmd/lib/python3.9/site-packages/mdtraj/formats/gro.py:307: UserWarning: WARNING: two consecutive residues with same number (LEU, TRP)\n",
      "  warnings.warn(\"WARNING: two consecutive residues with same number (%s, %s)\" % (thisresname, residue.name))\n",
      "/home/shpark/.conda/envs/cmd/lib/python3.9/site-packages/mdtraj/formats/gro.py:307: UserWarning: WARNING: two consecutive residues with same number (LYS, LEU)\n",
      "  warnings.warn(\"WARNING: two consecutive residues with same number (%s, %s)\" % (thisresname, residue.name))\n",
      "/home/shpark/.conda/envs/cmd/lib/python3.9/site-packages/mdtraj/formats/gro.py:307: UserWarning: WARNING: two consecutive residues with same number (ASP, LYS)\n",
      "  warnings.warn(\"WARNING: two consecutive residues with same number (%s, %s)\" % (thisresname, residue.name))\n",
      "/home/shpark/.conda/envs/cmd/lib/python3.9/site-packages/mdtraj/formats/gro.py:307: UserWarning: WARNING: two consecutive residues with same number (GLY, ASP)\n",
      "  warnings.warn(\"WARNING: two consecutive residues with same number (%s, %s)\" % (thisresname, residue.name))\n",
      "/home/shpark/.conda/envs/cmd/lib/python3.9/site-packages/mdtraj/formats/gro.py:307: UserWarning: WARNING: two consecutive residues with same number (PRO, GLY)\n",
      "  warnings.warn(\"WARNING: two consecutive residues with same number (%s, %s)\" % (thisresname, residue.name))\n",
      "/home/shpark/.conda/envs/cmd/lib/python3.9/site-packages/mdtraj/formats/gro.py:307: UserWarning: WARNING: two consecutive residues with same number (SER, PRO)\n",
      "  warnings.warn(\"WARNING: two consecutive residues with same number (%s, %s)\" % (thisresname, residue.name))\n",
      "/home/shpark/.conda/envs/cmd/lib/python3.9/site-packages/mdtraj/formats/gro.py:307: UserWarning: WARNING: two consecutive residues with same number (GLY, SER)\n",
      "  warnings.warn(\"WARNING: two consecutive residues with same number (%s, %s)\" % (thisresname, residue.name))\n",
      "/home/shpark/.conda/envs/cmd/lib/python3.9/site-packages/mdtraj/formats/gro.py:307: UserWarning: WARNING: two consecutive residues with same number (ARG, GLY)\n",
      "  warnings.warn(\"WARNING: two consecutive residues with same number (%s, %s)\" % (thisresname, residue.name))\n",
      "/home/shpark/.conda/envs/cmd/lib/python3.9/site-packages/mdtraj/formats/gro.py:307: UserWarning: WARNING: two consecutive residues with same number (PRO, ARG)\n",
      "  warnings.warn(\"WARNING: two consecutive residues with same number (%s, %s)\" % (thisresname, residue.name))\n"
     ]
    },
    {
     "data": {
      "application/vnd.jupyter.widget-view+json": {
       "model_id": "66fd22e0a59448449ab4758aabfaf8fb",
       "version_major": 2,
       "version_minor": 0
      },
      "text/plain": [
       "NGLWidget(max_frame=5000)"
      ]
     },
     "metadata": {},
     "output_type": "display_data"
    }
   ],
   "source": [
    "traj = md.load(md_file, top=start_file)\n",
    "traj_view = nv.show_mdtraj(traj, width=IMAGE_SIZE, height=IMAGE_SIZE)\n",
    "traj_view.add_ball_and_stick('protein', aspectRatio=2, radius=0.1)\n",
    "# traj_view.add_ribbon('protein')\n",
    "traj_view.center()\n",
    "\n",
    "traj_view"
   ]
  },
  {
   "cell_type": "code",
   "execution_count": 4,
   "metadata": {},
   "outputs": [],
   "source": [
    "# NOTE: Set frame to desired one\n",
    "frame_idx = 200\n",
    "traj_view.frame = frame_idx"
   ]
  },
  {
   "cell_type": "code",
   "execution_count": 5,
   "metadata": {},
   "outputs": [
    {
     "name": "stdout",
     "output_type": "stream",
     "text": [
      "[]\n"
     ]
    }
   ],
   "source": [
    "# Save current view!!\n",
    "print(traj_view._camera_orientation)\n",
    "traj_view.render_image(frame=0, factor=10)\n",
    "im = traj_view.render_image(factor=4)"
   ]
  },
  {
   "cell_type": "code",
   "execution_count": 21,
   "metadata": {},
   "outputs": [
    {
     "name": "stdout",
     "output_type": "stream",
     "text": [
      ">> Saved frame 200 for alanine\n"
     ]
    }
   ],
   "source": [
    "with open(f'{path_to_save}/{molecule}_{frame_idx}.png', 'wb') as fh:\n",
    "    fh.write(im.value)\n",
    "    print(f\">> Saved frame {frame_idx} for {molecule}\")"
   ]
  }
 ],
 "metadata": {
  "kernelspec": {
   "display_name": "Python 3 (ipykernel)",
   "language": "python",
   "name": "python3"
  },
  "language_info": {
   "codemirror_mode": {
    "name": "ipython",
    "version": 3
   },
   "file_extension": ".py",
   "mimetype": "text/x-python",
   "name": "python",
   "nbconvert_exporter": "python",
   "pygments_lexer": "ipython3",
   "version": "3.9.19"
  },
  "widgets": {
   "application/vnd.jupyter.widget-state+json": {
    "state": {
     "02b785c40a5f4bd781f85f2f993e82d5": {
      "model_module": "@jupyter-widgets/controls",
      "model_module_version": "2.0.0",
      "model_name": "ButtonModel",
      "state": {
       "icon": "compress",
       "layout": "IPY_MODEL_21baf04827ea45299c2138361bbedd00",
       "style": "IPY_MODEL_929698d0de924102afd5c77364170a71",
       "tooltip": null
      }
     },
     "063fb1c277974d4489eae1e3c59ac6d8": {
      "model_module": "@jupyter-widgets/base",
      "model_module_version": "2.0.0",
      "model_name": "LayoutModel",
      "state": {}
     },
     "18b16c6b27284354af960448dd2a9209": {
      "model_module": "@jupyter-widgets/controls",
      "model_module_version": "2.0.0",
      "model_name": "ImageModel",
      "state": {
       "layout": "IPY_MODEL_2b2174c808ec4dd7befc453ce93b0021",
       "width": "900.0"
      }
     },
     "21baf04827ea45299c2138361bbedd00": {
      "model_module": "@jupyter-widgets/base",
      "model_module_version": "2.0.0",
      "model_name": "LayoutModel",
      "state": {
       "width": "34px"
      }
     },
     "29e9d10ca79344c5ad881f1c6e787126": {
      "model_module": "@jupyter-widgets/controls",
      "model_module_version": "2.0.0",
      "model_name": "LinkModel",
      "state": {
       "source": [
        "IPY_MODEL_e6455d13f71d4b86b6290cb0b5856135",
        "max"
       ],
       "target": [
        "IPY_MODEL_66fd22e0a59448449ab4758aabfaf8fb",
        "max_frame"
       ]
      }
     },
     "2abda11b2b5646beb67b17919b1378a9": {
      "model_module": "@jupyter-widgets/controls",
      "model_module_version": "2.0.0",
      "model_name": "LinkModel",
      "state": {
       "source": [
        "IPY_MODEL_9108b2b60e2c4ed98d00e14506129316",
        "max"
       ],
       "target": [
        "IPY_MODEL_66fd22e0a59448449ab4758aabfaf8fb",
        "max_frame"
       ]
      }
     },
     "2b2174c808ec4dd7befc453ce93b0021": {
      "model_module": "@jupyter-widgets/base",
      "model_module_version": "2.0.0",
      "model_name": "LayoutModel",
      "state": {}
     },
     "367cda010d6f4eb0be9c50a7be664ae4": {
      "model_module": "nglview-js-widgets",
      "model_module_version": "3.1.0",
      "model_name": "ColormakerRegistryModel",
      "state": {
       "_msg_ar": [],
       "_msg_q": [],
       "_ready": true,
       "layout": "IPY_MODEL_f851479bbcb74eab85374dfd846ffd12"
      }
     },
     "66fd22e0a59448449ab4758aabfaf8fb": {
      "model_module": "nglview-js-widgets",
      "model_module_version": "3.1.0",
      "model_name": "NGLModel",
      "state": {
       "_camera_orientation": [
        58.00091950706682,
        0,
        0,
        0,
        0,
        58.00091950706682,
        0,
        0,
        0,
        0,
        58.00091950706682,
        0,
        -27.760000228881836,
        -1.7400000095367432,
        0.7899999618530273,
        1
       ],
       "_camera_str": "orthographic",
       "_gui_theme": null,
       "_ibtn_fullscreen": "IPY_MODEL_02b785c40a5f4bd781f85f2f993e82d5",
       "_igui": null,
       "_iplayer": "IPY_MODEL_8d81bfb8556d407c8d9420d03f5be86e",
       "_ngl_color_dict": {},
       "_ngl_coordinate_resource": {},
       "_ngl_full_stage_parameters": {
        "ambientColor": 14540253,
        "ambientIntensity": 0.2,
        "backgroundColor": "white",
        "cameraEyeSep": 0.3,
        "cameraFov": 40,
        "cameraType": "perspective",
        "clipDist": 10,
        "clipFar": 100,
        "clipMode": "scene",
        "clipNear": 0,
        "clipScale": "relative",
        "fogFar": 100,
        "fogNear": 50,
        "hoverTimeout": 0,
        "impostor": true,
        "lightColor": 14540253,
        "lightIntensity": 1,
        "mousePreset": "default",
        "panSpeed": 1,
        "quality": "medium",
        "rotateSpeed": 2,
        "sampleLevel": 0,
        "tooltip": true,
        "workerDefault": true,
        "zoomSpeed": 1.2
       },
       "_ngl_msg_archive": [
        {
         "args": [
          {
           "binary": false,
           "data": "MODEL        0\nATOM      0  N   ASP A   1      16.240   3.190 -14.230  1.00  0.00           N  \nATOM      1  CA  ASP A   1      16.910   3.830 -13.080  1.00  0.00           C  \nATOM      2  C   ASP A   1      18.120   3.010 -12.640  1.00  0.00           C  \nATOM      3  O   ASP A   1      18.200   1.800 -12.910  1.00  0.00           O  \nATOM      4  CB  ASP A   1      15.950   4.090 -11.900  1.00  0.00           C  \nATOM      5  CG  ASP A   1      14.700   4.910 -12.240  1.00  0.00           C  \nATOM      6  OD1 ASP A   1      14.470   5.200 -13.440  1.00  0.00           O  \nATOM      7  OD2 ASP A   1      13.930   5.250 -11.320  1.00  0.00           O  \nATOM      8  H   ASP A   1      15.940   2.260 -13.960  1.00  0.00           H  \nATOM      9  H2  ASP A   1      15.420   3.720 -14.500  1.00  0.00           H  \nATOM     10  H3  ASP A   1      16.880   3.120 -15.010  1.00  0.00           H  \nATOM     11  HA  ASP A   1      17.270   4.800 -13.440  1.00  0.00           H  \nATOM     12  HB2 ASP A   1      15.670   3.120 -11.500  1.00  0.00           H  \nATOM     13  HB3 ASP A   1      16.510   4.630 -11.130  1.00  0.00           H  \nATOM     14  N   ALA A   2      19.080   3.630 -11.960  1.00  0.00           N  \nATOM     15  CA  ALA A   2      20.310   3.000 -11.430  1.00  0.00           C  \nATOM     16  C   ALA A   2      20.690   3.570 -10.050  1.00  0.00           C  \nATOM     17  O   ALA A   2      20.380   4.720  -9.730  1.00  0.00           O  \nATOM     18  CB  ALA A   2      21.410   3.190 -12.460  1.00  0.00           C  \nATOM     19  H   ALA A   2      18.960   4.620 -11.750  1.00  0.00           H  \nATOM     20  HA  ALA A   2      20.110   1.940 -11.300  1.00  0.00           H  \nATOM     21  HB1 ALA A   2      21.140   2.760 -13.420  1.00  0.00           H  \nATOM     22  HB2 ALA A   2      21.640   4.250 -12.600  1.00  0.00           H  \nATOM     23  HB3 ALA A   2      22.320   2.690 -12.120  1.00  0.00           H  \nATOM     24  N   TYR A   3      21.370   2.760  -9.250  1.00  0.00           N  \nATOM     25  CA  TYR A   3      21.630   3.000  -7.810  1.00  0.00           C  \nATOM     26  C   TYR A   3      23.100   2.720  -7.430  1.00  0.00           C  \nATOM     27  O   TYR A   3      23.400   2.400  -6.270  1.00  0.00           O  \nATOM     28  CB  TYR A   3      20.630   2.210  -6.970  1.00  0.00           C  \nATOM     29  CG  TYR A   3      19.180   2.400  -7.360  1.00  0.00           C  \nATOM     30  CD1 TYR A   3      18.530   1.450  -8.160  1.00  0.00           C  \nATOM     31  CD2 TYR A   3      18.500   3.570  -6.960  1.00  0.00           C  \nATOM     32  CE1 TYR A   3      17.190   1.660  -8.570  1.00  0.00           C  \nATOM     33  CE2 TYR A   3      17.160   3.790  -7.360  1.00  0.00           C  \nATOM     34  CZ  TYR A   3      16.500   2.830  -8.160  1.00  0.00           C  \nATOM     35  OH  TYR A   3      15.210   3.020  -8.550  1.00  0.00           O  \nATOM     36  H   TYR A   3      21.580   1.820  -9.580  1.00  0.00           H  \nATOM     37  HA  TYR A   3      21.490   4.060  -7.590  1.00  0.00           H  \nATOM     38  HB2 TYR A   3      20.860   1.150  -7.030  1.00  0.00           H  \nATOM     39  HB3 TYR A   3      20.770   2.480  -5.920  1.00  0.00           H  \nATOM     40  HD1 TYR A   3      19.060   0.570  -8.480  1.00  0.00           H  \nATOM     41  HD2 TYR A   3      18.990   4.330  -6.360  1.00  0.00           H  \nATOM     42  HE1 TYR A   3      16.690   0.940  -9.190  1.00  0.00           H  \nATOM     43  HE2 TYR A   3      16.630   4.680  -7.050  1.00  0.00           H  \nATOM     44  HH  TYR A   3      14.850   3.820  -8.190  1.00  0.00           H  \nATOM     45  N   ALA A   4      24.040   2.820  -8.370  1.00  0.00           N  \nATOM     46  CA  ALA A   4      25.450   2.450  -8.250  1.00  0.00           C  \nATOM     47  C   ALA A   4      26.330   3.490  -7.510  1.00  0.00           C  \nATOM     48  O   ALA A   4      27.440   3.820  -7.920  1.00  0.00           O  \nATOM     49  CB  ALA A   4      25.980   2.080  -9.630  1.00  0.00           C  \nATOM     50  H   ALA A   4      23.730   3.110  -9.290  1.00  0.00           H  \nATOM     51  HA  ALA A   4      25.500   1.560  -7.620  1.00  0.00           H  \nATOM     52  HB1 ALA A   4      25.990   2.960 -10.270  1.00  0.00           H  \nATOM     53  HB2 ALA A   4      27.000   1.700  -9.560  1.00  0.00           H  \nATOM     54  HB3 ALA A   4      25.330   1.310 -10.050  1.00  0.00           H  \nATOM     55  N   GLN A   5      25.800   4.070  -6.410  1.00  0.00           N  \nATOM     56  CA  GLN A   5      26.480   5.060  -5.560  1.00  0.00           C  \nATOM     57  C   GLN A   5      26.130   4.830  -4.080  1.00  0.00           C  \nATOM     58  O   GLN A   5      24.970   4.540  -3.750  1.00  0.00           O  \nATOM     59  CB  GLN A   5      26.120   6.470  -6.030  1.00  0.00           C  \nATOM     60  CG  GLN A   5      26.810   7.590  -5.250  1.00  0.00           C  \nATOM     61  CD  GLN A   5      26.590   8.990  -5.830  1.00  0.00           C  \nATOM     62  OE1 GLN A   5      25.820   9.210  -6.750  1.00  0.00           O  \nATOM     63  NE2 GLN A   5      27.260   9.990  -5.300  1.00  0.00           N  \nATOM     64  H   GLN A   5      24.900   3.740  -6.100  1.00  0.00           H  \nATOM     65  HA  GLN A   5      27.560   4.920  -5.670  1.00  0.00           H  \nATOM     66  HB2 GLN A   5      26.400   6.530  -7.080  1.00  0.00           H  \nATOM     67  HB3 GLN A   5      25.040   6.610  -5.960  1.00  0.00           H  \nATOM     68  HG2 GLN A   5      26.460   7.590  -4.220  1.00  0.00           H  \nATOM     69  HG3 GLN A   5      27.890   7.420  -5.230  1.00  0.00           H  \nATOM     70 HE21 GLN A   5      27.920   9.830  -4.550  1.00  0.00           H  \nATOM     71 HE22 GLN A   5      27.070  10.900  -5.680  1.00  0.00           H  \nATOM     72  N   TRP A   6      27.100   4.990  -3.190  1.00  0.00           N  \nATOM     73  CA  TRP A   6      26.960   4.820  -1.730  1.00  0.00           C  \nATOM     74  C   TRP A   6      27.860   5.790  -0.950  1.00  0.00           C  \nATOM     75  O   TRP A   6      28.930   6.160  -1.430  1.00  0.00           O  \nATOM     76  CB  TRP A   6      27.240   3.360  -1.370  1.00  0.00           C  \nATOM     77  CG  TRP A   6      27.200   3.050   0.100  1.00  0.00           C  \nATOM     78  CD1 TRP A   6      28.290   2.800   0.870  1.00  0.00           C  \nATOM     79  CD2 TRP A   6      26.050   3.000   1.000  1.00  0.00           C  \nATOM     80  NE1 TRP A   6      27.910   2.580   2.170  1.00  0.00           N  \nATOM     81  CE2 TRP A   6      26.540   2.700   2.320  1.00  0.00           C  \nATOM     82  CE3 TRP A   6      24.660   3.210   0.860  1.00  0.00           C  \nATOM     83  CZ2 TRP A   6      25.680   2.600   3.420  1.00  0.00           C  \nATOM     84  CZ3 TRP A   6      23.790   3.100   1.960  1.00  0.00           C  \nATOM     85  CH2 TRP A   6      24.290   2.820   3.240  1.00  0.00           C  \nATOM     86  H   TRP A   6      28.030   5.200  -3.540  1.00  0.00           H  \nATOM     87  HA  TRP A   6      25.920   5.030  -1.490  1.00  0.00           H  \nATOM     88  HB2 TRP A   6      26.530   2.730  -1.900  1.00  0.00           H  \nATOM     89  HB3 TRP A   6      28.220   3.080  -1.770  1.00  0.00           H  \nATOM     90  HD1 TRP A   6      29.310   2.760   0.520  1.00  0.00           H  \nATOM     91  HE1 TRP A   6      28.550   2.440   2.940  1.00  0.00           H  \nATOM     92  HE3 TRP A   6      24.270   3.440  -0.120  1.00  0.00           H  \nATOM     93  HZ2 TRP A   6      26.090   2.350   4.390  1.00  0.00           H  \nATOM     94  HZ3 TRP A   6      22.730   3.220   1.800  1.00  0.00           H  \nATOM     95  HH2 TRP A   6      23.640   2.760   4.100  1.00  0.00           H  \nATOM     96  N   LEU A   7      27.420   6.230   0.240  1.00  0.00           N  \nATOM     97  CA  LEU A   7      28.030   7.330   1.000  1.00  0.00           C  \nATOM     98  C   LEU A   7      29.000   6.900   2.110  1.00  0.00           C  \nATOM     99  O   LEU A   7      29.970   7.620   2.350  1.00  0.00           O  \nATOM    100  CB  LEU A   7      26.890   8.200   1.530  1.00  0.00           C  \nATOM    101  CG  LEU A   7      27.300   9.460   2.310  1.00  0.00           C  \nATOM    102  CD1 LEU A   7      28.060  10.450   1.430  1.00  0.00           C  \nATOM    103  CD2 LEU A   7      26.050  10.160   2.850  1.00  0.00           C  \nATOM    104  H   LEU A   7      26.530   5.860   0.540  1.00  0.00           H  \nATOM    105  HA  LEU A   7      28.620   7.910   0.290  1.00  0.00           H  \nATOM    106  HB2 LEU A   7      26.250   8.520   0.700  1.00  0.00           H  \nATOM    107  HB3 LEU A   7      26.270   7.600   2.200  1.00  0.00           H  \nATOM    108  HG  LEU A   7      27.910   9.180   3.170  1.00  0.00           H  \nATOM    109 HD11 LEU A   7      29.020  10.030   1.130  1.00  0.00           H  \nATOM    110 HD12 LEU A   7      27.460  10.690   0.560  1.00  0.00           H  \nATOM    111 HD13 LEU A   7      28.280  11.370   1.970  1.00  0.00           H  \nATOM    112 HD21 LEU A   7      25.500   9.470   3.490  1.00  0.00           H  \nATOM    113 HD22 LEU A   7      26.340  11.040   3.420  1.00  0.00           H  \nATOM    114 HD23 LEU A   7      25.400  10.460   2.030  1.00  0.00           H  \nATOM    115  N   LYS A   8      28.760   5.770   2.800  1.00  0.00           N  \nATOM    116  CA  LYS A   8      29.450   5.420   4.060  1.00  0.00           C  \nATOM    117  C   LYS A   8      30.590   4.420   3.850  1.00  0.00           C  \nATOM    118  O   LYS A   8      30.360   3.300   3.420  1.00  0.00           O  \nATOM    119  CB  LYS A   8      28.430   4.920   5.100  1.00  0.00           C  \nATOM    120  CG  LYS A   8      27.360   5.960   5.460  1.00  0.00           C  \nATOM    121  CD  LYS A   8      26.390   5.430   6.540  1.00  0.00           C  \nATOM    122  CE  LYS A   8      25.280   6.440   6.880  1.00  0.00           C  \nATOM    123  NZ  LYS A   8      25.780   7.630   7.620  1.00  0.00           N  \nATOM    124  H   LYS A   8      28.020   5.160   2.480  1.00  0.00           H  \nATOM    125  HA  LYS A   8      29.880   6.330   4.470  1.00  0.00           H  \nATOM    126  HB2 LYS A   8      27.940   4.020   4.740  1.00  0.00           H  \nATOM    127  HB3 LYS A   8      28.980   4.660   6.010  1.00  0.00           H  \nATOM    128  HG2 LYS A   8      27.850   6.870   5.820  1.00  0.00           H  \nATOM    129  HG3 LYS A   8      26.780   6.210   4.580  1.00  0.00           H  \nATOM    130  HD2 LYS A   8      25.940   4.520   6.140  1.00  0.00           H  \nATOM    131  HD3 LYS A   8      26.950   5.200   7.440  1.00  0.00           H  \nATOM    132  HE2 LYS A   8      24.760   6.740   5.970  1.00  0.00           H  \nATOM    133  HE3 LYS A   8      24.530   5.940   7.490  1.00  0.00           H  \nATOM    134  HZ1 LYS A   8      25.000   8.240   7.840  1.00  0.00           H  \nATOM    135  HZ2 LYS A   8      26.240   7.360   8.480  1.00  0.00           H  \nATOM    136  HZ3 LYS A   8      26.460   8.160   7.090  1.00  0.00           H  \nATOM    137  N   ASP A   9      31.800   4.820   4.220  1.00  0.00           N  \nATOM    138  CA  ASP A   9      33.000   3.990   4.160  1.00  0.00           C  \nATOM    139  C   ASP A   9      34.000   4.370   5.280  1.00  0.00           C  \nATOM    140  O   ASP A   9      34.020   5.520   5.750  1.00  0.00           O  \nATOM    141  CB  ASP A   9      33.650   4.130   2.760  1.00  0.00           C  \nATOM    142  CG  ASP A   9      34.730   3.060   2.460  1.00  0.00           C  \nATOM    143  OD1 ASP A   9      34.820   2.040   3.190  1.00  0.00           O  \nATOM    144  OD2 ASP A   9      35.460   3.210   1.450  1.00  0.00           O  \nATOM    145  H   ASP A   9      31.910   5.780   4.540  1.00  0.00           H  \nATOM    146  HA  ASP A   9      32.670   2.970   4.310  1.00  0.00           H  \nATOM    147  HB2 ASP A   9      32.880   4.000   2.010  1.00  0.00           H  \nATOM    148  HB3 ASP A   9      34.100   5.120   2.690  1.00  0.00           H  \nATOM    149  N   GLY A  10      34.830   3.410   5.730  1.00  0.00           N  \nATOM    150  CA  GLY A  10      35.810   3.570   6.800  1.00  0.00           C  \nATOM    151  C   GLY A  10      36.090   2.250   7.550  1.00  0.00           C  \nATOM    152  O   GLY A  10      35.390   1.260   7.340  1.00  0.00           O  \nATOM    153  H   GLY A  10      34.790   2.510   5.270  1.00  0.00           H  \nATOM    154  HA2 GLY A  10      36.740   3.950   6.390  1.00  0.00           H  \nATOM    155  HA3 GLY A  10      35.460   4.300   7.530  1.00  0.00           H  \nATOM    156  N   GLY A  11      37.100   2.270   8.420  1.00  0.00           N  \nATOM    157  CA  GLY A  11      37.510   1.090   9.200  1.00  0.00           C  \nATOM    158  C   GLY A  11      38.120  -0.010   8.320  1.00  0.00           C  \nATOM    159  O   GLY A  11      39.070   0.270   7.580  1.00  0.00           O  \nATOM    160  H   GLY A  11      37.620   3.120   8.570  1.00  0.00           H  \nATOM    161  HA2 GLY A  11      38.250   1.390   9.940  1.00  0.00           H  \nATOM    162  HA3 GLY A  11      36.640   0.720   9.750  1.00  0.00           H  \nATOM    163  N   PRO A  12      37.630  -1.260   8.390  1.00  0.00           N  \nATOM    164  CA  PRO A  12      38.110  -2.380   7.570  1.00  0.00           C  \nATOM    165  C   PRO A  12      38.080  -2.120   6.040  1.00  0.00           C  \nATOM    166  O   PRO A  12      37.250  -1.350   5.550  1.00  0.00           O  \nATOM    167  CB  PRO A  12      37.260  -3.590   7.940  1.00  0.00           C  \nATOM    168  CG  PRO A  12      36.810  -3.270   9.360  1.00  0.00           C  \nATOM    169  CD  PRO A  12      36.640  -1.770   9.340  1.00  0.00           C  \nATOM    170  HA  PRO A  12      39.140  -2.610   7.860  1.00  0.00           H  \nATOM    171  HB2 PRO A  12      36.370  -3.680   7.310  1.00  0.00           H  \nATOM    172  HB3 PRO A  12      37.800  -4.530   7.870  1.00  0.00           H  \nATOM    173  HG2 PRO A  12      35.870  -3.750   9.610  1.00  0.00           H  \nATOM    174  HG3 PRO A  12      37.600  -3.550  10.060  1.00  0.00           H  \nATOM    175  HD2 PRO A  12      35.640  -1.530   8.970  1.00  0.00           H  \nATOM    176  HD3 PRO A  12      36.780  -1.330  10.320  1.00  0.00           H  \nATOM    177  N   SER A  13      38.960  -2.790   5.300  1.00  0.00           N  \nATOM    178  CA  SER A  13      39.100  -2.670   3.840  1.00  0.00           C  \nATOM    179  C   SER A  13      38.030  -3.430   3.030  1.00  0.00           C  \nATOM    180  O   SER A  13      37.940  -3.250   1.810  1.00  0.00           O  \nATOM    181  CB  SER A  13      40.490  -3.130   3.420  1.00  0.00           C  \nATOM    182  OG  SER A  13      40.700  -4.480   3.800  1.00  0.00           O  \nATOM    183  H   SER A  13      39.620  -3.410   5.750  1.00  0.00           H  \nATOM    184  HA  SER A  13      38.990  -1.610   3.590  1.00  0.00           H  \nATOM    185  HB2 SER A  13      40.610  -3.030   2.350  1.00  0.00           H  \nATOM    186  HB3 SER A  13      41.230  -2.530   3.950  1.00  0.00           H  \nATOM    187  HG  SER A  13      41.590  -4.740   3.520  1.00  0.00           H  \nATOM    188  N   SER A  14      37.180  -4.230   3.680  1.00  0.00           N  \nATOM    189  CA  SER A  14      36.080  -4.970   3.070  1.00  0.00           C  \nATOM    190  C   SER A  14      34.910  -5.140   4.050  1.00  0.00           C  \nATOM    191  O   SER A  14      35.070  -4.990   5.270  1.00  0.00           O  \nATOM    192  CB  SER A  14      36.570  -6.350   2.600  1.00  0.00           C  \nATOM    193  OG  SER A  14      35.570  -7.050   1.890  1.00  0.00           O  \nATOM    194  H   SER A  14      37.290  -4.310   4.680  1.00  0.00           H  \nATOM    195  HA  SER A  14      35.700  -4.440   2.190  1.00  0.00           H  \nATOM    196  HB2 SER A  14      37.420  -6.180   1.930  1.00  0.00           H  \nATOM    197  HB3 SER A  14      36.890  -6.940   3.460  1.00  0.00           H  \nATOM    198  HG  SER A  14      35.940  -7.890   1.580  1.00  0.00           H  \nATOM    199  N   GLY A  15      33.690  -5.400   3.550  1.00  0.00           N  \nATOM    200  CA  GLY A  15      32.440  -5.420   4.310  1.00  0.00           C  \nATOM    201  C   GLY A  15      31.910  -4.020   4.680  1.00  0.00           C  \nATOM    202  O   GLY A  15      32.340  -3.020   4.120  1.00  0.00           O  \nATOM    203  H   GLY A  15      33.620  -5.510   2.550  1.00  0.00           H  \nATOM    204  HA2 GLY A  15      31.710  -5.990   3.750  1.00  0.00           H  \nATOM    205  HA3 GLY A  15      32.630  -5.980   5.220  1.00  0.00           H  \nATOM    206  N   ARG A  16      30.940  -3.970   5.620  1.00  0.00           N  \nATOM    207  CA  ARG A  16      30.320  -2.720   6.080  1.00  0.00           C  \nATOM    208  C   ARG A  16      31.280  -1.880   6.960  1.00  0.00           C  \nATOM    209  O   ARG A  16      32.100  -2.460   7.690  1.00  0.00           O  \nATOM    210  CB  ARG A  16      29.020  -3.000   6.830  1.00  0.00           C  \nATOM    211  CG  ARG A  16      27.940  -3.640   5.930  1.00  0.00           C  \nATOM    212  CD  ARG A  16      26.580  -3.720   6.640  1.00  0.00           C  \nATOM    213  NE  ARG A  16      25.960  -2.390   6.830  1.00  0.00           N  \nATOM    214  CZ  ARG A  16      25.180  -1.740   6.000  1.00  0.00           C  \nATOM    215  NH1 ARG A  16      24.820  -2.230   4.840  1.00  0.00           N  \nATOM    216  NH2 ARG A  16      24.730  -0.570   6.320  1.00  0.00           N  \nATOM    217  H   ARG A  16      30.670  -4.840   6.060  1.00  0.00           H  \nATOM    218  HA  ARG A  16      30.100  -2.110   5.200  1.00  0.00           H  \nATOM    219  HB2 ARG A  16      29.190  -3.670   7.680  1.00  0.00           H  \nATOM    220  HB3 ARG A  16      28.620  -2.070   7.230  1.00  0.00           H  \nATOM    221  HG2 ARG A  16      27.820  -3.030   5.030  1.00  0.00           H  \nATOM    222  HG3 ARG A  16      28.260  -4.640   5.660  1.00  0.00           H  \nATOM    223  HD2 ARG A  16      25.910  -4.380   6.090  1.00  0.00           H  \nATOM    224  HD3 ARG A  16      26.710  -4.220   7.600  1.00  0.00           H  \nATOM    225  HE  ARG A  16      26.160  -1.900   7.690  1.00  0.00           H  \nATOM    226 HH11 ARG A  16      25.130  -3.150   4.550  1.00  0.00           H  \nATOM    227 HH12 ARG A  16      24.220  -1.690   4.230  1.00  0.00           H  \nATOM    228 HH21 ARG A  16      24.110  -0.070   5.690  1.00  0.00           H  \nATOM    229 HH22 ARG A  16      24.970  -0.190   7.230  1.00  0.00           H  \nATOM    230  N   PRO A  17      31.150  -0.540   6.970  1.00  0.00           N  \nATOM    231  CA  PRO A  17      31.930   0.330   7.860  1.00  0.00           C  \nATOM    232  C   PRO A  17      31.510   0.190   9.340  1.00  0.00           C  \nATOM    233  O   PRO A  17      30.400  -0.250   9.620  1.00  0.00           O  \nATOM    234  CB  PRO A  17      31.700   1.740   7.290  1.00  0.00           C  \nATOM    235  CG  PRO A  17      30.280   1.660   6.730  1.00  0.00           C  \nATOM    236  CD  PRO A  17      30.270   0.260   6.140  1.00  0.00           C  \nATOM    237  HA  PRO A  17      32.980   0.080   7.760  1.00  0.00           H  \nATOM    238  HB2 PRO A  17      31.760   2.530   8.040  1.00  0.00           H  \nATOM    239  HB3 PRO A  17      32.390   1.940   6.470  1.00  0.00           H  \nATOM    240  HG2 PRO A  17      29.550   1.740   7.520  1.00  0.00           H  \nATOM    241  HG3 PRO A  17      30.110   2.430   5.980  1.00  0.00           H  \nATOM    242  HD2 PRO A  17      29.260  -0.160   6.110  1.00  0.00           H  \nATOM    243  HD3 PRO A  17      30.650   0.270   5.110  1.00  0.00           H  \nATOM    244  N   PRO A  18      32.370   0.620  10.300  1.00  0.00           N  \nATOM    245  CA  PRO A  18      32.140   0.390  11.730  1.00  0.00           C  \nATOM    246  C   PRO A  18      30.860   0.970  12.390  1.00  0.00           C  \nATOM    247  O   PRO A  18      30.480   0.420  13.430  1.00  0.00           O  \nATOM    248  CB  PRO A  18      33.420   0.900  12.440  1.00  0.00           C  \nATOM    249  CG  PRO A  18      34.100   1.800  11.420  1.00  0.00           C  \nATOM    250  CD  PRO A  18      33.670   1.220  10.070  1.00  0.00           C  \nATOM    251  HA  PRO A  18      32.100  -0.690  11.860  1.00  0.00           H  \nATOM    252  HB2 PRO A  18      33.250   1.410  13.380  1.00  0.00           H  \nATOM    253  HB3 PRO A  18      34.060   0.040  12.630  1.00  0.00           H  \nATOM    254  HG2 PRO A  18      33.740   2.820  11.510  1.00  0.00           H  \nATOM    255  HG3 PRO A  18      35.180   1.790  11.540  1.00  0.00           H  \nATOM    256  HD2 PRO A  18      33.620   1.990   9.300  1.00  0.00           H  \nATOM    257  HD3 PRO A  18      34.380   0.440   9.820  1.00  0.00           H  \nATOM    258  N   PRO A  19      30.120   1.970  11.830  1.00  0.00           N  \nATOM    259  CA  PRO A  19      28.810   2.340  12.350  1.00  0.00           C  \nATOM    260  C   PRO A  19      27.720   1.270  12.250  1.00  0.00           C  \nATOM    261  O   PRO A  19      26.660   1.400  12.870  1.00  0.00           O  \nATOM    262  CB  PRO A  19      28.400   3.610  11.580  1.00  0.00           C  \nATOM    263  CG  PRO A  19      29.730   4.200  11.110  1.00  0.00           C  \nATOM    264  CD  PRO A  19      30.540   2.950  10.830  1.00  0.00           C  \nATOM    265  HA  PRO A  19      28.870   2.600  13.410  1.00  0.00           H  \nATOM    266  HB2 PRO A  19      27.820   3.340  10.690  1.00  0.00           H  \nATOM    267  HB3 PRO A  19      27.850   4.310  12.210  1.00  0.00           H  \nATOM    268  HG2 PRO A  19      29.610   4.820  10.220  1.00  0.00           H  \nATOM    269  HG3 PRO A  19      30.190   4.760  11.930  1.00  0.00           H  \nATOM    270  HD2 PRO A  19      30.280   2.570   9.840  1.00  0.00           H  \nATOM    271  HD3 PRO A  19      31.610   3.170  10.920  1.00  0.00           H  \nATOM    272  N   SER A  20      27.940   0.190  11.470  1.00  0.00           N  \nATOM    273  CA  SER A  20      27.040  -0.970  11.320  1.00  0.00           C  \nATOM    274  C   SER A  20      27.360  -2.070  12.330  1.00  0.00           C  \nATOM    275  O   SER A  20      28.420  -2.720  12.200  1.00  0.00           O  \nATOM    276  CB  SER A  20      27.080  -1.520   9.900  1.00  0.00           C  \nATOM    277  OG  SER A  20      26.620  -0.510   9.020  1.00  0.00           O  \nATOM    278  OXT SER A  20      26.550  -2.300  13.240  1.00  0.00           O  \nATOM    279  H   SER A  20      28.840   0.160  11.010  1.00  0.00           H  \nATOM    280  HA  SER A  20      26.020  -0.650  11.520  1.00  0.00           H  \nATOM    281  HB2 SER A  20      28.110  -1.780   9.650  1.00  0.00           H  \nATOM    282  HB3 SER A  20      26.450  -2.410   9.850  1.00  0.00           H  \nATOM    283  HG  SER A  20      27.110   0.300   9.200  1.00  0.00           H  \nTER     284      SER A  20\nENDMDL\nEND\n",
           "type": "blob"
          }
         ],
         "kwargs": {
          "defaultRepresentation": true,
          "ext": "pdb",
          "height": "400px",
          "name": "nglview.adaptor.MDTrajTrajectory",
          "width": "400px"
         },
         "methodName": "loadFile",
         "reconstruc_color_scheme": false,
         "target": "Stage",
         "type": "call_method"
        },
        {
         "args": [
          "ball+stick"
         ],
         "component_index": 0,
         "kwargs": {
          "aspectRatio": 2,
          "radius": 0.1,
          "sele": "protein"
         },
         "methodName": "addRepresentation",
         "reconstruc_color_scheme": false,
         "target": "compList",
         "type": "call_method"
        }
       ],
       "_ngl_original_stage_parameters": {
        "ambientColor": 14540253,
        "ambientIntensity": 0.2,
        "backgroundColor": "white",
        "cameraEyeSep": 0.3,
        "cameraFov": 40,
        "cameraType": "perspective",
        "clipDist": 10,
        "clipFar": 100,
        "clipMode": "scene",
        "clipNear": 0,
        "clipScale": "relative",
        "fogFar": 100,
        "fogNear": 50,
        "hoverTimeout": 0,
        "impostor": true,
        "lightColor": 14540253,
        "lightIntensity": 1,
        "mousePreset": "default",
        "panSpeed": 1,
        "quality": "medium",
        "rotateSpeed": 2,
        "sampleLevel": 0,
        "tooltip": true,
        "workerDefault": true,
        "zoomSpeed": 1.2
       },
       "_ngl_repr_dict": {
        "0": {
         "0": {
          "params": {
           "aspectRatio": 5,
           "assembly": "default",
           "capped": true,
           "clipCenter": {
            "x": 0,
            "y": 0,
            "z": 0
           },
           "clipNear": 0,
           "clipRadius": 0,
           "colorMode": "hcl",
           "colorReverse": true,
           "colorScale": "Spectral",
           "colorScheme": "residueindex",
           "colorValue": 9474192,
           "defaultAssembly": "",
           "depthWrite": true,
           "diffuse": 16777215,
           "diffuseInterior": false,
           "disablePicking": false,
           "flatShaded": false,
           "interiorColor": 2236962,
           "interiorDarkening": 0,
           "lazy": false,
           "matrix": {
            "elements": [
             1,
             0,
             0,
             0,
             0,
             1,
             0,
             0,
             0,
             0,
             1,
             0,
             0,
             0,
             0,
             1
            ]
           },
           "metalness": 0,
           "opacity": 1,
           "quality": "high",
           "radialSegments": 20,
           "radiusData": {},
           "radiusScale": 0.7,
           "radiusSize": 1,
           "radiusType": "sstruc",
           "roughness": 0.4,
           "sele": "",
           "side": "double",
           "smoothSheet": false,
           "subdiv": 6,
           "tension": null,
           "useInteriorColor": true,
           "visible": true,
           "wireframe": false
          },
          "type": "cartoon"
         },
         "1": {
          "params": {
           "aspectRatio": 1,
           "assembly": "default",
           "bondScale": 0.4,
           "clipCenter": {
            "x": 0,
            "y": 0,
            "z": 0
           },
           "clipNear": 0,
           "clipRadius": 0,
           "colorMode": "hcl",
           "colorReverse": true,
           "colorScale": "Spectral",
           "colorScheme": "residueindex",
           "colorValue": 9474192,
           "cylinderOnly": false,
           "defaultAssembly": "",
           "depthWrite": true,
           "diffuse": 16777215,
           "diffuseInterior": false,
           "disableImpostor": false,
           "disablePicking": false,
           "flatShaded": false,
           "interiorColor": 2236962,
           "interiorDarkening": 0,
           "lazy": false,
           "lineOnly": false,
           "linewidth": 2,
           "matrix": {
            "elements": [
             1,
             0,
             0,
             0,
             0,
             1,
             0,
             0,
             0,
             0,
             1,
             0,
             0,
             0,
             0,
             1
            ]
           },
           "metalness": 0,
           "opacity": 1,
           "openEnded": true,
           "quality": "high",
           "radialSegments": 20,
           "radiusData": {},
           "radiusScale": 1,
           "radiusSize": 0.3,
           "radiusType": "size",
           "roughness": 0.4,
           "sele": "",
           "side": "double",
           "sphereDetail": 2,
           "useInteriorColor": true,
           "visible": true,
           "wireframe": false
          },
          "type": "base"
         },
         "2": {
          "params": {
           "aspectRatio": 1.5,
           "assembly": "default",
           "bondScale": 0.3,
           "bondSpacing": 0.75,
           "clipCenter": {
            "x": 0,
            "y": 0,
            "z": 0
           },
           "clipNear": 0,
           "clipRadius": 0,
           "colorMode": "hcl",
           "colorReverse": false,
           "colorScale": "",
           "colorScheme": "element",
           "colorValue": 9474192,
           "cylinderOnly": false,
           "defaultAssembly": "",
           "depthWrite": true,
           "diffuse": 16777215,
           "diffuseInterior": false,
           "disableImpostor": false,
           "disablePicking": false,
           "flatShaded": false,
           "interiorColor": 2236962,
           "interiorDarkening": 0,
           "lazy": false,
           "lineOnly": false,
           "linewidth": 2,
           "matrix": {
            "elements": [
             1,
             0,
             0,
             0,
             0,
             1,
             0,
             0,
             0,
             0,
             1,
             0,
             0,
             0,
             0,
             1
            ]
           },
           "metalness": 0,
           "multipleBond": "off",
           "opacity": 1,
           "openEnded": true,
           "quality": "high",
           "radialSegments": 20,
           "radiusData": {},
           "radiusScale": 2,
           "radiusSize": 0.15,
           "radiusType": "size",
           "roughness": 0.4,
           "sele": "ligand",
           "side": "double",
           "sphereDetail": 2,
           "useInteriorColor": true,
           "visible": true,
           "wireframe": false
          },
          "type": "ball+stick"
         },
         "3": {
          "params": {
           "aspectRatio": 2,
           "assembly": "default",
           "bondScale": 0.4,
           "bondSpacing": 1,
           "clipCenter": {
            "x": 0,
            "y": 0,
            "z": 0
           },
           "clipNear": 0,
           "clipRadius": 0,
           "colorMode": "hcl",
           "colorReverse": false,
           "colorScale": "",
           "colorScheme": "element",
           "colorValue": 9474192,
           "cylinderOnly": false,
           "defaultAssembly": "",
           "depthWrite": true,
           "diffuse": 16777215,
           "diffuseInterior": false,
           "disableImpostor": false,
           "disablePicking": false,
           "flatShaded": false,
           "interiorColor": 2236962,
           "interiorDarkening": 0,
           "lazy": false,
           "lineOnly": false,
           "linewidth": 2,
           "matrix": {
            "elements": [
             1,
             0,
             0,
             0,
             0,
             1,
             0,
             0,
             0,
             0,
             1,
             0,
             0,
             0,
             0,
             1
            ]
           },
           "metalness": 0,
           "multipleBond": "off",
           "opacity": 1,
           "openEnded": true,
           "quality": "medium",
           "radialSegments": 10,
           "radiusData": {},
           "radiusScale": 1,
           "radiusSize": 0.1,
           "radiusType": "size",
           "roughness": 0.4,
           "sele": "protein",
           "side": "double",
           "sphereDetail": 1,
           "useInteriorColor": true,
           "visible": true,
           "wireframe": false
          },
          "type": "ball+stick"
         }
        }
       },
       "_ngl_serialize": false,
       "_ngl_version": "2.2.2",
       "_ngl_view_id": [
        "86383C1A-816A-4E70-BE76-75A68A778BA6"
       ],
       "_player_dict": {},
       "_scene_position": {},
       "_scene_rotation": {},
       "_synced_model_ids": [],
       "_synced_repr_model_ids": [],
       "_view_height": "400px",
       "_view_width": "400px",
       "background": "white",
       "frame": 0,
       "gui_style": null,
       "layout": "IPY_MODEL_a3b1ff2c9b6242b39d1863d59b264f81",
       "max_frame": 5000,
       "n_components": 1,
       "picked": {}
      }
     },
     "74ecf1856cb344f3958ed1bb661fb26b": {
      "model_module": "@jupyter-widgets/controls",
      "model_module_version": "2.0.0",
      "model_name": "LinkModel",
      "state": {
       "source": [
        "IPY_MODEL_9108b2b60e2c4ed98d00e14506129316",
        "value"
       ],
       "target": [
        "IPY_MODEL_66fd22e0a59448449ab4758aabfaf8fb",
        "frame"
       ]
      }
     },
     "7dbcf7ecdaad4940810f660010f78845": {
      "model_module": "@jupyter-widgets/base",
      "model_module_version": "2.0.0",
      "model_name": "LayoutModel",
      "state": {}
     },
     "80a1bf8daf2540b5aec45760967ef172": {
      "model_module": "@jupyter-widgets/controls",
      "model_module_version": "2.0.0",
      "model_name": "LinkModel",
      "state": {
       "source": [
        "IPY_MODEL_9108b2b60e2c4ed98d00e14506129316",
        "value"
       ],
       "target": [
        "IPY_MODEL_e6455d13f71d4b86b6290cb0b5856135",
        "value"
       ]
      }
     },
     "8d81bfb8556d407c8d9420d03f5be86e": {
      "model_module": "@jupyter-widgets/controls",
      "model_module_version": "2.0.0",
      "model_name": "HBoxModel",
      "state": {
       "children": [
        "IPY_MODEL_9108b2b60e2c4ed98d00e14506129316",
        "IPY_MODEL_e6455d13f71d4b86b6290cb0b5856135"
       ],
       "layout": "IPY_MODEL_99fc584c290a4dc4a8084b28fedfe92d"
      }
     },
     "9108b2b60e2c4ed98d00e14506129316": {
      "model_module": "@jupyter-widgets/controls",
      "model_module_version": "2.0.0",
      "model_name": "PlayModel",
      "state": {
       "layout": "IPY_MODEL_7dbcf7ecdaad4940810f660010f78845",
       "max": 5000,
       "style": "IPY_MODEL_bdef6283b38642a59917d42968d828d7"
      }
     },
     "929698d0de924102afd5c77364170a71": {
      "model_module": "@jupyter-widgets/controls",
      "model_module_version": "2.0.0",
      "model_name": "ButtonStyleModel",
      "state": {
       "font_family": null,
       "font_size": null,
       "font_style": null,
       "font_variant": null,
       "font_weight": null,
       "text_color": null,
       "text_decoration": null
      }
     },
     "99fc584c290a4dc4a8084b28fedfe92d": {
      "model_module": "@jupyter-widgets/base",
      "model_module_version": "2.0.0",
      "model_name": "LayoutModel",
      "state": {}
     },
     "a3b1ff2c9b6242b39d1863d59b264f81": {
      "model_module": "@jupyter-widgets/base",
      "model_module_version": "2.0.0",
      "model_name": "LayoutModel",
      "state": {}
     },
     "bdef6283b38642a59917d42968d828d7": {
      "model_module": "@jupyter-widgets/controls",
      "model_module_version": "2.0.0",
      "model_name": "DescriptionStyleModel",
      "state": {
       "description_width": ""
      }
     },
     "d6c10c3d26514800b87e93365804af58": {
      "model_module": "@jupyter-widgets/controls",
      "model_module_version": "2.0.0",
      "model_name": "SliderStyleModel",
      "state": {
       "description_width": ""
      }
     },
     "e6455d13f71d4b86b6290cb0b5856135": {
      "model_module": "@jupyter-widgets/controls",
      "model_module_version": "2.0.0",
      "model_name": "IntSliderModel",
      "state": {
       "behavior": "drag-tap",
       "layout": "IPY_MODEL_063fb1c277974d4489eae1e3c59ac6d8",
       "max": 5000,
       "style": "IPY_MODEL_d6c10c3d26514800b87e93365804af58"
      }
     },
     "f851479bbcb74eab85374dfd846ffd12": {
      "model_module": "@jupyter-widgets/base",
      "model_module_version": "2.0.0",
      "model_name": "LayoutModel",
      "state": {}
     }
    },
    "version_major": 2,
    "version_minor": 0
   }
  }
 },
 "nbformat": 4,
 "nbformat_minor": 4
}
