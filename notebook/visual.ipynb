{
 "cells": [
  {
   "cell_type": "markdown",
   "metadata": {},
   "source": [
    "# Setup"
   ]
  },
  {
   "cell_type": "code",
   "execution_count": 1,
   "metadata": {},
   "outputs": [
    {
     "data": {
      "application/vnd.jupyter.widget-view+json": {
       "model_id": "a3d8d19eea1b4ceaaf8db0c24b052511",
       "version_major": 2,
       "version_minor": 0
      },
      "text/plain": []
     },
     "metadata": {},
     "output_type": "display_data"
    }
   ],
   "source": [
    "# NOTE: This job does not work well in vscode\n",
    "# PLEASE execute the ipynb file on the browser by ''jupyter notebook'', rather than in vscode.\n",
    "\n",
    "import os\n",
    "import tae\n",
    "import time\n",
    "import torch\n",
    "import imageio\n",
    "import matplotlib\n",
    "\n",
    "import numpy as np\n",
    "import mdtraj as md\n",
    "import nglview as nv\n",
    "import matplotlib.pyplot as plt\n",
    "\n",
    "from tqdm import tqdm\n",
    "from IPython.display import display\n",
    "from nglview.contrib.movie import MovieMaker"
   ]
  },
  {
   "cell_type": "markdown",
   "metadata": {},
   "source": [
    "# 3d views"
   ]
  },
  {
   "cell_type": "code",
   "execution_count": 11,
   "metadata": {},
   "outputs": [],
   "source": [
    "# Molecule configs\n",
    "\n",
    "# start_file = f\"../page/data/bba/unfolded.pdb\"\n",
    "# md_file = f\"../page/data/bba/bba.gro\"\n",
    "start_file = f\"../page/data/trpcage/unfolded.pdb\"\n",
    "md_file = f\"../page/data/trpcage/trpcage.gro\"\n",
    "# start_file = f\"../page/data/chignolin-unfolded.pdb\"\n",
    "# md_file = f\"../page/data/chignolin-path.gro\"\n",
    "\n",
    "# Image config\n",
    "IMAGE_SIZE = \"400px\""
   ]
  },
  {
   "cell_type": "code",
   "execution_count": 13,
   "metadata": {},
   "outputs": [
    {
     "data": {
      "application/vnd.jupyter.widget-view+json": {
       "model_id": "f9c3254b48374db3b78649b2396a6fb8",
       "version_major": 2,
       "version_minor": 0
      },
      "text/plain": [
       "NGLWidget(max_frame=5000)"
      ]
     },
     "metadata": {},
     "output_type": "display_data"
    }
   ],
   "source": [
    "traj = md.load(md_file, top=start_file)\n",
    "traj_view = nv.show_mdtraj(traj, width=IMAGE_SIZE, height=IMAGE_SIZE)\n",
    "traj_view.add_ball_and_stick('protein', aspectRatio=2, radius=0.1)\n",
    "# traj_view.add_ribbon('protein')\n",
    "traj_view.center()\n",
    "\n",
    "traj_view"
   ]
  },
  {
   "cell_type": "code",
   "execution_count": 18,
   "metadata": {},
   "outputs": [],
   "source": [
    "# NOTE: Set frame to desired one\n",
    "frame_idx = 200\n",
    "traj_view.frame = frame_idx"
   ]
  },
  {
   "cell_type": "code",
   "execution_count": 16,
   "metadata": {},
   "outputs": [
    {
     "name": "stdout",
     "output_type": "stream",
     "text": [
      "[25.998242221715582, 0, 0, 0, 0, 25.998242221715582, 0, 0, 0, 0, 25.998242221715582, 0, -18.14050006866455, -6.430000066757202, -22.022000312805176, 1]\n"
     ]
    }
   ],
   "source": [
    "# Save current view!!\n",
    "print(traj_view._camera_orientation)\n",
    "traj_view.render_image(frame=0, factor=10)\n",
    "im = traj_view.render_image(factor=4)"
   ]
  },
  {
   "cell_type": "code",
   "execution_count": 21,
   "metadata": {},
   "outputs": [
    {
     "name": "stdout",
     "output_type": "stream",
     "text": [
      ">> Saved frame 200 for alanine\n"
     ]
    }
   ],
   "source": [
    "# PDF does not work for this one...\n",
    "with open(f'{path_to_save}/{molecule}_{frame_idx}.png', 'wb') as fh:\n",
    "    fh.write(im.value)\n",
    "    print(f\">> Saved frame {frame_idx} for {molecule}\")"
   ]
  }
 ],
 "metadata": {
  "kernelspec": {
   "display_name": "Python 3 (ipykernel)",
   "language": "python",
   "name": "python3"
  },
  "language_info": {
   "codemirror_mode": {
    "name": "ipython",
    "version": 3
   },
   "file_extension": ".py",
   "mimetype": "text/x-python",
   "name": "python",
   "nbconvert_exporter": "python",
   "pygments_lexer": "ipython3",
   "version": "3.9.19"
  },
  "widgets": {
   "application/vnd.jupyter.widget-state+json": {
    "state": {
     "07d89b6b7be64e84b0a760f429121990": {
      "model_module": "@jupyter-widgets/base",
      "model_module_version": "2.0.0",
      "model_name": "LayoutModel",
      "state": {}
     },
     "0ad33bb04ec049239692fd638236da14": {
      "model_module": "@jupyter-widgets/controls",
      "model_module_version": "2.0.0",
      "model_name": "LinkModel",
      "state": {
       "source": [
        "IPY_MODEL_3051a32010c84adbb09bf696ae28fa33",
        "max"
       ],
       "target": [
        "IPY_MODEL_f9c3254b48374db3b78649b2396a6fb8",
        "max_frame"
       ]
      }
     },
     "0b780a74a9fc48fa95f999141d9e8378": {
      "model_module": "@jupyter-widgets/controls",
      "model_module_version": "2.0.0",
      "model_name": "LinkModel",
      "state": {
       "source": [
        "IPY_MODEL_1e34d23511a045ce96af2498e21a3fd2",
        "value"
       ],
       "target": [
        "IPY_MODEL_11149a99b9f54e54bf96314d83003d74",
        "frame"
       ]
      }
     },
     "0dfa444f656f49ccb46c3882863a7d04": {
      "model_module": "@jupyter-widgets/controls",
      "model_module_version": "2.0.0",
      "model_name": "LinkModel",
      "state": {
       "source": [
        "IPY_MODEL_ba7d1c62570140749ea7f156cc88ffae",
        "value"
       ],
       "target": [
        "IPY_MODEL_fb5ae6c3db7c4ca98607cd46ffa9c8d0",
        "frame"
       ]
      }
     },
     "0e3c96cb51f648eea501a13b16c0f5e2": {
      "model_module": "@jupyter-widgets/controls",
      "model_module_version": "2.0.0",
      "model_name": "SliderStyleModel",
      "state": {
       "description_width": ""
      }
     },
     "11149a99b9f54e54bf96314d83003d74": {
      "model_module": "nglview-js-widgets",
      "model_module_version": "3.1.0",
      "model_name": "NGLModel",
      "state": {
       "_camera_orientation": [
        31.350081937172384,
        38.65591641062676,
        -29.782530998094796,
        0,
        -41.12148278752474,
        39.98655411608949,
        8.614279246785525,
        0,
        26.273611848262032,
        16.459109333160665,
        49.019401302659446,
        0,
        -27.760000228881836,
        -1.7400000095367432,
        0.7899999618530273,
        1
       ],
       "_camera_str": "orthographic",
       "_gui_theme": null,
       "_ibtn_fullscreen": "IPY_MODEL_83e905668f23421eab0630657a298e1c",
       "_igui": null,
       "_iplayer": "IPY_MODEL_c4de4ba7678a4110affccb0680f644c2",
       "_ngl_color_dict": {},
       "_ngl_coordinate_resource": {},
       "_ngl_full_stage_parameters": {
        "ambientColor": 14540253,
        "ambientIntensity": 0.2,
        "backgroundColor": "white",
        "cameraEyeSep": 0.3,
        "cameraFov": 40,
        "cameraType": "perspective",
        "clipDist": 10,
        "clipFar": 100,
        "clipMode": "scene",
        "clipNear": 0,
        "clipScale": "relative",
        "fogFar": 100,
        "fogNear": 50,
        "hoverTimeout": 0,
        "impostor": true,
        "lightColor": 14540253,
        "lightIntensity": 1,
        "mousePreset": "default",
        "panSpeed": 1,
        "quality": "medium",
        "rotateSpeed": 2,
        "sampleLevel": 0,
        "tooltip": true,
        "workerDefault": true,
        "zoomSpeed": 1.2
       },
       "_ngl_msg_archive": [
        {
         "args": [
          {
           "binary": false,
           "data": "MODEL        0\nATOM      0  N   ASP A   1      16.240   3.190 -14.230  1.00  0.00           N  \nATOM      1  CA  ASP A   1      16.910   3.830 -13.080  1.00  0.00           C  \nATOM      2  C   ASP A   1      18.120   3.010 -12.640  1.00  0.00           C  \nATOM      3  O   ASP A   1      18.200   1.800 -12.910  1.00  0.00           O  \nATOM      4  CB  ASP A   1      15.950   4.090 -11.900  1.00  0.00           C  \nATOM      5  CG  ASP A   1      14.700   4.910 -12.240  1.00  0.00           C  \nATOM      6  OD1 ASP A   1      14.470   5.200 -13.440  1.00  0.00           O  \nATOM      7  OD2 ASP A   1      13.930   5.250 -11.320  1.00  0.00           O  \nATOM      8  H   ASP A   1      15.940   2.260 -13.960  1.00  0.00           H  \nATOM      9  H2  ASP A   1      15.420   3.720 -14.500  1.00  0.00           H  \nATOM     10  H3  ASP A   1      16.880   3.120 -15.010  1.00  0.00           H  \nATOM     11  HA  ASP A   1      17.270   4.800 -13.440  1.00  0.00           H  \nATOM     12  HB2 ASP A   1      15.670   3.120 -11.500  1.00  0.00           H  \nATOM     13  HB3 ASP A   1      16.510   4.630 -11.130  1.00  0.00           H  \nATOM     14  N   ALA A   2      19.080   3.630 -11.960  1.00  0.00           N  \nATOM     15  CA  ALA A   2      20.310   3.000 -11.430  1.00  0.00           C  \nATOM     16  C   ALA A   2      20.690   3.570 -10.050  1.00  0.00           C  \nATOM     17  O   ALA A   2      20.380   4.720  -9.730  1.00  0.00           O  \nATOM     18  CB  ALA A   2      21.410   3.190 -12.460  1.00  0.00           C  \nATOM     19  H   ALA A   2      18.960   4.620 -11.750  1.00  0.00           H  \nATOM     20  HA  ALA A   2      20.110   1.940 -11.300  1.00  0.00           H  \nATOM     21  HB1 ALA A   2      21.140   2.760 -13.420  1.00  0.00           H  \nATOM     22  HB2 ALA A   2      21.640   4.250 -12.600  1.00  0.00           H  \nATOM     23  HB3 ALA A   2      22.320   2.690 -12.120  1.00  0.00           H  \nATOM     24  N   TYR A   3      21.370   2.760  -9.250  1.00  0.00           N  \nATOM     25  CA  TYR A   3      21.630   3.000  -7.810  1.00  0.00           C  \nATOM     26  C   TYR A   3      23.100   2.720  -7.430  1.00  0.00           C  \nATOM     27  O   TYR A   3      23.400   2.400  -6.270  1.00  0.00           O  \nATOM     28  CB  TYR A   3      20.630   2.210  -6.970  1.00  0.00           C  \nATOM     29  CG  TYR A   3      19.180   2.400  -7.360  1.00  0.00           C  \nATOM     30  CD1 TYR A   3      18.530   1.450  -8.160  1.00  0.00           C  \nATOM     31  CD2 TYR A   3      18.500   3.570  -6.960  1.00  0.00           C  \nATOM     32  CE1 TYR A   3      17.190   1.660  -8.570  1.00  0.00           C  \nATOM     33  CE2 TYR A   3      17.160   3.790  -7.360  1.00  0.00           C  \nATOM     34  CZ  TYR A   3      16.500   2.830  -8.160  1.00  0.00           C  \nATOM     35  OH  TYR A   3      15.210   3.020  -8.550  1.00  0.00           O  \nATOM     36  H   TYR A   3      21.580   1.820  -9.580  1.00  0.00           H  \nATOM     37  HA  TYR A   3      21.490   4.060  -7.590  1.00  0.00           H  \nATOM     38  HB2 TYR A   3      20.860   1.150  -7.030  1.00  0.00           H  \nATOM     39  HB3 TYR A   3      20.770   2.480  -5.920  1.00  0.00           H  \nATOM     40  HD1 TYR A   3      19.060   0.570  -8.480  1.00  0.00           H  \nATOM     41  HD2 TYR A   3      18.990   4.330  -6.360  1.00  0.00           H  \nATOM     42  HE1 TYR A   3      16.690   0.940  -9.190  1.00  0.00           H  \nATOM     43  HE2 TYR A   3      16.630   4.680  -7.050  1.00  0.00           H  \nATOM     44  HH  TYR A   3      14.850   3.820  -8.190  1.00  0.00           H  \nATOM     45  N   ALA A   4      24.040   2.820  -8.370  1.00  0.00           N  \nATOM     46  CA  ALA A   4      25.450   2.450  -8.250  1.00  0.00           C  \nATOM     47  C   ALA A   4      26.330   3.490  -7.510  1.00  0.00           C  \nATOM     48  O   ALA A   4      27.440   3.820  -7.920  1.00  0.00           O  \nATOM     49  CB  ALA A   4      25.980   2.080  -9.630  1.00  0.00           C  \nATOM     50  H   ALA A   4      23.730   3.110  -9.290  1.00  0.00           H  \nATOM     51  HA  ALA A   4      25.500   1.560  -7.620  1.00  0.00           H  \nATOM     52  HB1 ALA A   4      25.990   2.960 -10.270  1.00  0.00           H  \nATOM     53  HB2 ALA A   4      27.000   1.700  -9.560  1.00  0.00           H  \nATOM     54  HB3 ALA A   4      25.330   1.310 -10.050  1.00  0.00           H  \nATOM     55  N   GLN A   5      25.800   4.070  -6.410  1.00  0.00           N  \nATOM     56  CA  GLN A   5      26.480   5.060  -5.560  1.00  0.00           C  \nATOM     57  C   GLN A   5      26.130   4.830  -4.080  1.00  0.00           C  \nATOM     58  O   GLN A   5      24.970   4.540  -3.750  1.00  0.00           O  \nATOM     59  CB  GLN A   5      26.120   6.470  -6.030  1.00  0.00           C  \nATOM     60  CG  GLN A   5      26.810   7.590  -5.250  1.00  0.00           C  \nATOM     61  CD  GLN A   5      26.590   8.990  -5.830  1.00  0.00           C  \nATOM     62  OE1 GLN A   5      25.820   9.210  -6.750  1.00  0.00           O  \nATOM     63  NE2 GLN A   5      27.260   9.990  -5.300  1.00  0.00           N  \nATOM     64  H   GLN A   5      24.900   3.740  -6.100  1.00  0.00           H  \nATOM     65  HA  GLN A   5      27.560   4.920  -5.670  1.00  0.00           H  \nATOM     66  HB2 GLN A   5      26.400   6.530  -7.080  1.00  0.00           H  \nATOM     67  HB3 GLN A   5      25.040   6.610  -5.960  1.00  0.00           H  \nATOM     68  HG2 GLN A   5      26.460   7.590  -4.220  1.00  0.00           H  \nATOM     69  HG3 GLN A   5      27.890   7.420  -5.230  1.00  0.00           H  \nATOM     70 HE21 GLN A   5      27.920   9.830  -4.550  1.00  0.00           H  \nATOM     71 HE22 GLN A   5      27.070  10.900  -5.680  1.00  0.00           H  \nATOM     72  N   TRP A   6      27.100   4.990  -3.190  1.00  0.00           N  \nATOM     73  CA  TRP A   6      26.960   4.820  -1.730  1.00  0.00           C  \nATOM     74  C   TRP A   6      27.860   5.790  -0.950  1.00  0.00           C  \nATOM     75  O   TRP A   6      28.930   6.160  -1.430  1.00  0.00           O  \nATOM     76  CB  TRP A   6      27.240   3.360  -1.370  1.00  0.00           C  \nATOM     77  CG  TRP A   6      27.200   3.050   0.100  1.00  0.00           C  \nATOM     78  CD1 TRP A   6      28.290   2.800   0.870  1.00  0.00           C  \nATOM     79  CD2 TRP A   6      26.050   3.000   1.000  1.00  0.00           C  \nATOM     80  NE1 TRP A   6      27.910   2.580   2.170  1.00  0.00           N  \nATOM     81  CE2 TRP A   6      26.540   2.700   2.320  1.00  0.00           C  \nATOM     82  CE3 TRP A   6      24.660   3.210   0.860  1.00  0.00           C  \nATOM     83  CZ2 TRP A   6      25.680   2.600   3.420  1.00  0.00           C  \nATOM     84  CZ3 TRP A   6      23.790   3.100   1.960  1.00  0.00           C  \nATOM     85  CH2 TRP A   6      24.290   2.820   3.240  1.00  0.00           C  \nATOM     86  H   TRP A   6      28.030   5.200  -3.540  1.00  0.00           H  \nATOM     87  HA  TRP A   6      25.920   5.030  -1.490  1.00  0.00           H  \nATOM     88  HB2 TRP A   6      26.530   2.730  -1.900  1.00  0.00           H  \nATOM     89  HB3 TRP A   6      28.220   3.080  -1.770  1.00  0.00           H  \nATOM     90  HD1 TRP A   6      29.310   2.760   0.520  1.00  0.00           H  \nATOM     91  HE1 TRP A   6      28.550   2.440   2.940  1.00  0.00           H  \nATOM     92  HE3 TRP A   6      24.270   3.440  -0.120  1.00  0.00           H  \nATOM     93  HZ2 TRP A   6      26.090   2.350   4.390  1.00  0.00           H  \nATOM     94  HZ3 TRP A   6      22.730   3.220   1.800  1.00  0.00           H  \nATOM     95  HH2 TRP A   6      23.640   2.760   4.100  1.00  0.00           H  \nATOM     96  N   LEU A   7      27.420   6.230   0.240  1.00  0.00           N  \nATOM     97  CA  LEU A   7      28.030   7.330   1.000  1.00  0.00           C  \nATOM     98  C   LEU A   7      29.000   6.900   2.110  1.00  0.00           C  \nATOM     99  O   LEU A   7      29.970   7.620   2.350  1.00  0.00           O  \nATOM    100  CB  LEU A   7      26.890   8.200   1.530  1.00  0.00           C  \nATOM    101  CG  LEU A   7      27.300   9.460   2.310  1.00  0.00           C  \nATOM    102  CD1 LEU A   7      28.060  10.450   1.430  1.00  0.00           C  \nATOM    103  CD2 LEU A   7      26.050  10.160   2.850  1.00  0.00           C  \nATOM    104  H   LEU A   7      26.530   5.860   0.540  1.00  0.00           H  \nATOM    105  HA  LEU A   7      28.620   7.910   0.290  1.00  0.00           H  \nATOM    106  HB2 LEU A   7      26.250   8.520   0.700  1.00  0.00           H  \nATOM    107  HB3 LEU A   7      26.270   7.600   2.200  1.00  0.00           H  \nATOM    108  HG  LEU A   7      27.910   9.180   3.170  1.00  0.00           H  \nATOM    109 HD11 LEU A   7      29.020  10.030   1.130  1.00  0.00           H  \nATOM    110 HD12 LEU A   7      27.460  10.690   0.560  1.00  0.00           H  \nATOM    111 HD13 LEU A   7      28.280  11.370   1.970  1.00  0.00           H  \nATOM    112 HD21 LEU A   7      25.500   9.470   3.490  1.00  0.00           H  \nATOM    113 HD22 LEU A   7      26.340  11.040   3.420  1.00  0.00           H  \nATOM    114 HD23 LEU A   7      25.400  10.460   2.030  1.00  0.00           H  \nATOM    115  N   LYS A   8      28.760   5.770   2.800  1.00  0.00           N  \nATOM    116  CA  LYS A   8      29.450   5.420   4.060  1.00  0.00           C  \nATOM    117  C   LYS A   8      30.590   4.420   3.850  1.00  0.00           C  \nATOM    118  O   LYS A   8      30.360   3.300   3.420  1.00  0.00           O  \nATOM    119  CB  LYS A   8      28.430   4.920   5.100  1.00  0.00           C  \nATOM    120  CG  LYS A   8      27.360   5.960   5.460  1.00  0.00           C  \nATOM    121  CD  LYS A   8      26.390   5.430   6.540  1.00  0.00           C  \nATOM    122  CE  LYS A   8      25.280   6.440   6.880  1.00  0.00           C  \nATOM    123  NZ  LYS A   8      25.780   7.630   7.620  1.00  0.00           N  \nATOM    124  H   LYS A   8      28.020   5.160   2.480  1.00  0.00           H  \nATOM    125  HA  LYS A   8      29.880   6.330   4.470  1.00  0.00           H  \nATOM    126  HB2 LYS A   8      27.940   4.020   4.740  1.00  0.00           H  \nATOM    127  HB3 LYS A   8      28.980   4.660   6.010  1.00  0.00           H  \nATOM    128  HG2 LYS A   8      27.850   6.870   5.820  1.00  0.00           H  \nATOM    129  HG3 LYS A   8      26.780   6.210   4.580  1.00  0.00           H  \nATOM    130  HD2 LYS A   8      25.940   4.520   6.140  1.00  0.00           H  \nATOM    131  HD3 LYS A   8      26.950   5.200   7.440  1.00  0.00           H  \nATOM    132  HE2 LYS A   8      24.760   6.740   5.970  1.00  0.00           H  \nATOM    133  HE3 LYS A   8      24.530   5.940   7.490  1.00  0.00           H  \nATOM    134  HZ1 LYS A   8      25.000   8.240   7.840  1.00  0.00           H  \nATOM    135  HZ2 LYS A   8      26.240   7.360   8.480  1.00  0.00           H  \nATOM    136  HZ3 LYS A   8      26.460   8.160   7.090  1.00  0.00           H  \nATOM    137  N   ASP A   9      31.800   4.820   4.220  1.00  0.00           N  \nATOM    138  CA  ASP A   9      33.000   3.990   4.160  1.00  0.00           C  \nATOM    139  C   ASP A   9      34.000   4.370   5.280  1.00  0.00           C  \nATOM    140  O   ASP A   9      34.020   5.520   5.750  1.00  0.00           O  \nATOM    141  CB  ASP A   9      33.650   4.130   2.760  1.00  0.00           C  \nATOM    142  CG  ASP A   9      34.730   3.060   2.460  1.00  0.00           C  \nATOM    143  OD1 ASP A   9      34.820   2.040   3.190  1.00  0.00           O  \nATOM    144  OD2 ASP A   9      35.460   3.210   1.450  1.00  0.00           O  \nATOM    145  H   ASP A   9      31.910   5.780   4.540  1.00  0.00           H  \nATOM    146  HA  ASP A   9      32.670   2.970   4.310  1.00  0.00           H  \nATOM    147  HB2 ASP A   9      32.880   4.000   2.010  1.00  0.00           H  \nATOM    148  HB3 ASP A   9      34.100   5.120   2.690  1.00  0.00           H  \nATOM    149  N   GLY A  10      34.830   3.410   5.730  1.00  0.00           N  \nATOM    150  CA  GLY A  10      35.810   3.570   6.800  1.00  0.00           C  \nATOM    151  C   GLY A  10      36.090   2.250   7.550  1.00  0.00           C  \nATOM    152  O   GLY A  10      35.390   1.260   7.340  1.00  0.00           O  \nATOM    153  H   GLY A  10      34.790   2.510   5.270  1.00  0.00           H  \nATOM    154  HA2 GLY A  10      36.740   3.950   6.390  1.00  0.00           H  \nATOM    155  HA3 GLY A  10      35.460   4.300   7.530  1.00  0.00           H  \nATOM    156  N   GLY A  11      37.100   2.270   8.420  1.00  0.00           N  \nATOM    157  CA  GLY A  11      37.510   1.090   9.200  1.00  0.00           C  \nATOM    158  C   GLY A  11      38.120  -0.010   8.320  1.00  0.00           C  \nATOM    159  O   GLY A  11      39.070   0.270   7.580  1.00  0.00           O  \nATOM    160  H   GLY A  11      37.620   3.120   8.570  1.00  0.00           H  \nATOM    161  HA2 GLY A  11      38.250   1.390   9.940  1.00  0.00           H  \nATOM    162  HA3 GLY A  11      36.640   0.720   9.750  1.00  0.00           H  \nATOM    163  N   PRO A  12      37.630  -1.260   8.390  1.00  0.00           N  \nATOM    164  CA  PRO A  12      38.110  -2.380   7.570  1.00  0.00           C  \nATOM    165  C   PRO A  12      38.080  -2.120   6.040  1.00  0.00           C  \nATOM    166  O   PRO A  12      37.250  -1.350   5.550  1.00  0.00           O  \nATOM    167  CB  PRO A  12      37.260  -3.590   7.940  1.00  0.00           C  \nATOM    168  CG  PRO A  12      36.810  -3.270   9.360  1.00  0.00           C  \nATOM    169  CD  PRO A  12      36.640  -1.770   9.340  1.00  0.00           C  \nATOM    170  HA  PRO A  12      39.140  -2.610   7.860  1.00  0.00           H  \nATOM    171  HB2 PRO A  12      36.370  -3.680   7.310  1.00  0.00           H  \nATOM    172  HB3 PRO A  12      37.800  -4.530   7.870  1.00  0.00           H  \nATOM    173  HG2 PRO A  12      35.870  -3.750   9.610  1.00  0.00           H  \nATOM    174  HG3 PRO A  12      37.600  -3.550  10.060  1.00  0.00           H  \nATOM    175  HD2 PRO A  12      35.640  -1.530   8.970  1.00  0.00           H  \nATOM    176  HD3 PRO A  12      36.780  -1.330  10.320  1.00  0.00           H  \nATOM    177  N   SER A  13      38.960  -2.790   5.300  1.00  0.00           N  \nATOM    178  CA  SER A  13      39.100  -2.670   3.840  1.00  0.00           C  \nATOM    179  C   SER A  13      38.030  -3.430   3.030  1.00  0.00           C  \nATOM    180  O   SER A  13      37.940  -3.250   1.810  1.00  0.00           O  \nATOM    181  CB  SER A  13      40.490  -3.130   3.420  1.00  0.00           C  \nATOM    182  OG  SER A  13      40.700  -4.480   3.800  1.00  0.00           O  \nATOM    183  H   SER A  13      39.620  -3.410   5.750  1.00  0.00           H  \nATOM    184  HA  SER A  13      38.990  -1.610   3.590  1.00  0.00           H  \nATOM    185  HB2 SER A  13      40.610  -3.030   2.350  1.00  0.00           H  \nATOM    186  HB3 SER A  13      41.230  -2.530   3.950  1.00  0.00           H  \nATOM    187  HG  SER A  13      41.590  -4.740   3.520  1.00  0.00           H  \nATOM    188  N   SER A  14      37.180  -4.230   3.680  1.00  0.00           N  \nATOM    189  CA  SER A  14      36.080  -4.970   3.070  1.00  0.00           C  \nATOM    190  C   SER A  14      34.910  -5.140   4.050  1.00  0.00           C  \nATOM    191  O   SER A  14      35.070  -4.990   5.270  1.00  0.00           O  \nATOM    192  CB  SER A  14      36.570  -6.350   2.600  1.00  0.00           C  \nATOM    193  OG  SER A  14      35.570  -7.050   1.890  1.00  0.00           O  \nATOM    194  H   SER A  14      37.290  -4.310   4.680  1.00  0.00           H  \nATOM    195  HA  SER A  14      35.700  -4.440   2.190  1.00  0.00           H  \nATOM    196  HB2 SER A  14      37.420  -6.180   1.930  1.00  0.00           H  \nATOM    197  HB3 SER A  14      36.890  -6.940   3.460  1.00  0.00           H  \nATOM    198  HG  SER A  14      35.940  -7.890   1.580  1.00  0.00           H  \nATOM    199  N   GLY A  15      33.690  -5.400   3.550  1.00  0.00           N  \nATOM    200  CA  GLY A  15      32.440  -5.420   4.310  1.00  0.00           C  \nATOM    201  C   GLY A  15      31.910  -4.020   4.680  1.00  0.00           C  \nATOM    202  O   GLY A  15      32.340  -3.020   4.120  1.00  0.00           O  \nATOM    203  H   GLY A  15      33.620  -5.510   2.550  1.00  0.00           H  \nATOM    204  HA2 GLY A  15      31.710  -5.990   3.750  1.00  0.00           H  \nATOM    205  HA3 GLY A  15      32.630  -5.980   5.220  1.00  0.00           H  \nATOM    206  N   ARG A  16      30.940  -3.970   5.620  1.00  0.00           N  \nATOM    207  CA  ARG A  16      30.320  -2.720   6.080  1.00  0.00           C  \nATOM    208  C   ARG A  16      31.280  -1.880   6.960  1.00  0.00           C  \nATOM    209  O   ARG A  16      32.100  -2.460   7.690  1.00  0.00           O  \nATOM    210  CB  ARG A  16      29.020  -3.000   6.830  1.00  0.00           C  \nATOM    211  CG  ARG A  16      27.940  -3.640   5.930  1.00  0.00           C  \nATOM    212  CD  ARG A  16      26.580  -3.720   6.640  1.00  0.00           C  \nATOM    213  NE  ARG A  16      25.960  -2.390   6.830  1.00  0.00           N  \nATOM    214  CZ  ARG A  16      25.180  -1.740   6.000  1.00  0.00           C  \nATOM    215  NH1 ARG A  16      24.820  -2.230   4.840  1.00  0.00           N  \nATOM    216  NH2 ARG A  16      24.730  -0.570   6.320  1.00  0.00           N  \nATOM    217  H   ARG A  16      30.670  -4.840   6.060  1.00  0.00           H  \nATOM    218  HA  ARG A  16      30.100  -2.110   5.200  1.00  0.00           H  \nATOM    219  HB2 ARG A  16      29.190  -3.670   7.680  1.00  0.00           H  \nATOM    220  HB3 ARG A  16      28.620  -2.070   7.230  1.00  0.00           H  \nATOM    221  HG2 ARG A  16      27.820  -3.030   5.030  1.00  0.00           H  \nATOM    222  HG3 ARG A  16      28.260  -4.640   5.660  1.00  0.00           H  \nATOM    223  HD2 ARG A  16      25.910  -4.380   6.090  1.00  0.00           H  \nATOM    224  HD3 ARG A  16      26.710  -4.220   7.600  1.00  0.00           H  \nATOM    225  HE  ARG A  16      26.160  -1.900   7.690  1.00  0.00           H  \nATOM    226 HH11 ARG A  16      25.130  -3.150   4.550  1.00  0.00           H  \nATOM    227 HH12 ARG A  16      24.220  -1.690   4.230  1.00  0.00           H  \nATOM    228 HH21 ARG A  16      24.110  -0.070   5.690  1.00  0.00           H  \nATOM    229 HH22 ARG A  16      24.970  -0.190   7.230  1.00  0.00           H  \nATOM    230  N   PRO A  17      31.150  -0.540   6.970  1.00  0.00           N  \nATOM    231  CA  PRO A  17      31.930   0.330   7.860  1.00  0.00           C  \nATOM    232  C   PRO A  17      31.510   0.190   9.340  1.00  0.00           C  \nATOM    233  O   PRO A  17      30.400  -0.250   9.620  1.00  0.00           O  \nATOM    234  CB  PRO A  17      31.700   1.740   7.290  1.00  0.00           C  \nATOM    235  CG  PRO A  17      30.280   1.660   6.730  1.00  0.00           C  \nATOM    236  CD  PRO A  17      30.270   0.260   6.140  1.00  0.00           C  \nATOM    237  HA  PRO A  17      32.980   0.080   7.760  1.00  0.00           H  \nATOM    238  HB2 PRO A  17      31.760   2.530   8.040  1.00  0.00           H  \nATOM    239  HB3 PRO A  17      32.390   1.940   6.470  1.00  0.00           H  \nATOM    240  HG2 PRO A  17      29.550   1.740   7.520  1.00  0.00           H  \nATOM    241  HG3 PRO A  17      30.110   2.430   5.980  1.00  0.00           H  \nATOM    242  HD2 PRO A  17      29.260  -0.160   6.110  1.00  0.00           H  \nATOM    243  HD3 PRO A  17      30.650   0.270   5.110  1.00  0.00           H  \nATOM    244  N   PRO A  18      32.370   0.620  10.300  1.00  0.00           N  \nATOM    245  CA  PRO A  18      32.140   0.390  11.730  1.00  0.00           C  \nATOM    246  C   PRO A  18      30.860   0.970  12.390  1.00  0.00           C  \nATOM    247  O   PRO A  18      30.480   0.420  13.430  1.00  0.00           O  \nATOM    248  CB  PRO A  18      33.420   0.900  12.440  1.00  0.00           C  \nATOM    249  CG  PRO A  18      34.100   1.800  11.420  1.00  0.00           C  \nATOM    250  CD  PRO A  18      33.670   1.220  10.070  1.00  0.00           C  \nATOM    251  HA  PRO A  18      32.100  -0.690  11.860  1.00  0.00           H  \nATOM    252  HB2 PRO A  18      33.250   1.410  13.380  1.00  0.00           H  \nATOM    253  HB3 PRO A  18      34.060   0.040  12.630  1.00  0.00           H  \nATOM    254  HG2 PRO A  18      33.740   2.820  11.510  1.00  0.00           H  \nATOM    255  HG3 PRO A  18      35.180   1.790  11.540  1.00  0.00           H  \nATOM    256  HD2 PRO A  18      33.620   1.990   9.300  1.00  0.00           H  \nATOM    257  HD3 PRO A  18      34.380   0.440   9.820  1.00  0.00           H  \nATOM    258  N   PRO A  19      30.120   1.970  11.830  1.00  0.00           N  \nATOM    259  CA  PRO A  19      28.810   2.340  12.350  1.00  0.00           C  \nATOM    260  C   PRO A  19      27.720   1.270  12.250  1.00  0.00           C  \nATOM    261  O   PRO A  19      26.660   1.400  12.870  1.00  0.00           O  \nATOM    262  CB  PRO A  19      28.400   3.610  11.580  1.00  0.00           C  \nATOM    263  CG  PRO A  19      29.730   4.200  11.110  1.00  0.00           C  \nATOM    264  CD  PRO A  19      30.540   2.950  10.830  1.00  0.00           C  \nATOM    265  HA  PRO A  19      28.870   2.600  13.410  1.00  0.00           H  \nATOM    266  HB2 PRO A  19      27.820   3.340  10.690  1.00  0.00           H  \nATOM    267  HB3 PRO A  19      27.850   4.310  12.210  1.00  0.00           H  \nATOM    268  HG2 PRO A  19      29.610   4.820  10.220  1.00  0.00           H  \nATOM    269  HG3 PRO A  19      30.190   4.760  11.930  1.00  0.00           H  \nATOM    270  HD2 PRO A  19      30.280   2.570   9.840  1.00  0.00           H  \nATOM    271  HD3 PRO A  19      31.610   3.170  10.920  1.00  0.00           H  \nATOM    272  N   SER A  20      27.940   0.190  11.470  1.00  0.00           N  \nATOM    273  CA  SER A  20      27.040  -0.970  11.320  1.00  0.00           C  \nATOM    274  C   SER A  20      27.360  -2.070  12.330  1.00  0.00           C  \nATOM    275  O   SER A  20      28.420  -2.720  12.200  1.00  0.00           O  \nATOM    276  CB  SER A  20      27.080  -1.520   9.900  1.00  0.00           C  \nATOM    277  OG  SER A  20      26.620  -0.510   9.020  1.00  0.00           O  \nATOM    278  OXT SER A  20      26.550  -2.300  13.240  1.00  0.00           O  \nATOM    279  H   SER A  20      28.840   0.160  11.010  1.00  0.00           H  \nATOM    280  HA  SER A  20      26.020  -0.650  11.520  1.00  0.00           H  \nATOM    281  HB2 SER A  20      28.110  -1.780   9.650  1.00  0.00           H  \nATOM    282  HB3 SER A  20      26.450  -2.410   9.850  1.00  0.00           H  \nATOM    283  HG  SER A  20      27.110   0.300   9.200  1.00  0.00           H  \nTER     284      SER A  20\nENDMDL\nEND\n",
           "type": "blob"
          }
         ],
         "kwargs": {
          "defaultRepresentation": true,
          "ext": "pdb",
          "height": "400px",
          "name": "nglview.adaptor.MDTrajTrajectory",
          "width": "400px"
         },
         "methodName": "loadFile",
         "reconstruc_color_scheme": false,
         "target": "Stage",
         "type": "call_method"
        },
        {
         "args": [
          "ball+stick"
         ],
         "component_index": 0,
         "kwargs": {
          "aspectRatio": 2,
          "radius": 0.1,
          "sele": "protein"
         },
         "methodName": "addRepresentation",
         "reconstruc_color_scheme": false,
         "target": "compList",
         "type": "call_method"
        },
        {
         "args": [
          "ribbon"
         ],
         "component_index": 0,
         "kwargs": {
          "sele": "protein"
         },
         "methodName": "addRepresentation",
         "reconstruc_color_scheme": false,
         "target": "compList",
         "type": "call_method"
        }
       ],
       "_ngl_original_stage_parameters": {
        "ambientColor": 14540253,
        "ambientIntensity": 0.2,
        "backgroundColor": "white",
        "cameraEyeSep": 0.3,
        "cameraFov": 40,
        "cameraType": "perspective",
        "clipDist": 10,
        "clipFar": 100,
        "clipMode": "scene",
        "clipNear": 0,
        "clipScale": "relative",
        "fogFar": 100,
        "fogNear": 50,
        "hoverTimeout": 0,
        "impostor": true,
        "lightColor": 14540253,
        "lightIntensity": 1,
        "mousePreset": "default",
        "panSpeed": 1,
        "quality": "medium",
        "rotateSpeed": 2,
        "sampleLevel": 0,
        "tooltip": true,
        "workerDefault": true,
        "zoomSpeed": 1.2
       },
       "_ngl_repr_dict": {
        "0": {
         "0": {
          "params": {
           "aspectRatio": 5,
           "assembly": "default",
           "capped": true,
           "clipCenter": {
            "x": 0,
            "y": 0,
            "z": 0
           },
           "clipNear": 0,
           "clipRadius": 0,
           "colorMode": "hcl",
           "colorReverse": true,
           "colorScale": "Spectral",
           "colorScheme": "residueindex",
           "colorValue": 9474192,
           "defaultAssembly": "",
           "depthWrite": true,
           "diffuse": 16777215,
           "diffuseInterior": false,
           "disablePicking": false,
           "flatShaded": false,
           "interiorColor": 2236962,
           "interiorDarkening": 0,
           "lazy": false,
           "matrix": {
            "elements": [
             1,
             0,
             0,
             0,
             0,
             1,
             0,
             0,
             0,
             0,
             1,
             0,
             0,
             0,
             0,
             1
            ]
           },
           "metalness": 0,
           "opacity": 1,
           "quality": "high",
           "radialSegments": 20,
           "radiusData": {},
           "radiusScale": 0.7,
           "radiusSize": 1,
           "radiusType": "sstruc",
           "roughness": 0.4,
           "sele": "",
           "side": "double",
           "smoothSheet": false,
           "subdiv": 6,
           "tension": null,
           "useInteriorColor": true,
           "visible": true,
           "wireframe": false
          },
          "type": "cartoon"
         },
         "1": {
          "params": {
           "aspectRatio": 1,
           "assembly": "default",
           "bondScale": 0.4,
           "clipCenter": {
            "x": 0,
            "y": 0,
            "z": 0
           },
           "clipNear": 0,
           "clipRadius": 0,
           "colorMode": "hcl",
           "colorReverse": true,
           "colorScale": "Spectral",
           "colorScheme": "residueindex",
           "colorValue": 9474192,
           "cylinderOnly": false,
           "defaultAssembly": "",
           "depthWrite": true,
           "diffuse": 16777215,
           "diffuseInterior": false,
           "disableImpostor": false,
           "disablePicking": false,
           "flatShaded": false,
           "interiorColor": 2236962,
           "interiorDarkening": 0,
           "lazy": false,
           "lineOnly": false,
           "linewidth": 2,
           "matrix": {
            "elements": [
             1,
             0,
             0,
             0,
             0,
             1,
             0,
             0,
             0,
             0,
             1,
             0,
             0,
             0,
             0,
             1
            ]
           },
           "metalness": 0,
           "opacity": 1,
           "openEnded": true,
           "quality": "high",
           "radialSegments": 20,
           "radiusData": {},
           "radiusScale": 1,
           "radiusSize": 0.3,
           "radiusType": "size",
           "roughness": 0.4,
           "sele": "",
           "side": "double",
           "sphereDetail": 2,
           "useInteriorColor": true,
           "visible": true,
           "wireframe": false
          },
          "type": "base"
         },
         "2": {
          "params": {
           "aspectRatio": 1.5,
           "assembly": "default",
           "bondScale": 0.3,
           "bondSpacing": 0.75,
           "clipCenter": {
            "x": 0,
            "y": 0,
            "z": 0
           },
           "clipNear": 0,
           "clipRadius": 0,
           "colorMode": "hcl",
           "colorReverse": false,
           "colorScale": "",
           "colorScheme": "element",
           "colorValue": 9474192,
           "cylinderOnly": false,
           "defaultAssembly": "",
           "depthWrite": true,
           "diffuse": 16777215,
           "diffuseInterior": false,
           "disableImpostor": false,
           "disablePicking": false,
           "flatShaded": false,
           "interiorColor": 2236962,
           "interiorDarkening": 0,
           "lazy": false,
           "lineOnly": false,
           "linewidth": 2,
           "matrix": {
            "elements": [
             1,
             0,
             0,
             0,
             0,
             1,
             0,
             0,
             0,
             0,
             1,
             0,
             0,
             0,
             0,
             1
            ]
           },
           "metalness": 0,
           "multipleBond": "off",
           "opacity": 1,
           "openEnded": true,
           "quality": "high",
           "radialSegments": 20,
           "radiusData": {},
           "radiusScale": 2,
           "radiusSize": 0.15,
           "radiusType": "size",
           "roughness": 0.4,
           "sele": "ligand",
           "side": "double",
           "sphereDetail": 2,
           "useInteriorColor": true,
           "visible": true,
           "wireframe": false
          },
          "type": "ball+stick"
         },
         "3": {
          "params": {
           "aspectRatio": 2,
           "assembly": "default",
           "bondScale": 0.4,
           "bondSpacing": 1,
           "clipCenter": {
            "x": 0,
            "y": 0,
            "z": 0
           },
           "clipNear": 0,
           "clipRadius": 0,
           "colorMode": "hcl",
           "colorReverse": false,
           "colorScale": "",
           "colorScheme": "element",
           "colorValue": 9474192,
           "cylinderOnly": false,
           "defaultAssembly": "",
           "depthWrite": true,
           "diffuse": 16777215,
           "diffuseInterior": false,
           "disableImpostor": false,
           "disablePicking": false,
           "flatShaded": false,
           "interiorColor": 2236962,
           "interiorDarkening": 0,
           "lazy": false,
           "lineOnly": false,
           "linewidth": 2,
           "matrix": {
            "elements": [
             1,
             0,
             0,
             0,
             0,
             1,
             0,
             0,
             0,
             0,
             1,
             0,
             0,
             0,
             0,
             1
            ]
           },
           "metalness": 0,
           "multipleBond": "off",
           "opacity": 1,
           "openEnded": true,
           "quality": "medium",
           "radialSegments": 10,
           "radiusData": {},
           "radiusScale": 1,
           "radiusSize": 0.1,
           "radiusType": "size",
           "roughness": 0.4,
           "sele": "protein",
           "side": "double",
           "sphereDetail": 1,
           "useInteriorColor": true,
           "visible": true,
           "wireframe": false
          },
          "type": "ball+stick"
         },
         "4": {
          "params": {
           "assembly": "default",
           "clipCenter": {
            "x": 0,
            "y": 0,
            "z": 0
           },
           "clipNear": 0,
           "clipRadius": 0,
           "colorMode": "hcl",
           "colorReverse": false,
           "colorScale": "RdYlBu",
           "colorScheme": "chainname",
           "colorValue": 9474192,
           "defaultAssembly": "",
           "depthWrite": true,
           "diffuse": 16777215,
           "diffuseInterior": false,
           "disablePicking": false,
           "flatShaded": false,
           "interiorColor": 2236962,
           "interiorDarkening": 0,
           "lazy": false,
           "matrix": {
            "elements": [
             1,
             0,
             0,
             0,
             0,
             1,
             0,
             0,
             0,
             0,
             1,
             0,
             0,
             0,
             0,
             1
            ]
           },
           "metalness": 0,
           "opacity": 1,
           "quality": "medium",
           "radiusData": {},
           "radiusScale": 4,
           "radiusSize": 1,
           "radiusType": "sstruc",
           "roughness": 0.4,
           "sele": "protein",
           "smoothSheet": false,
           "subdiv": 6,
           "tension": null,
           "useInteriorColor": false,
           "visible": true
          },
          "type": "ribbon"
         }
        }
       },
       "_ngl_serialize": false,
       "_ngl_version": "2.2.2",
       "_ngl_view_id": [
        "D2FCEC12-EAD1-4F85-B40E-ECDE2863D774"
       ],
       "_player_dict": {},
       "_scene_position": {},
       "_scene_rotation": {},
       "_synced_model_ids": [],
       "_synced_repr_model_ids": [],
       "_view_height": "400px",
       "_view_width": "400px",
       "background": "white",
       "frame": 5000,
       "gui_style": null,
       "layout": "IPY_MODEL_a999ab326a80407a8609a789b818cb64",
       "max_frame": 5000,
       "n_components": 1,
       "picked": {}
      }
     },
     "119ac9c3fcab43688f84fcad537d190c": {
      "model_module": "@jupyter-widgets/controls",
      "model_module_version": "2.0.0",
      "model_name": "PlayModel",
      "state": {
       "layout": "IPY_MODEL_c90c1d5460dd4cac99e14a8ef008ccb1",
       "max": 4831,
       "style": "IPY_MODEL_f389a93d267b4d2ca629caa34217f2a7"
      }
     },
     "1425c1906de64d829399bc82e4874692": {
      "model_module": "@jupyter-widgets/base",
      "model_module_version": "2.0.0",
      "model_name": "LayoutModel",
      "state": {}
     },
     "172328e483ab4288aff7a48374c76e87": {
      "model_module": "@jupyter-widgets/controls",
      "model_module_version": "2.0.0",
      "model_name": "LinkModel",
      "state": {
       "source": [
        "IPY_MODEL_ba7d1c62570140749ea7f156cc88ffae",
        "max"
       ],
       "target": [
        "IPY_MODEL_fb5ae6c3db7c4ca98607cd46ffa9c8d0",
        "max_frame"
       ]
      }
     },
     "1c6c4e991c354a8badf099f7c5b8656d": {
      "model_module": "@jupyter-widgets/controls",
      "model_module_version": "2.0.0",
      "model_name": "LinkModel",
      "state": {
       "source": [
        "IPY_MODEL_119ac9c3fcab43688f84fcad537d190c",
        "value"
       ],
       "target": [
        "IPY_MODEL_3d5ee802772b4b8186a0763087553be3",
        "frame"
       ]
      }
     },
     "1e05edeb30f54fd285ad6ba3a3bf1233": {
      "model_module": "@jupyter-widgets/base",
      "model_module_version": "2.0.0",
      "model_name": "LayoutModel",
      "state": {
       "width": "34px"
      }
     },
     "1e34d23511a045ce96af2498e21a3fd2": {
      "model_module": "@jupyter-widgets/controls",
      "model_module_version": "2.0.0",
      "model_name": "PlayModel",
      "state": {
       "layout": "IPY_MODEL_d53d924cd4fb443a87bcbe93718844c6",
       "max": 5000,
       "style": "IPY_MODEL_4492592803c249539e1cd39a112850ee",
       "value": 5000
      }
     },
     "2350aabae32d46f3afc1c127f8bb94c5": {
      "model_module": "@jupyter-widgets/base",
      "model_module_version": "2.0.0",
      "model_name": "LayoutModel",
      "state": {
       "width": "34px"
      }
     },
     "260468cd296f4cc9b52984e391ac2dd3": {
      "model_module": "nglview-js-widgets",
      "model_module_version": "3.1.0",
      "model_name": "NGLModel",
      "state": {
       "_camera_orientation": [
        50.21237037353151,
        0.10075411706662121,
        5.037034141304765,
        0,
        1.313128839723026e-16,
        50.45439002777831,
        -1.0092223671263327,
        0,
        -5.03804171606148,
        1.0041804589824497,
        50.20232823420149,
        0,
        1.3650002479553223,
        -1.4749999046325684,
        -0.5400002002716064,
        1
       ],
       "_camera_str": "orthographic",
       "_gui_theme": null,
       "_ibtn_fullscreen": "IPY_MODEL_fbbca06a10fb44fcb67f5910119bb1bd",
       "_igui": null,
       "_iplayer": "IPY_MODEL_e05a55b36f344d2c9d019826c17a0a63",
       "_ngl_color_dict": {},
       "_ngl_coordinate_resource": {},
       "_ngl_full_stage_parameters": {
        "ambientColor": 14540253,
        "ambientIntensity": 0.2,
        "backgroundColor": "white",
        "cameraEyeSep": 0.3,
        "cameraFov": 40,
        "cameraType": "perspective",
        "clipDist": 10,
        "clipFar": 100,
        "clipMode": "scene",
        "clipNear": 0,
        "clipScale": "relative",
        "fogFar": 100,
        "fogNear": 50,
        "hoverTimeout": 0,
        "impostor": true,
        "lightColor": 14540253,
        "lightIntensity": 1,
        "mousePreset": "default",
        "panSpeed": 1,
        "quality": "medium",
        "rotateSpeed": 2,
        "sampleLevel": 0,
        "tooltip": true,
        "workerDefault": true,
        "zoomSpeed": 1.2
       },
       "_ngl_msg_archive": [
        {
         "args": [
          {
           "binary": false,
           "data": "MODEL        0\nATOM      0  N   GLY A   1       2.450   8.950  -5.740  1.00  0.00           N  \nATOM      1  CA  GLY A   1       3.120   9.210  -4.460  1.00  0.00           C  \nATOM      2  C   GLY A   1       4.200   8.190  -4.190  1.00  0.00           C  \nATOM      3  O   GLY A   1       4.690   7.520  -5.110  1.00  0.00           O  \nATOM      4  H   GLY A   1       1.770   9.670  -5.940  1.00  0.00           H  \nATOM      5  H2  GLY A   1       2.030   8.040  -5.730  1.00  0.00           H  \nATOM      6  H3  GLY A   1       3.150   8.960  -6.470  1.00  0.00           H  \nATOM      7  HA2 GLY A   1       3.540  10.210  -4.470  1.00  0.00           H  \nATOM      8  HA3 GLY A   1       2.380   9.140  -3.660  1.00  0.00           H  \nATOM      9  N   TYR A   2       4.610   8.050  -2.930  1.00  0.00           N  \nATOM     10  CA  TYR A   2       5.640   7.070  -2.480  1.00  0.00           C  \nATOM     11  C   TYR A   2       5.100   5.640  -2.410  1.00  0.00           C  \nATOM     12  O   TYR A   2       3.870   5.410  -2.480  1.00  0.00           O  \nATOM     13  CB  TYR A   2       6.220   7.540  -1.130  1.00  0.00           C  \nATOM     14  CG  TYR A   2       6.810   8.950  -1.150  1.00  0.00           C  \nATOM     15  CD1 TYR A   2       6.140  10.010  -0.510  1.00  0.00           C  \nATOM     16  CD2 TYR A   2       8.000   9.200  -1.850  1.00  0.00           C  \nATOM     17  CE1 TYR A   2       6.670  11.320  -0.560  1.00  0.00           C  \nATOM     18  CE2 TYR A   2       8.530  10.500  -1.910  1.00  0.00           C  \nATOM     19  CZ  TYR A   2       7.870  11.560  -1.250  1.00  0.00           C  \nATOM     20  OH  TYR A   2       8.390  12.820  -1.300  1.00  0.00           O  \nATOM     21  H   TYR A   2       4.180   8.610  -2.210  1.00  0.00           H  \nATOM     22  HA  TYR A   2       6.450   7.070  -3.210  1.00  0.00           H  \nATOM     23  HB2 TYR A   2       5.430   7.510  -0.380  1.00  0.00           H  \nATOM     24  HB3 TYR A   2       7.000   6.830  -0.850  1.00  0.00           H  \nATOM     25  HD1 TYR A   2       5.230   9.830   0.040  1.00  0.00           H  \nATOM     26  HD2 TYR A   2       8.540   8.410  -2.350  1.00  0.00           H  \nATOM     27  HE1 TYR A   2       6.190  12.130  -0.030  1.00  0.00           H  \nATOM     28  HE2 TYR A   2       9.440  10.690  -2.460  1.00  0.00           H  \nATOM     29  HH  TYR A   2       7.840  13.440  -0.820  1.00  0.00           H  \nATOM     30  N   ASP A   3       5.990   4.670  -2.270  1.00  0.00           N  \nATOM     31  CA  ASP A   3       5.680   3.220  -2.300  1.00  0.00           C  \nATOM     32  C   ASP A   3       4.650   2.790  -1.210  1.00  0.00           C  \nATOM     33  O   ASP A   3       4.930   3.000  -0.020  1.00  0.00           O  \nATOM     34  CB  ASP A   3       7.010   2.450  -2.130  1.00  0.00           C  \nATOM     35  CG  ASP A   3       6.880   0.950  -2.340  1.00  0.00           C  \nATOM     36  OD1 ASP A   3       5.910   0.460  -2.970  1.00  0.00           O  \nATOM     37  OD2 ASP A   3       7.800   0.210  -1.880  1.00  0.00           O  \nATOM     38  H   ASP A   3       6.960   4.920  -2.180  1.00  0.00           H  \nATOM     39  HA  ASP A   3       5.290   2.980  -3.290  1.00  0.00           H  \nATOM     40  HB2 ASP A   3       7.700   2.840  -2.880  1.00  0.00           H  \nATOM     41  HB3 ASP A   3       7.420   2.650  -1.150  1.00  0.00           H  \nATOM     42  N   PRO A   4       3.490   2.210  -1.580  1.00  0.00           N  \nATOM     43  CA  PRO A   4       2.460   1.760  -0.610  1.00  0.00           C  \nATOM     44  C   PRO A   4       2.930   0.650   0.350  1.00  0.00           C  \nATOM     45  O   PRO A   4       3.880  -0.080   0.070  1.00  0.00           O  \nATOM     46  CB  PRO A   4       1.270   1.300  -1.440  1.00  0.00           C  \nATOM     47  CG  PRO A   4       1.430   2.070  -2.750  1.00  0.00           C  \nATOM     48  CD  PRO A   4       2.950   2.120  -2.920  1.00  0.00           C  \nATOM     49  HA  PRO A   4       2.150   2.610  -0.010  1.00  0.00           H  \nATOM     50  HB2 PRO A   4       1.360   0.240  -1.680  1.00  0.00           H  \nATOM     51  HB3 PRO A   4       0.330   1.510  -0.940  1.00  0.00           H  \nATOM     52  HG2 PRO A   4       0.930   1.590  -3.590  1.00  0.00           H  \nATOM     53  HG3 PRO A   4       1.050   3.080  -2.620  1.00  0.00           H  \nATOM     54  HD2 PRO A   4       3.290   1.210  -3.410  1.00  0.00           H  \nATOM     55  HD3 PRO A   4       3.200   2.980  -3.540  1.00  0.00           H  \nATOM     56  N   GLU A   5       2.210   0.490   1.460  1.00  0.00           N  \nATOM     57  CA  GLU A   5       2.410  -0.590   2.450  1.00  0.00           C  \nATOM     58  C   GLU A   5       1.060  -1.230   2.840  1.00  0.00           C  \nATOM     59  O   GLU A   5       0.160  -0.540   3.310  1.00  0.00           O  \nATOM     60  CB  GLU A   5       3.110  -0.060   3.700  1.00  0.00           C  \nATOM     61  CG  GLU A   5       4.550   0.440   3.430  1.00  0.00           C  \nATOM     62  CD  GLU A   5       5.260   0.940   4.700  1.00  0.00           C  \nATOM     63  OE1 GLU A   5       4.980   0.450   5.830  1.00  0.00           O  \nATOM     64  OE2 GLU A   5       6.140   1.830   4.600  1.00  0.00           O  \nATOM     65  H   GLU A   5       1.430   1.120   1.590  1.00  0.00           H  \nATOM     66  HA  GLU A   5       3.020  -1.370   2.010  1.00  0.00           H  \nATOM     67  HB2 GLU A   5       2.520   0.760   4.120  1.00  0.00           H  \nATOM     68  HB3 GLU A   5       3.170  -0.860   4.440  1.00  0.00           H  \nATOM     69  HG2 GLU A   5       5.120  -0.370   2.990  1.00  0.00           H  \nATOM     70  HG3 GLU A   5       4.490   1.270   2.720  1.00  0.00           H  \nATOM     71  N   THR A   6       0.940  -2.550   2.650  1.00  0.00           N  \nATOM     72  CA  THR A   6      -0.260  -3.370   2.980  1.00  0.00           C  \nATOM     73  C   THR A   6      -1.580  -2.780   2.440  1.00  0.00           C  \nATOM     74  O   THR A   6      -2.630  -2.780   3.090  1.00  0.00           O  \nATOM     75  CB  THR A   6      -0.310  -3.730   4.490  1.00  0.00           C  \nATOM     76  OG1 THR A   6       0.970  -4.060   4.960  1.00  0.00           O  \nATOM     77  CG2 THR A   6      -1.170  -4.970   4.770  1.00  0.00           C  \nATOM     78  H   THR A   6       1.740  -3.040   2.270  1.00  0.00           H  \nATOM     79  HA  THR A   6      -0.170  -4.320   2.460  1.00  0.00           H  \nATOM     80  HB  THR A   6      -0.680  -2.880   5.060  1.00  0.00           H  \nATOM     81  HG1 THR A   6       1.500  -3.270   4.910  1.00  0.00           H  \nATOM     82 HG21 THR A   6      -0.780  -5.840   4.240  1.00  0.00           H  \nATOM     83 HG22 THR A   6      -2.210  -4.800   4.490  1.00  0.00           H  \nATOM     84 HG23 THR A   6      -1.110  -5.210   5.830  1.00  0.00           H  \nATOM     85  N   GLY A   7      -1.550  -2.230   1.210  1.00  0.00           N  \nATOM     86  CA  GLY A   7      -2.650  -1.470   0.580  1.00  0.00           C  \nATOM     87  C   GLY A   7      -3.770  -2.330  -0.010  1.00  0.00           C  \nATOM     88  O   GLY A   7      -4.360  -1.940  -1.030  1.00  0.00           O  \nATOM     89  H   GLY A   7      -0.660  -2.250   0.730  1.00  0.00           H  \nATOM     90  HA2 GLY A   7      -3.100  -0.830   1.330  1.00  0.00           H  \nATOM     91  HA3 GLY A   7      -2.240  -0.870  -0.230  1.00  0.00           H  \nATOM     92  N   THR A   8      -4.080  -3.500   0.560  1.00  0.00           N  \nATOM     93  CA  THR A   8      -5.020  -4.490   0.010  1.00  0.00           C  \nATOM     94  C   THR A   8      -5.770  -5.230   1.110  1.00  0.00           C  \nATOM     95  O   THR A   8      -5.170  -5.620   2.120  1.00  0.00           O  \nATOM     96  CB  THR A   8      -4.290  -5.500  -0.900  1.00  0.00           C  \nATOM     97  OG1 THR A   8      -3.590  -4.830  -1.930  1.00  0.00           O  \nATOM     98  CG2 THR A   8      -5.230  -6.490  -1.590  1.00  0.00           C  \nATOM     99  H   THR A   8      -3.600  -3.700   1.420  1.00  0.00           H  \nATOM    100  HA  THR A   8      -5.750  -3.940  -0.580  1.00  0.00           H  \nATOM    101  HB  THR A   8      -3.580  -6.050  -0.290  1.00  0.00           H  \nATOM    102  HG1 THR A   8      -4.160  -4.140  -2.270  1.00  0.00           H  \nATOM    103 HG21 THR A   8      -5.640  -7.170  -0.840  1.00  0.00           H  \nATOM    104 HG22 THR A   8      -4.670  -7.120  -2.280  1.00  0.00           H  \nATOM    105 HG23 THR A   8      -6.030  -5.970  -2.120  1.00  0.00           H  \nATOM    106  N   TRP A   9      -7.060  -5.480   0.920  1.00  0.00           N  \nATOM    107  CA  TRP A   9      -7.910  -6.330   1.770  1.00  0.00           C  \nATOM    108  C   TRP A   9      -8.980  -7.060   0.920  1.00  0.00           C  \nATOM    109  O   TRP A   9      -9.340  -6.600  -0.160  1.00  0.00           O  \nATOM    110  CB  TRP A   9      -8.550  -5.500   2.890  1.00  0.00           C  \nATOM    111  CG  TRP A   9      -9.400  -6.270   3.840  1.00  0.00           C  \nATOM    112  CD1 TRP A   9     -10.750  -6.180   3.940  1.00  0.00           C  \nATOM    113  CD2 TRP A   9      -9.010  -7.280   4.810  1.00  0.00           C  \nATOM    114  NE1 TRP A   9     -11.210  -7.060   4.890  1.00  0.00           N  \nATOM    115  CE2 TRP A   9     -10.170  -7.780   5.450  1.00  0.00           C  \nATOM    116  CE3 TRP A   9      -7.770  -7.850   5.180  1.00  0.00           C  \nATOM    117  CZ2 TRP A   9     -10.120  -8.800   6.430  1.00  0.00           C  \nATOM    118  CZ3 TRP A   9      -7.710  -8.870   6.170  1.00  0.00           C  \nATOM    119  CH2 TRP A   9      -8.880  -9.340   6.790  1.00  0.00           C  \nATOM    120  H   TRP A   9      -7.500  -5.150   0.070  1.00  0.00           H  \nATOM    121  HA  TRP A   9      -7.290  -7.110   2.200  1.00  0.00           H  \nATOM    122  HB2 TRP A   9      -7.770  -5.020   3.480  1.00  0.00           H  \nATOM    123  HB3 TRP A   9      -9.140  -4.700   2.430  1.00  0.00           H  \nATOM    124  HD1 TRP A   9     -11.350  -5.510   3.350  1.00  0.00           H  \nATOM    125  HE1 TRP A   9     -12.170  -7.210   5.160  1.00  0.00           H  \nATOM    126  HE3 TRP A   9      -6.850  -7.520   4.720  1.00  0.00           H  \nATOM    127  HZ2 TRP A   9     -11.040  -9.150   6.880  1.00  0.00           H  \nATOM    128  HZ3 TRP A   9      -6.750  -9.300   6.430  1.00  0.00           H  \nATOM    129  HH2 TRP A   9      -8.840 -10.110   7.550  1.00  0.00           H  \nATOM    130  N   GLY A  10      -9.500  -8.190   1.430  1.00  0.00           N  \nATOM    131  CA  GLY A  10     -10.480  -9.040   0.760  1.00  0.00           C  \nATOM    132  C   GLY A  10      -9.940  -9.850  -0.410  1.00  0.00           C  \nATOM    133  O   GLY A  10     -10.550  -9.840  -1.490  1.00  0.00           O  \nATOM    134  OXT GLY A  10      -8.880 -10.490  -0.240  1.00  0.00           O  \nATOM    135  H   GLY A  10      -9.170  -8.470   2.340  1.00  0.00           H  \nATOM    136  HA2 GLY A  10     -10.910  -9.720   1.490  1.00  0.00           H  \nATOM    137  HA3 GLY A  10     -11.320  -8.420   0.410  1.00  0.00           H  \nTER     138      GLY A  10\nENDMDL\nEND\n",
           "type": "blob"
          }
         ],
         "kwargs": {
          "defaultRepresentation": true,
          "ext": "pdb",
          "height": "400px",
          "name": "nglview.adaptor.MDTrajTrajectory",
          "width": "400px"
         },
         "methodName": "loadFile",
         "reconstruc_color_scheme": false,
         "target": "Stage",
         "type": "call_method"
        },
        {
         "args": [
          "ball+stick"
         ],
         "component_index": 0,
         "kwargs": {
          "aspectRatio": 2,
          "radius": 0.1,
          "sele": "protein"
         },
         "methodName": "addRepresentation",
         "reconstruc_color_scheme": false,
         "target": "compList",
         "type": "call_method"
        },
        {
         "args": [
          "ribbon"
         ],
         "component_index": 0,
         "kwargs": {
          "sele": "protein"
         },
         "methodName": "addRepresentation",
         "reconstruc_color_scheme": false,
         "target": "compList",
         "type": "call_method"
        }
       ],
       "_ngl_original_stage_parameters": {
        "ambientColor": 14540253,
        "ambientIntensity": 0.2,
        "backgroundColor": "white",
        "cameraEyeSep": 0.3,
        "cameraFov": 40,
        "cameraType": "perspective",
        "clipDist": 10,
        "clipFar": 100,
        "clipMode": "scene",
        "clipNear": 0,
        "clipScale": "relative",
        "fogFar": 100,
        "fogNear": 50,
        "hoverTimeout": 0,
        "impostor": true,
        "lightColor": 14540253,
        "lightIntensity": 1,
        "mousePreset": "default",
        "panSpeed": 1,
        "quality": "medium",
        "rotateSpeed": 2,
        "sampleLevel": 0,
        "tooltip": true,
        "workerDefault": true,
        "zoomSpeed": 1.2
       },
       "_ngl_repr_dict": {
        "0": {
         "0": {
          "params": {
           "aspectRatio": 5,
           "assembly": "default",
           "capped": true,
           "clipCenter": {
            "x": 0,
            "y": 0,
            "z": 0
           },
           "clipNear": 0,
           "clipRadius": 0,
           "colorMode": "hcl",
           "colorReverse": true,
           "colorScale": "Spectral",
           "colorScheme": "residueindex",
           "colorValue": 9474192,
           "defaultAssembly": "",
           "depthWrite": true,
           "diffuse": 16777215,
           "diffuseInterior": false,
           "disablePicking": false,
           "flatShaded": false,
           "interiorColor": 2236962,
           "interiorDarkening": 0,
           "lazy": false,
           "matrix": {
            "elements": [
             1,
             0,
             0,
             0,
             0,
             1,
             0,
             0,
             0,
             0,
             1,
             0,
             0,
             0,
             0,
             1
            ]
           },
           "metalness": 0,
           "opacity": 1,
           "quality": "high",
           "radialSegments": 20,
           "radiusData": {},
           "radiusScale": 0.7,
           "radiusSize": 1,
           "radiusType": "sstruc",
           "roughness": 0.4,
           "sele": "",
           "side": "double",
           "smoothSheet": false,
           "subdiv": 6,
           "tension": null,
           "useInteriorColor": true,
           "visible": true,
           "wireframe": false
          },
          "type": "cartoon"
         },
         "1": {
          "params": {
           "aspectRatio": 1,
           "assembly": "default",
           "bondScale": 0.4,
           "clipCenter": {
            "x": 0,
            "y": 0,
            "z": 0
           },
           "clipNear": 0,
           "clipRadius": 0,
           "colorMode": "hcl",
           "colorReverse": true,
           "colorScale": "Spectral",
           "colorScheme": "residueindex",
           "colorValue": 9474192,
           "cylinderOnly": false,
           "defaultAssembly": "",
           "depthWrite": true,
           "diffuse": 16777215,
           "diffuseInterior": false,
           "disableImpostor": false,
           "disablePicking": false,
           "flatShaded": false,
           "interiorColor": 2236962,
           "interiorDarkening": 0,
           "lazy": false,
           "lineOnly": false,
           "linewidth": 2,
           "matrix": {
            "elements": [
             1,
             0,
             0,
             0,
             0,
             1,
             0,
             0,
             0,
             0,
             1,
             0,
             0,
             0,
             0,
             1
            ]
           },
           "metalness": 0,
           "opacity": 1,
           "openEnded": true,
           "quality": "high",
           "radialSegments": 20,
           "radiusData": {},
           "radiusScale": 1,
           "radiusSize": 0.3,
           "radiusType": "size",
           "roughness": 0.4,
           "sele": "",
           "side": "double",
           "sphereDetail": 2,
           "useInteriorColor": true,
           "visible": true,
           "wireframe": false
          },
          "type": "base"
         },
         "2": {
          "params": {
           "aspectRatio": 1.5,
           "assembly": "default",
           "bondScale": 0.3,
           "bondSpacing": 0.75,
           "clipCenter": {
            "x": 0,
            "y": 0,
            "z": 0
           },
           "clipNear": 0,
           "clipRadius": 0,
           "colorMode": "hcl",
           "colorReverse": false,
           "colorScale": "",
           "colorScheme": "element",
           "colorValue": 9474192,
           "cylinderOnly": false,
           "defaultAssembly": "",
           "depthWrite": true,
           "diffuse": 16777215,
           "diffuseInterior": false,
           "disableImpostor": false,
           "disablePicking": false,
           "flatShaded": false,
           "interiorColor": 2236962,
           "interiorDarkening": 0,
           "lazy": false,
           "lineOnly": false,
           "linewidth": 2,
           "matrix": {
            "elements": [
             1,
             0,
             0,
             0,
             0,
             1,
             0,
             0,
             0,
             0,
             1,
             0,
             0,
             0,
             0,
             1
            ]
           },
           "metalness": 0,
           "multipleBond": "off",
           "opacity": 1,
           "openEnded": true,
           "quality": "high",
           "radialSegments": 20,
           "radiusData": {},
           "radiusScale": 2,
           "radiusSize": 0.15,
           "radiusType": "size",
           "roughness": 0.4,
           "sele": "ligand",
           "side": "double",
           "sphereDetail": 2,
           "useInteriorColor": true,
           "visible": true,
           "wireframe": false
          },
          "type": "ball+stick"
         },
         "3": {
          "params": {
           "aspectRatio": 2,
           "assembly": "default",
           "bondScale": 0.4,
           "bondSpacing": 1,
           "clipCenter": {
            "x": 0,
            "y": 0,
            "z": 0
           },
           "clipNear": 0,
           "clipRadius": 0,
           "colorMode": "hcl",
           "colorReverse": false,
           "colorScale": "",
           "colorScheme": "element",
           "colorValue": 9474192,
           "cylinderOnly": false,
           "defaultAssembly": "",
           "depthWrite": true,
           "diffuse": 16777215,
           "diffuseInterior": false,
           "disableImpostor": false,
           "disablePicking": false,
           "flatShaded": false,
           "interiorColor": 2236962,
           "interiorDarkening": 0,
           "lazy": false,
           "lineOnly": false,
           "linewidth": 2,
           "matrix": {
            "elements": [
             1,
             0,
             0,
             0,
             0,
             1,
             0,
             0,
             0,
             0,
             1,
             0,
             0,
             0,
             0,
             1
            ]
           },
           "metalness": 0,
           "multipleBond": "off",
           "opacity": 1,
           "openEnded": true,
           "quality": "medium",
           "radialSegments": 10,
           "radiusData": {},
           "radiusScale": 1,
           "radiusSize": 0.1,
           "radiusType": "size",
           "roughness": 0.4,
           "sele": "protein",
           "side": "double",
           "sphereDetail": 1,
           "useInteriorColor": true,
           "visible": true,
           "wireframe": false
          },
          "type": "ball+stick"
         },
         "4": {
          "params": {
           "assembly": "default",
           "clipCenter": {
            "x": 0,
            "y": 0,
            "z": 0
           },
           "clipNear": 0,
           "clipRadius": 0,
           "colorMode": "hcl",
           "colorReverse": false,
           "colorScale": "RdYlBu",
           "colorScheme": "chainname",
           "colorValue": 9474192,
           "defaultAssembly": "",
           "depthWrite": true,
           "diffuse": 16777215,
           "diffuseInterior": false,
           "disablePicking": false,
           "flatShaded": false,
           "interiorColor": 2236962,
           "interiorDarkening": 0,
           "lazy": false,
           "matrix": {
            "elements": [
             1,
             0,
             0,
             0,
             0,
             1,
             0,
             0,
             0,
             0,
             1,
             0,
             0,
             0,
             0,
             1
            ]
           },
           "metalness": 0,
           "opacity": 1,
           "quality": "medium",
           "radiusData": {},
           "radiusScale": 4,
           "radiusSize": 1,
           "radiusType": "sstruc",
           "roughness": 0.4,
           "sele": "protein",
           "smoothSheet": false,
           "subdiv": 6,
           "tension": null,
           "useInteriorColor": false,
           "visible": true
          },
          "type": "ribbon"
         }
        }
       },
       "_ngl_serialize": false,
       "_ngl_version": "2.2.2",
       "_ngl_view_id": [
        "697FCAA9-8452-4425-BCC1-35BF26ADD6B9"
       ],
       "_player_dict": {},
       "_scene_position": {},
       "_scene_rotation": {},
       "_synced_model_ids": [],
       "_synced_repr_model_ids": [],
       "_view_height": "400px",
       "_view_width": "400px",
       "background": "white",
       "frame": 0,
       "gui_style": null,
       "layout": "IPY_MODEL_70050f49842f4b139dc1d700837b4e4b",
       "max_frame": 5000,
       "n_components": 1,
       "picked": {}
      }
     },
     "26416d935fca487d88d43d765c336a58": {
      "model_module": "@jupyter-widgets/base",
      "model_module_version": "2.0.0",
      "model_name": "LayoutModel",
      "state": {}
     },
     "272521e193944f9ca97dd060e986bfc7": {
      "model_module": "@jupyter-widgets/controls",
      "model_module_version": "2.0.0",
      "model_name": "ButtonStyleModel",
      "state": {
       "font_family": null,
       "font_size": null,
       "font_style": null,
       "font_variant": null,
       "font_weight": null,
       "text_color": null,
       "text_decoration": null
      }
     },
     "2beb007e3dd9478d8e68f0b929eeb334": {
      "model_module": "@jupyter-widgets/controls",
      "model_module_version": "2.0.0",
      "model_name": "ImageModel",
      "state": {
       "layout": "IPY_MODEL_3b522c1c60b04897866429c289a77faa",
       "width": "900.0"
      }
     },
     "3051a32010c84adbb09bf696ae28fa33": {
      "model_module": "@jupyter-widgets/controls",
      "model_module_version": "2.0.0",
      "model_name": "IntSliderModel",
      "state": {
       "behavior": "drag-tap",
       "layout": "IPY_MODEL_648415f95e15465dbfa19fad849df4c6",
       "max": 5000,
       "style": "IPY_MODEL_0e3c96cb51f648eea501a13b16c0f5e2"
      }
     },
     "33f7809e0fe644a991e0d7d46eb0d44d": {
      "model_module": "@jupyter-widgets/controls",
      "model_module_version": "2.0.0",
      "model_name": "LinkModel",
      "state": {
       "source": [
        "IPY_MODEL_6e997ee041fc40a19b3c4c0aafe836ab",
        "value"
       ],
       "target": [
        "IPY_MODEL_c810efc53e264aeea7e4f42846808aef",
        "frame"
       ]
      }
     },
     "3439a5e118104f8cb363c7336020c1c9": {
      "model_module": "@jupyter-widgets/controls",
      "model_module_version": "2.0.0",
      "model_name": "LinkModel",
      "state": {
       "source": [
        "IPY_MODEL_4226fe60fcfc42fc8a12f256e82607d8",
        "value"
       ],
       "target": [
        "IPY_MODEL_f9c3254b48374db3b78649b2396a6fb8",
        "frame"
       ]
      }
     },
     "38ef7f5a88614e6eb4bf12dd842a2018": {
      "model_module": "@jupyter-widgets/controls",
      "model_module_version": "2.0.0",
      "model_name": "HBoxModel",
      "state": {
       "children": [
        "IPY_MODEL_4226fe60fcfc42fc8a12f256e82607d8",
        "IPY_MODEL_3051a32010c84adbb09bf696ae28fa33"
       ],
       "layout": "IPY_MODEL_437cfb1ca72b47b689b4efcd83f0180b"
      }
     },
     "3a7c32f75cf34f3f862180fa68f69f2d": {
      "model_module": "@jupyter-widgets/base",
      "model_module_version": "2.0.0",
      "model_name": "LayoutModel",
      "state": {
       "width": "34px"
      }
     },
     "3b522c1c60b04897866429c289a77faa": {
      "model_module": "@jupyter-widgets/base",
      "model_module_version": "2.0.0",
      "model_name": "LayoutModel",
      "state": {}
     },
     "3d5ee802772b4b8186a0763087553be3": {
      "model_module": "nglview-js-widgets",
      "model_module_version": "3.1.0",
      "model_name": "NGLModel",
      "state": {
       "_camera_orientation": [
        -48.832626852024944,
        63.02899245694693,
        -0.18050112207837762,
        0,
        38.9602125626486,
        30.005253043213276,
        -62.76223819262645,
        0,
        -49.545820286540526,
        -38.52716983814035,
        -49.17500170268396,
        0,
        3.3299999237060547,
        -1.5,
        1.2950000762939453,
        1
       ],
       "_camera_str": "orthographic",
       "_gui_theme": null,
       "_ibtn_fullscreen": "IPY_MODEL_5ef0c1f3d8044b1ea09fa051e0907568",
       "_igui": null,
       "_iplayer": "IPY_MODEL_e742118e9e944723b92d958377f69904",
       "_ngl_color_dict": {},
       "_ngl_coordinate_resource": {},
       "_ngl_full_stage_parameters": {
        "ambientColor": 14540253,
        "ambientIntensity": 0.2,
        "backgroundColor": "white",
        "cameraEyeSep": 0.3,
        "cameraFov": 40,
        "cameraType": "perspective",
        "clipDist": 10,
        "clipFar": 100,
        "clipMode": "scene",
        "clipNear": 0,
        "clipScale": "relative",
        "fogFar": 100,
        "fogNear": 50,
        "hoverTimeout": 0,
        "impostor": true,
        "lightColor": 14540253,
        "lightIntensity": 1,
        "mousePreset": "default",
        "panSpeed": 1,
        "quality": "medium",
        "rotateSpeed": 2,
        "sampleLevel": 0,
        "tooltip": true,
        "workerDefault": true,
        "zoomSpeed": 1.2
       },
       "_ngl_msg_archive": [
        {
         "args": [
          {
           "binary": false,
           "data": "MODEL        0\nATOM      0  N   GLU A   1     -14.790  -3.290  18.980  1.00  0.00           N  \nATOM      1  CA  GLU A   1     -13.720  -4.300  18.760  1.00  0.00           C  \nATOM      2  C   GLU A   1     -12.950  -3.980  17.470  1.00  0.00           C  \nATOM      3  O   GLU A   1     -13.540  -3.450  16.520  1.00  0.00           O  \nATOM      4  CB  GLU A   1     -14.300  -5.720  18.740  1.00  0.00           C  \nATOM      5  CG  GLU A   1     -13.330  -6.890  18.520  1.00  0.00           C  \nATOM      6  CD  GLU A   1     -12.210  -6.990  19.570  1.00  0.00           C  \nATOM      7  OE1 GLU A   1     -11.560  -5.960  19.860  1.00  0.00           O  \nATOM      8  OE2 GLU A   1     -11.960  -8.100  20.090  1.00  0.00           O  \nATOM      9  H   GLU A   1     -15.320  -3.470  19.820  1.00  0.00           H  \nATOM     10  H2  GLU A   1     -15.440  -3.290  18.210  1.00  0.00           H  \nATOM     11  H3  GLU A   1     -14.390  -2.370  19.040  1.00  0.00           H  \nATOM     12  HA  GLU A   1     -13.010  -4.250  19.580  1.00  0.00           H  \nATOM     13  HB2 GLU A   1     -14.810  -5.920  19.690  1.00  0.00           H  \nATOM     14  HB3 GLU A   1     -15.070  -5.790  17.970  1.00  0.00           H  \nATOM     15  HG2 GLU A   1     -13.910  -7.810  18.520  1.00  0.00           H  \nATOM     16  HG3 GLU A   1     -12.900  -6.740  17.530  1.00  0.00           H  \nATOM     17  N   GLN A   2     -11.640  -4.280  17.430  1.00  0.00           N  \nATOM     18  CA  GLN A   2     -10.790  -4.070  16.260  1.00  0.00           C  \nATOM     19  C   GLN A   2      -9.720  -5.160  16.130  1.00  0.00           C  \nATOM     20  O   GLN A   2      -9.400  -5.880  17.090  1.00  0.00           O  \nATOM     21  CB  GLN A   2     -10.140  -2.670  16.320  1.00  0.00           C  \nATOM     22  CG  GLN A   2      -9.130  -2.490  17.510  1.00  0.00           C  \nATOM     23  CD  GLN A   2      -8.480  -1.090  17.520  1.00  0.00           C  \nATOM     24  OE1 GLN A   2      -8.730  -0.220  16.710  1.00  0.00           O  \nATOM     25  NE2 GLN A   2      -7.590  -0.850  18.460  1.00  0.00           N  \nATOM     26  H   GLN A   2     -11.270  -4.740  18.250  1.00  0.00           H  \nATOM     27  HA  GLN A   2     -11.380  -4.100  15.350  1.00  0.00           H  \nATOM     28  HB2 GLN A   2      -9.620  -2.490  15.380  1.00  0.00           H  \nATOM     29  HB3 GLN A   2     -10.910  -1.910  16.440  1.00  0.00           H  \nATOM     30  HG2 GLN A   2      -9.680  -2.640  18.440  1.00  0.00           H  \nATOM     31  HG3 GLN A   2      -8.330  -3.220  17.410  1.00  0.00           H  \nATOM     32 HE21 GLN A   2      -7.330  -1.550  19.140  1.00  0.00           H  \nATOM     33 HE22 GLN A   2      -7.150   0.050  18.490  1.00  0.00           H  \nATOM     34  N   TYR A   3      -9.130  -5.290  14.930  1.00  0.00           N  \nATOM     35  CA  TYR A   3      -8.000  -6.170  14.630  1.00  0.00           C  \nATOM     36  C   TYR A   3      -7.100  -5.570  13.530  1.00  0.00           C  \nATOM     37  O   TYR A   3      -7.560  -4.770  12.720  1.00  0.00           O  \nATOM     38  CB  TYR A   3      -8.520  -7.560  14.200  1.00  0.00           C  \nATOM     39  CG  TYR A   3      -7.450  -8.530  13.770  1.00  0.00           C  \nATOM     40  CD1 TYR A   3      -6.600  -9.150  14.730  1.00  0.00           C  \nATOM     41  CD2 TYR A   3      -7.220  -8.780  12.400  1.00  0.00           C  \nATOM     42  CE1 TYR A   3      -5.570 -10.000  14.320  1.00  0.00           C  \nATOM     43  CE2 TYR A   3      -6.170  -9.620  11.990  1.00  0.00           C  \nATOM     44  CZ  TYR A   3      -5.340 -10.240  12.930  1.00  0.00           C  \nATOM     45  OH  TYR A   3      -4.320 -11.050  12.550  1.00  0.00           O  \nATOM     46  H   TYR A   3      -9.450  -4.700  14.180  1.00  0.00           H  \nATOM     47  HA  TYR A   3      -7.380  -6.320  15.510  1.00  0.00           H  \nATOM     48  HB2 TYR A   3      -9.040  -8.000  15.050  1.00  0.00           H  \nATOM     49  HB3 TYR A   3      -9.230  -7.460  13.380  1.00  0.00           H  \nATOM     50  HD1 TYR A   3      -6.740  -8.950  15.780  1.00  0.00           H  \nATOM     51  HD2 TYR A   3      -7.840  -8.310  11.650  1.00  0.00           H  \nATOM     52  HE1 TYR A   3      -4.900 -10.440  15.040  1.00  0.00           H  \nATOM     53  HE2 TYR A   3      -5.960  -9.800  10.940  1.00  0.00           H  \nATOM     54  HH  TYR A   3      -3.770 -11.270  13.300  1.00  0.00           H  \nATOM     55  N   THR A   4      -5.830  -5.990  13.490  1.00  0.00           N  \nATOM     56  CA  THR A   4      -4.890  -5.740  12.370  1.00  0.00           C  \nATOM     57  C   THR A   4      -3.900  -6.900  12.250  1.00  0.00           C  \nATOM     58  O   THR A   4      -3.600  -7.560  13.250  1.00  0.00           O  \nATOM     59  CB  THR A   4      -4.170  -4.390  12.540  1.00  0.00           C  \nATOM     60  OG1 THR A   4      -3.350  -4.150  11.410  1.00  0.00           O  \nATOM     61  CG2 THR A   4      -3.260  -4.310  13.750  1.00  0.00           C  \nATOM     62  H   THR A   4      -5.520  -6.690  14.150  1.00  0.00           H  \nATOM     63  HA  THR A   4      -5.460  -5.740  11.440  1.00  0.00           H  \nATOM     64  HB  THR A   4      -4.900  -3.580  12.550  1.00  0.00           H  \nATOM     65  HG1 THR A   4      -3.880  -3.700  10.750  1.00  0.00           H  \nATOM     66 HG21 THR A   4      -2.440  -5.030  13.680  1.00  0.00           H  \nATOM     67 HG22 THR A   4      -3.860  -4.450  14.660  1.00  0.00           H  \nATOM     68 HG23 THR A   4      -2.800  -3.320  13.800  1.00  0.00           H  \nATOM     69  N   ALA A   5      -3.350  -7.110  11.060  1.00  0.00           N  \nATOM     70  CA  ALA A   5      -2.290  -8.060  10.790  1.00  0.00           C  \nATOM     71  C   ALA A   5      -0.900  -7.390  10.550  1.00  0.00           C  \nATOM     72  O   ALA A   5       0.050  -8.100  10.220  1.00  0.00           O  \nATOM     73  CB  ALA A   5      -2.710  -8.930   9.590  1.00  0.00           C  \nATOM     74  H   ALA A   5      -3.640  -6.520  10.300  1.00  0.00           H  \nATOM     75  HA  ALA A   5      -2.170  -8.730  11.640  1.00  0.00           H  \nATOM     76  HB1 ALA A   5      -2.800  -8.300   8.700  1.00  0.00           H  \nATOM     77  HB2 ALA A   5      -3.650  -9.440   9.840  1.00  0.00           H  \nATOM     78  HB3 ALA A   5      -1.940  -9.680   9.420  1.00  0.00           H  \nATOM     79  N   LYS A   6      -0.780  -6.070  10.710  1.00  0.00           N  \nATOM     80  CA  LYS A   6       0.350  -5.240  10.190  1.00  0.00           C  \nATOM     81  C   LYS A   6       1.770  -5.660  10.600  1.00  0.00           C  \nATOM     82  O   LYS A   6       2.740  -5.250   9.970  1.00  0.00           O  \nATOM     83  CB  LYS A   6       0.090  -3.760  10.520  1.00  0.00           C  \nATOM     84  CG  LYS A   6       0.190  -3.420  12.030  1.00  0.00           C  \nATOM     85  CD  LYS A   6      -0.130  -1.950  12.290  1.00  0.00           C  \nATOM     86  CE  LYS A   6       0.030  -1.640  13.790  1.00  0.00           C  \nATOM     87  NZ  LYS A   6      -0.180  -0.200  14.080  1.00  0.00           N  \nATOM     88  H   LYS A   6      -1.600  -5.550  10.990  1.00  0.00           H  \nATOM     89  HA  LYS A   6       0.320  -5.350   9.100  1.00  0.00           H  \nATOM     90  HB2 LYS A   6       0.820  -3.150   9.990  1.00  0.00           H  \nATOM     91  HB3 LYS A   6      -0.900  -3.460  10.200  1.00  0.00           H  \nATOM     92  HG2 LYS A   6      -0.500  -4.040  12.610  1.00  0.00           H  \nATOM     93  HG3 LYS A   6       1.180  -3.660  12.410  1.00  0.00           H  \nATOM     94  HD2 LYS A   6       0.530  -1.320  11.690  1.00  0.00           H  \nATOM     95  HD3 LYS A   6      -1.160  -1.720  12.030  1.00  0.00           H  \nATOM     96  HE2 LYS A   6      -0.700  -2.220  14.350  1.00  0.00           H  \nATOM     97  HE3 LYS A   6       1.020  -1.960  14.110  1.00  0.00           H  \nATOM     98  HZ1 LYS A   6      -0.080  -0.010  15.070  1.00  0.00           H  \nATOM     99  HZ2 LYS A   6      -1.110   0.120  13.830  1.00  0.00           H  \nATOM    100  HZ3 LYS A   6       0.490   0.380  13.610  1.00  0.00           H  \nATOM    101  N   TYR A   7       1.920  -6.460  11.660  1.00  0.00           N  \nATOM    102  CA  TYR A   7       3.170  -7.080  12.130  1.00  0.00           C  \nATOM    103  C   TYR A   7       3.620  -8.280  11.280  1.00  0.00           C  \nATOM    104  O   TYR A   7       4.790  -8.650  11.350  1.00  0.00           O  \nATOM    105  CB  TYR A   7       2.980  -7.460  13.610  1.00  0.00           C  \nATOM    106  CG  TYR A   7       1.630  -8.070  13.920  1.00  0.00           C  \nATOM    107  CD1 TYR A   7       0.560  -7.240  14.340  1.00  0.00           C  \nATOM    108  CD2 TYR A   7       1.430  -9.440  13.730  1.00  0.00           C  \nATOM    109  CE1 TYR A   7      -0.720  -7.770  14.480  1.00  0.00           C  \nATOM    110  CE2 TYR A   7       0.130  -9.980  13.910  1.00  0.00           C  \nATOM    111  CZ  TYR A   7      -0.950  -9.140  14.250  1.00  0.00           C  \nATOM    112  OH  TYR A   7      -2.210  -9.640  14.330  1.00  0.00           O  \nATOM    113  H   TYR A   7       1.060  -6.740  12.120  1.00  0.00           H  \nATOM    114  HA  TYR A   7       3.950  -6.320  12.070  1.00  0.00           H  \nATOM    115  HB2 TYR A   7       3.790  -8.130  13.890  1.00  0.00           H  \nATOM    116  HB3 TYR A   7       3.100  -6.540  14.200  1.00  0.00           H  \nATOM    117  HD1 TYR A   7       0.710  -6.180  14.460  1.00  0.00           H  \nATOM    118  HD2 TYR A   7       2.250 -10.080  13.430  1.00  0.00           H  \nATOM    119  HE1 TYR A   7      -1.550  -7.140  14.760  1.00  0.00           H  \nATOM    120  HE2 TYR A   7      -0.050 -11.030  13.710  1.00  0.00           H  \nATOM    121  HH  TYR A   7      -2.840  -8.960  14.050  1.00  0.00           H  \nATOM    122  N   LYS A   8       2.720  -8.910  10.490  1.00  0.00           N  \nATOM    123  CA  LYS A   8       3.000 -10.090   9.650  1.00  0.00           C  \nATOM    124  C   LYS A   8       2.370 -10.060   8.240  1.00  0.00           C  \nATOM    125  O   LYS A   8       2.770 -10.880   7.410  1.00  0.00           O  \nATOM    126  CB  LYS A   8       2.640 -11.370  10.430  1.00  0.00           C  \nATOM    127  CG  LYS A   8       1.160 -11.580  10.820  1.00  0.00           C  \nATOM    128  CD  LYS A   8       0.290 -12.210   9.720  1.00  0.00           C  \nATOM    129  CE  LYS A   8      -1.090 -12.560  10.300  1.00  0.00           C  \nATOM    130  NZ  LYS A   8      -1.950 -13.250   9.300  1.00  0.00           N  \nATOM    131  H   LYS A   8       1.770  -8.560  10.530  1.00  0.00           H  \nATOM    132  HA  LYS A   8       4.070 -10.110   9.460  1.00  0.00           H  \nATOM    133  HB2 LYS A   8       2.990 -12.250   9.890  1.00  0.00           H  \nATOM    134  HB3 LYS A   8       3.230 -11.380  11.350  1.00  0.00           H  \nATOM    135  HG2 LYS A   8       1.140 -12.270  11.660  1.00  0.00           H  \nATOM    136  HG3 LYS A   8       0.730 -10.630  11.150  1.00  0.00           H  \nATOM    137  HD2 LYS A   8       0.140 -11.500   8.910  1.00  0.00           H  \nATOM    138  HD3 LYS A   8       0.790 -13.110   9.360  1.00  0.00           H  \nATOM    139  HE2 LYS A   8      -0.980 -13.230  11.160  1.00  0.00           H  \nATOM    140  HE3 LYS A   8      -1.590 -11.670  10.660  1.00  0.00           H  \nATOM    141  HZ1 LYS A   8      -2.860 -13.470   9.680  1.00  0.00           H  \nATOM    142  HZ2 LYS A   8      -1.520 -14.100   8.960  1.00  0.00           H  \nATOM    143  HZ3 LYS A   8      -2.090 -12.630   8.510  1.00  0.00           H  \nATOM    144  N   GLY A   9       1.460  -9.140   7.940  1.00  0.00           N  \nATOM    145  CA  GLY A   9       0.850  -8.970   6.610  1.00  0.00           C  \nATOM    146  C   GLY A   9       0.230  -7.590   6.420  1.00  0.00           C  \nATOM    147  O   GLY A   9      -0.320  -7.020   7.370  1.00  0.00           O  \nATOM    148  H   GLY A   9       1.120  -8.540   8.670  1.00  0.00           H  \nATOM    149  HA2 GLY A   9       1.610  -9.120   5.840  1.00  0.00           H  \nATOM    150  HA3 GLY A   9       0.070  -9.720   6.460  1.00  0.00           H  \nATOM    151  N   ARG A  10       0.340  -7.030   5.210  1.00  0.00           N  \nATOM    152  CA  ARG A  10      -0.040  -5.630   4.880  1.00  0.00           C  \nATOM    153  C   ARG A  10      -0.720  -5.530   3.510  1.00  0.00           C  \nATOM    154  O   ARG A  10      -0.680  -6.440   2.720  1.00  0.00           O  \nATOM    155  CB  ARG A  10       1.190  -4.710   4.960  1.00  0.00           C  \nATOM    156  CG  ARG A  10       1.830  -4.670   6.360  1.00  0.00           C  \nATOM    157  CD  ARG A  10       3.020  -3.710   6.400  1.00  0.00           C  \nATOM    158  NE  ARG A  10       3.690  -3.750   7.710  1.00  0.00           N  \nATOM    159  CZ  ARG A  10       4.820  -3.160   8.050  1.00  0.00           C  \nATOM    160  NH1 ARG A  10       5.500  -2.410   7.230  1.00  0.00           N  \nATOM    161  NH2 ARG A  10       5.300  -3.330   9.250  1.00  0.00           N  \nATOM    162  H   ARG A  10       0.740  -7.590   4.480  1.00  0.00           H  \nATOM    163  HA  ARG A  10      -0.760  -5.280   5.630  1.00  0.00           H  \nATOM    164  HB2 ARG A  10       1.940  -5.020   4.230  1.00  0.00           H  \nATOM    165  HB3 ARG A  10       0.900  -3.700   4.680  1.00  0.00           H  \nATOM    166  HG2 ARG A  10       1.090  -4.330   7.090  1.00  0.00           H  \nATOM    167  HG3 ARG A  10       2.180  -5.680   6.600  1.00  0.00           H  \nATOM    168  HD2 ARG A  10       3.740  -3.990   5.630  1.00  0.00           H  \nATOM    169  HD3 ARG A  10       2.660  -2.700   6.220  1.00  0.00           H  \nATOM    170  HE  ARG A  10       3.300  -4.310   8.450  1.00  0.00           H  \nATOM    171 HH11 ARG A  10       5.160  -2.190   6.310  1.00  0.00           H  \nATOM    172 HH12 ARG A  10       6.350  -1.970   7.540  1.00  0.00           H  \nATOM    173 HH21 ARG A  10       4.780  -3.890   9.900  1.00  0.00           H  \nATOM    174 HH22 ARG A  10       6.170  -2.880   9.510  1.00  0.00           H  \nATOM    175  N   THR A  11      -1.330  -4.370   3.230  1.00  0.00           N  \nATOM    176  CA  THR A  11      -2.040  -4.050   1.980  1.00  0.00           C  \nATOM    177  C   THR A  11      -1.700  -2.640   1.490  1.00  0.00           C  \nATOM    178  O   THR A  11      -1.360  -1.750   2.270  1.00  0.00           O  \nATOM    179  CB  THR A  11      -3.550  -4.260   2.140  1.00  0.00           C  \nATOM    180  OG1 THR A  11      -4.210  -4.020   0.910  1.00  0.00           O  \nATOM    181  CG2 THR A  11      -4.210  -3.340   3.180  1.00  0.00           C  \nATOM    182  H   THR A  11      -1.310  -3.620   3.910  1.00  0.00           H  \nATOM    183  HA  THR A  11      -1.710  -4.740   1.210  1.00  0.00           H  \nATOM    184  HB  THR A  11      -3.720  -5.300   2.440  1.00  0.00           H  \nATOM    185  HG1 THR A  11      -5.070  -4.420   1.000  1.00  0.00           H  \nATOM    186 HG21 THR A  11      -3.790  -3.530   4.170  1.00  0.00           H  \nATOM    187 HG22 THR A  11      -5.280  -3.520   3.240  1.00  0.00           H  \nATOM    188 HG23 THR A  11      -4.040  -2.300   2.900  1.00  0.00           H  \nATOM    189  N   PHE A  12      -1.860  -2.390   0.180  1.00  0.00           N  \nATOM    190  CA  PHE A  12      -1.520  -1.120  -0.470  1.00  0.00           C  \nATOM    191  C   PHE A  12      -2.390   0.080  -0.060  1.00  0.00           C  \nATOM    192  O   PHE A  12      -2.050   1.220  -0.360  1.00  0.00           O  \nATOM    193  CB  PHE A  12      -1.560  -1.340  -2.000  1.00  0.00           C  \nATOM    194  CG  PHE A  12      -0.630  -2.410  -2.510  1.00  0.00           C  \nATOM    195  CD1 PHE A  12       0.750  -2.160  -2.590  1.00  0.00           C  \nATOM    196  CD2 PHE A  12      -1.130  -3.680  -2.870  1.00  0.00           C  \nATOM    197  CE1 PHE A  12       1.620  -3.160  -3.040  1.00  0.00           C  \nATOM    198  CE2 PHE A  12      -0.250  -4.690  -3.310  1.00  0.00           C  \nATOM    199  CZ  PHE A  12       1.130  -4.440  -3.390  1.00  0.00           C  \nATOM    200  H   PHE A  12      -2.220  -3.140  -0.380  1.00  0.00           H  \nATOM    201  HA  PHE A  12      -0.490  -0.900  -0.200  1.00  0.00           H  \nATOM    202  HB2 PHE A  12      -2.580  -1.590  -2.300  1.00  0.00           H  \nATOM    203  HB3 PHE A  12      -1.290  -0.410  -2.490  1.00  0.00           H  \nATOM    204  HD1 PHE A  12       1.160  -1.200  -2.320  1.00  0.00           H  \nATOM    205  HD2 PHE A  12      -2.190  -3.880  -2.800  1.00  0.00           H  \nATOM    206  HE1 PHE A  12       2.680  -2.960  -3.120  1.00  0.00           H  \nATOM    207  HE2 PHE A  12      -0.640  -5.660  -3.550  1.00  0.00           H  \nATOM    208  HZ  PHE A  12       1.810  -5.200  -3.720  1.00  0.00           H  \nATOM    209  N   ARG A  13      -3.490  -0.140   0.690  1.00  0.00           N  \nATOM    210  CA  ARG A  13      -4.250   0.910   1.370  1.00  0.00           C  \nATOM    211  C   ARG A  13      -3.590   1.430   2.660  1.00  0.00           C  \nATOM    212  O   ARG A  13      -4.000   2.460   3.190  1.00  0.00           O  \nATOM    213  CB  ARG A  13      -5.700   0.430   1.660  1.00  0.00           C  \nATOM    214  CG  ARG A  13      -6.500   0.060   0.410  1.00  0.00           C  \nATOM    215  CD  ARG A  13      -6.580   1.140  -0.680  1.00  0.00           C  \nATOM    216  NE  ARG A  13      -7.120   2.410  -0.170  1.00  0.00           N  \nATOM    217  CZ  ARG A  13      -6.880   3.630  -0.630  1.00  0.00           C  \nATOM    218  NH1 ARG A  13      -6.130   3.850  -1.660  1.00  0.00           N  \nATOM    219  NH2 ARG A  13      -7.410   4.660  -0.060  1.00  0.00           N  \nATOM    220  H   ARG A  13      -3.740  -1.110   0.840  1.00  0.00           H  \nATOM    221  HA  ARG A  13      -4.340   1.770   0.710  1.00  0.00           H  \nATOM    222  HB2 ARG A  13      -5.660  -0.440   2.320  1.00  0.00           H  \nATOM    223  HB3 ARG A  13      -6.230   1.220   2.200  1.00  0.00           H  \nATOM    224  HG2 ARG A  13      -6.070  -0.850   0.000  1.00  0.00           H  \nATOM    225  HG3 ARG A  13      -7.520  -0.210   0.710  1.00  0.00           H  \nATOM    226  HD2 ARG A  13      -5.580   1.310  -1.090  1.00  0.00           H  \nATOM    227  HD3 ARG A  13      -7.200   0.800  -1.510  1.00  0.00           H  \nATOM    228  HE  ARG A  13      -7.740   2.330   0.630  1.00  0.00           H  \nATOM    229 HH11 ARG A  13      -5.730   3.080  -2.180  1.00  0.00           H  \nATOM    230 HH12 ARG A  13      -5.970   4.790  -1.990  1.00  0.00           H  \nATOM    231 HH21 ARG A  13      -8.020   4.570   0.750  1.00  0.00           H  \nATOM    232 HH22 ARG A  13      -7.220   5.590  -0.380  1.00  0.00           H  \nATOM    233  N   ASN A  14      -2.540   0.750   3.150  1.00  0.00           N  \nATOM    234  CA  ASN A  14      -1.760   1.120   4.350  1.00  0.00           C  \nATOM    235  C   ASN A  14      -0.250   1.240   4.080  1.00  0.00           C  \nATOM    236  O   ASN A  14       0.420   2.070   4.680  1.00  0.00           O  \nATOM    237  CB  ASN A  14      -2.040   0.080   5.450  1.00  0.00           C  \nATOM    238  CG  ASN A  14      -3.500   0.050   5.880  1.00  0.00           C  \nATOM    239  OD1 ASN A  14      -4.340  -0.610   5.280  1.00  0.00           O  \nATOM    240  ND2 ASN A  14      -3.860   0.780   6.910  1.00  0.00           N  \nATOM    241  H   ASN A  14      -2.240  -0.110   2.710  1.00  0.00           H  \nATOM    242  HA  ASN A  14      -2.100   2.090   4.710  1.00  0.00           H  \nATOM    243  HB2 ASN A  14      -1.790  -0.920   5.120  1.00  0.00           H  \nATOM    244  HB3 ASN A  14      -1.440   0.280   6.340  1.00  0.00           H  \nATOM    245 HD21 ASN A  14      -3.180   1.310   7.440  1.00  0.00           H  \nATOM    246 HD22 ASN A  14      -4.830   0.740   7.180  1.00  0.00           H  \nATOM    247  N   GLU A  15       0.300   0.460   3.130  1.00  0.00           N  \nATOM    248  CA  GLU A  15       1.700   0.540   2.700  1.00  0.00           C  \nATOM    249  C   GLU A  15       1.980   1.690   1.720  1.00  0.00           C  \nATOM    250  O   GLU A  15       1.080   2.240   1.090  1.00  0.00           O  \nATOM    251  CB  GLU A  15       2.140  -0.810   2.080  1.00  0.00           C  \nATOM    252  CG  GLU A  15       2.840  -1.720   3.120  1.00  0.00           C  \nATOM    253  CD  GLU A  15       4.160  -1.150   3.630  1.00  0.00           C  \nATOM    254  OE1 GLU A  15       4.750  -1.740   4.570  1.00  0.00           O  \nATOM    255  OE2 GLU A  15       4.660  -0.110   3.130  1.00  0.00           O  \nATOM    256  H   GLU A  15      -0.290  -0.230   2.690  1.00  0.00           H  \nATOM    257  HA  GLU A  15       2.300   0.760   3.580  1.00  0.00           H  \nATOM    258  HB2 GLU A  15       1.270  -1.350   1.700  1.00  0.00           H  \nATOM    259  HB3 GLU A  15       2.810  -0.670   1.240  1.00  0.00           H  \nATOM    260  HG2 GLU A  15       2.170  -1.860   3.970  1.00  0.00           H  \nATOM    261  HG3 GLU A  15       2.980  -2.690   2.650  1.00  0.00           H  \nATOM    262  N   LYS A  16       3.260   2.050   1.570  1.00  0.00           N  \nATOM    263  CA  LYS A  16       3.760   3.120   0.670  1.00  0.00           C  \nATOM    264  C   LYS A  16       4.200   2.660  -0.720  1.00  0.00           C  \nATOM    265  O   LYS A  16       4.830   3.410  -1.470  1.00  0.00           O  \nATOM    266  CB  LYS A  16       4.840   3.950   1.410  1.00  0.00           C  \nATOM    267  CG  LYS A  16       6.130   3.160   1.700  1.00  0.00           C  \nATOM    268  CD  LYS A  16       7.260   4.040   2.290  1.00  0.00           C  \nATOM    269  CE  LYS A  16       6.870   4.620   3.660  1.00  0.00           C  \nATOM    270  NZ  LYS A  16       7.970   5.430   4.230  1.00  0.00           N  \nATOM    271  H   LYS A  16       3.960   1.530   2.090  1.00  0.00           H  \nATOM    272  HA  LYS A  16       2.910   3.780   0.530  1.00  0.00           H  \nATOM    273  HB2 LYS A  16       5.100   4.810   0.790  1.00  0.00           H  \nATOM    274  HB3 LYS A  16       4.420   4.330   2.340  1.00  0.00           H  \nATOM    275  HG2 LYS A  16       5.900   2.370   2.410  1.00  0.00           H  \nATOM    276  HG3 LYS A  16       6.490   2.750   0.760  1.00  0.00           H  \nATOM    277  HD2 LYS A  16       8.140   3.410   2.410  1.00  0.00           H  \nATOM    278  HD3 LYS A  16       7.460   4.840   1.590  1.00  0.00           H  \nATOM    279  HE2 LYS A  16       5.980   5.240   3.510  1.00  0.00           H  \nATOM    280  HE3 LYS A  16       6.640   3.810   4.350  1.00  0.00           H  \nATOM    281  HZ1 LYS A  16       7.730   5.800   5.140  1.00  0.00           H  \nATOM    282  HZ2 LYS A  16       8.210   6.200   3.620  1.00  0.00           H  \nATOM    283  HZ3 LYS A  16       8.780   4.840   4.350  1.00  0.00           H  \nATOM    284  N   GLU A  17       3.870   1.410  -1.080  1.00  0.00           N  \nATOM    285  CA  GLU A  17       4.190   0.790  -2.380  1.00  0.00           C  \nATOM    286  C   GLU A  17       3.110   1.090  -3.450  1.00  0.00           C  \nATOM    287  O   GLU A  17       1.970   1.410  -3.110  1.00  0.00           O  \nATOM    288  CB  GLU A  17       4.410  -0.720  -2.180  1.00  0.00           C  \nATOM    289  CG  GLU A  17       5.590  -1.020  -1.280  1.00  0.00           C  \nATOM    290  CD  GLU A  17       5.920  -2.530  -1.180  1.00  0.00           C  \nATOM    291  OE1 GLU A  17       5.030  -3.380  -1.350  1.00  0.00           O  \nATOM    292  OE2 GLU A  17       7.100  -2.880  -0.920  1.00  0.00           O  \nATOM    293  H   GLU A  17       3.310   0.900  -0.420  1.00  0.00           H  \nATOM    294  HA  GLU A  17       5.140   1.180  -2.750  1.00  0.00           H  \nATOM    295  HB2 GLU A  17       3.510  -1.160  -1.750  1.00  0.00           H  \nATOM    296  HB3 GLU A  17       4.570  -1.170  -3.160  1.00  0.00           H  \nATOM    297  HG2 GLU A  17       6.460  -0.490  -1.650  1.00  0.00           H  \nATOM    298  HG3 GLU A  17       5.390  -0.680  -0.260  1.00  0.00           H  \nATOM    299  N   LEU A  18       3.470   0.970  -4.730  1.00  0.00           N  \nATOM    300  CA  LEU A  18       2.610   1.170  -5.910  1.00  0.00           C  \nATOM    301  C   LEU A  18       1.900   2.550  -6.030  1.00  0.00           C  \nATOM    302  O   LEU A  18       0.970   2.710  -6.830  1.00  0.00           O  \nATOM    303  CB  LEU A  18       1.610  -0.010  -6.080  1.00  0.00           C  \nATOM    304  CG  LEU A  18       2.230  -1.420  -6.170  1.00  0.00           C  \nATOM    305  CD1 LEU A  18       1.120  -2.430  -6.380  1.00  0.00           C  \nATOM    306  CD2 LEU A  18       3.210  -1.540  -7.350  1.00  0.00           C  \nATOM    307  H   LEU A  18       4.430   0.710  -4.900  1.00  0.00           H  \nATOM    308  HA  LEU A  18       3.270   1.140  -6.770  1.00  0.00           H  \nATOM    309  HB2 LEU A  18       0.910   0.010  -5.250  1.00  0.00           H  \nATOM    310  HB3 LEU A  18       1.030   0.150  -6.990  1.00  0.00           H  \nATOM    311  HG  LEU A  18       2.790  -1.630  -5.260  1.00  0.00           H  \nATOM    312 HD11 LEU A  18       0.630  -2.260  -7.340  1.00  0.00           H  \nATOM    313 HD12 LEU A  18       0.400  -2.330  -5.560  1.00  0.00           H  \nATOM    314 HD13 LEU A  18       1.530  -3.440  -6.360  1.00  0.00           H  \nATOM    315 HD21 LEU A  18       2.710  -1.280  -8.280  1.00  0.00           H  \nATOM    316 HD22 LEU A  18       3.560  -2.570  -7.400  1.00  0.00           H  \nATOM    317 HD23 LEU A  18       4.050  -0.870  -7.180  1.00  0.00           H  \nATOM    318  N   ARG A  19       2.340   3.570  -5.280  1.00  0.00           N  \nATOM    319  CA  ARG A  19       1.680   4.900  -5.200  1.00  0.00           C  \nATOM    320  C   ARG A  19       1.410   5.570  -6.550  1.00  0.00           C  \nATOM    321  O   ARG A  19       0.350   6.130  -6.740  1.00  0.00           O  \nATOM    322  CB  ARG A  19       2.500   5.840  -4.290  1.00  0.00           C  \nATOM    323  CG  ARG A  19       2.390   5.440  -2.800  1.00  0.00           C  \nATOM    324  CD  ARG A  19       3.290   6.290  -1.900  1.00  0.00           C  \nATOM    325  NE  ARG A  19       2.880   7.710  -1.880  1.00  0.00           N  \nATOM    326  CZ  ARG A  19       3.490   8.750  -2.440  1.00  0.00           C  \nATOM    327  NH1 ARG A  19       4.600   8.630  -3.090  1.00  0.00           N  \nATOM    328  NH2 ARG A  19       2.970   9.930  -2.340  1.00  0.00           N  \nATOM    329  H   ARG A  19       3.110   3.360  -4.660  1.00  0.00           H  \nATOM    330  HA  ARG A  19       0.690   4.770  -4.750  1.00  0.00           H  \nATOM    331  HB2 ARG A  19       3.550   5.820  -4.580  1.00  0.00           H  \nATOM    332  HB3 ARG A  19       2.140   6.860  -4.400  1.00  0.00           H  \nATOM    333  HG2 ARG A  19       1.370   5.530  -2.450  1.00  0.00           H  \nATOM    334  HG3 ARG A  19       2.700   4.400  -2.670  1.00  0.00           H  \nATOM    335  HD2 ARG A  19       3.220   5.890  -0.890  1.00  0.00           H  \nATOM    336  HD3 ARG A  19       4.330   6.200  -2.180  1.00  0.00           H  \nATOM    337  HE  ARG A  19       2.030   7.920  -1.370  1.00  0.00           H  \nATOM    338 HH11 ARG A  19       5.060   7.740  -3.180  1.00  0.00           H  \nATOM    339 HH12 ARG A  19       5.020   9.460  -3.510  1.00  0.00           H  \nATOM    340 HH21 ARG A  19       2.090  10.070  -1.860  1.00  0.00           H  \nATOM    341 HH22 ARG A  19       3.390  10.730  -2.790  1.00  0.00           H  \nATOM    342  N   ASP A  20       2.330   5.440  -7.510  1.00  0.00           N  \nATOM    343  CA  ASP A  20       2.160   5.980  -8.870  1.00  0.00           C  \nATOM    344  C   ASP A  20       0.950   5.370  -9.600  1.00  0.00           C  \nATOM    345  O   ASP A  20       0.210   6.060 -10.280  1.00  0.00           O  \nATOM    346  CB  ASP A  20       3.430   5.830  -9.700  1.00  0.00           C  \nATOM    347  CG  ASP A  20       4.660   6.570  -9.170  1.00  0.00           C  \nATOM    348  OD1 ASP A  20       4.540   7.450  -8.290  1.00  0.00           O  \nATOM    349  OD2 ASP A  20       5.790   6.260  -9.630  1.00  0.00           O  \nATOM    350  H   ASP A  20       3.200   4.970  -7.280  1.00  0.00           H  \nATOM    351  HA  ASP A  20       1.960   7.050  -8.780  1.00  0.00           H  \nATOM    352  HB2 ASP A  20       3.680   4.770  -9.720  1.00  0.00           H  \nATOM    353  HB3 ASP A  20       3.260   6.170 -10.710  1.00  0.00           H  \nATOM    354  N   PHE A  21       0.720   4.050  -9.420  1.00  0.00           N  \nATOM    355  CA  PHE A  21      -0.420   3.340 -10.020  1.00  0.00           C  \nATOM    356  C   PHE A  21      -1.730   3.630  -9.250  1.00  0.00           C  \nATOM    357  O   PHE A  21      -2.790   3.790  -9.880  1.00  0.00           O  \nATOM    358  CB  PHE A  21      -0.150   1.830 -10.050  1.00  0.00           C  \nATOM    359  CG  PHE A  21       1.160   1.470 -10.730  1.00  0.00           C  \nATOM    360  CD1 PHE A  21       1.250   1.440 -12.150  1.00  0.00           C  \nATOM    361  CD2 PHE A  21       2.300   1.140  -9.960  1.00  0.00           C  \nATOM    362  CE1 PHE A  21       2.460   1.090 -12.780  1.00  0.00           C  \nATOM    363  CE2 PHE A  21       3.500   0.810 -10.600  1.00  0.00           C  \nATOM    364  CZ  PHE A  21       3.590   0.790 -12.000  1.00  0.00           C  \nATOM    365  H   PHE A  21       1.330   3.570  -8.780  1.00  0.00           H  \nATOM    366  HA  PHE A  21      -0.540   3.700 -11.040  1.00  0.00           H  \nATOM    367  HB2 PHE A  21      -0.110   1.470  -9.030  1.00  0.00           H  \nATOM    368  HB3 PHE A  21      -0.960   1.320 -10.560  1.00  0.00           H  \nATOM    369  HD1 PHE A  21       0.380   1.710 -12.730  1.00  0.00           H  \nATOM    370  HD2 PHE A  21       2.240   1.200  -8.890  1.00  0.00           H  \nATOM    371  HE1 PHE A  21       2.500   1.050 -13.850  1.00  0.00           H  \nATOM    372  HE2 PHE A  21       4.380   0.600 -10.010  1.00  0.00           H  \nATOM    373  HZ  PHE A  21       4.510   0.510 -12.490  1.00  0.00           H  \nATOM    374  N   ILE A  22      -1.650   3.820  -7.940  1.00  0.00           N  \nATOM    375  CA  ILE A  22      -2.790   4.160  -7.060  1.00  0.00           C  \nATOM    376  C   ILE A  22      -3.280   5.590  -7.360  1.00  0.00           C  \nATOM    377  O   ILE A  22      -4.490   5.820  -7.410  1.00  0.00           O  \nATOM    378  CB  ILE A  22      -2.380   3.970  -5.570  1.00  0.00           C  \nATOM    379  CG1 ILE A  22      -2.070   2.480  -5.300  1.00  0.00           C  \nATOM    380  CG2 ILE A  22      -3.450   4.480  -4.610  1.00  0.00           C  \nATOM    381  CD1 ILE A  22      -1.280   2.260  -4.000  1.00  0.00           C  \nATOM    382  H   ILE A  22      -0.740   3.650  -7.520  1.00  0.00           H  \nATOM    383  HA  ILE A  22      -3.630   3.490  -7.250  1.00  0.00           H  \nATOM    384  HB  ILE A  22      -1.470   4.550  -5.420  1.00  0.00           H  \nATOM    385 HG12 ILE A  22      -3.010   1.930  -5.220  1.00  0.00           H  \nATOM    386 HG13 ILE A  22      -1.470   2.010  -6.080  1.00  0.00           H  \nATOM    387 HG21 ILE A  22      -3.120   4.320  -3.580  1.00  0.00           H  \nATOM    388 HG22 ILE A  22      -4.400   3.980  -4.780  1.00  0.00           H  \nATOM    389 HG23 ILE A  22      -3.600   5.550  -4.730  1.00  0.00           H  \nATOM    390 HD11 ILE A  22      -1.940   2.430  -3.160  1.00  0.00           H  \nATOM    391 HD12 ILE A  22      -0.400   2.900  -3.950  1.00  0.00           H  \nATOM    392 HD13 ILE A  22      -0.950   1.220  -3.970  1.00  0.00           H  \nATOM    393  N   GLU A  23      -2.360   6.520  -7.640  1.00  0.00           N  \nATOM    394  CA  GLU A  23      -2.660   7.880  -8.120  1.00  0.00           C  \nATOM    395  C   GLU A  23      -2.900   7.970  -9.650  1.00  0.00           C  \nATOM    396  O   GLU A  23      -3.120   9.050 -10.180  1.00  0.00           O  \nATOM    397  CB  GLU A  23      -1.530   8.840  -7.670  1.00  0.00           C  \nATOM    398  CG  GLU A  23      -1.380   8.990  -6.150  1.00  0.00           C  \nATOM    399  CD  GLU A  23      -2.650   9.540  -5.450  1.00  0.00           C  \nATOM    400  OE1 GLU A  23      -2.820   9.280  -4.230  1.00  0.00           O  \nATOM    401  OE2 GLU A  23      -3.460  10.280  -6.060  1.00  0.00           O  \nATOM    402  H   GLU A  23      -1.390   6.280  -7.510  1.00  0.00           H  \nATOM    403  HA  GLU A  23      -3.600   8.190  -7.660  1.00  0.00           H  \nATOM    404  HB2 GLU A  23      -0.600   8.450  -8.080  1.00  0.00           H  \nATOM    405  HB3 GLU A  23      -1.720   9.830  -8.090  1.00  0.00           H  \nATOM    406  HG2 GLU A  23      -1.110   8.030  -5.720  1.00  0.00           H  \nATOM    407  HG3 GLU A  23      -0.560   9.680  -5.970  1.00  0.00           H  \nATOM    408  N   LYS A  24      -2.860   6.810 -10.350  1.00  0.00           N  \nATOM    409  CA  LYS A  24      -3.090   6.680 -11.800  1.00  0.00           C  \nATOM    410  C   LYS A  24      -2.180   7.600 -12.680  1.00  0.00           C  \nATOM    411  O   LYS A  24      -2.610   8.150 -13.680  1.00  0.00           O  \nATOM    412  CB  LYS A  24      -4.600   6.790 -12.100  1.00  0.00           C  \nATOM    413  CG  LYS A  24      -5.020   6.090 -13.400  1.00  0.00           C  \nATOM    414  CD  LYS A  24      -6.540   6.220 -13.610  1.00  0.00           C  \nATOM    415  CE  LYS A  24      -7.020   5.550 -14.910  1.00  0.00           C  \nATOM    416  NZ  LYS A  24      -6.910   4.060 -14.860  1.00  0.00           N  \nATOM    417  H   LYS A  24      -2.710   5.970  -9.820  1.00  0.00           H  \nATOM    418  HA  LYS A  24      -2.750   5.680 -12.070  1.00  0.00           H  \nATOM    419  HB2 LYS A  24      -5.160   6.350 -11.280  1.00  0.00           H  \nATOM    420  HB3 LYS A  24      -4.900   7.840 -12.100  1.00  0.00           H  \nATOM    421  HG2 LYS A  24      -4.530   6.540 -14.250  1.00  0.00           H  \nATOM    422  HG3 LYS A  24      -4.740   5.030 -13.330  1.00  0.00           H  \nATOM    423  HD2 LYS A  24      -7.080   5.790 -12.770  1.00  0.00           H  \nATOM    424  HD3 LYS A  24      -6.790   7.280 -13.650  1.00  0.00           H  \nATOM    425  HE2 LYS A  24      -8.060   5.820 -15.090  1.00  0.00           H  \nATOM    426  HE3 LYS A  24      -6.420   5.950 -15.730  1.00  0.00           H  \nATOM    427  HZ1 LYS A  24      -7.450   3.720 -14.080  1.00  0.00           H  \nATOM    428  HZ2 LYS A  24      -5.960   3.760 -14.730  1.00  0.00           H  \nATOM    429  HZ3 LYS A  24      -7.260   3.620 -15.700  1.00  0.00           H  \nATOM    430  N   PHE A  25      -0.930   7.760 -12.260  1.00  0.00           N  \nATOM    431  CA  PHE A  25       0.080   8.550 -12.950  1.00  0.00           C  \nATOM    432  C   PHE A  25       0.710   7.770 -14.140  1.00  0.00           C  \nATOM    433  O   PHE A  25       0.980   6.580 -14.030  1.00  0.00           O  \nATOM    434  CB  PHE A  25       1.160   8.980 -11.960  1.00  0.00           C  \nATOM    435  CG  PHE A  25       2.270   9.820 -12.530  1.00  0.00           C  \nATOM    436  CD1 PHE A  25       3.530   9.240 -12.790  1.00  0.00           C  \nATOM    437  CD2 PHE A  25       2.070  11.180 -12.820  1.00  0.00           C  \nATOM    438  CE1 PHE A  25       4.570  10.010 -13.330  1.00  0.00           C  \nATOM    439  CE2 PHE A  25       3.130  11.960 -13.350  1.00  0.00           C  \nATOM    440  CZ  PHE A  25       4.370  11.360 -13.590  1.00  0.00           C  \nATOM    441  H   PHE A  25      -0.640   7.240 -11.440  1.00  0.00           H  \nATOM    442  HA  PHE A  25      -0.360   9.460 -13.350  1.00  0.00           H  \nATOM    443  HB2 PHE A  25       0.700   9.560 -11.160  1.00  0.00           H  \nATOM    444  HB3 PHE A  25       1.580   8.110 -11.450  1.00  0.00           H  \nATOM    445  HD1 PHE A  25       3.700   8.190 -12.580  1.00  0.00           H  \nATOM    446  HD2 PHE A  25       1.110  11.630 -12.630  1.00  0.00           H  \nATOM    447  HE1 PHE A  25       5.530   9.550 -13.520  1.00  0.00           H  \nATOM    448  HE2 PHE A  25       2.980  13.010 -13.560  1.00  0.00           H  \nATOM    449  HZ  PHE A  25       5.180  11.950 -14.000  1.00  0.00           H  \nATOM    450  N   LYS A  26       0.940   8.460 -15.270  1.00  0.00           N  \nATOM    451  CA  LYS A  26       1.460   7.870 -16.530  1.00  0.00           C  \nATOM    452  C   LYS A  26       2.610   8.640 -17.170  1.00  0.00           C  \nATOM    453  O   LYS A  26       2.980   8.370 -18.320  1.00  0.00           O  \nATOM    454  CB  LYS A  26       0.290   7.680 -17.530  1.00  0.00           C  \nATOM    455  CG  LYS A  26      -0.790   6.710 -17.010  1.00  0.00           C  \nATOM    456  CD  LYS A  26      -1.830   6.320 -18.070  1.00  0.00           C  \nATOM    457  CE  LYS A  26      -2.650   7.560 -18.540  1.00  0.00           C  \nATOM    458  NZ  LYS A  26      -3.640   7.160 -19.580  1.00  0.00           N  \nATOM    459  H   LYS A  26       0.660   9.430 -15.310  1.00  0.00           H  \nATOM    460  HA  LYS A  26       1.890   6.900 -16.310  1.00  0.00           H  \nATOM    461  HB2 LYS A  26      -0.150   8.650 -17.750  1.00  0.00           H  \nATOM    462  HB3 LYS A  26       0.680   7.250 -18.450  1.00  0.00           H  \nATOM    463  HG2 LYS A  26      -0.300   5.790 -16.690  1.00  0.00           H  \nATOM    464  HG3 LYS A  26      -1.290   7.170 -16.160  1.00  0.00           H  \nATOM    465  HD2 LYS A  26      -1.320   5.880 -18.930  1.00  0.00           H  \nATOM    466  HD3 LYS A  26      -2.520   5.590 -17.660  1.00  0.00           H  \nATOM    467  HE2 LYS A  26      -3.190   7.990 -17.700  1.00  0.00           H  \nATOM    468  HE3 LYS A  26      -1.970   8.300 -18.970  1.00  0.00           H  \nATOM    469  HZ1 LYS A  26      -3.200   6.790 -20.410  1.00  0.00           H  \nATOM    470  HZ2 LYS A  26      -4.190   7.960 -19.870  1.00  0.00           H  \nATOM    471  HZ3 LYS A  26      -4.310   6.490 -19.230  1.00  0.00           H  \nATOM    472  N   GLY A  27       3.200   9.650 -16.480  1.00  0.00           N  \nATOM    473  CA  GLY A  27       4.240  10.510 -17.040  1.00  0.00           C  \nATOM    474  C   GLY A  27       3.730  11.420 -18.170  1.00  0.00           C  \nATOM    475  O   GLY A  27       2.570  11.840 -18.170  1.00  0.00           O  \nATOM    476  H   GLY A  27       2.850   9.830 -15.550  1.00  0.00           H  \nATOM    477  HA2 GLY A  27       4.660  11.130 -16.250  1.00  0.00           H  \nATOM    478  HA3 GLY A  27       5.040   9.870 -17.420  1.00  0.00           H  \nATOM    479  N   ARG A  28       4.620  11.720 -19.130  1.00  0.00           N  \nATOM    480  CA  ARG A  28       4.350  12.550 -20.320  1.00  0.00           C  \nATOM    481  C   ARG A  28       5.070  12.030 -21.580  1.00  0.00           C  \nATOM    482  O   ARG A  28       6.140  11.420 -21.430  1.00  0.00           O  \nATOM    483  CB  ARG A  28       4.680  14.030 -20.050  1.00  0.00           C  \nATOM    484  CG  ARG A  28       6.160  14.310 -19.740  1.00  0.00           C  \nATOM    485  CD  ARG A  28       6.430  15.790 -19.460  1.00  0.00           C  \nATOM    486  NE  ARG A  28       5.770  16.280 -18.240  1.00  0.00           N  \nATOM    487  CZ  ARG A  28       6.190  16.160 -17.000  1.00  0.00           C  \nATOM    488  NH1 ARG A  28       7.320  15.600 -16.700  1.00  0.00           N  \nATOM    489  NH2 ARG A  28       5.500  16.640 -16.020  1.00  0.00           N  \nATOM    490  OXT ARG A  28       4.520  12.190 -22.680  1.00  0.00           O  \nATOM    491  H   ARG A  28       5.550  11.330 -19.080  1.00  0.00           H  \nATOM    492  HA  ARG A  28       3.280  12.500 -20.530  1.00  0.00           H  \nATOM    493  HB2 ARG A  28       4.390  14.620 -20.920  1.00  0.00           H  \nATOM    494  HB3 ARG A  28       4.070  14.360 -19.210  1.00  0.00           H  \nATOM    495  HG2 ARG A  28       6.500  13.740 -18.880  1.00  0.00           H  \nATOM    496  HG3 ARG A  28       6.770  14.000 -20.590  1.00  0.00           H  \nATOM    497  HD2 ARG A  28       7.500  15.980 -19.390  1.00  0.00           H  \nATOM    498  HD3 ARG A  28       6.090  16.380 -20.310  1.00  0.00           H  \nATOM    499  HE  ARG A  28       4.880  16.740 -18.370  1.00  0.00           H  \nATOM    500 HH11 ARG A  28       7.910  15.230 -17.430  1.00  0.00           H  \nATOM    501 HH12 ARG A  28       7.640  15.530 -15.740  1.00  0.00           H  \nATOM    502 HH21 ARG A  28       4.610  17.100 -16.190  1.00  0.00           H  \nATOM    503 HH22 ARG A  28       5.860  16.540 -15.080  1.00  0.00           H  \nTER     504      ARG A  28\nENDMDL\nEND\n",
           "type": "blob"
          }
         ],
         "kwargs": {
          "defaultRepresentation": true,
          "ext": "pdb",
          "height": "400px",
          "name": "nglview.adaptor.MDTrajTrajectory",
          "width": "400px"
         },
         "methodName": "loadFile",
         "reconstruc_color_scheme": false,
         "target": "Stage",
         "type": "call_method"
        }
       ],
       "_ngl_original_stage_parameters": {
        "ambientColor": 14540253,
        "ambientIntensity": 0.2,
        "backgroundColor": "white",
        "cameraEyeSep": 0.3,
        "cameraFov": 40,
        "cameraType": "perspective",
        "clipDist": 10,
        "clipFar": 100,
        "clipMode": "scene",
        "clipNear": 0,
        "clipScale": "relative",
        "fogFar": 100,
        "fogNear": 50,
        "hoverTimeout": 0,
        "impostor": true,
        "lightColor": 14540253,
        "lightIntensity": 1,
        "mousePreset": "default",
        "panSpeed": 1,
        "quality": "medium",
        "rotateSpeed": 2,
        "sampleLevel": 0,
        "tooltip": true,
        "workerDefault": true,
        "zoomSpeed": 1.2
       },
       "_ngl_repr_dict": {
        "0": {
         "0": {
          "params": {
           "aspectRatio": 5,
           "assembly": "default",
           "capped": true,
           "clipCenter": {
            "x": 0,
            "y": 0,
            "z": 0
           },
           "clipNear": 0,
           "clipRadius": 0,
           "colorMode": "hcl",
           "colorReverse": true,
           "colorScale": "Spectral",
           "colorScheme": "residueindex",
           "colorValue": 9474192,
           "defaultAssembly": "",
           "depthWrite": true,
           "diffuse": 16777215,
           "diffuseInterior": false,
           "disablePicking": false,
           "flatShaded": false,
           "interiorColor": 2236962,
           "interiorDarkening": 0,
           "lazy": false,
           "matrix": {
            "elements": [
             1,
             0,
             0,
             0,
             0,
             1,
             0,
             0,
             0,
             0,
             1,
             0,
             0,
             0,
             0,
             1
            ]
           },
           "metalness": 0,
           "opacity": 1,
           "quality": "high",
           "radialSegments": 20,
           "radiusData": {},
           "radiusScale": 0.7,
           "radiusSize": 1,
           "radiusType": "sstruc",
           "roughness": 0.4,
           "sele": "",
           "side": "double",
           "smoothSheet": false,
           "subdiv": 6,
           "tension": null,
           "useInteriorColor": true,
           "visible": true,
           "wireframe": false
          },
          "type": "cartoon"
         },
         "1": {
          "params": {
           "aspectRatio": 1,
           "assembly": "default",
           "bondScale": 0.4,
           "clipCenter": {
            "x": 0,
            "y": 0,
            "z": 0
           },
           "clipNear": 0,
           "clipRadius": 0,
           "colorMode": "hcl",
           "colorReverse": true,
           "colorScale": "Spectral",
           "colorScheme": "residueindex",
           "colorValue": 9474192,
           "cylinderOnly": false,
           "defaultAssembly": "",
           "depthWrite": true,
           "diffuse": 16777215,
           "diffuseInterior": false,
           "disableImpostor": false,
           "disablePicking": false,
           "flatShaded": false,
           "interiorColor": 2236962,
           "interiorDarkening": 0,
           "lazy": false,
           "lineOnly": false,
           "linewidth": 2,
           "matrix": {
            "elements": [
             1,
             0,
             0,
             0,
             0,
             1,
             0,
             0,
             0,
             0,
             1,
             0,
             0,
             0,
             0,
             1
            ]
           },
           "metalness": 0,
           "opacity": 1,
           "openEnded": true,
           "quality": "high",
           "radialSegments": 20,
           "radiusData": {},
           "radiusScale": 1,
           "radiusSize": 0.3,
           "radiusType": "size",
           "roughness": 0.4,
           "sele": "",
           "side": "double",
           "sphereDetail": 2,
           "useInteriorColor": true,
           "visible": true,
           "wireframe": false
          },
          "type": "base"
         },
         "2": {
          "params": {
           "aspectRatio": 1.5,
           "assembly": "default",
           "bondScale": 0.3,
           "bondSpacing": 0.75,
           "clipCenter": {
            "x": 0,
            "y": 0,
            "z": 0
           },
           "clipNear": 0,
           "clipRadius": 0,
           "colorMode": "hcl",
           "colorReverse": false,
           "colorScale": "",
           "colorScheme": "element",
           "colorValue": 9474192,
           "cylinderOnly": false,
           "defaultAssembly": "",
           "depthWrite": true,
           "diffuse": 16777215,
           "diffuseInterior": false,
           "disableImpostor": false,
           "disablePicking": false,
           "flatShaded": false,
           "interiorColor": 2236962,
           "interiorDarkening": 0,
           "lazy": false,
           "lineOnly": false,
           "linewidth": 2,
           "matrix": {
            "elements": [
             1,
             0,
             0,
             0,
             0,
             1,
             0,
             0,
             0,
             0,
             1,
             0,
             0,
             0,
             0,
             1
            ]
           },
           "metalness": 0,
           "multipleBond": "off",
           "opacity": 1,
           "openEnded": true,
           "quality": "high",
           "radialSegments": 20,
           "radiusData": {},
           "radiusScale": 2,
           "radiusSize": 0.15,
           "radiusType": "size",
           "roughness": 0.4,
           "sele": "ligand",
           "side": "double",
           "sphereDetail": 2,
           "useInteriorColor": true,
           "visible": true,
           "wireframe": false
          },
          "type": "ball+stick"
         }
        }
       },
       "_ngl_serialize": false,
       "_ngl_version": "2.2.2",
       "_ngl_view_id": [
        "3D4F205C-4D41-437F-A9D7-366A3CC8E382"
       ],
       "_player_dict": {},
       "_scene_position": {},
       "_scene_rotation": {},
       "_synced_model_ids": [],
       "_synced_repr_model_ids": [],
       "_view_height": "400px",
       "_view_width": "400px",
       "background": "white",
       "frame": 0,
       "gui_style": null,
       "layout": "IPY_MODEL_e1b2fc557dce42beabd8de8dd8e3e2c2",
       "max_frame": 4831,
       "n_components": 1,
       "picked": {}
      }
     },
     "4226fe60fcfc42fc8a12f256e82607d8": {
      "model_module": "@jupyter-widgets/controls",
      "model_module_version": "2.0.0",
      "model_name": "PlayModel",
      "state": {
       "layout": "IPY_MODEL_ed070818e9bf46fca82b409784726f5c",
       "max": 5000,
       "style": "IPY_MODEL_f0e851e6747b4c109bb8f63844d6395a"
      }
     },
     "4340e52b5ca44648aa186637d70f5e62": {
      "model_module": "@jupyter-widgets/controls",
      "model_module_version": "2.0.0",
      "model_name": "LinkModel",
      "state": {
       "source": [
        "IPY_MODEL_119ac9c3fcab43688f84fcad537d190c",
        "max"
       ],
       "target": [
        "IPY_MODEL_3d5ee802772b4b8186a0763087553be3",
        "max_frame"
       ]
      }
     },
     "437cfb1ca72b47b689b4efcd83f0180b": {
      "model_module": "@jupyter-widgets/base",
      "model_module_version": "2.0.0",
      "model_name": "LayoutModel",
      "state": {}
     },
     "4492592803c249539e1cd39a112850ee": {
      "model_module": "@jupyter-widgets/controls",
      "model_module_version": "2.0.0",
      "model_name": "DescriptionStyleModel",
      "state": {
       "description_width": ""
      }
     },
     "476b227fd39548e9bffc6ed6421ac697": {
      "model_module": "@jupyter-widgets/controls",
      "model_module_version": "2.0.0",
      "model_name": "LinkModel",
      "state": {
       "source": [
        "IPY_MODEL_56c518cc74094380bf267604f42a8592",
        "max"
       ],
       "target": [
        "IPY_MODEL_260468cd296f4cc9b52984e391ac2dd3",
        "max_frame"
       ]
      }
     },
     "47d47d173bfa4cb1899fccfb994249da": {
      "model_module": "@jupyter-widgets/controls",
      "model_module_version": "2.0.0",
      "model_name": "ImageModel",
      "state": {
       "layout": "IPY_MODEL_26416d935fca487d88d43d765c336a58",
       "width": "900.0"
      }
     },
     "4a593fbd9c8947329f9a4a7c305936f7": {
      "model_module": "@jupyter-widgets/controls",
      "model_module_version": "2.0.0",
      "model_name": "LinkModel",
      "state": {
       "source": [
        "IPY_MODEL_1e34d23511a045ce96af2498e21a3fd2",
        "value"
       ],
       "target": [
        "IPY_MODEL_ee235e099d964c38b91eba04a7e53112",
        "value"
       ]
      }
     },
     "4da2fd0aa0dd483d8d70572a7deb37a5": {
      "model_module": "@jupyter-widgets/controls",
      "model_module_version": "2.0.0",
      "model_name": "ButtonStyleModel",
      "state": {
       "font_family": null,
       "font_size": null,
       "font_style": null,
       "font_variant": null,
       "font_weight": null,
       "text_color": null,
       "text_decoration": null
      }
     },
     "52fb1f76d56543b48df7736b3cf834f4": {
      "model_module": "@jupyter-widgets/base",
      "model_module_version": "2.0.0",
      "model_name": "LayoutModel",
      "state": {}
     },
     "544066072d9b40e7893a1ac01aaef229": {
      "model_module": "@jupyter-widgets/base",
      "model_module_version": "2.0.0",
      "model_name": "LayoutModel",
      "state": {}
     },
     "55fcd3c2065d44eb8a266ab518eabe1e": {
      "model_module": "@jupyter-widgets/controls",
      "model_module_version": "2.0.0",
      "model_name": "ButtonStyleModel",
      "state": {
       "font_family": null,
       "font_size": null,
       "font_style": null,
       "font_variant": null,
       "font_weight": null,
       "text_color": null,
       "text_decoration": null
      }
     },
     "56c518cc74094380bf267604f42a8592": {
      "model_module": "@jupyter-widgets/controls",
      "model_module_version": "2.0.0",
      "model_name": "PlayModel",
      "state": {
       "layout": "IPY_MODEL_7acc1e85980d4af596d7bced73056feb",
       "max": 5000,
       "style": "IPY_MODEL_daae4a910747429b8ea3d4c2d48aa058"
      }
     },
     "578b0889ce7f43a38650c48f9199450a": {
      "model_module": "@jupyter-widgets/controls",
      "model_module_version": "2.0.0",
      "model_name": "IntSliderModel",
      "state": {
       "behavior": "drag-tap",
       "layout": "IPY_MODEL_c19fa56394de4e21bd7b4ddfaa3d9872",
       "max": 5000,
       "style": "IPY_MODEL_df5850f38bf24a01b72ab7183172e1b9"
      }
     },
     "5975122ca2cf4ea19c425778b36a67c9": {
      "model_module": "@jupyter-widgets/controls",
      "model_module_version": "2.0.0",
      "model_name": "LinkModel",
      "state": {
       "source": [
        "IPY_MODEL_6e997ee041fc40a19b3c4c0aafe836ab",
        "max"
       ],
       "target": [
        "IPY_MODEL_c810efc53e264aeea7e4f42846808aef",
        "max_frame"
       ]
      }
     },
     "59958941ea7f4fc7bb04aaa917103ef8": {
      "model_module": "@jupyter-widgets/base",
      "model_module_version": "2.0.0",
      "model_name": "LayoutModel",
      "state": {
       "width": "34px"
      }
     },
     "5e88694ff9be4b59a944016b96fed315": {
      "model_module": "@jupyter-widgets/controls",
      "model_module_version": "2.0.0",
      "model_name": "IntSliderModel",
      "state": {
       "behavior": "drag-tap",
       "layout": "IPY_MODEL_83113249b099440599f2ab177f9b2459",
       "max": 5000,
       "style": "IPY_MODEL_e29046da2e174c788f17f0997fc73fb7"
      }
     },
     "5ed6dcbe9c11481d93ddc68f672995b3": {
      "model_module": "@jupyter-widgets/controls",
      "model_module_version": "2.0.0",
      "model_name": "LinkModel",
      "state": {
       "source": [
        "IPY_MODEL_9407305fda8d4d0e8f7f47531cffd26b",
        "max"
       ],
       "target": [
        "IPY_MODEL_3d5ee802772b4b8186a0763087553be3",
        "max_frame"
       ]
      }
     },
     "5eda3360033d4a98ab09a62cd48f3b88": {
      "model_module": "@jupyter-widgets/controls",
      "model_module_version": "2.0.0",
      "model_name": "LinkModel",
      "state": {
       "source": [
        "IPY_MODEL_4226fe60fcfc42fc8a12f256e82607d8",
        "value"
       ],
       "target": [
        "IPY_MODEL_3051a32010c84adbb09bf696ae28fa33",
        "value"
       ]
      }
     },
     "5ef0c1f3d8044b1ea09fa051e0907568": {
      "model_module": "@jupyter-widgets/controls",
      "model_module_version": "2.0.0",
      "model_name": "ButtonModel",
      "state": {
       "icon": "compress",
       "layout": "IPY_MODEL_59958941ea7f4fc7bb04aaa917103ef8",
       "style": "IPY_MODEL_55fcd3c2065d44eb8a266ab518eabe1e",
       "tooltip": null
      }
     },
     "639ac49fe0d44a5a806d03d1800f19b8": {
      "model_module": "@jupyter-widgets/controls",
      "model_module_version": "2.0.0",
      "model_name": "LinkModel",
      "state": {
       "source": [
        "IPY_MODEL_6e997ee041fc40a19b3c4c0aafe836ab",
        "value"
       ],
       "target": [
        "IPY_MODEL_8bf85e17387e4b0380eeb0ad71a73c40",
        "value"
       ]
      }
     },
     "648415f95e15465dbfa19fad849df4c6": {
      "model_module": "@jupyter-widgets/base",
      "model_module_version": "2.0.0",
      "model_name": "LayoutModel",
      "state": {}
     },
     "67ab5c2a51e643379928190880d76a15": {
      "model_module": "@jupyter-widgets/controls",
      "model_module_version": "2.0.0",
      "model_name": "LinkModel",
      "state": {
       "source": [
        "IPY_MODEL_119ac9c3fcab43688f84fcad537d190c",
        "value"
       ],
       "target": [
        "IPY_MODEL_9407305fda8d4d0e8f7f47531cffd26b",
        "value"
       ]
      }
     },
     "67d3723afecd4442be196ca1b4c31266": {
      "model_module": "@jupyter-widgets/controls",
      "model_module_version": "2.0.0",
      "model_name": "ButtonStyleModel",
      "state": {
       "font_family": null,
       "font_size": null,
       "font_style": null,
       "font_variant": null,
       "font_weight": null,
       "text_color": null,
       "text_decoration": null
      }
     },
     "69d77ab72d50478fb84c1f29207e86bd": {
      "model_module": "@jupyter-widgets/controls",
      "model_module_version": "2.0.0",
      "model_name": "LinkModel",
      "state": {
       "source": [
        "IPY_MODEL_56c518cc74094380bf267604f42a8592",
        "value"
       ],
       "target": [
        "IPY_MODEL_260468cd296f4cc9b52984e391ac2dd3",
        "frame"
       ]
      }
     },
     "6e6a8ae5f71641ca8ccbd71306c7079f": {
      "model_module": "@jupyter-widgets/controls",
      "model_module_version": "2.0.0",
      "model_name": "HBoxModel",
      "state": {
       "children": [
        "IPY_MODEL_6e997ee041fc40a19b3c4c0aafe836ab",
        "IPY_MODEL_8bf85e17387e4b0380eeb0ad71a73c40"
       ],
       "layout": "IPY_MODEL_9213084892c04e5a8661813b9558077a"
      }
     },
     "6e997ee041fc40a19b3c4c0aafe836ab": {
      "model_module": "@jupyter-widgets/controls",
      "model_module_version": "2.0.0",
      "model_name": "PlayModel",
      "state": {
       "layout": "IPY_MODEL_a4148d62aef14c21a95ff9fb657f29dc",
       "max": 4831,
       "style": "IPY_MODEL_c527c0e7a19a4125bb28223d3b5d7297"
      }
     },
     "70050f49842f4b139dc1d700837b4e4b": {
      "model_module": "@jupyter-widgets/base",
      "model_module_version": "2.0.0",
      "model_name": "LayoutModel",
      "state": {}
     },
     "76b14b078136407eaaac209d1c45e88b": {
      "model_module": "@jupyter-widgets/controls",
      "model_module_version": "2.0.0",
      "model_name": "ButtonStyleModel",
      "state": {
       "font_family": null,
       "font_size": null,
       "font_style": null,
       "font_variant": null,
       "font_weight": null,
       "text_color": null,
       "text_decoration": null
      }
     },
     "77cf59e8f9e9437cb00891e0a4c3857c": {
      "model_module": "@jupyter-widgets/controls",
      "model_module_version": "2.0.0",
      "model_name": "ButtonModel",
      "state": {
       "icon": "compress",
       "layout": "IPY_MODEL_3a7c32f75cf34f3f862180fa68f69f2d",
       "style": "IPY_MODEL_4da2fd0aa0dd483d8d70572a7deb37a5",
       "tooltip": null
      }
     },
     "795b11adc2b84b42bc64a9b9f4004015": {
      "model_module": "@jupyter-widgets/base",
      "model_module_version": "2.0.0",
      "model_name": "LayoutModel",
      "state": {}
     },
     "7acc1e85980d4af596d7bced73056feb": {
      "model_module": "@jupyter-widgets/base",
      "model_module_version": "2.0.0",
      "model_name": "LayoutModel",
      "state": {}
     },
     "7b6888d6fb2946688563c028a0d2eff9": {
      "model_module": "@jupyter-widgets/base",
      "model_module_version": "2.0.0",
      "model_name": "LayoutModel",
      "state": {}
     },
     "7ff0984cc3f44c92ac38967e8be403df": {
      "model_module": "@jupyter-widgets/base",
      "model_module_version": "2.0.0",
      "model_name": "LayoutModel",
      "state": {
       "width": "34px"
      }
     },
     "8060ec2b0c6e4944aa3c26bdf6171c32": {
      "model_module": "@jupyter-widgets/base",
      "model_module_version": "2.0.0",
      "model_name": "LayoutModel",
      "state": {}
     },
     "8191dfd7e228463c92deccfb3c04e27f": {
      "model_module": "@jupyter-widgets/controls",
      "model_module_version": "2.0.0",
      "model_name": "LinkModel",
      "state": {
       "source": [
        "IPY_MODEL_4226fe60fcfc42fc8a12f256e82607d8",
        "max"
       ],
       "target": [
        "IPY_MODEL_f9c3254b48374db3b78649b2396a6fb8",
        "max_frame"
       ]
      }
     },
     "83113249b099440599f2ab177f9b2459": {
      "model_module": "@jupyter-widgets/base",
      "model_module_version": "2.0.0",
      "model_name": "LayoutModel",
      "state": {}
     },
     "837a26739d404110a011eb31c4ce531c": {
      "model_module": "@jupyter-widgets/base",
      "model_module_version": "2.0.0",
      "model_name": "LayoutModel",
      "state": {}
     },
     "83e905668f23421eab0630657a298e1c": {
      "model_module": "@jupyter-widgets/controls",
      "model_module_version": "2.0.0",
      "model_name": "ButtonModel",
      "state": {
       "icon": "compress",
       "layout": "IPY_MODEL_2350aabae32d46f3afc1c127f8bb94c5",
       "style": "IPY_MODEL_67d3723afecd4442be196ca1b4c31266",
       "tooltip": null
      }
     },
     "8bf85e17387e4b0380eeb0ad71a73c40": {
      "model_module": "@jupyter-widgets/controls",
      "model_module_version": "2.0.0",
      "model_name": "IntSliderModel",
      "state": {
       "behavior": "drag-tap",
       "layout": "IPY_MODEL_ca906399a8bb44d78c4f67884a564cb7",
       "max": 4831,
       "style": "IPY_MODEL_be1194f808a34d68b6af95b2c345d3fc"
      }
     },
     "90a72b8daa4f4791a9987fdd414f7976": {
      "model_module": "@jupyter-widgets/controls",
      "model_module_version": "2.0.0",
      "model_name": "LinkModel",
      "state": {
       "source": [
        "IPY_MODEL_ee235e099d964c38b91eba04a7e53112",
        "max"
       ],
       "target": [
        "IPY_MODEL_11149a99b9f54e54bf96314d83003d74",
        "max_frame"
       ]
      }
     },
     "9213084892c04e5a8661813b9558077a": {
      "model_module": "@jupyter-widgets/base",
      "model_module_version": "2.0.0",
      "model_name": "LayoutModel",
      "state": {}
     },
     "9407305fda8d4d0e8f7f47531cffd26b": {
      "model_module": "@jupyter-widgets/controls",
      "model_module_version": "2.0.0",
      "model_name": "IntSliderModel",
      "state": {
       "behavior": "drag-tap",
       "layout": "IPY_MODEL_1425c1906de64d829399bc82e4874692",
       "max": 4831,
       "style": "IPY_MODEL_ea14399750c44b84b5d8cabf85d5e008"
      }
     },
     "97c1ef49977f4875851dcff4605dc601": {
      "model_module": "@jupyter-widgets/controls",
      "model_module_version": "2.0.0",
      "model_name": "DescriptionStyleModel",
      "state": {
       "description_width": ""
      }
     },
     "9a1babb2fc2c4bce8cb06cb67bb8302b": {
      "model_module": "@jupyter-widgets/controls",
      "model_module_version": "2.0.0",
      "model_name": "LinkModel",
      "state": {
       "source": [
        "IPY_MODEL_578b0889ce7f43a38650c48f9199450a",
        "max"
       ],
       "target": [
        "IPY_MODEL_260468cd296f4cc9b52984e391ac2dd3",
        "max_frame"
       ]
      }
     },
     "9a1d04e7254047598a4f61ad642ac084": {
      "model_module": "@jupyter-widgets/base",
      "model_module_version": "2.0.0",
      "model_name": "LayoutModel",
      "state": {}
     },
     "a2d4a1887cc4473381477a11bda1b576": {
      "model_module": "@jupyter-widgets/controls",
      "model_module_version": "2.0.0",
      "model_name": "SliderStyleModel",
      "state": {
       "description_width": ""
      }
     },
     "a3d8d19eea1b4ceaaf8db0c24b052511": {
      "model_module": "nglview-js-widgets",
      "model_module_version": "3.1.0",
      "model_name": "ColormakerRegistryModel",
      "state": {
       "_msg_ar": [],
       "_msg_q": [],
       "_ready": true,
       "layout": "IPY_MODEL_b41ac5e290a046db9aff9ec3474f09e6"
      }
     },
     "a4148d62aef14c21a95ff9fb657f29dc": {
      "model_module": "@jupyter-widgets/base",
      "model_module_version": "2.0.0",
      "model_name": "LayoutModel",
      "state": {}
     },
     "a56180698c3144e2b51cbab47bb3d9a7": {
      "model_module": "@jupyter-widgets/base",
      "model_module_version": "2.0.0",
      "model_name": "LayoutModel",
      "state": {
       "width": "34px"
      }
     },
     "a59b6113c49a4270bd2fb0787efae289": {
      "model_module": "@jupyter-widgets/controls",
      "model_module_version": "2.0.0",
      "model_name": "LinkModel",
      "state": {
       "source": [
        "IPY_MODEL_8bf85e17387e4b0380eeb0ad71a73c40",
        "max"
       ],
       "target": [
        "IPY_MODEL_c810efc53e264aeea7e4f42846808aef",
        "max_frame"
       ]
      }
     },
     "a7fcf951937d4c4f9eae901880cf5cc4": {
      "model_module": "@jupyter-widgets/base",
      "model_module_version": "2.0.0",
      "model_name": "LayoutModel",
      "state": {}
     },
     "a860a24c28114c509bc74eb4a2cbac57": {
      "model_module": "@jupyter-widgets/base",
      "model_module_version": "2.0.0",
      "model_name": "LayoutModel",
      "state": {}
     },
     "a999ab326a80407a8609a789b818cb64": {
      "model_module": "@jupyter-widgets/base",
      "model_module_version": "2.0.0",
      "model_name": "LayoutModel",
      "state": {}
     },
     "a9bb697fc6604d9689a90c0f1c4869d4": {
      "model_module": "@jupyter-widgets/controls",
      "model_module_version": "2.0.0",
      "model_name": "LinkModel",
      "state": {
       "source": [
        "IPY_MODEL_1e34d23511a045ce96af2498e21a3fd2",
        "max"
       ],
       "target": [
        "IPY_MODEL_11149a99b9f54e54bf96314d83003d74",
        "max_frame"
       ]
      }
     },
     "b1102816e72c41da94e1b3a89dfae8e7": {
      "model_module": "@jupyter-widgets/controls",
      "model_module_version": "2.0.0",
      "model_name": "ImageModel",
      "state": {
       "layout": "IPY_MODEL_fc27ee479a4b4cf79856104e31298908",
       "width": "900.0"
      }
     },
     "b41ac5e290a046db9aff9ec3474f09e6": {
      "model_module": "@jupyter-widgets/base",
      "model_module_version": "2.0.0",
      "model_name": "LayoutModel",
      "state": {}
     },
     "b918421e1ce648c8a4340e0b8ea6a20e": {
      "model_module": "@jupyter-widgets/controls",
      "model_module_version": "2.0.0",
      "model_name": "HBoxModel",
      "state": {
       "children": [
        "IPY_MODEL_ba7d1c62570140749ea7f156cc88ffae",
        "IPY_MODEL_5e88694ff9be4b59a944016b96fed315"
       ],
       "layout": "IPY_MODEL_a7fcf951937d4c4f9eae901880cf5cc4"
      }
     },
     "ba7d1c62570140749ea7f156cc88ffae": {
      "model_module": "@jupyter-widgets/controls",
      "model_module_version": "2.0.0",
      "model_name": "PlayModel",
      "state": {
       "layout": "IPY_MODEL_52fb1f76d56543b48df7736b3cf834f4",
       "max": 5000,
       "style": "IPY_MODEL_97c1ef49977f4875851dcff4605dc601"
      }
     },
     "bcfba03a1da74a0eb98de48234e90e93": {
      "model_module": "@jupyter-widgets/controls",
      "model_module_version": "2.0.0",
      "model_name": "ImageModel",
      "state": {
       "layout": "IPY_MODEL_837a26739d404110a011eb31c4ce531c",
       "width": "900.0"
      }
     },
     "be1194f808a34d68b6af95b2c345d3fc": {
      "model_module": "@jupyter-widgets/controls",
      "model_module_version": "2.0.0",
      "model_name": "SliderStyleModel",
      "state": {
       "description_width": ""
      }
     },
     "c01f867fff6a4b3ea4189711ff2f0bcd": {
      "model_module": "@jupyter-widgets/controls",
      "model_module_version": "2.0.0",
      "model_name": "LinkModel",
      "state": {
       "source": [
        "IPY_MODEL_56c518cc74094380bf267604f42a8592",
        "value"
       ],
       "target": [
        "IPY_MODEL_578b0889ce7f43a38650c48f9199450a",
        "value"
       ]
      }
     },
     "c08fa720ca2949eb82576099d49f7084": {
      "model_module": "@jupyter-widgets/controls",
      "model_module_version": "2.0.0",
      "model_name": "LinkModel",
      "state": {
       "source": [
        "IPY_MODEL_ba7d1c62570140749ea7f156cc88ffae",
        "value"
       ],
       "target": [
        "IPY_MODEL_5e88694ff9be4b59a944016b96fed315",
        "value"
       ]
      }
     },
     "c19fa56394de4e21bd7b4ddfaa3d9872": {
      "model_module": "@jupyter-widgets/base",
      "model_module_version": "2.0.0",
      "model_name": "LayoutModel",
      "state": {}
     },
     "c4de4ba7678a4110affccb0680f644c2": {
      "model_module": "@jupyter-widgets/controls",
      "model_module_version": "2.0.0",
      "model_name": "HBoxModel",
      "state": {
       "children": [
        "IPY_MODEL_1e34d23511a045ce96af2498e21a3fd2",
        "IPY_MODEL_ee235e099d964c38b91eba04a7e53112"
       ],
       "layout": "IPY_MODEL_a860a24c28114c509bc74eb4a2cbac57"
      }
     },
     "c527c0e7a19a4125bb28223d3b5d7297": {
      "model_module": "@jupyter-widgets/controls",
      "model_module_version": "2.0.0",
      "model_name": "DescriptionStyleModel",
      "state": {
       "description_width": ""
      }
     },
     "c56d8c95f935491ca2beda6769d08829": {
      "model_module": "@jupyter-widgets/controls",
      "model_module_version": "2.0.0",
      "model_name": "ButtonStyleModel",
      "state": {
       "font_family": null,
       "font_size": null,
       "font_style": null,
       "font_variant": null,
       "font_weight": null,
       "text_color": null,
       "text_decoration": null
      }
     },
     "c810efc53e264aeea7e4f42846808aef": {
      "model_module": "nglview-js-widgets",
      "model_module_version": "3.1.0",
      "model_name": "NGLModel",
      "state": {
       "_camera_orientation": [
        1.0950634738100866,
        79.55144661769255,
        5.261187421373449,
        0,
        -8.764342873273028,
        -5.109673344218579,
        79.08469794073422,
        0,
        79.24202828077001,
        -1.6644805225280577,
        8.674236254684923,
        0,
        3.3299999237060547,
        -1.5,
        1.2950000762939453,
        1
       ],
       "_camera_str": "orthographic",
       "_gui_theme": null,
       "_ibtn_fullscreen": "IPY_MODEL_77cf59e8f9e9437cb00891e0a4c3857c",
       "_igui": null,
       "_iplayer": "IPY_MODEL_6e6a8ae5f71641ca8ccbd71306c7079f",
       "_ngl_color_dict": {},
       "_ngl_coordinate_resource": {},
       "_ngl_full_stage_parameters": {
        "ambientColor": 14540253,
        "ambientIntensity": 0.2,
        "backgroundColor": "white",
        "cameraEyeSep": 0.3,
        "cameraFov": 40,
        "cameraType": "perspective",
        "clipDist": 10,
        "clipFar": 100,
        "clipMode": "scene",
        "clipNear": 0,
        "clipScale": "relative",
        "fogFar": 100,
        "fogNear": 50,
        "hoverTimeout": 0,
        "impostor": true,
        "lightColor": 14540253,
        "lightIntensity": 1,
        "mousePreset": "default",
        "panSpeed": 1,
        "quality": "medium",
        "rotateSpeed": 2,
        "sampleLevel": 0,
        "tooltip": true,
        "workerDefault": true,
        "zoomSpeed": 1.2
       },
       "_ngl_msg_archive": [
        {
         "args": [
          {
           "binary": false,
           "data": "MODEL        0\nATOM      0  N   GLU A   1     -14.790  -3.290  18.980  1.00  0.00           N  \nATOM      1  CA  GLU A   1     -13.720  -4.300  18.760  1.00  0.00           C  \nATOM      2  C   GLU A   1     -12.950  -3.980  17.470  1.00  0.00           C  \nATOM      3  O   GLU A   1     -13.540  -3.450  16.520  1.00  0.00           O  \nATOM      4  CB  GLU A   1     -14.300  -5.720  18.740  1.00  0.00           C  \nATOM      5  CG  GLU A   1     -13.330  -6.890  18.520  1.00  0.00           C  \nATOM      6  CD  GLU A   1     -12.210  -6.990  19.570  1.00  0.00           C  \nATOM      7  OE1 GLU A   1     -11.560  -5.960  19.860  1.00  0.00           O  \nATOM      8  OE2 GLU A   1     -11.960  -8.100  20.090  1.00  0.00           O  \nATOM      9  H   GLU A   1     -15.320  -3.470  19.820  1.00  0.00           H  \nATOM     10  H2  GLU A   1     -15.440  -3.290  18.210  1.00  0.00           H  \nATOM     11  H3  GLU A   1     -14.390  -2.370  19.040  1.00  0.00           H  \nATOM     12  HA  GLU A   1     -13.010  -4.250  19.580  1.00  0.00           H  \nATOM     13  HB2 GLU A   1     -14.810  -5.920  19.690  1.00  0.00           H  \nATOM     14  HB3 GLU A   1     -15.070  -5.790  17.970  1.00  0.00           H  \nATOM     15  HG2 GLU A   1     -13.910  -7.810  18.520  1.00  0.00           H  \nATOM     16  HG3 GLU A   1     -12.900  -6.740  17.530  1.00  0.00           H  \nATOM     17  N   GLN A   2     -11.640  -4.280  17.430  1.00  0.00           N  \nATOM     18  CA  GLN A   2     -10.790  -4.070  16.260  1.00  0.00           C  \nATOM     19  C   GLN A   2      -9.720  -5.160  16.130  1.00  0.00           C  \nATOM     20  O   GLN A   2      -9.400  -5.880  17.090  1.00  0.00           O  \nATOM     21  CB  GLN A   2     -10.140  -2.670  16.320  1.00  0.00           C  \nATOM     22  CG  GLN A   2      -9.130  -2.490  17.510  1.00  0.00           C  \nATOM     23  CD  GLN A   2      -8.480  -1.090  17.520  1.00  0.00           C  \nATOM     24  OE1 GLN A   2      -8.730  -0.220  16.710  1.00  0.00           O  \nATOM     25  NE2 GLN A   2      -7.590  -0.850  18.460  1.00  0.00           N  \nATOM     26  H   GLN A   2     -11.270  -4.740  18.250  1.00  0.00           H  \nATOM     27  HA  GLN A   2     -11.380  -4.100  15.350  1.00  0.00           H  \nATOM     28  HB2 GLN A   2      -9.620  -2.490  15.380  1.00  0.00           H  \nATOM     29  HB3 GLN A   2     -10.910  -1.910  16.440  1.00  0.00           H  \nATOM     30  HG2 GLN A   2      -9.680  -2.640  18.440  1.00  0.00           H  \nATOM     31  HG3 GLN A   2      -8.330  -3.220  17.410  1.00  0.00           H  \nATOM     32 HE21 GLN A   2      -7.330  -1.550  19.140  1.00  0.00           H  \nATOM     33 HE22 GLN A   2      -7.150   0.050  18.490  1.00  0.00           H  \nATOM     34  N   TYR A   3      -9.130  -5.290  14.930  1.00  0.00           N  \nATOM     35  CA  TYR A   3      -8.000  -6.170  14.630  1.00  0.00           C  \nATOM     36  C   TYR A   3      -7.100  -5.570  13.530  1.00  0.00           C  \nATOM     37  O   TYR A   3      -7.560  -4.770  12.720  1.00  0.00           O  \nATOM     38  CB  TYR A   3      -8.520  -7.560  14.200  1.00  0.00           C  \nATOM     39  CG  TYR A   3      -7.450  -8.530  13.770  1.00  0.00           C  \nATOM     40  CD1 TYR A   3      -6.600  -9.150  14.730  1.00  0.00           C  \nATOM     41  CD2 TYR A   3      -7.220  -8.780  12.400  1.00  0.00           C  \nATOM     42  CE1 TYR A   3      -5.570 -10.000  14.320  1.00  0.00           C  \nATOM     43  CE2 TYR A   3      -6.170  -9.620  11.990  1.00  0.00           C  \nATOM     44  CZ  TYR A   3      -5.340 -10.240  12.930  1.00  0.00           C  \nATOM     45  OH  TYR A   3      -4.320 -11.050  12.550  1.00  0.00           O  \nATOM     46  H   TYR A   3      -9.450  -4.700  14.180  1.00  0.00           H  \nATOM     47  HA  TYR A   3      -7.380  -6.320  15.510  1.00  0.00           H  \nATOM     48  HB2 TYR A   3      -9.040  -8.000  15.050  1.00  0.00           H  \nATOM     49  HB3 TYR A   3      -9.230  -7.460  13.380  1.00  0.00           H  \nATOM     50  HD1 TYR A   3      -6.740  -8.950  15.780  1.00  0.00           H  \nATOM     51  HD2 TYR A   3      -7.840  -8.310  11.650  1.00  0.00           H  \nATOM     52  HE1 TYR A   3      -4.900 -10.440  15.040  1.00  0.00           H  \nATOM     53  HE2 TYR A   3      -5.960  -9.800  10.940  1.00  0.00           H  \nATOM     54  HH  TYR A   3      -3.770 -11.270  13.300  1.00  0.00           H  \nATOM     55  N   THR A   4      -5.830  -5.990  13.490  1.00  0.00           N  \nATOM     56  CA  THR A   4      -4.890  -5.740  12.370  1.00  0.00           C  \nATOM     57  C   THR A   4      -3.900  -6.900  12.250  1.00  0.00           C  \nATOM     58  O   THR A   4      -3.600  -7.560  13.250  1.00  0.00           O  \nATOM     59  CB  THR A   4      -4.170  -4.390  12.540  1.00  0.00           C  \nATOM     60  OG1 THR A   4      -3.350  -4.150  11.410  1.00  0.00           O  \nATOM     61  CG2 THR A   4      -3.260  -4.310  13.750  1.00  0.00           C  \nATOM     62  H   THR A   4      -5.520  -6.690  14.150  1.00  0.00           H  \nATOM     63  HA  THR A   4      -5.460  -5.740  11.440  1.00  0.00           H  \nATOM     64  HB  THR A   4      -4.900  -3.580  12.550  1.00  0.00           H  \nATOM     65  HG1 THR A   4      -3.880  -3.700  10.750  1.00  0.00           H  \nATOM     66 HG21 THR A   4      -2.440  -5.030  13.680  1.00  0.00           H  \nATOM     67 HG22 THR A   4      -3.860  -4.450  14.660  1.00  0.00           H  \nATOM     68 HG23 THR A   4      -2.800  -3.320  13.800  1.00  0.00           H  \nATOM     69  N   ALA A   5      -3.350  -7.110  11.060  1.00  0.00           N  \nATOM     70  CA  ALA A   5      -2.290  -8.060  10.790  1.00  0.00           C  \nATOM     71  C   ALA A   5      -0.900  -7.390  10.550  1.00  0.00           C  \nATOM     72  O   ALA A   5       0.050  -8.100  10.220  1.00  0.00           O  \nATOM     73  CB  ALA A   5      -2.710  -8.930   9.590  1.00  0.00           C  \nATOM     74  H   ALA A   5      -3.640  -6.520  10.300  1.00  0.00           H  \nATOM     75  HA  ALA A   5      -2.170  -8.730  11.640  1.00  0.00           H  \nATOM     76  HB1 ALA A   5      -2.800  -8.300   8.700  1.00  0.00           H  \nATOM     77  HB2 ALA A   5      -3.650  -9.440   9.840  1.00  0.00           H  \nATOM     78  HB3 ALA A   5      -1.940  -9.680   9.420  1.00  0.00           H  \nATOM     79  N   LYS A   6      -0.780  -6.070  10.710  1.00  0.00           N  \nATOM     80  CA  LYS A   6       0.350  -5.240  10.190  1.00  0.00           C  \nATOM     81  C   LYS A   6       1.770  -5.660  10.600  1.00  0.00           C  \nATOM     82  O   LYS A   6       2.740  -5.250   9.970  1.00  0.00           O  \nATOM     83  CB  LYS A   6       0.090  -3.760  10.520  1.00  0.00           C  \nATOM     84  CG  LYS A   6       0.190  -3.420  12.030  1.00  0.00           C  \nATOM     85  CD  LYS A   6      -0.130  -1.950  12.290  1.00  0.00           C  \nATOM     86  CE  LYS A   6       0.030  -1.640  13.790  1.00  0.00           C  \nATOM     87  NZ  LYS A   6      -0.180  -0.200  14.080  1.00  0.00           N  \nATOM     88  H   LYS A   6      -1.600  -5.550  10.990  1.00  0.00           H  \nATOM     89  HA  LYS A   6       0.320  -5.350   9.100  1.00  0.00           H  \nATOM     90  HB2 LYS A   6       0.820  -3.150   9.990  1.00  0.00           H  \nATOM     91  HB3 LYS A   6      -0.900  -3.460  10.200  1.00  0.00           H  \nATOM     92  HG2 LYS A   6      -0.500  -4.040  12.610  1.00  0.00           H  \nATOM     93  HG3 LYS A   6       1.180  -3.660  12.410  1.00  0.00           H  \nATOM     94  HD2 LYS A   6       0.530  -1.320  11.690  1.00  0.00           H  \nATOM     95  HD3 LYS A   6      -1.160  -1.720  12.030  1.00  0.00           H  \nATOM     96  HE2 LYS A   6      -0.700  -2.220  14.350  1.00  0.00           H  \nATOM     97  HE3 LYS A   6       1.020  -1.960  14.110  1.00  0.00           H  \nATOM     98  HZ1 LYS A   6      -0.080  -0.010  15.070  1.00  0.00           H  \nATOM     99  HZ2 LYS A   6      -1.110   0.120  13.830  1.00  0.00           H  \nATOM    100  HZ3 LYS A   6       0.490   0.380  13.610  1.00  0.00           H  \nATOM    101  N   TYR A   7       1.920  -6.460  11.660  1.00  0.00           N  \nATOM    102  CA  TYR A   7       3.170  -7.080  12.130  1.00  0.00           C  \nATOM    103  C   TYR A   7       3.620  -8.280  11.280  1.00  0.00           C  \nATOM    104  O   TYR A   7       4.790  -8.650  11.350  1.00  0.00           O  \nATOM    105  CB  TYR A   7       2.980  -7.460  13.610  1.00  0.00           C  \nATOM    106  CG  TYR A   7       1.630  -8.070  13.920  1.00  0.00           C  \nATOM    107  CD1 TYR A   7       0.560  -7.240  14.340  1.00  0.00           C  \nATOM    108  CD2 TYR A   7       1.430  -9.440  13.730  1.00  0.00           C  \nATOM    109  CE1 TYR A   7      -0.720  -7.770  14.480  1.00  0.00           C  \nATOM    110  CE2 TYR A   7       0.130  -9.980  13.910  1.00  0.00           C  \nATOM    111  CZ  TYR A   7      -0.950  -9.140  14.250  1.00  0.00           C  \nATOM    112  OH  TYR A   7      -2.210  -9.640  14.330  1.00  0.00           O  \nATOM    113  H   TYR A   7       1.060  -6.740  12.120  1.00  0.00           H  \nATOM    114  HA  TYR A   7       3.950  -6.320  12.070  1.00  0.00           H  \nATOM    115  HB2 TYR A   7       3.790  -8.130  13.890  1.00  0.00           H  \nATOM    116  HB3 TYR A   7       3.100  -6.540  14.200  1.00  0.00           H  \nATOM    117  HD1 TYR A   7       0.710  -6.180  14.460  1.00  0.00           H  \nATOM    118  HD2 TYR A   7       2.250 -10.080  13.430  1.00  0.00           H  \nATOM    119  HE1 TYR A   7      -1.550  -7.140  14.760  1.00  0.00           H  \nATOM    120  HE2 TYR A   7      -0.050 -11.030  13.710  1.00  0.00           H  \nATOM    121  HH  TYR A   7      -2.840  -8.960  14.050  1.00  0.00           H  \nATOM    122  N   LYS A   8       2.720  -8.910  10.490  1.00  0.00           N  \nATOM    123  CA  LYS A   8       3.000 -10.090   9.650  1.00  0.00           C  \nATOM    124  C   LYS A   8       2.370 -10.060   8.240  1.00  0.00           C  \nATOM    125  O   LYS A   8       2.770 -10.880   7.410  1.00  0.00           O  \nATOM    126  CB  LYS A   8       2.640 -11.370  10.430  1.00  0.00           C  \nATOM    127  CG  LYS A   8       1.160 -11.580  10.820  1.00  0.00           C  \nATOM    128  CD  LYS A   8       0.290 -12.210   9.720  1.00  0.00           C  \nATOM    129  CE  LYS A   8      -1.090 -12.560  10.300  1.00  0.00           C  \nATOM    130  NZ  LYS A   8      -1.950 -13.250   9.300  1.00  0.00           N  \nATOM    131  H   LYS A   8       1.770  -8.560  10.530  1.00  0.00           H  \nATOM    132  HA  LYS A   8       4.070 -10.110   9.460  1.00  0.00           H  \nATOM    133  HB2 LYS A   8       2.990 -12.250   9.890  1.00  0.00           H  \nATOM    134  HB3 LYS A   8       3.230 -11.380  11.350  1.00  0.00           H  \nATOM    135  HG2 LYS A   8       1.140 -12.270  11.660  1.00  0.00           H  \nATOM    136  HG3 LYS A   8       0.730 -10.630  11.150  1.00  0.00           H  \nATOM    137  HD2 LYS A   8       0.140 -11.500   8.910  1.00  0.00           H  \nATOM    138  HD3 LYS A   8       0.790 -13.110   9.360  1.00  0.00           H  \nATOM    139  HE2 LYS A   8      -0.980 -13.230  11.160  1.00  0.00           H  \nATOM    140  HE3 LYS A   8      -1.590 -11.670  10.660  1.00  0.00           H  \nATOM    141  HZ1 LYS A   8      -2.860 -13.470   9.680  1.00  0.00           H  \nATOM    142  HZ2 LYS A   8      -1.520 -14.100   8.960  1.00  0.00           H  \nATOM    143  HZ3 LYS A   8      -2.090 -12.630   8.510  1.00  0.00           H  \nATOM    144  N   GLY A   9       1.460  -9.140   7.940  1.00  0.00           N  \nATOM    145  CA  GLY A   9       0.850  -8.970   6.610  1.00  0.00           C  \nATOM    146  C   GLY A   9       0.230  -7.590   6.420  1.00  0.00           C  \nATOM    147  O   GLY A   9      -0.320  -7.020   7.370  1.00  0.00           O  \nATOM    148  H   GLY A   9       1.120  -8.540   8.670  1.00  0.00           H  \nATOM    149  HA2 GLY A   9       1.610  -9.120   5.840  1.00  0.00           H  \nATOM    150  HA3 GLY A   9       0.070  -9.720   6.460  1.00  0.00           H  \nATOM    151  N   ARG A  10       0.340  -7.030   5.210  1.00  0.00           N  \nATOM    152  CA  ARG A  10      -0.040  -5.630   4.880  1.00  0.00           C  \nATOM    153  C   ARG A  10      -0.720  -5.530   3.510  1.00  0.00           C  \nATOM    154  O   ARG A  10      -0.680  -6.440   2.720  1.00  0.00           O  \nATOM    155  CB  ARG A  10       1.190  -4.710   4.960  1.00  0.00           C  \nATOM    156  CG  ARG A  10       1.830  -4.670   6.360  1.00  0.00           C  \nATOM    157  CD  ARG A  10       3.020  -3.710   6.400  1.00  0.00           C  \nATOM    158  NE  ARG A  10       3.690  -3.750   7.710  1.00  0.00           N  \nATOM    159  CZ  ARG A  10       4.820  -3.160   8.050  1.00  0.00           C  \nATOM    160  NH1 ARG A  10       5.500  -2.410   7.230  1.00  0.00           N  \nATOM    161  NH2 ARG A  10       5.300  -3.330   9.250  1.00  0.00           N  \nATOM    162  H   ARG A  10       0.740  -7.590   4.480  1.00  0.00           H  \nATOM    163  HA  ARG A  10      -0.760  -5.280   5.630  1.00  0.00           H  \nATOM    164  HB2 ARG A  10       1.940  -5.020   4.230  1.00  0.00           H  \nATOM    165  HB3 ARG A  10       0.900  -3.700   4.680  1.00  0.00           H  \nATOM    166  HG2 ARG A  10       1.090  -4.330   7.090  1.00  0.00           H  \nATOM    167  HG3 ARG A  10       2.180  -5.680   6.600  1.00  0.00           H  \nATOM    168  HD2 ARG A  10       3.740  -3.990   5.630  1.00  0.00           H  \nATOM    169  HD3 ARG A  10       2.660  -2.700   6.220  1.00  0.00           H  \nATOM    170  HE  ARG A  10       3.300  -4.310   8.450  1.00  0.00           H  \nATOM    171 HH11 ARG A  10       5.160  -2.190   6.310  1.00  0.00           H  \nATOM    172 HH12 ARG A  10       6.350  -1.970   7.540  1.00  0.00           H  \nATOM    173 HH21 ARG A  10       4.780  -3.890   9.900  1.00  0.00           H  \nATOM    174 HH22 ARG A  10       6.170  -2.880   9.510  1.00  0.00           H  \nATOM    175  N   THR A  11      -1.330  -4.370   3.230  1.00  0.00           N  \nATOM    176  CA  THR A  11      -2.040  -4.050   1.980  1.00  0.00           C  \nATOM    177  C   THR A  11      -1.700  -2.640   1.490  1.00  0.00           C  \nATOM    178  O   THR A  11      -1.360  -1.750   2.270  1.00  0.00           O  \nATOM    179  CB  THR A  11      -3.550  -4.260   2.140  1.00  0.00           C  \nATOM    180  OG1 THR A  11      -4.210  -4.020   0.910  1.00  0.00           O  \nATOM    181  CG2 THR A  11      -4.210  -3.340   3.180  1.00  0.00           C  \nATOM    182  H   THR A  11      -1.310  -3.620   3.910  1.00  0.00           H  \nATOM    183  HA  THR A  11      -1.710  -4.740   1.210  1.00  0.00           H  \nATOM    184  HB  THR A  11      -3.720  -5.300   2.440  1.00  0.00           H  \nATOM    185  HG1 THR A  11      -5.070  -4.420   1.000  1.00  0.00           H  \nATOM    186 HG21 THR A  11      -3.790  -3.530   4.170  1.00  0.00           H  \nATOM    187 HG22 THR A  11      -5.280  -3.520   3.240  1.00  0.00           H  \nATOM    188 HG23 THR A  11      -4.040  -2.300   2.900  1.00  0.00           H  \nATOM    189  N   PHE A  12      -1.860  -2.390   0.180  1.00  0.00           N  \nATOM    190  CA  PHE A  12      -1.520  -1.120  -0.470  1.00  0.00           C  \nATOM    191  C   PHE A  12      -2.390   0.080  -0.060  1.00  0.00           C  \nATOM    192  O   PHE A  12      -2.050   1.220  -0.360  1.00  0.00           O  \nATOM    193  CB  PHE A  12      -1.560  -1.340  -2.000  1.00  0.00           C  \nATOM    194  CG  PHE A  12      -0.630  -2.410  -2.510  1.00  0.00           C  \nATOM    195  CD1 PHE A  12       0.750  -2.160  -2.590  1.00  0.00           C  \nATOM    196  CD2 PHE A  12      -1.130  -3.680  -2.870  1.00  0.00           C  \nATOM    197  CE1 PHE A  12       1.620  -3.160  -3.040  1.00  0.00           C  \nATOM    198  CE2 PHE A  12      -0.250  -4.690  -3.310  1.00  0.00           C  \nATOM    199  CZ  PHE A  12       1.130  -4.440  -3.390  1.00  0.00           C  \nATOM    200  H   PHE A  12      -2.220  -3.140  -0.380  1.00  0.00           H  \nATOM    201  HA  PHE A  12      -0.490  -0.900  -0.200  1.00  0.00           H  \nATOM    202  HB2 PHE A  12      -2.580  -1.590  -2.300  1.00  0.00           H  \nATOM    203  HB3 PHE A  12      -1.290  -0.410  -2.490  1.00  0.00           H  \nATOM    204  HD1 PHE A  12       1.160  -1.200  -2.320  1.00  0.00           H  \nATOM    205  HD2 PHE A  12      -2.190  -3.880  -2.800  1.00  0.00           H  \nATOM    206  HE1 PHE A  12       2.680  -2.960  -3.120  1.00  0.00           H  \nATOM    207  HE2 PHE A  12      -0.640  -5.660  -3.550  1.00  0.00           H  \nATOM    208  HZ  PHE A  12       1.810  -5.200  -3.720  1.00  0.00           H  \nATOM    209  N   ARG A  13      -3.490  -0.140   0.690  1.00  0.00           N  \nATOM    210  CA  ARG A  13      -4.250   0.910   1.370  1.00  0.00           C  \nATOM    211  C   ARG A  13      -3.590   1.430   2.660  1.00  0.00           C  \nATOM    212  O   ARG A  13      -4.000   2.460   3.190  1.00  0.00           O  \nATOM    213  CB  ARG A  13      -5.700   0.430   1.660  1.00  0.00           C  \nATOM    214  CG  ARG A  13      -6.500   0.060   0.410  1.00  0.00           C  \nATOM    215  CD  ARG A  13      -6.580   1.140  -0.680  1.00  0.00           C  \nATOM    216  NE  ARG A  13      -7.120   2.410  -0.170  1.00  0.00           N  \nATOM    217  CZ  ARG A  13      -6.880   3.630  -0.630  1.00  0.00           C  \nATOM    218  NH1 ARG A  13      -6.130   3.850  -1.660  1.00  0.00           N  \nATOM    219  NH2 ARG A  13      -7.410   4.660  -0.060  1.00  0.00           N  \nATOM    220  H   ARG A  13      -3.740  -1.110   0.840  1.00  0.00           H  \nATOM    221  HA  ARG A  13      -4.340   1.770   0.710  1.00  0.00           H  \nATOM    222  HB2 ARG A  13      -5.660  -0.440   2.320  1.00  0.00           H  \nATOM    223  HB3 ARG A  13      -6.230   1.220   2.200  1.00  0.00           H  \nATOM    224  HG2 ARG A  13      -6.070  -0.850   0.000  1.00  0.00           H  \nATOM    225  HG3 ARG A  13      -7.520  -0.210   0.710  1.00  0.00           H  \nATOM    226  HD2 ARG A  13      -5.580   1.310  -1.090  1.00  0.00           H  \nATOM    227  HD3 ARG A  13      -7.200   0.800  -1.510  1.00  0.00           H  \nATOM    228  HE  ARG A  13      -7.740   2.330   0.630  1.00  0.00           H  \nATOM    229 HH11 ARG A  13      -5.730   3.080  -2.180  1.00  0.00           H  \nATOM    230 HH12 ARG A  13      -5.970   4.790  -1.990  1.00  0.00           H  \nATOM    231 HH21 ARG A  13      -8.020   4.570   0.750  1.00  0.00           H  \nATOM    232 HH22 ARG A  13      -7.220   5.590  -0.380  1.00  0.00           H  \nATOM    233  N   ASN A  14      -2.540   0.750   3.150  1.00  0.00           N  \nATOM    234  CA  ASN A  14      -1.760   1.120   4.350  1.00  0.00           C  \nATOM    235  C   ASN A  14      -0.250   1.240   4.080  1.00  0.00           C  \nATOM    236  O   ASN A  14       0.420   2.070   4.680  1.00  0.00           O  \nATOM    237  CB  ASN A  14      -2.040   0.080   5.450  1.00  0.00           C  \nATOM    238  CG  ASN A  14      -3.500   0.050   5.880  1.00  0.00           C  \nATOM    239  OD1 ASN A  14      -4.340  -0.610   5.280  1.00  0.00           O  \nATOM    240  ND2 ASN A  14      -3.860   0.780   6.910  1.00  0.00           N  \nATOM    241  H   ASN A  14      -2.240  -0.110   2.710  1.00  0.00           H  \nATOM    242  HA  ASN A  14      -2.100   2.090   4.710  1.00  0.00           H  \nATOM    243  HB2 ASN A  14      -1.790  -0.920   5.120  1.00  0.00           H  \nATOM    244  HB3 ASN A  14      -1.440   0.280   6.340  1.00  0.00           H  \nATOM    245 HD21 ASN A  14      -3.180   1.310   7.440  1.00  0.00           H  \nATOM    246 HD22 ASN A  14      -4.830   0.740   7.180  1.00  0.00           H  \nATOM    247  N   GLU A  15       0.300   0.460   3.130  1.00  0.00           N  \nATOM    248  CA  GLU A  15       1.700   0.540   2.700  1.00  0.00           C  \nATOM    249  C   GLU A  15       1.980   1.690   1.720  1.00  0.00           C  \nATOM    250  O   GLU A  15       1.080   2.240   1.090  1.00  0.00           O  \nATOM    251  CB  GLU A  15       2.140  -0.810   2.080  1.00  0.00           C  \nATOM    252  CG  GLU A  15       2.840  -1.720   3.120  1.00  0.00           C  \nATOM    253  CD  GLU A  15       4.160  -1.150   3.630  1.00  0.00           C  \nATOM    254  OE1 GLU A  15       4.750  -1.740   4.570  1.00  0.00           O  \nATOM    255  OE2 GLU A  15       4.660  -0.110   3.130  1.00  0.00           O  \nATOM    256  H   GLU A  15      -0.290  -0.230   2.690  1.00  0.00           H  \nATOM    257  HA  GLU A  15       2.300   0.760   3.580  1.00  0.00           H  \nATOM    258  HB2 GLU A  15       1.270  -1.350   1.700  1.00  0.00           H  \nATOM    259  HB3 GLU A  15       2.810  -0.670   1.240  1.00  0.00           H  \nATOM    260  HG2 GLU A  15       2.170  -1.860   3.970  1.00  0.00           H  \nATOM    261  HG3 GLU A  15       2.980  -2.690   2.650  1.00  0.00           H  \nATOM    262  N   LYS A  16       3.260   2.050   1.570  1.00  0.00           N  \nATOM    263  CA  LYS A  16       3.760   3.120   0.670  1.00  0.00           C  \nATOM    264  C   LYS A  16       4.200   2.660  -0.720  1.00  0.00           C  \nATOM    265  O   LYS A  16       4.830   3.410  -1.470  1.00  0.00           O  \nATOM    266  CB  LYS A  16       4.840   3.950   1.410  1.00  0.00           C  \nATOM    267  CG  LYS A  16       6.130   3.160   1.700  1.00  0.00           C  \nATOM    268  CD  LYS A  16       7.260   4.040   2.290  1.00  0.00           C  \nATOM    269  CE  LYS A  16       6.870   4.620   3.660  1.00  0.00           C  \nATOM    270  NZ  LYS A  16       7.970   5.430   4.230  1.00  0.00           N  \nATOM    271  H   LYS A  16       3.960   1.530   2.090  1.00  0.00           H  \nATOM    272  HA  LYS A  16       2.910   3.780   0.530  1.00  0.00           H  \nATOM    273  HB2 LYS A  16       5.100   4.810   0.790  1.00  0.00           H  \nATOM    274  HB3 LYS A  16       4.420   4.330   2.340  1.00  0.00           H  \nATOM    275  HG2 LYS A  16       5.900   2.370   2.410  1.00  0.00           H  \nATOM    276  HG3 LYS A  16       6.490   2.750   0.760  1.00  0.00           H  \nATOM    277  HD2 LYS A  16       8.140   3.410   2.410  1.00  0.00           H  \nATOM    278  HD3 LYS A  16       7.460   4.840   1.590  1.00  0.00           H  \nATOM    279  HE2 LYS A  16       5.980   5.240   3.510  1.00  0.00           H  \nATOM    280  HE3 LYS A  16       6.640   3.810   4.350  1.00  0.00           H  \nATOM    281  HZ1 LYS A  16       7.730   5.800   5.140  1.00  0.00           H  \nATOM    282  HZ2 LYS A  16       8.210   6.200   3.620  1.00  0.00           H  \nATOM    283  HZ3 LYS A  16       8.780   4.840   4.350  1.00  0.00           H  \nATOM    284  N   GLU A  17       3.870   1.410  -1.080  1.00  0.00           N  \nATOM    285  CA  GLU A  17       4.190   0.790  -2.380  1.00  0.00           C  \nATOM    286  C   GLU A  17       3.110   1.090  -3.450  1.00  0.00           C  \nATOM    287  O   GLU A  17       1.970   1.410  -3.110  1.00  0.00           O  \nATOM    288  CB  GLU A  17       4.410  -0.720  -2.180  1.00  0.00           C  \nATOM    289  CG  GLU A  17       5.590  -1.020  -1.280  1.00  0.00           C  \nATOM    290  CD  GLU A  17       5.920  -2.530  -1.180  1.00  0.00           C  \nATOM    291  OE1 GLU A  17       5.030  -3.380  -1.350  1.00  0.00           O  \nATOM    292  OE2 GLU A  17       7.100  -2.880  -0.920  1.00  0.00           O  \nATOM    293  H   GLU A  17       3.310   0.900  -0.420  1.00  0.00           H  \nATOM    294  HA  GLU A  17       5.140   1.180  -2.750  1.00  0.00           H  \nATOM    295  HB2 GLU A  17       3.510  -1.160  -1.750  1.00  0.00           H  \nATOM    296  HB3 GLU A  17       4.570  -1.170  -3.160  1.00  0.00           H  \nATOM    297  HG2 GLU A  17       6.460  -0.490  -1.650  1.00  0.00           H  \nATOM    298  HG3 GLU A  17       5.390  -0.680  -0.260  1.00  0.00           H  \nATOM    299  N   LEU A  18       3.470   0.970  -4.730  1.00  0.00           N  \nATOM    300  CA  LEU A  18       2.610   1.170  -5.910  1.00  0.00           C  \nATOM    301  C   LEU A  18       1.900   2.550  -6.030  1.00  0.00           C  \nATOM    302  O   LEU A  18       0.970   2.710  -6.830  1.00  0.00           O  \nATOM    303  CB  LEU A  18       1.610  -0.010  -6.080  1.00  0.00           C  \nATOM    304  CG  LEU A  18       2.230  -1.420  -6.170  1.00  0.00           C  \nATOM    305  CD1 LEU A  18       1.120  -2.430  -6.380  1.00  0.00           C  \nATOM    306  CD2 LEU A  18       3.210  -1.540  -7.350  1.00  0.00           C  \nATOM    307  H   LEU A  18       4.430   0.710  -4.900  1.00  0.00           H  \nATOM    308  HA  LEU A  18       3.270   1.140  -6.770  1.00  0.00           H  \nATOM    309  HB2 LEU A  18       0.910   0.010  -5.250  1.00  0.00           H  \nATOM    310  HB3 LEU A  18       1.030   0.150  -6.990  1.00  0.00           H  \nATOM    311  HG  LEU A  18       2.790  -1.630  -5.260  1.00  0.00           H  \nATOM    312 HD11 LEU A  18       0.630  -2.260  -7.340  1.00  0.00           H  \nATOM    313 HD12 LEU A  18       0.400  -2.330  -5.560  1.00  0.00           H  \nATOM    314 HD13 LEU A  18       1.530  -3.440  -6.360  1.00  0.00           H  \nATOM    315 HD21 LEU A  18       2.710  -1.280  -8.280  1.00  0.00           H  \nATOM    316 HD22 LEU A  18       3.560  -2.570  -7.400  1.00  0.00           H  \nATOM    317 HD23 LEU A  18       4.050  -0.870  -7.180  1.00  0.00           H  \nATOM    318  N   ARG A  19       2.340   3.570  -5.280  1.00  0.00           N  \nATOM    319  CA  ARG A  19       1.680   4.900  -5.200  1.00  0.00           C  \nATOM    320  C   ARG A  19       1.410   5.570  -6.550  1.00  0.00           C  \nATOM    321  O   ARG A  19       0.350   6.130  -6.740  1.00  0.00           O  \nATOM    322  CB  ARG A  19       2.500   5.840  -4.290  1.00  0.00           C  \nATOM    323  CG  ARG A  19       2.390   5.440  -2.800  1.00  0.00           C  \nATOM    324  CD  ARG A  19       3.290   6.290  -1.900  1.00  0.00           C  \nATOM    325  NE  ARG A  19       2.880   7.710  -1.880  1.00  0.00           N  \nATOM    326  CZ  ARG A  19       3.490   8.750  -2.440  1.00  0.00           C  \nATOM    327  NH1 ARG A  19       4.600   8.630  -3.090  1.00  0.00           N  \nATOM    328  NH2 ARG A  19       2.970   9.930  -2.340  1.00  0.00           N  \nATOM    329  H   ARG A  19       3.110   3.360  -4.660  1.00  0.00           H  \nATOM    330  HA  ARG A  19       0.690   4.770  -4.750  1.00  0.00           H  \nATOM    331  HB2 ARG A  19       3.550   5.820  -4.580  1.00  0.00           H  \nATOM    332  HB3 ARG A  19       2.140   6.860  -4.400  1.00  0.00           H  \nATOM    333  HG2 ARG A  19       1.370   5.530  -2.450  1.00  0.00           H  \nATOM    334  HG3 ARG A  19       2.700   4.400  -2.670  1.00  0.00           H  \nATOM    335  HD2 ARG A  19       3.220   5.890  -0.890  1.00  0.00           H  \nATOM    336  HD3 ARG A  19       4.330   6.200  -2.180  1.00  0.00           H  \nATOM    337  HE  ARG A  19       2.030   7.920  -1.370  1.00  0.00           H  \nATOM    338 HH11 ARG A  19       5.060   7.740  -3.180  1.00  0.00           H  \nATOM    339 HH12 ARG A  19       5.020   9.460  -3.510  1.00  0.00           H  \nATOM    340 HH21 ARG A  19       2.090  10.070  -1.860  1.00  0.00           H  \nATOM    341 HH22 ARG A  19       3.390  10.730  -2.790  1.00  0.00           H  \nATOM    342  N   ASP A  20       2.330   5.440  -7.510  1.00  0.00           N  \nATOM    343  CA  ASP A  20       2.160   5.980  -8.870  1.00  0.00           C  \nATOM    344  C   ASP A  20       0.950   5.370  -9.600  1.00  0.00           C  \nATOM    345  O   ASP A  20       0.210   6.060 -10.280  1.00  0.00           O  \nATOM    346  CB  ASP A  20       3.430   5.830  -9.700  1.00  0.00           C  \nATOM    347  CG  ASP A  20       4.660   6.570  -9.170  1.00  0.00           C  \nATOM    348  OD1 ASP A  20       4.540   7.450  -8.290  1.00  0.00           O  \nATOM    349  OD2 ASP A  20       5.790   6.260  -9.630  1.00  0.00           O  \nATOM    350  H   ASP A  20       3.200   4.970  -7.280  1.00  0.00           H  \nATOM    351  HA  ASP A  20       1.960   7.050  -8.780  1.00  0.00           H  \nATOM    352  HB2 ASP A  20       3.680   4.770  -9.720  1.00  0.00           H  \nATOM    353  HB3 ASP A  20       3.260   6.170 -10.710  1.00  0.00           H  \nATOM    354  N   PHE A  21       0.720   4.050  -9.420  1.00  0.00           N  \nATOM    355  CA  PHE A  21      -0.420   3.340 -10.020  1.00  0.00           C  \nATOM    356  C   PHE A  21      -1.730   3.630  -9.250  1.00  0.00           C  \nATOM    357  O   PHE A  21      -2.790   3.790  -9.880  1.00  0.00           O  \nATOM    358  CB  PHE A  21      -0.150   1.830 -10.050  1.00  0.00           C  \nATOM    359  CG  PHE A  21       1.160   1.470 -10.730  1.00  0.00           C  \nATOM    360  CD1 PHE A  21       1.250   1.440 -12.150  1.00  0.00           C  \nATOM    361  CD2 PHE A  21       2.300   1.140  -9.960  1.00  0.00           C  \nATOM    362  CE1 PHE A  21       2.460   1.090 -12.780  1.00  0.00           C  \nATOM    363  CE2 PHE A  21       3.500   0.810 -10.600  1.00  0.00           C  \nATOM    364  CZ  PHE A  21       3.590   0.790 -12.000  1.00  0.00           C  \nATOM    365  H   PHE A  21       1.330   3.570  -8.780  1.00  0.00           H  \nATOM    366  HA  PHE A  21      -0.540   3.700 -11.040  1.00  0.00           H  \nATOM    367  HB2 PHE A  21      -0.110   1.470  -9.030  1.00  0.00           H  \nATOM    368  HB3 PHE A  21      -0.960   1.320 -10.560  1.00  0.00           H  \nATOM    369  HD1 PHE A  21       0.380   1.710 -12.730  1.00  0.00           H  \nATOM    370  HD2 PHE A  21       2.240   1.200  -8.890  1.00  0.00           H  \nATOM    371  HE1 PHE A  21       2.500   1.050 -13.850  1.00  0.00           H  \nATOM    372  HE2 PHE A  21       4.380   0.600 -10.010  1.00  0.00           H  \nATOM    373  HZ  PHE A  21       4.510   0.510 -12.490  1.00  0.00           H  \nATOM    374  N   ILE A  22      -1.650   3.820  -7.940  1.00  0.00           N  \nATOM    375  CA  ILE A  22      -2.790   4.160  -7.060  1.00  0.00           C  \nATOM    376  C   ILE A  22      -3.280   5.590  -7.360  1.00  0.00           C  \nATOM    377  O   ILE A  22      -4.490   5.820  -7.410  1.00  0.00           O  \nATOM    378  CB  ILE A  22      -2.380   3.970  -5.570  1.00  0.00           C  \nATOM    379  CG1 ILE A  22      -2.070   2.480  -5.300  1.00  0.00           C  \nATOM    380  CG2 ILE A  22      -3.450   4.480  -4.610  1.00  0.00           C  \nATOM    381  CD1 ILE A  22      -1.280   2.260  -4.000  1.00  0.00           C  \nATOM    382  H   ILE A  22      -0.740   3.650  -7.520  1.00  0.00           H  \nATOM    383  HA  ILE A  22      -3.630   3.490  -7.250  1.00  0.00           H  \nATOM    384  HB  ILE A  22      -1.470   4.550  -5.420  1.00  0.00           H  \nATOM    385 HG12 ILE A  22      -3.010   1.930  -5.220  1.00  0.00           H  \nATOM    386 HG13 ILE A  22      -1.470   2.010  -6.080  1.00  0.00           H  \nATOM    387 HG21 ILE A  22      -3.120   4.320  -3.580  1.00  0.00           H  \nATOM    388 HG22 ILE A  22      -4.400   3.980  -4.780  1.00  0.00           H  \nATOM    389 HG23 ILE A  22      -3.600   5.550  -4.730  1.00  0.00           H  \nATOM    390 HD11 ILE A  22      -1.940   2.430  -3.160  1.00  0.00           H  \nATOM    391 HD12 ILE A  22      -0.400   2.900  -3.950  1.00  0.00           H  \nATOM    392 HD13 ILE A  22      -0.950   1.220  -3.970  1.00  0.00           H  \nATOM    393  N   GLU A  23      -2.360   6.520  -7.640  1.00  0.00           N  \nATOM    394  CA  GLU A  23      -2.660   7.880  -8.120  1.00  0.00           C  \nATOM    395  C   GLU A  23      -2.900   7.970  -9.650  1.00  0.00           C  \nATOM    396  O   GLU A  23      -3.120   9.050 -10.180  1.00  0.00           O  \nATOM    397  CB  GLU A  23      -1.530   8.840  -7.670  1.00  0.00           C  \nATOM    398  CG  GLU A  23      -1.380   8.990  -6.150  1.00  0.00           C  \nATOM    399  CD  GLU A  23      -2.650   9.540  -5.450  1.00  0.00           C  \nATOM    400  OE1 GLU A  23      -2.820   9.280  -4.230  1.00  0.00           O  \nATOM    401  OE2 GLU A  23      -3.460  10.280  -6.060  1.00  0.00           O  \nATOM    402  H   GLU A  23      -1.390   6.280  -7.510  1.00  0.00           H  \nATOM    403  HA  GLU A  23      -3.600   8.190  -7.660  1.00  0.00           H  \nATOM    404  HB2 GLU A  23      -0.600   8.450  -8.080  1.00  0.00           H  \nATOM    405  HB3 GLU A  23      -1.720   9.830  -8.090  1.00  0.00           H  \nATOM    406  HG2 GLU A  23      -1.110   8.030  -5.720  1.00  0.00           H  \nATOM    407  HG3 GLU A  23      -0.560   9.680  -5.970  1.00  0.00           H  \nATOM    408  N   LYS A  24      -2.860   6.810 -10.350  1.00  0.00           N  \nATOM    409  CA  LYS A  24      -3.090   6.680 -11.800  1.00  0.00           C  \nATOM    410  C   LYS A  24      -2.180   7.600 -12.680  1.00  0.00           C  \nATOM    411  O   LYS A  24      -2.610   8.150 -13.680  1.00  0.00           O  \nATOM    412  CB  LYS A  24      -4.600   6.790 -12.100  1.00  0.00           C  \nATOM    413  CG  LYS A  24      -5.020   6.090 -13.400  1.00  0.00           C  \nATOM    414  CD  LYS A  24      -6.540   6.220 -13.610  1.00  0.00           C  \nATOM    415  CE  LYS A  24      -7.020   5.550 -14.910  1.00  0.00           C  \nATOM    416  NZ  LYS A  24      -6.910   4.060 -14.860  1.00  0.00           N  \nATOM    417  H   LYS A  24      -2.710   5.970  -9.820  1.00  0.00           H  \nATOM    418  HA  LYS A  24      -2.750   5.680 -12.070  1.00  0.00           H  \nATOM    419  HB2 LYS A  24      -5.160   6.350 -11.280  1.00  0.00           H  \nATOM    420  HB3 LYS A  24      -4.900   7.840 -12.100  1.00  0.00           H  \nATOM    421  HG2 LYS A  24      -4.530   6.540 -14.250  1.00  0.00           H  \nATOM    422  HG3 LYS A  24      -4.740   5.030 -13.330  1.00  0.00           H  \nATOM    423  HD2 LYS A  24      -7.080   5.790 -12.770  1.00  0.00           H  \nATOM    424  HD3 LYS A  24      -6.790   7.280 -13.650  1.00  0.00           H  \nATOM    425  HE2 LYS A  24      -8.060   5.820 -15.090  1.00  0.00           H  \nATOM    426  HE3 LYS A  24      -6.420   5.950 -15.730  1.00  0.00           H  \nATOM    427  HZ1 LYS A  24      -7.450   3.720 -14.080  1.00  0.00           H  \nATOM    428  HZ2 LYS A  24      -5.960   3.760 -14.730  1.00  0.00           H  \nATOM    429  HZ3 LYS A  24      -7.260   3.620 -15.700  1.00  0.00           H  \nATOM    430  N   PHE A  25      -0.930   7.760 -12.260  1.00  0.00           N  \nATOM    431  CA  PHE A  25       0.080   8.550 -12.950  1.00  0.00           C  \nATOM    432  C   PHE A  25       0.710   7.770 -14.140  1.00  0.00           C  \nATOM    433  O   PHE A  25       0.980   6.580 -14.030  1.00  0.00           O  \nATOM    434  CB  PHE A  25       1.160   8.980 -11.960  1.00  0.00           C  \nATOM    435  CG  PHE A  25       2.270   9.820 -12.530  1.00  0.00           C  \nATOM    436  CD1 PHE A  25       3.530   9.240 -12.790  1.00  0.00           C  \nATOM    437  CD2 PHE A  25       2.070  11.180 -12.820  1.00  0.00           C  \nATOM    438  CE1 PHE A  25       4.570  10.010 -13.330  1.00  0.00           C  \nATOM    439  CE2 PHE A  25       3.130  11.960 -13.350  1.00  0.00           C  \nATOM    440  CZ  PHE A  25       4.370  11.360 -13.590  1.00  0.00           C  \nATOM    441  H   PHE A  25      -0.640   7.240 -11.440  1.00  0.00           H  \nATOM    442  HA  PHE A  25      -0.360   9.460 -13.350  1.00  0.00           H  \nATOM    443  HB2 PHE A  25       0.700   9.560 -11.160  1.00  0.00           H  \nATOM    444  HB3 PHE A  25       1.580   8.110 -11.450  1.00  0.00           H  \nATOM    445  HD1 PHE A  25       3.700   8.190 -12.580  1.00  0.00           H  \nATOM    446  HD2 PHE A  25       1.110  11.630 -12.630  1.00  0.00           H  \nATOM    447  HE1 PHE A  25       5.530   9.550 -13.520  1.00  0.00           H  \nATOM    448  HE2 PHE A  25       2.980  13.010 -13.560  1.00  0.00           H  \nATOM    449  HZ  PHE A  25       5.180  11.950 -14.000  1.00  0.00           H  \nATOM    450  N   LYS A  26       0.940   8.460 -15.270  1.00  0.00           N  \nATOM    451  CA  LYS A  26       1.460   7.870 -16.530  1.00  0.00           C  \nATOM    452  C   LYS A  26       2.610   8.640 -17.170  1.00  0.00           C  \nATOM    453  O   LYS A  26       2.980   8.370 -18.320  1.00  0.00           O  \nATOM    454  CB  LYS A  26       0.290   7.680 -17.530  1.00  0.00           C  \nATOM    455  CG  LYS A  26      -0.790   6.710 -17.010  1.00  0.00           C  \nATOM    456  CD  LYS A  26      -1.830   6.320 -18.070  1.00  0.00           C  \nATOM    457  CE  LYS A  26      -2.650   7.560 -18.540  1.00  0.00           C  \nATOM    458  NZ  LYS A  26      -3.640   7.160 -19.580  1.00  0.00           N  \nATOM    459  H   LYS A  26       0.660   9.430 -15.310  1.00  0.00           H  \nATOM    460  HA  LYS A  26       1.890   6.900 -16.310  1.00  0.00           H  \nATOM    461  HB2 LYS A  26      -0.150   8.650 -17.750  1.00  0.00           H  \nATOM    462  HB3 LYS A  26       0.680   7.250 -18.450  1.00  0.00           H  \nATOM    463  HG2 LYS A  26      -0.300   5.790 -16.690  1.00  0.00           H  \nATOM    464  HG3 LYS A  26      -1.290   7.170 -16.160  1.00  0.00           H  \nATOM    465  HD2 LYS A  26      -1.320   5.880 -18.930  1.00  0.00           H  \nATOM    466  HD3 LYS A  26      -2.520   5.590 -17.660  1.00  0.00           H  \nATOM    467  HE2 LYS A  26      -3.190   7.990 -17.700  1.00  0.00           H  \nATOM    468  HE3 LYS A  26      -1.970   8.300 -18.970  1.00  0.00           H  \nATOM    469  HZ1 LYS A  26      -3.200   6.790 -20.410  1.00  0.00           H  \nATOM    470  HZ2 LYS A  26      -4.190   7.960 -19.870  1.00  0.00           H  \nATOM    471  HZ3 LYS A  26      -4.310   6.490 -19.230  1.00  0.00           H  \nATOM    472  N   GLY A  27       3.200   9.650 -16.480  1.00  0.00           N  \nATOM    473  CA  GLY A  27       4.240  10.510 -17.040  1.00  0.00           C  \nATOM    474  C   GLY A  27       3.730  11.420 -18.170  1.00  0.00           C  \nATOM    475  O   GLY A  27       2.570  11.840 -18.170  1.00  0.00           O  \nATOM    476  H   GLY A  27       2.850   9.830 -15.550  1.00  0.00           H  \nATOM    477  HA2 GLY A  27       4.660  11.130 -16.250  1.00  0.00           H  \nATOM    478  HA3 GLY A  27       5.040   9.870 -17.420  1.00  0.00           H  \nATOM    479  N   ARG A  28       4.620  11.720 -19.130  1.00  0.00           N  \nATOM    480  CA  ARG A  28       4.350  12.550 -20.320  1.00  0.00           C  \nATOM    481  C   ARG A  28       5.070  12.030 -21.580  1.00  0.00           C  \nATOM    482  O   ARG A  28       6.140  11.420 -21.430  1.00  0.00           O  \nATOM    483  CB  ARG A  28       4.680  14.030 -20.050  1.00  0.00           C  \nATOM    484  CG  ARG A  28       6.160  14.310 -19.740  1.00  0.00           C  \nATOM    485  CD  ARG A  28       6.430  15.790 -19.460  1.00  0.00           C  \nATOM    486  NE  ARG A  28       5.770  16.280 -18.240  1.00  0.00           N  \nATOM    487  CZ  ARG A  28       6.190  16.160 -17.000  1.00  0.00           C  \nATOM    488  NH1 ARG A  28       7.320  15.600 -16.700  1.00  0.00           N  \nATOM    489  NH2 ARG A  28       5.500  16.640 -16.020  1.00  0.00           N  \nATOM    490  OXT ARG A  28       4.520  12.190 -22.680  1.00  0.00           O  \nATOM    491  H   ARG A  28       5.550  11.330 -19.080  1.00  0.00           H  \nATOM    492  HA  ARG A  28       3.280  12.500 -20.530  1.00  0.00           H  \nATOM    493  HB2 ARG A  28       4.390  14.620 -20.920  1.00  0.00           H  \nATOM    494  HB3 ARG A  28       4.070  14.360 -19.210  1.00  0.00           H  \nATOM    495  HG2 ARG A  28       6.500  13.740 -18.880  1.00  0.00           H  \nATOM    496  HG3 ARG A  28       6.770  14.000 -20.590  1.00  0.00           H  \nATOM    497  HD2 ARG A  28       7.500  15.980 -19.390  1.00  0.00           H  \nATOM    498  HD3 ARG A  28       6.090  16.380 -20.310  1.00  0.00           H  \nATOM    499  HE  ARG A  28       4.880  16.740 -18.370  1.00  0.00           H  \nATOM    500 HH11 ARG A  28       7.910  15.230 -17.430  1.00  0.00           H  \nATOM    501 HH12 ARG A  28       7.640  15.530 -15.740  1.00  0.00           H  \nATOM    502 HH21 ARG A  28       4.610  17.100 -16.190  1.00  0.00           H  \nATOM    503 HH22 ARG A  28       5.860  16.540 -15.080  1.00  0.00           H  \nTER     504      ARG A  28\nENDMDL\nEND\n",
           "type": "blob"
          }
         ],
         "kwargs": {
          "defaultRepresentation": true,
          "ext": "pdb",
          "height": "400px",
          "name": "nglview.adaptor.MDTrajTrajectory",
          "width": "400px"
         },
         "methodName": "loadFile",
         "reconstruc_color_scheme": false,
         "target": "Stage",
         "type": "call_method"
        },
        {
         "args": [
          "ball+stick"
         ],
         "component_index": 0,
         "kwargs": {
          "aspectRatio": 2,
          "radius": 0.1,
          "sele": "protein"
         },
         "methodName": "addRepresentation",
         "reconstruc_color_scheme": false,
         "target": "compList",
         "type": "call_method"
        },
        {
         "args": [
          "ribbon"
         ],
         "component_index": 0,
         "kwargs": {
          "sele": "protein"
         },
         "methodName": "addRepresentation",
         "reconstruc_color_scheme": false,
         "target": "compList",
         "type": "call_method"
        }
       ],
       "_ngl_original_stage_parameters": {
        "ambientColor": 14540253,
        "ambientIntensity": 0.2,
        "backgroundColor": "white",
        "cameraEyeSep": 0.3,
        "cameraFov": 40,
        "cameraType": "perspective",
        "clipDist": 10,
        "clipFar": 100,
        "clipMode": "scene",
        "clipNear": 0,
        "clipScale": "relative",
        "fogFar": 100,
        "fogNear": 50,
        "hoverTimeout": 0,
        "impostor": true,
        "lightColor": 14540253,
        "lightIntensity": 1,
        "mousePreset": "default",
        "panSpeed": 1,
        "quality": "medium",
        "rotateSpeed": 2,
        "sampleLevel": 0,
        "tooltip": true,
        "workerDefault": true,
        "zoomSpeed": 1.2
       },
       "_ngl_repr_dict": {
        "0": {
         "0": {
          "params": {
           "aspectRatio": 5,
           "assembly": "default",
           "capped": true,
           "clipCenter": {
            "x": 0,
            "y": 0,
            "z": 0
           },
           "clipNear": 0,
           "clipRadius": 0,
           "colorMode": "hcl",
           "colorReverse": true,
           "colorScale": "Spectral",
           "colorScheme": "residueindex",
           "colorValue": 9474192,
           "defaultAssembly": "",
           "depthWrite": true,
           "diffuse": 16777215,
           "diffuseInterior": false,
           "disablePicking": false,
           "flatShaded": false,
           "interiorColor": 2236962,
           "interiorDarkening": 0,
           "lazy": false,
           "matrix": {
            "elements": [
             1,
             0,
             0,
             0,
             0,
             1,
             0,
             0,
             0,
             0,
             1,
             0,
             0,
             0,
             0,
             1
            ]
           },
           "metalness": 0,
           "opacity": 1,
           "quality": "high",
           "radialSegments": 20,
           "radiusData": {},
           "radiusScale": 0.7,
           "radiusSize": 1,
           "radiusType": "sstruc",
           "roughness": 0.4,
           "sele": "",
           "side": "double",
           "smoothSheet": false,
           "subdiv": 6,
           "tension": null,
           "useInteriorColor": true,
           "visible": true,
           "wireframe": false
          },
          "type": "cartoon"
         },
         "1": {
          "params": {
           "aspectRatio": 1,
           "assembly": "default",
           "bondScale": 0.4,
           "clipCenter": {
            "x": 0,
            "y": 0,
            "z": 0
           },
           "clipNear": 0,
           "clipRadius": 0,
           "colorMode": "hcl",
           "colorReverse": true,
           "colorScale": "Spectral",
           "colorScheme": "residueindex",
           "colorValue": 9474192,
           "cylinderOnly": false,
           "defaultAssembly": "",
           "depthWrite": true,
           "diffuse": 16777215,
           "diffuseInterior": false,
           "disableImpostor": false,
           "disablePicking": false,
           "flatShaded": false,
           "interiorColor": 2236962,
           "interiorDarkening": 0,
           "lazy": false,
           "lineOnly": false,
           "linewidth": 2,
           "matrix": {
            "elements": [
             1,
             0,
             0,
             0,
             0,
             1,
             0,
             0,
             0,
             0,
             1,
             0,
             0,
             0,
             0,
             1
            ]
           },
           "metalness": 0,
           "opacity": 1,
           "openEnded": true,
           "quality": "high",
           "radialSegments": 20,
           "radiusData": {},
           "radiusScale": 1,
           "radiusSize": 0.3,
           "radiusType": "size",
           "roughness": 0.4,
           "sele": "",
           "side": "double",
           "sphereDetail": 2,
           "useInteriorColor": true,
           "visible": true,
           "wireframe": false
          },
          "type": "base"
         },
         "2": {
          "params": {
           "aspectRatio": 1.5,
           "assembly": "default",
           "bondScale": 0.3,
           "bondSpacing": 0.75,
           "clipCenter": {
            "x": 0,
            "y": 0,
            "z": 0
           },
           "clipNear": 0,
           "clipRadius": 0,
           "colorMode": "hcl",
           "colorReverse": false,
           "colorScale": "",
           "colorScheme": "element",
           "colorValue": 9474192,
           "cylinderOnly": false,
           "defaultAssembly": "",
           "depthWrite": true,
           "diffuse": 16777215,
           "diffuseInterior": false,
           "disableImpostor": false,
           "disablePicking": false,
           "flatShaded": false,
           "interiorColor": 2236962,
           "interiorDarkening": 0,
           "lazy": false,
           "lineOnly": false,
           "linewidth": 2,
           "matrix": {
            "elements": [
             1,
             0,
             0,
             0,
             0,
             1,
             0,
             0,
             0,
             0,
             1,
             0,
             0,
             0,
             0,
             1
            ]
           },
           "metalness": 0,
           "multipleBond": "off",
           "opacity": 1,
           "openEnded": true,
           "quality": "high",
           "radialSegments": 20,
           "radiusData": {},
           "radiusScale": 2,
           "radiusSize": 0.15,
           "radiusType": "size",
           "roughness": 0.4,
           "sele": "ligand",
           "side": "double",
           "sphereDetail": 2,
           "useInteriorColor": true,
           "visible": true,
           "wireframe": false
          },
          "type": "ball+stick"
         },
         "3": {
          "params": {
           "aspectRatio": 2,
           "assembly": "default",
           "bondScale": 0.4,
           "bondSpacing": 1,
           "clipCenter": {
            "x": 0,
            "y": 0,
            "z": 0
           },
           "clipNear": 0,
           "clipRadius": 0,
           "colorMode": "hcl",
           "colorReverse": false,
           "colorScale": "",
           "colorScheme": "element",
           "colorValue": 9474192,
           "cylinderOnly": false,
           "defaultAssembly": "",
           "depthWrite": true,
           "diffuse": 16777215,
           "diffuseInterior": false,
           "disableImpostor": false,
           "disablePicking": false,
           "flatShaded": false,
           "interiorColor": 2236962,
           "interiorDarkening": 0,
           "lazy": false,
           "lineOnly": false,
           "linewidth": 2,
           "matrix": {
            "elements": [
             1,
             0,
             0,
             0,
             0,
             1,
             0,
             0,
             0,
             0,
             1,
             0,
             0,
             0,
             0,
             1
            ]
           },
           "metalness": 0,
           "multipleBond": "off",
           "opacity": 1,
           "openEnded": true,
           "quality": "medium",
           "radialSegments": 10,
           "radiusData": {},
           "radiusScale": 1,
           "radiusSize": 0.1,
           "radiusType": "size",
           "roughness": 0.4,
           "sele": "protein",
           "side": "double",
           "sphereDetail": 1,
           "useInteriorColor": true,
           "visible": true,
           "wireframe": false
          },
          "type": "ball+stick"
         },
         "4": {
          "params": {
           "assembly": "default",
           "clipCenter": {
            "x": 0,
            "y": 0,
            "z": 0
           },
           "clipNear": 0,
           "clipRadius": 0,
           "colorMode": "hcl",
           "colorReverse": false,
           "colorScale": "RdYlBu",
           "colorScheme": "chainname",
           "colorValue": 9474192,
           "defaultAssembly": "",
           "depthWrite": true,
           "diffuse": 16777215,
           "diffuseInterior": false,
           "disablePicking": false,
           "flatShaded": false,
           "interiorColor": 2236962,
           "interiorDarkening": 0,
           "lazy": false,
           "matrix": {
            "elements": [
             1,
             0,
             0,
             0,
             0,
             1,
             0,
             0,
             0,
             0,
             1,
             0,
             0,
             0,
             0,
             1
            ]
           },
           "metalness": 0,
           "opacity": 1,
           "quality": "medium",
           "radiusData": {},
           "radiusScale": 4,
           "radiusSize": 1,
           "radiusType": "sstruc",
           "roughness": 0.4,
           "sele": "protein",
           "smoothSheet": false,
           "subdiv": 6,
           "tension": null,
           "useInteriorColor": false,
           "visible": true
          },
          "type": "ribbon"
         }
        }
       },
       "_ngl_serialize": false,
       "_ngl_version": "2.2.2",
       "_ngl_view_id": [
        "12B23A43-A6B6-4ECB-BBA8-90EDB20C6E05"
       ],
       "_player_dict": {},
       "_scene_position": {},
       "_scene_rotation": {},
       "_synced_model_ids": [],
       "_synced_repr_model_ids": [],
       "_view_height": "400px",
       "_view_width": "400px",
       "background": "white",
       "frame": 0,
       "gui_style": null,
       "layout": "IPY_MODEL_ed9894b33d1f4ef38a365be4de87df71",
       "max_frame": 4831,
       "n_components": 1,
       "picked": {}
      }
     },
     "c89db9578fb54ce9b891e88dbb9a5083": {
      "model_module": "@jupyter-widgets/controls",
      "model_module_version": "2.0.0",
      "model_name": "ButtonModel",
      "state": {
       "icon": "compress",
       "layout": "IPY_MODEL_7ff0984cc3f44c92ac38967e8be403df",
       "style": "IPY_MODEL_76b14b078136407eaaac209d1c45e88b",
       "tooltip": null
      }
     },
     "c90c1d5460dd4cac99e14a8ef008ccb1": {
      "model_module": "@jupyter-widgets/base",
      "model_module_version": "2.0.0",
      "model_name": "LayoutModel",
      "state": {}
     },
     "ca906399a8bb44d78c4f67884a564cb7": {
      "model_module": "@jupyter-widgets/base",
      "model_module_version": "2.0.0",
      "model_name": "LayoutModel",
      "state": {}
     },
     "d0d1cd70564c4b76b79842d374fc5a59": {
      "model_module": "@jupyter-widgets/controls",
      "model_module_version": "2.0.0",
      "model_name": "ImageModel",
      "state": {
       "layout": "IPY_MODEL_7b6888d6fb2946688563c028a0d2eff9",
       "width": "900.0"
      }
     },
     "d53d924cd4fb443a87bcbe93718844c6": {
      "model_module": "@jupyter-widgets/base",
      "model_module_version": "2.0.0",
      "model_name": "LayoutModel",
      "state": {}
     },
     "d60a432191c449a5ac75590227aafb64": {
      "model_module": "@jupyter-widgets/controls",
      "model_module_version": "2.0.0",
      "model_name": "ImageModel",
      "state": {
       "layout": "IPY_MODEL_07d89b6b7be64e84b0a760f429121990",
       "width": "900.0"
      }
     },
     "daae4a910747429b8ea3d4c2d48aa058": {
      "model_module": "@jupyter-widgets/controls",
      "model_module_version": "2.0.0",
      "model_name": "DescriptionStyleModel",
      "state": {
       "description_width": ""
      }
     },
     "df5850f38bf24a01b72ab7183172e1b9": {
      "model_module": "@jupyter-widgets/controls",
      "model_module_version": "2.0.0",
      "model_name": "SliderStyleModel",
      "state": {
       "description_width": ""
      }
     },
     "e05a55b36f344d2c9d019826c17a0a63": {
      "model_module": "@jupyter-widgets/controls",
      "model_module_version": "2.0.0",
      "model_name": "HBoxModel",
      "state": {
       "children": [
        "IPY_MODEL_56c518cc74094380bf267604f42a8592",
        "IPY_MODEL_578b0889ce7f43a38650c48f9199450a"
       ],
       "layout": "IPY_MODEL_795b11adc2b84b42bc64a9b9f4004015"
      }
     },
     "e1b2fc557dce42beabd8de8dd8e3e2c2": {
      "model_module": "@jupyter-widgets/base",
      "model_module_version": "2.0.0",
      "model_name": "LayoutModel",
      "state": {}
     },
     "e29046da2e174c788f17f0997fc73fb7": {
      "model_module": "@jupyter-widgets/controls",
      "model_module_version": "2.0.0",
      "model_name": "SliderStyleModel",
      "state": {
       "description_width": ""
      }
     },
     "e5e9498da92b42d9a800bb484ab4f281": {
      "model_module": "@jupyter-widgets/base",
      "model_module_version": "2.0.0",
      "model_name": "LayoutModel",
      "state": {}
     },
     "e742118e9e944723b92d958377f69904": {
      "model_module": "@jupyter-widgets/controls",
      "model_module_version": "2.0.0",
      "model_name": "HBoxModel",
      "state": {
       "children": [
        "IPY_MODEL_119ac9c3fcab43688f84fcad537d190c",
        "IPY_MODEL_9407305fda8d4d0e8f7f47531cffd26b"
       ],
       "layout": "IPY_MODEL_e5e9498da92b42d9a800bb484ab4f281"
      }
     },
     "ea14399750c44b84b5d8cabf85d5e008": {
      "model_module": "@jupyter-widgets/controls",
      "model_module_version": "2.0.0",
      "model_name": "SliderStyleModel",
      "state": {
       "description_width": ""
      }
     },
     "ed070818e9bf46fca82b409784726f5c": {
      "model_module": "@jupyter-widgets/base",
      "model_module_version": "2.0.0",
      "model_name": "LayoutModel",
      "state": {}
     },
     "ed9894b33d1f4ef38a365be4de87df71": {
      "model_module": "@jupyter-widgets/base",
      "model_module_version": "2.0.0",
      "model_name": "LayoutModel",
      "state": {}
     },
     "ee235e099d964c38b91eba04a7e53112": {
      "model_module": "@jupyter-widgets/controls",
      "model_module_version": "2.0.0",
      "model_name": "IntSliderModel",
      "state": {
       "behavior": "drag-tap",
       "layout": "IPY_MODEL_544066072d9b40e7893a1ac01aaef229",
       "max": 5000,
       "style": "IPY_MODEL_a2d4a1887cc4473381477a11bda1b576",
       "value": 5000
      }
     },
     "f0e851e6747b4c109bb8f63844d6395a": {
      "model_module": "@jupyter-widgets/controls",
      "model_module_version": "2.0.0",
      "model_name": "DescriptionStyleModel",
      "state": {
       "description_width": ""
      }
     },
     "f19d85c375884773ad3a6e7e3af832f7": {
      "model_module": "@jupyter-widgets/controls",
      "model_module_version": "2.0.0",
      "model_name": "LinkModel",
      "state": {
       "source": [
        "IPY_MODEL_5e88694ff9be4b59a944016b96fed315",
        "max"
       ],
       "target": [
        "IPY_MODEL_fb5ae6c3db7c4ca98607cd46ffa9c8d0",
        "max_frame"
       ]
      }
     },
     "f389a93d267b4d2ca629caa34217f2a7": {
      "model_module": "@jupyter-widgets/controls",
      "model_module_version": "2.0.0",
      "model_name": "DescriptionStyleModel",
      "state": {
       "description_width": ""
      }
     },
     "f6e4fd366b4f46d7b2e32b780d612078": {
      "model_module": "@jupyter-widgets/controls",
      "model_module_version": "2.0.0",
      "model_name": "ButtonModel",
      "state": {
       "icon": "compress",
       "layout": "IPY_MODEL_1e05edeb30f54fd285ad6ba3a3bf1233",
       "style": "IPY_MODEL_c56d8c95f935491ca2beda6769d08829",
       "tooltip": null
      }
     },
     "f9c3254b48374db3b78649b2396a6fb8": {
      "model_module": "nglview-js-widgets",
      "model_module_version": "3.1.0",
      "model_name": "NGLModel",
      "state": {
       "_camera_orientation": [
        57.59381553757287,
        -5.61512110149206,
        -3.940747455116205,
        0,
        6.392474206886936,
        31.84058531669985,
        48.05642583328006,
        0,
        -2.4890458018506028,
        -48.15344437702054,
        32.235959878538424,
        0,
        -27.760000228881836,
        -1.7400000095367432,
        0.7899999618530273,
        1
       ],
       "_camera_str": "orthographic",
       "_gui_theme": null,
       "_ibtn_fullscreen": "IPY_MODEL_c89db9578fb54ce9b891e88dbb9a5083",
       "_igui": null,
       "_iplayer": "IPY_MODEL_38ef7f5a88614e6eb4bf12dd842a2018",
       "_ngl_color_dict": {},
       "_ngl_coordinate_resource": {},
       "_ngl_full_stage_parameters": {
        "ambientColor": 14540253,
        "ambientIntensity": 0.2,
        "backgroundColor": "white",
        "cameraEyeSep": 0.3,
        "cameraFov": 40,
        "cameraType": "perspective",
        "clipDist": 10,
        "clipFar": 100,
        "clipMode": "scene",
        "clipNear": 0,
        "clipScale": "relative",
        "fogFar": 100,
        "fogNear": 50,
        "hoverTimeout": 0,
        "impostor": true,
        "lightColor": 14540253,
        "lightIntensity": 1,
        "mousePreset": "default",
        "panSpeed": 1,
        "quality": "medium",
        "rotateSpeed": 2,
        "sampleLevel": 0,
        "tooltip": true,
        "workerDefault": true,
        "zoomSpeed": 1.2
       },
       "_ngl_msg_archive": [
        {
         "args": [
          {
           "binary": false,
           "data": "MODEL        0\nATOM      0  N   ASP A   1      16.240   3.190 -14.230  1.00  0.00           N  \nATOM      1  CA  ASP A   1      16.910   3.830 -13.080  1.00  0.00           C  \nATOM      2  C   ASP A   1      18.120   3.010 -12.640  1.00  0.00           C  \nATOM      3  O   ASP A   1      18.200   1.800 -12.910  1.00  0.00           O  \nATOM      4  CB  ASP A   1      15.950   4.090 -11.900  1.00  0.00           C  \nATOM      5  CG  ASP A   1      14.700   4.910 -12.240  1.00  0.00           C  \nATOM      6  OD1 ASP A   1      14.470   5.200 -13.440  1.00  0.00           O  \nATOM      7  OD2 ASP A   1      13.930   5.250 -11.320  1.00  0.00           O  \nATOM      8  H   ASP A   1      15.940   2.260 -13.960  1.00  0.00           H  \nATOM      9  H2  ASP A   1      15.420   3.720 -14.500  1.00  0.00           H  \nATOM     10  H3  ASP A   1      16.880   3.120 -15.010  1.00  0.00           H  \nATOM     11  HA  ASP A   1      17.270   4.800 -13.440  1.00  0.00           H  \nATOM     12  HB2 ASP A   1      15.670   3.120 -11.500  1.00  0.00           H  \nATOM     13  HB3 ASP A   1      16.510   4.630 -11.130  1.00  0.00           H  \nATOM     14  N   ALA A   2      19.080   3.630 -11.960  1.00  0.00           N  \nATOM     15  CA  ALA A   2      20.310   3.000 -11.430  1.00  0.00           C  \nATOM     16  C   ALA A   2      20.690   3.570 -10.050  1.00  0.00           C  \nATOM     17  O   ALA A   2      20.380   4.720  -9.730  1.00  0.00           O  \nATOM     18  CB  ALA A   2      21.410   3.190 -12.460  1.00  0.00           C  \nATOM     19  H   ALA A   2      18.960   4.620 -11.750  1.00  0.00           H  \nATOM     20  HA  ALA A   2      20.110   1.940 -11.300  1.00  0.00           H  \nATOM     21  HB1 ALA A   2      21.140   2.760 -13.420  1.00  0.00           H  \nATOM     22  HB2 ALA A   2      21.640   4.250 -12.600  1.00  0.00           H  \nATOM     23  HB3 ALA A   2      22.320   2.690 -12.120  1.00  0.00           H  \nATOM     24  N   TYR A   3      21.370   2.760  -9.250  1.00  0.00           N  \nATOM     25  CA  TYR A   3      21.630   3.000  -7.810  1.00  0.00           C  \nATOM     26  C   TYR A   3      23.100   2.720  -7.430  1.00  0.00           C  \nATOM     27  O   TYR A   3      23.400   2.400  -6.270  1.00  0.00           O  \nATOM     28  CB  TYR A   3      20.630   2.210  -6.970  1.00  0.00           C  \nATOM     29  CG  TYR A   3      19.180   2.400  -7.360  1.00  0.00           C  \nATOM     30  CD1 TYR A   3      18.530   1.450  -8.160  1.00  0.00           C  \nATOM     31  CD2 TYR A   3      18.500   3.570  -6.960  1.00  0.00           C  \nATOM     32  CE1 TYR A   3      17.190   1.660  -8.570  1.00  0.00           C  \nATOM     33  CE2 TYR A   3      17.160   3.790  -7.360  1.00  0.00           C  \nATOM     34  CZ  TYR A   3      16.500   2.830  -8.160  1.00  0.00           C  \nATOM     35  OH  TYR A   3      15.210   3.020  -8.550  1.00  0.00           O  \nATOM     36  H   TYR A   3      21.580   1.820  -9.580  1.00  0.00           H  \nATOM     37  HA  TYR A   3      21.490   4.060  -7.590  1.00  0.00           H  \nATOM     38  HB2 TYR A   3      20.860   1.150  -7.030  1.00  0.00           H  \nATOM     39  HB3 TYR A   3      20.770   2.480  -5.920  1.00  0.00           H  \nATOM     40  HD1 TYR A   3      19.060   0.570  -8.480  1.00  0.00           H  \nATOM     41  HD2 TYR A   3      18.990   4.330  -6.360  1.00  0.00           H  \nATOM     42  HE1 TYR A   3      16.690   0.940  -9.190  1.00  0.00           H  \nATOM     43  HE2 TYR A   3      16.630   4.680  -7.050  1.00  0.00           H  \nATOM     44  HH  TYR A   3      14.850   3.820  -8.190  1.00  0.00           H  \nATOM     45  N   ALA A   4      24.040   2.820  -8.370  1.00  0.00           N  \nATOM     46  CA  ALA A   4      25.450   2.450  -8.250  1.00  0.00           C  \nATOM     47  C   ALA A   4      26.330   3.490  -7.510  1.00  0.00           C  \nATOM     48  O   ALA A   4      27.440   3.820  -7.920  1.00  0.00           O  \nATOM     49  CB  ALA A   4      25.980   2.080  -9.630  1.00  0.00           C  \nATOM     50  H   ALA A   4      23.730   3.110  -9.290  1.00  0.00           H  \nATOM     51  HA  ALA A   4      25.500   1.560  -7.620  1.00  0.00           H  \nATOM     52  HB1 ALA A   4      25.990   2.960 -10.270  1.00  0.00           H  \nATOM     53  HB2 ALA A   4      27.000   1.700  -9.560  1.00  0.00           H  \nATOM     54  HB3 ALA A   4      25.330   1.310 -10.050  1.00  0.00           H  \nATOM     55  N   GLN A   5      25.800   4.070  -6.410  1.00  0.00           N  \nATOM     56  CA  GLN A   5      26.480   5.060  -5.560  1.00  0.00           C  \nATOM     57  C   GLN A   5      26.130   4.830  -4.080  1.00  0.00           C  \nATOM     58  O   GLN A   5      24.970   4.540  -3.750  1.00  0.00           O  \nATOM     59  CB  GLN A   5      26.120   6.470  -6.030  1.00  0.00           C  \nATOM     60  CG  GLN A   5      26.810   7.590  -5.250  1.00  0.00           C  \nATOM     61  CD  GLN A   5      26.590   8.990  -5.830  1.00  0.00           C  \nATOM     62  OE1 GLN A   5      25.820   9.210  -6.750  1.00  0.00           O  \nATOM     63  NE2 GLN A   5      27.260   9.990  -5.300  1.00  0.00           N  \nATOM     64  H   GLN A   5      24.900   3.740  -6.100  1.00  0.00           H  \nATOM     65  HA  GLN A   5      27.560   4.920  -5.670  1.00  0.00           H  \nATOM     66  HB2 GLN A   5      26.400   6.530  -7.080  1.00  0.00           H  \nATOM     67  HB3 GLN A   5      25.040   6.610  -5.960  1.00  0.00           H  \nATOM     68  HG2 GLN A   5      26.460   7.590  -4.220  1.00  0.00           H  \nATOM     69  HG3 GLN A   5      27.890   7.420  -5.230  1.00  0.00           H  \nATOM     70 HE21 GLN A   5      27.920   9.830  -4.550  1.00  0.00           H  \nATOM     71 HE22 GLN A   5      27.070  10.900  -5.680  1.00  0.00           H  \nATOM     72  N   TRP A   6      27.100   4.990  -3.190  1.00  0.00           N  \nATOM     73  CA  TRP A   6      26.960   4.820  -1.730  1.00  0.00           C  \nATOM     74  C   TRP A   6      27.860   5.790  -0.950  1.00  0.00           C  \nATOM     75  O   TRP A   6      28.930   6.160  -1.430  1.00  0.00           O  \nATOM     76  CB  TRP A   6      27.240   3.360  -1.370  1.00  0.00           C  \nATOM     77  CG  TRP A   6      27.200   3.050   0.100  1.00  0.00           C  \nATOM     78  CD1 TRP A   6      28.290   2.800   0.870  1.00  0.00           C  \nATOM     79  CD2 TRP A   6      26.050   3.000   1.000  1.00  0.00           C  \nATOM     80  NE1 TRP A   6      27.910   2.580   2.170  1.00  0.00           N  \nATOM     81  CE2 TRP A   6      26.540   2.700   2.320  1.00  0.00           C  \nATOM     82  CE3 TRP A   6      24.660   3.210   0.860  1.00  0.00           C  \nATOM     83  CZ2 TRP A   6      25.680   2.600   3.420  1.00  0.00           C  \nATOM     84  CZ3 TRP A   6      23.790   3.100   1.960  1.00  0.00           C  \nATOM     85  CH2 TRP A   6      24.290   2.820   3.240  1.00  0.00           C  \nATOM     86  H   TRP A   6      28.030   5.200  -3.540  1.00  0.00           H  \nATOM     87  HA  TRP A   6      25.920   5.030  -1.490  1.00  0.00           H  \nATOM     88  HB2 TRP A   6      26.530   2.730  -1.900  1.00  0.00           H  \nATOM     89  HB3 TRP A   6      28.220   3.080  -1.770  1.00  0.00           H  \nATOM     90  HD1 TRP A   6      29.310   2.760   0.520  1.00  0.00           H  \nATOM     91  HE1 TRP A   6      28.550   2.440   2.940  1.00  0.00           H  \nATOM     92  HE3 TRP A   6      24.270   3.440  -0.120  1.00  0.00           H  \nATOM     93  HZ2 TRP A   6      26.090   2.350   4.390  1.00  0.00           H  \nATOM     94  HZ3 TRP A   6      22.730   3.220   1.800  1.00  0.00           H  \nATOM     95  HH2 TRP A   6      23.640   2.760   4.100  1.00  0.00           H  \nATOM     96  N   LEU A   7      27.420   6.230   0.240  1.00  0.00           N  \nATOM     97  CA  LEU A   7      28.030   7.330   1.000  1.00  0.00           C  \nATOM     98  C   LEU A   7      29.000   6.900   2.110  1.00  0.00           C  \nATOM     99  O   LEU A   7      29.970   7.620   2.350  1.00  0.00           O  \nATOM    100  CB  LEU A   7      26.890   8.200   1.530  1.00  0.00           C  \nATOM    101  CG  LEU A   7      27.300   9.460   2.310  1.00  0.00           C  \nATOM    102  CD1 LEU A   7      28.060  10.450   1.430  1.00  0.00           C  \nATOM    103  CD2 LEU A   7      26.050  10.160   2.850  1.00  0.00           C  \nATOM    104  H   LEU A   7      26.530   5.860   0.540  1.00  0.00           H  \nATOM    105  HA  LEU A   7      28.620   7.910   0.290  1.00  0.00           H  \nATOM    106  HB2 LEU A   7      26.250   8.520   0.700  1.00  0.00           H  \nATOM    107  HB3 LEU A   7      26.270   7.600   2.200  1.00  0.00           H  \nATOM    108  HG  LEU A   7      27.910   9.180   3.170  1.00  0.00           H  \nATOM    109 HD11 LEU A   7      29.020  10.030   1.130  1.00  0.00           H  \nATOM    110 HD12 LEU A   7      27.460  10.690   0.560  1.00  0.00           H  \nATOM    111 HD13 LEU A   7      28.280  11.370   1.970  1.00  0.00           H  \nATOM    112 HD21 LEU A   7      25.500   9.470   3.490  1.00  0.00           H  \nATOM    113 HD22 LEU A   7      26.340  11.040   3.420  1.00  0.00           H  \nATOM    114 HD23 LEU A   7      25.400  10.460   2.030  1.00  0.00           H  \nATOM    115  N   LYS A   8      28.760   5.770   2.800  1.00  0.00           N  \nATOM    116  CA  LYS A   8      29.450   5.420   4.060  1.00  0.00           C  \nATOM    117  C   LYS A   8      30.590   4.420   3.850  1.00  0.00           C  \nATOM    118  O   LYS A   8      30.360   3.300   3.420  1.00  0.00           O  \nATOM    119  CB  LYS A   8      28.430   4.920   5.100  1.00  0.00           C  \nATOM    120  CG  LYS A   8      27.360   5.960   5.460  1.00  0.00           C  \nATOM    121  CD  LYS A   8      26.390   5.430   6.540  1.00  0.00           C  \nATOM    122  CE  LYS A   8      25.280   6.440   6.880  1.00  0.00           C  \nATOM    123  NZ  LYS A   8      25.780   7.630   7.620  1.00  0.00           N  \nATOM    124  H   LYS A   8      28.020   5.160   2.480  1.00  0.00           H  \nATOM    125  HA  LYS A   8      29.880   6.330   4.470  1.00  0.00           H  \nATOM    126  HB2 LYS A   8      27.940   4.020   4.740  1.00  0.00           H  \nATOM    127  HB3 LYS A   8      28.980   4.660   6.010  1.00  0.00           H  \nATOM    128  HG2 LYS A   8      27.850   6.870   5.820  1.00  0.00           H  \nATOM    129  HG3 LYS A   8      26.780   6.210   4.580  1.00  0.00           H  \nATOM    130  HD2 LYS A   8      25.940   4.520   6.140  1.00  0.00           H  \nATOM    131  HD3 LYS A   8      26.950   5.200   7.440  1.00  0.00           H  \nATOM    132  HE2 LYS A   8      24.760   6.740   5.970  1.00  0.00           H  \nATOM    133  HE3 LYS A   8      24.530   5.940   7.490  1.00  0.00           H  \nATOM    134  HZ1 LYS A   8      25.000   8.240   7.840  1.00  0.00           H  \nATOM    135  HZ2 LYS A   8      26.240   7.360   8.480  1.00  0.00           H  \nATOM    136  HZ3 LYS A   8      26.460   8.160   7.090  1.00  0.00           H  \nATOM    137  N   ASP A   9      31.800   4.820   4.220  1.00  0.00           N  \nATOM    138  CA  ASP A   9      33.000   3.990   4.160  1.00  0.00           C  \nATOM    139  C   ASP A   9      34.000   4.370   5.280  1.00  0.00           C  \nATOM    140  O   ASP A   9      34.020   5.520   5.750  1.00  0.00           O  \nATOM    141  CB  ASP A   9      33.650   4.130   2.760  1.00  0.00           C  \nATOM    142  CG  ASP A   9      34.730   3.060   2.460  1.00  0.00           C  \nATOM    143  OD1 ASP A   9      34.820   2.040   3.190  1.00  0.00           O  \nATOM    144  OD2 ASP A   9      35.460   3.210   1.450  1.00  0.00           O  \nATOM    145  H   ASP A   9      31.910   5.780   4.540  1.00  0.00           H  \nATOM    146  HA  ASP A   9      32.670   2.970   4.310  1.00  0.00           H  \nATOM    147  HB2 ASP A   9      32.880   4.000   2.010  1.00  0.00           H  \nATOM    148  HB3 ASP A   9      34.100   5.120   2.690  1.00  0.00           H  \nATOM    149  N   GLY A  10      34.830   3.410   5.730  1.00  0.00           N  \nATOM    150  CA  GLY A  10      35.810   3.570   6.800  1.00  0.00           C  \nATOM    151  C   GLY A  10      36.090   2.250   7.550  1.00  0.00           C  \nATOM    152  O   GLY A  10      35.390   1.260   7.340  1.00  0.00           O  \nATOM    153  H   GLY A  10      34.790   2.510   5.270  1.00  0.00           H  \nATOM    154  HA2 GLY A  10      36.740   3.950   6.390  1.00  0.00           H  \nATOM    155  HA3 GLY A  10      35.460   4.300   7.530  1.00  0.00           H  \nATOM    156  N   GLY A  11      37.100   2.270   8.420  1.00  0.00           N  \nATOM    157  CA  GLY A  11      37.510   1.090   9.200  1.00  0.00           C  \nATOM    158  C   GLY A  11      38.120  -0.010   8.320  1.00  0.00           C  \nATOM    159  O   GLY A  11      39.070   0.270   7.580  1.00  0.00           O  \nATOM    160  H   GLY A  11      37.620   3.120   8.570  1.00  0.00           H  \nATOM    161  HA2 GLY A  11      38.250   1.390   9.940  1.00  0.00           H  \nATOM    162  HA3 GLY A  11      36.640   0.720   9.750  1.00  0.00           H  \nATOM    163  N   PRO A  12      37.630  -1.260   8.390  1.00  0.00           N  \nATOM    164  CA  PRO A  12      38.110  -2.380   7.570  1.00  0.00           C  \nATOM    165  C   PRO A  12      38.080  -2.120   6.040  1.00  0.00           C  \nATOM    166  O   PRO A  12      37.250  -1.350   5.550  1.00  0.00           O  \nATOM    167  CB  PRO A  12      37.260  -3.590   7.940  1.00  0.00           C  \nATOM    168  CG  PRO A  12      36.810  -3.270   9.360  1.00  0.00           C  \nATOM    169  CD  PRO A  12      36.640  -1.770   9.340  1.00  0.00           C  \nATOM    170  HA  PRO A  12      39.140  -2.610   7.860  1.00  0.00           H  \nATOM    171  HB2 PRO A  12      36.370  -3.680   7.310  1.00  0.00           H  \nATOM    172  HB3 PRO A  12      37.800  -4.530   7.870  1.00  0.00           H  \nATOM    173  HG2 PRO A  12      35.870  -3.750   9.610  1.00  0.00           H  \nATOM    174  HG3 PRO A  12      37.600  -3.550  10.060  1.00  0.00           H  \nATOM    175  HD2 PRO A  12      35.640  -1.530   8.970  1.00  0.00           H  \nATOM    176  HD3 PRO A  12      36.780  -1.330  10.320  1.00  0.00           H  \nATOM    177  N   SER A  13      38.960  -2.790   5.300  1.00  0.00           N  \nATOM    178  CA  SER A  13      39.100  -2.670   3.840  1.00  0.00           C  \nATOM    179  C   SER A  13      38.030  -3.430   3.030  1.00  0.00           C  \nATOM    180  O   SER A  13      37.940  -3.250   1.810  1.00  0.00           O  \nATOM    181  CB  SER A  13      40.490  -3.130   3.420  1.00  0.00           C  \nATOM    182  OG  SER A  13      40.700  -4.480   3.800  1.00  0.00           O  \nATOM    183  H   SER A  13      39.620  -3.410   5.750  1.00  0.00           H  \nATOM    184  HA  SER A  13      38.990  -1.610   3.590  1.00  0.00           H  \nATOM    185  HB2 SER A  13      40.610  -3.030   2.350  1.00  0.00           H  \nATOM    186  HB3 SER A  13      41.230  -2.530   3.950  1.00  0.00           H  \nATOM    187  HG  SER A  13      41.590  -4.740   3.520  1.00  0.00           H  \nATOM    188  N   SER A  14      37.180  -4.230   3.680  1.00  0.00           N  \nATOM    189  CA  SER A  14      36.080  -4.970   3.070  1.00  0.00           C  \nATOM    190  C   SER A  14      34.910  -5.140   4.050  1.00  0.00           C  \nATOM    191  O   SER A  14      35.070  -4.990   5.270  1.00  0.00           O  \nATOM    192  CB  SER A  14      36.570  -6.350   2.600  1.00  0.00           C  \nATOM    193  OG  SER A  14      35.570  -7.050   1.890  1.00  0.00           O  \nATOM    194  H   SER A  14      37.290  -4.310   4.680  1.00  0.00           H  \nATOM    195  HA  SER A  14      35.700  -4.440   2.190  1.00  0.00           H  \nATOM    196  HB2 SER A  14      37.420  -6.180   1.930  1.00  0.00           H  \nATOM    197  HB3 SER A  14      36.890  -6.940   3.460  1.00  0.00           H  \nATOM    198  HG  SER A  14      35.940  -7.890   1.580  1.00  0.00           H  \nATOM    199  N   GLY A  15      33.690  -5.400   3.550  1.00  0.00           N  \nATOM    200  CA  GLY A  15      32.440  -5.420   4.310  1.00  0.00           C  \nATOM    201  C   GLY A  15      31.910  -4.020   4.680  1.00  0.00           C  \nATOM    202  O   GLY A  15      32.340  -3.020   4.120  1.00  0.00           O  \nATOM    203  H   GLY A  15      33.620  -5.510   2.550  1.00  0.00           H  \nATOM    204  HA2 GLY A  15      31.710  -5.990   3.750  1.00  0.00           H  \nATOM    205  HA3 GLY A  15      32.630  -5.980   5.220  1.00  0.00           H  \nATOM    206  N   ARG A  16      30.940  -3.970   5.620  1.00  0.00           N  \nATOM    207  CA  ARG A  16      30.320  -2.720   6.080  1.00  0.00           C  \nATOM    208  C   ARG A  16      31.280  -1.880   6.960  1.00  0.00           C  \nATOM    209  O   ARG A  16      32.100  -2.460   7.690  1.00  0.00           O  \nATOM    210  CB  ARG A  16      29.020  -3.000   6.830  1.00  0.00           C  \nATOM    211  CG  ARG A  16      27.940  -3.640   5.930  1.00  0.00           C  \nATOM    212  CD  ARG A  16      26.580  -3.720   6.640  1.00  0.00           C  \nATOM    213  NE  ARG A  16      25.960  -2.390   6.830  1.00  0.00           N  \nATOM    214  CZ  ARG A  16      25.180  -1.740   6.000  1.00  0.00           C  \nATOM    215  NH1 ARG A  16      24.820  -2.230   4.840  1.00  0.00           N  \nATOM    216  NH2 ARG A  16      24.730  -0.570   6.320  1.00  0.00           N  \nATOM    217  H   ARG A  16      30.670  -4.840   6.060  1.00  0.00           H  \nATOM    218  HA  ARG A  16      30.100  -2.110   5.200  1.00  0.00           H  \nATOM    219  HB2 ARG A  16      29.190  -3.670   7.680  1.00  0.00           H  \nATOM    220  HB3 ARG A  16      28.620  -2.070   7.230  1.00  0.00           H  \nATOM    221  HG2 ARG A  16      27.820  -3.030   5.030  1.00  0.00           H  \nATOM    222  HG3 ARG A  16      28.260  -4.640   5.660  1.00  0.00           H  \nATOM    223  HD2 ARG A  16      25.910  -4.380   6.090  1.00  0.00           H  \nATOM    224  HD3 ARG A  16      26.710  -4.220   7.600  1.00  0.00           H  \nATOM    225  HE  ARG A  16      26.160  -1.900   7.690  1.00  0.00           H  \nATOM    226 HH11 ARG A  16      25.130  -3.150   4.550  1.00  0.00           H  \nATOM    227 HH12 ARG A  16      24.220  -1.690   4.230  1.00  0.00           H  \nATOM    228 HH21 ARG A  16      24.110  -0.070   5.690  1.00  0.00           H  \nATOM    229 HH22 ARG A  16      24.970  -0.190   7.230  1.00  0.00           H  \nATOM    230  N   PRO A  17      31.150  -0.540   6.970  1.00  0.00           N  \nATOM    231  CA  PRO A  17      31.930   0.330   7.860  1.00  0.00           C  \nATOM    232  C   PRO A  17      31.510   0.190   9.340  1.00  0.00           C  \nATOM    233  O   PRO A  17      30.400  -0.250   9.620  1.00  0.00           O  \nATOM    234  CB  PRO A  17      31.700   1.740   7.290  1.00  0.00           C  \nATOM    235  CG  PRO A  17      30.280   1.660   6.730  1.00  0.00           C  \nATOM    236  CD  PRO A  17      30.270   0.260   6.140  1.00  0.00           C  \nATOM    237  HA  PRO A  17      32.980   0.080   7.760  1.00  0.00           H  \nATOM    238  HB2 PRO A  17      31.760   2.530   8.040  1.00  0.00           H  \nATOM    239  HB3 PRO A  17      32.390   1.940   6.470  1.00  0.00           H  \nATOM    240  HG2 PRO A  17      29.550   1.740   7.520  1.00  0.00           H  \nATOM    241  HG3 PRO A  17      30.110   2.430   5.980  1.00  0.00           H  \nATOM    242  HD2 PRO A  17      29.260  -0.160   6.110  1.00  0.00           H  \nATOM    243  HD3 PRO A  17      30.650   0.270   5.110  1.00  0.00           H  \nATOM    244  N   PRO A  18      32.370   0.620  10.300  1.00  0.00           N  \nATOM    245  CA  PRO A  18      32.140   0.390  11.730  1.00  0.00           C  \nATOM    246  C   PRO A  18      30.860   0.970  12.390  1.00  0.00           C  \nATOM    247  O   PRO A  18      30.480   0.420  13.430  1.00  0.00           O  \nATOM    248  CB  PRO A  18      33.420   0.900  12.440  1.00  0.00           C  \nATOM    249  CG  PRO A  18      34.100   1.800  11.420  1.00  0.00           C  \nATOM    250  CD  PRO A  18      33.670   1.220  10.070  1.00  0.00           C  \nATOM    251  HA  PRO A  18      32.100  -0.690  11.860  1.00  0.00           H  \nATOM    252  HB2 PRO A  18      33.250   1.410  13.380  1.00  0.00           H  \nATOM    253  HB3 PRO A  18      34.060   0.040  12.630  1.00  0.00           H  \nATOM    254  HG2 PRO A  18      33.740   2.820  11.510  1.00  0.00           H  \nATOM    255  HG3 PRO A  18      35.180   1.790  11.540  1.00  0.00           H  \nATOM    256  HD2 PRO A  18      33.620   1.990   9.300  1.00  0.00           H  \nATOM    257  HD3 PRO A  18      34.380   0.440   9.820  1.00  0.00           H  \nATOM    258  N   PRO A  19      30.120   1.970  11.830  1.00  0.00           N  \nATOM    259  CA  PRO A  19      28.810   2.340  12.350  1.00  0.00           C  \nATOM    260  C   PRO A  19      27.720   1.270  12.250  1.00  0.00           C  \nATOM    261  O   PRO A  19      26.660   1.400  12.870  1.00  0.00           O  \nATOM    262  CB  PRO A  19      28.400   3.610  11.580  1.00  0.00           C  \nATOM    263  CG  PRO A  19      29.730   4.200  11.110  1.00  0.00           C  \nATOM    264  CD  PRO A  19      30.540   2.950  10.830  1.00  0.00           C  \nATOM    265  HA  PRO A  19      28.870   2.600  13.410  1.00  0.00           H  \nATOM    266  HB2 PRO A  19      27.820   3.340  10.690  1.00  0.00           H  \nATOM    267  HB3 PRO A  19      27.850   4.310  12.210  1.00  0.00           H  \nATOM    268  HG2 PRO A  19      29.610   4.820  10.220  1.00  0.00           H  \nATOM    269  HG3 PRO A  19      30.190   4.760  11.930  1.00  0.00           H  \nATOM    270  HD2 PRO A  19      30.280   2.570   9.840  1.00  0.00           H  \nATOM    271  HD3 PRO A  19      31.610   3.170  10.920  1.00  0.00           H  \nATOM    272  N   SER A  20      27.940   0.190  11.470  1.00  0.00           N  \nATOM    273  CA  SER A  20      27.040  -0.970  11.320  1.00  0.00           C  \nATOM    274  C   SER A  20      27.360  -2.070  12.330  1.00  0.00           C  \nATOM    275  O   SER A  20      28.420  -2.720  12.200  1.00  0.00           O  \nATOM    276  CB  SER A  20      27.080  -1.520   9.900  1.00  0.00           C  \nATOM    277  OG  SER A  20      26.620  -0.510   9.020  1.00  0.00           O  \nATOM    278  OXT SER A  20      26.550  -2.300  13.240  1.00  0.00           O  \nATOM    279  H   SER A  20      28.840   0.160  11.010  1.00  0.00           H  \nATOM    280  HA  SER A  20      26.020  -0.650  11.520  1.00  0.00           H  \nATOM    281  HB2 SER A  20      28.110  -1.780   9.650  1.00  0.00           H  \nATOM    282  HB3 SER A  20      26.450  -2.410   9.850  1.00  0.00           H  \nATOM    283  HG  SER A  20      27.110   0.300   9.200  1.00  0.00           H  \nTER     284      SER A  20\nENDMDL\nEND\n",
           "type": "blob"
          }
         ],
         "kwargs": {
          "defaultRepresentation": true,
          "ext": "pdb",
          "height": "400px",
          "name": "nglview.adaptor.MDTrajTrajectory",
          "width": "400px"
         },
         "methodName": "loadFile",
         "reconstruc_color_scheme": false,
         "target": "Stage",
         "type": "call_method"
        },
        {
         "args": [
          "ball+stick"
         ],
         "component_index": 0,
         "kwargs": {
          "aspectRatio": 2,
          "radius": 0.1,
          "sele": "protein"
         },
         "methodName": "addRepresentation",
         "reconstruc_color_scheme": false,
         "target": "compList",
         "type": "call_method"
        }
       ],
       "_ngl_original_stage_parameters": {
        "ambientColor": 14540253,
        "ambientIntensity": 0.2,
        "backgroundColor": "white",
        "cameraEyeSep": 0.3,
        "cameraFov": 40,
        "cameraType": "perspective",
        "clipDist": 10,
        "clipFar": 100,
        "clipMode": "scene",
        "clipNear": 0,
        "clipScale": "relative",
        "fogFar": 100,
        "fogNear": 50,
        "hoverTimeout": 0,
        "impostor": true,
        "lightColor": 14540253,
        "lightIntensity": 1,
        "mousePreset": "default",
        "panSpeed": 1,
        "quality": "medium",
        "rotateSpeed": 2,
        "sampleLevel": 0,
        "tooltip": true,
        "workerDefault": true,
        "zoomSpeed": 1.2
       },
       "_ngl_repr_dict": {
        "0": {
         "0": {
          "params": {
           "aspectRatio": 5,
           "assembly": "default",
           "capped": true,
           "clipCenter": {
            "x": 0,
            "y": 0,
            "z": 0
           },
           "clipNear": 0,
           "clipRadius": 0,
           "colorMode": "hcl",
           "colorReverse": true,
           "colorScale": "Spectral",
           "colorScheme": "residueindex",
           "colorValue": 9474192,
           "defaultAssembly": "",
           "depthWrite": true,
           "diffuse": 16777215,
           "diffuseInterior": false,
           "disablePicking": false,
           "flatShaded": false,
           "interiorColor": 2236962,
           "interiorDarkening": 0,
           "lazy": false,
           "matrix": {
            "elements": [
             1,
             0,
             0,
             0,
             0,
             1,
             0,
             0,
             0,
             0,
             1,
             0,
             0,
             0,
             0,
             1
            ]
           },
           "metalness": 0,
           "opacity": 1,
           "quality": "high",
           "radialSegments": 20,
           "radiusData": {},
           "radiusScale": 0.7,
           "radiusSize": 1,
           "radiusType": "sstruc",
           "roughness": 0.4,
           "sele": "",
           "side": "double",
           "smoothSheet": false,
           "subdiv": 6,
           "tension": null,
           "useInteriorColor": true,
           "visible": true,
           "wireframe": false
          },
          "type": "cartoon"
         },
         "1": {
          "params": {
           "aspectRatio": 1,
           "assembly": "default",
           "bondScale": 0.4,
           "clipCenter": {
            "x": 0,
            "y": 0,
            "z": 0
           },
           "clipNear": 0,
           "clipRadius": 0,
           "colorMode": "hcl",
           "colorReverse": true,
           "colorScale": "Spectral",
           "colorScheme": "residueindex",
           "colorValue": 9474192,
           "cylinderOnly": false,
           "defaultAssembly": "",
           "depthWrite": true,
           "diffuse": 16777215,
           "diffuseInterior": false,
           "disableImpostor": false,
           "disablePicking": false,
           "flatShaded": false,
           "interiorColor": 2236962,
           "interiorDarkening": 0,
           "lazy": false,
           "lineOnly": false,
           "linewidth": 2,
           "matrix": {
            "elements": [
             1,
             0,
             0,
             0,
             0,
             1,
             0,
             0,
             0,
             0,
             1,
             0,
             0,
             0,
             0,
             1
            ]
           },
           "metalness": 0,
           "opacity": 1,
           "openEnded": true,
           "quality": "high",
           "radialSegments": 20,
           "radiusData": {},
           "radiusScale": 1,
           "radiusSize": 0.3,
           "radiusType": "size",
           "roughness": 0.4,
           "sele": "",
           "side": "double",
           "sphereDetail": 2,
           "useInteriorColor": true,
           "visible": true,
           "wireframe": false
          },
          "type": "base"
         },
         "2": {
          "params": {
           "aspectRatio": 1.5,
           "assembly": "default",
           "bondScale": 0.3,
           "bondSpacing": 0.75,
           "clipCenter": {
            "x": 0,
            "y": 0,
            "z": 0
           },
           "clipNear": 0,
           "clipRadius": 0,
           "colorMode": "hcl",
           "colorReverse": false,
           "colorScale": "",
           "colorScheme": "element",
           "colorValue": 9474192,
           "cylinderOnly": false,
           "defaultAssembly": "",
           "depthWrite": true,
           "diffuse": 16777215,
           "diffuseInterior": false,
           "disableImpostor": false,
           "disablePicking": false,
           "flatShaded": false,
           "interiorColor": 2236962,
           "interiorDarkening": 0,
           "lazy": false,
           "lineOnly": false,
           "linewidth": 2,
           "matrix": {
            "elements": [
             1,
             0,
             0,
             0,
             0,
             1,
             0,
             0,
             0,
             0,
             1,
             0,
             0,
             0,
             0,
             1
            ]
           },
           "metalness": 0,
           "multipleBond": "off",
           "opacity": 1,
           "openEnded": true,
           "quality": "high",
           "radialSegments": 20,
           "radiusData": {},
           "radiusScale": 2,
           "radiusSize": 0.15,
           "radiusType": "size",
           "roughness": 0.4,
           "sele": "ligand",
           "side": "double",
           "sphereDetail": 2,
           "useInteriorColor": true,
           "visible": true,
           "wireframe": false
          },
          "type": "ball+stick"
         },
         "3": {
          "params": {
           "aspectRatio": 2,
           "assembly": "default",
           "bondScale": 0.4,
           "bondSpacing": 1,
           "clipCenter": {
            "x": 0,
            "y": 0,
            "z": 0
           },
           "clipNear": 0,
           "clipRadius": 0,
           "colorMode": "hcl",
           "colorReverse": false,
           "colorScale": "",
           "colorScheme": "element",
           "colorValue": 9474192,
           "cylinderOnly": false,
           "defaultAssembly": "",
           "depthWrite": true,
           "diffuse": 16777215,
           "diffuseInterior": false,
           "disableImpostor": false,
           "disablePicking": false,
           "flatShaded": false,
           "interiorColor": 2236962,
           "interiorDarkening": 0,
           "lazy": false,
           "lineOnly": false,
           "linewidth": 2,
           "matrix": {
            "elements": [
             1,
             0,
             0,
             0,
             0,
             1,
             0,
             0,
             0,
             0,
             1,
             0,
             0,
             0,
             0,
             1
            ]
           },
           "metalness": 0,
           "multipleBond": "off",
           "opacity": 1,
           "openEnded": true,
           "quality": "medium",
           "radialSegments": 10,
           "radiusData": {},
           "radiusScale": 1,
           "radiusSize": 0.1,
           "radiusType": "size",
           "roughness": 0.4,
           "sele": "protein",
           "side": "double",
           "sphereDetail": 1,
           "useInteriorColor": true,
           "visible": true,
           "wireframe": false
          },
          "type": "ball+stick"
         }
        }
       },
       "_ngl_serialize": false,
       "_ngl_version": "2.2.2",
       "_ngl_view_id": [
        "8A084489-FE36-4E5A-BE3E-992B16FE6766"
       ],
       "_player_dict": {},
       "_scene_position": {},
       "_scene_rotation": {},
       "_synced_model_ids": [],
       "_synced_repr_model_ids": [],
       "_view_height": "400px",
       "_view_width": "400px",
       "background": "white",
       "frame": 0,
       "gui_style": null,
       "layout": "IPY_MODEL_9a1d04e7254047598a4f61ad642ac084",
       "max_frame": 5000,
       "n_components": 1,
       "picked": {}
      }
     },
     "fb5ae6c3db7c4ca98607cd46ffa9c8d0": {
      "model_module": "nglview-js-widgets",
      "model_module_version": "3.1.0",
      "model_name": "NGLModel",
      "state": {
       "_camera_orientation": [
        57.71115649948697,
        0,
        5.790429963048144,
        0,
        0,
        58.00091950706682,
        0,
        0,
        -5.790429963048144,
        0,
        57.71115649948697,
        0,
        -27.760000228881836,
        -1.7400000095367432,
        0.7899999618530273,
        1
       ],
       "_camera_str": "orthographic",
       "_gui_theme": null,
       "_ibtn_fullscreen": "IPY_MODEL_f6e4fd366b4f46d7b2e32b780d612078",
       "_igui": null,
       "_iplayer": "IPY_MODEL_b918421e1ce648c8a4340e0b8ea6a20e",
       "_ngl_color_dict": {},
       "_ngl_coordinate_resource": {},
       "_ngl_full_stage_parameters": {
        "ambientColor": 14540253,
        "ambientIntensity": 0.2,
        "backgroundColor": "white",
        "cameraEyeSep": 0.3,
        "cameraFov": 40,
        "cameraType": "perspective",
        "clipDist": 10,
        "clipFar": 100,
        "clipMode": "scene",
        "clipNear": 0,
        "clipScale": "relative",
        "fogFar": 100,
        "fogNear": 50,
        "hoverTimeout": 0,
        "impostor": true,
        "lightColor": 14540253,
        "lightIntensity": 1,
        "mousePreset": "default",
        "panSpeed": 1,
        "quality": "medium",
        "rotateSpeed": 2,
        "sampleLevel": 0,
        "tooltip": true,
        "workerDefault": true,
        "zoomSpeed": 1.2
       },
       "_ngl_msg_archive": [
        {
         "args": [
          {
           "binary": false,
           "data": "MODEL        0\nATOM      0  N   ASP A   1      16.240   3.190 -14.230  1.00  0.00           N  \nATOM      1  CA  ASP A   1      16.910   3.830 -13.080  1.00  0.00           C  \nATOM      2  C   ASP A   1      18.120   3.010 -12.640  1.00  0.00           C  \nATOM      3  O   ASP A   1      18.200   1.800 -12.910  1.00  0.00           O  \nATOM      4  CB  ASP A   1      15.950   4.090 -11.900  1.00  0.00           C  \nATOM      5  CG  ASP A   1      14.700   4.910 -12.240  1.00  0.00           C  \nATOM      6  OD1 ASP A   1      14.470   5.200 -13.440  1.00  0.00           O  \nATOM      7  OD2 ASP A   1      13.930   5.250 -11.320  1.00  0.00           O  \nATOM      8  H   ASP A   1      15.940   2.260 -13.960  1.00  0.00           H  \nATOM      9  H2  ASP A   1      15.420   3.720 -14.500  1.00  0.00           H  \nATOM     10  H3  ASP A   1      16.880   3.120 -15.010  1.00  0.00           H  \nATOM     11  HA  ASP A   1      17.270   4.800 -13.440  1.00  0.00           H  \nATOM     12  HB2 ASP A   1      15.670   3.120 -11.500  1.00  0.00           H  \nATOM     13  HB3 ASP A   1      16.510   4.630 -11.130  1.00  0.00           H  \nATOM     14  N   ALA A   2      19.080   3.630 -11.960  1.00  0.00           N  \nATOM     15  CA  ALA A   2      20.310   3.000 -11.430  1.00  0.00           C  \nATOM     16  C   ALA A   2      20.690   3.570 -10.050  1.00  0.00           C  \nATOM     17  O   ALA A   2      20.380   4.720  -9.730  1.00  0.00           O  \nATOM     18  CB  ALA A   2      21.410   3.190 -12.460  1.00  0.00           C  \nATOM     19  H   ALA A   2      18.960   4.620 -11.750  1.00  0.00           H  \nATOM     20  HA  ALA A   2      20.110   1.940 -11.300  1.00  0.00           H  \nATOM     21  HB1 ALA A   2      21.140   2.760 -13.420  1.00  0.00           H  \nATOM     22  HB2 ALA A   2      21.640   4.250 -12.600  1.00  0.00           H  \nATOM     23  HB3 ALA A   2      22.320   2.690 -12.120  1.00  0.00           H  \nATOM     24  N   TYR A   3      21.370   2.760  -9.250  1.00  0.00           N  \nATOM     25  CA  TYR A   3      21.630   3.000  -7.810  1.00  0.00           C  \nATOM     26  C   TYR A   3      23.100   2.720  -7.430  1.00  0.00           C  \nATOM     27  O   TYR A   3      23.400   2.400  -6.270  1.00  0.00           O  \nATOM     28  CB  TYR A   3      20.630   2.210  -6.970  1.00  0.00           C  \nATOM     29  CG  TYR A   3      19.180   2.400  -7.360  1.00  0.00           C  \nATOM     30  CD1 TYR A   3      18.530   1.450  -8.160  1.00  0.00           C  \nATOM     31  CD2 TYR A   3      18.500   3.570  -6.960  1.00  0.00           C  \nATOM     32  CE1 TYR A   3      17.190   1.660  -8.570  1.00  0.00           C  \nATOM     33  CE2 TYR A   3      17.160   3.790  -7.360  1.00  0.00           C  \nATOM     34  CZ  TYR A   3      16.500   2.830  -8.160  1.00  0.00           C  \nATOM     35  OH  TYR A   3      15.210   3.020  -8.550  1.00  0.00           O  \nATOM     36  H   TYR A   3      21.580   1.820  -9.580  1.00  0.00           H  \nATOM     37  HA  TYR A   3      21.490   4.060  -7.590  1.00  0.00           H  \nATOM     38  HB2 TYR A   3      20.860   1.150  -7.030  1.00  0.00           H  \nATOM     39  HB3 TYR A   3      20.770   2.480  -5.920  1.00  0.00           H  \nATOM     40  HD1 TYR A   3      19.060   0.570  -8.480  1.00  0.00           H  \nATOM     41  HD2 TYR A   3      18.990   4.330  -6.360  1.00  0.00           H  \nATOM     42  HE1 TYR A   3      16.690   0.940  -9.190  1.00  0.00           H  \nATOM     43  HE2 TYR A   3      16.630   4.680  -7.050  1.00  0.00           H  \nATOM     44  HH  TYR A   3      14.850   3.820  -8.190  1.00  0.00           H  \nATOM     45  N   ALA A   4      24.040   2.820  -8.370  1.00  0.00           N  \nATOM     46  CA  ALA A   4      25.450   2.450  -8.250  1.00  0.00           C  \nATOM     47  C   ALA A   4      26.330   3.490  -7.510  1.00  0.00           C  \nATOM     48  O   ALA A   4      27.440   3.820  -7.920  1.00  0.00           O  \nATOM     49  CB  ALA A   4      25.980   2.080  -9.630  1.00  0.00           C  \nATOM     50  H   ALA A   4      23.730   3.110  -9.290  1.00  0.00           H  \nATOM     51  HA  ALA A   4      25.500   1.560  -7.620  1.00  0.00           H  \nATOM     52  HB1 ALA A   4      25.990   2.960 -10.270  1.00  0.00           H  \nATOM     53  HB2 ALA A   4      27.000   1.700  -9.560  1.00  0.00           H  \nATOM     54  HB3 ALA A   4      25.330   1.310 -10.050  1.00  0.00           H  \nATOM     55  N   GLN A   5      25.800   4.070  -6.410  1.00  0.00           N  \nATOM     56  CA  GLN A   5      26.480   5.060  -5.560  1.00  0.00           C  \nATOM     57  C   GLN A   5      26.130   4.830  -4.080  1.00  0.00           C  \nATOM     58  O   GLN A   5      24.970   4.540  -3.750  1.00  0.00           O  \nATOM     59  CB  GLN A   5      26.120   6.470  -6.030  1.00  0.00           C  \nATOM     60  CG  GLN A   5      26.810   7.590  -5.250  1.00  0.00           C  \nATOM     61  CD  GLN A   5      26.590   8.990  -5.830  1.00  0.00           C  \nATOM     62  OE1 GLN A   5      25.820   9.210  -6.750  1.00  0.00           O  \nATOM     63  NE2 GLN A   5      27.260   9.990  -5.300  1.00  0.00           N  \nATOM     64  H   GLN A   5      24.900   3.740  -6.100  1.00  0.00           H  \nATOM     65  HA  GLN A   5      27.560   4.920  -5.670  1.00  0.00           H  \nATOM     66  HB2 GLN A   5      26.400   6.530  -7.080  1.00  0.00           H  \nATOM     67  HB3 GLN A   5      25.040   6.610  -5.960  1.00  0.00           H  \nATOM     68  HG2 GLN A   5      26.460   7.590  -4.220  1.00  0.00           H  \nATOM     69  HG3 GLN A   5      27.890   7.420  -5.230  1.00  0.00           H  \nATOM     70 HE21 GLN A   5      27.920   9.830  -4.550  1.00  0.00           H  \nATOM     71 HE22 GLN A   5      27.070  10.900  -5.680  1.00  0.00           H  \nATOM     72  N   TRP A   6      27.100   4.990  -3.190  1.00  0.00           N  \nATOM     73  CA  TRP A   6      26.960   4.820  -1.730  1.00  0.00           C  \nATOM     74  C   TRP A   6      27.860   5.790  -0.950  1.00  0.00           C  \nATOM     75  O   TRP A   6      28.930   6.160  -1.430  1.00  0.00           O  \nATOM     76  CB  TRP A   6      27.240   3.360  -1.370  1.00  0.00           C  \nATOM     77  CG  TRP A   6      27.200   3.050   0.100  1.00  0.00           C  \nATOM     78  CD1 TRP A   6      28.290   2.800   0.870  1.00  0.00           C  \nATOM     79  CD2 TRP A   6      26.050   3.000   1.000  1.00  0.00           C  \nATOM     80  NE1 TRP A   6      27.910   2.580   2.170  1.00  0.00           N  \nATOM     81  CE2 TRP A   6      26.540   2.700   2.320  1.00  0.00           C  \nATOM     82  CE3 TRP A   6      24.660   3.210   0.860  1.00  0.00           C  \nATOM     83  CZ2 TRP A   6      25.680   2.600   3.420  1.00  0.00           C  \nATOM     84  CZ3 TRP A   6      23.790   3.100   1.960  1.00  0.00           C  \nATOM     85  CH2 TRP A   6      24.290   2.820   3.240  1.00  0.00           C  \nATOM     86  H   TRP A   6      28.030   5.200  -3.540  1.00  0.00           H  \nATOM     87  HA  TRP A   6      25.920   5.030  -1.490  1.00  0.00           H  \nATOM     88  HB2 TRP A   6      26.530   2.730  -1.900  1.00  0.00           H  \nATOM     89  HB3 TRP A   6      28.220   3.080  -1.770  1.00  0.00           H  \nATOM     90  HD1 TRP A   6      29.310   2.760   0.520  1.00  0.00           H  \nATOM     91  HE1 TRP A   6      28.550   2.440   2.940  1.00  0.00           H  \nATOM     92  HE3 TRP A   6      24.270   3.440  -0.120  1.00  0.00           H  \nATOM     93  HZ2 TRP A   6      26.090   2.350   4.390  1.00  0.00           H  \nATOM     94  HZ3 TRP A   6      22.730   3.220   1.800  1.00  0.00           H  \nATOM     95  HH2 TRP A   6      23.640   2.760   4.100  1.00  0.00           H  \nATOM     96  N   LEU A   7      27.420   6.230   0.240  1.00  0.00           N  \nATOM     97  CA  LEU A   7      28.030   7.330   1.000  1.00  0.00           C  \nATOM     98  C   LEU A   7      29.000   6.900   2.110  1.00  0.00           C  \nATOM     99  O   LEU A   7      29.970   7.620   2.350  1.00  0.00           O  \nATOM    100  CB  LEU A   7      26.890   8.200   1.530  1.00  0.00           C  \nATOM    101  CG  LEU A   7      27.300   9.460   2.310  1.00  0.00           C  \nATOM    102  CD1 LEU A   7      28.060  10.450   1.430  1.00  0.00           C  \nATOM    103  CD2 LEU A   7      26.050  10.160   2.850  1.00  0.00           C  \nATOM    104  H   LEU A   7      26.530   5.860   0.540  1.00  0.00           H  \nATOM    105  HA  LEU A   7      28.620   7.910   0.290  1.00  0.00           H  \nATOM    106  HB2 LEU A   7      26.250   8.520   0.700  1.00  0.00           H  \nATOM    107  HB3 LEU A   7      26.270   7.600   2.200  1.00  0.00           H  \nATOM    108  HG  LEU A   7      27.910   9.180   3.170  1.00  0.00           H  \nATOM    109 HD11 LEU A   7      29.020  10.030   1.130  1.00  0.00           H  \nATOM    110 HD12 LEU A   7      27.460  10.690   0.560  1.00  0.00           H  \nATOM    111 HD13 LEU A   7      28.280  11.370   1.970  1.00  0.00           H  \nATOM    112 HD21 LEU A   7      25.500   9.470   3.490  1.00  0.00           H  \nATOM    113 HD22 LEU A   7      26.340  11.040   3.420  1.00  0.00           H  \nATOM    114 HD23 LEU A   7      25.400  10.460   2.030  1.00  0.00           H  \nATOM    115  N   LYS A   8      28.760   5.770   2.800  1.00  0.00           N  \nATOM    116  CA  LYS A   8      29.450   5.420   4.060  1.00  0.00           C  \nATOM    117  C   LYS A   8      30.590   4.420   3.850  1.00  0.00           C  \nATOM    118  O   LYS A   8      30.360   3.300   3.420  1.00  0.00           O  \nATOM    119  CB  LYS A   8      28.430   4.920   5.100  1.00  0.00           C  \nATOM    120  CG  LYS A   8      27.360   5.960   5.460  1.00  0.00           C  \nATOM    121  CD  LYS A   8      26.390   5.430   6.540  1.00  0.00           C  \nATOM    122  CE  LYS A   8      25.280   6.440   6.880  1.00  0.00           C  \nATOM    123  NZ  LYS A   8      25.780   7.630   7.620  1.00  0.00           N  \nATOM    124  H   LYS A   8      28.020   5.160   2.480  1.00  0.00           H  \nATOM    125  HA  LYS A   8      29.880   6.330   4.470  1.00  0.00           H  \nATOM    126  HB2 LYS A   8      27.940   4.020   4.740  1.00  0.00           H  \nATOM    127  HB3 LYS A   8      28.980   4.660   6.010  1.00  0.00           H  \nATOM    128  HG2 LYS A   8      27.850   6.870   5.820  1.00  0.00           H  \nATOM    129  HG3 LYS A   8      26.780   6.210   4.580  1.00  0.00           H  \nATOM    130  HD2 LYS A   8      25.940   4.520   6.140  1.00  0.00           H  \nATOM    131  HD3 LYS A   8      26.950   5.200   7.440  1.00  0.00           H  \nATOM    132  HE2 LYS A   8      24.760   6.740   5.970  1.00  0.00           H  \nATOM    133  HE3 LYS A   8      24.530   5.940   7.490  1.00  0.00           H  \nATOM    134  HZ1 LYS A   8      25.000   8.240   7.840  1.00  0.00           H  \nATOM    135  HZ2 LYS A   8      26.240   7.360   8.480  1.00  0.00           H  \nATOM    136  HZ3 LYS A   8      26.460   8.160   7.090  1.00  0.00           H  \nATOM    137  N   ASP A   9      31.800   4.820   4.220  1.00  0.00           N  \nATOM    138  CA  ASP A   9      33.000   3.990   4.160  1.00  0.00           C  \nATOM    139  C   ASP A   9      34.000   4.370   5.280  1.00  0.00           C  \nATOM    140  O   ASP A   9      34.020   5.520   5.750  1.00  0.00           O  \nATOM    141  CB  ASP A   9      33.650   4.130   2.760  1.00  0.00           C  \nATOM    142  CG  ASP A   9      34.730   3.060   2.460  1.00  0.00           C  \nATOM    143  OD1 ASP A   9      34.820   2.040   3.190  1.00  0.00           O  \nATOM    144  OD2 ASP A   9      35.460   3.210   1.450  1.00  0.00           O  \nATOM    145  H   ASP A   9      31.910   5.780   4.540  1.00  0.00           H  \nATOM    146  HA  ASP A   9      32.670   2.970   4.310  1.00  0.00           H  \nATOM    147  HB2 ASP A   9      32.880   4.000   2.010  1.00  0.00           H  \nATOM    148  HB3 ASP A   9      34.100   5.120   2.690  1.00  0.00           H  \nATOM    149  N   GLY A  10      34.830   3.410   5.730  1.00  0.00           N  \nATOM    150  CA  GLY A  10      35.810   3.570   6.800  1.00  0.00           C  \nATOM    151  C   GLY A  10      36.090   2.250   7.550  1.00  0.00           C  \nATOM    152  O   GLY A  10      35.390   1.260   7.340  1.00  0.00           O  \nATOM    153  H   GLY A  10      34.790   2.510   5.270  1.00  0.00           H  \nATOM    154  HA2 GLY A  10      36.740   3.950   6.390  1.00  0.00           H  \nATOM    155  HA3 GLY A  10      35.460   4.300   7.530  1.00  0.00           H  \nATOM    156  N   GLY A  11      37.100   2.270   8.420  1.00  0.00           N  \nATOM    157  CA  GLY A  11      37.510   1.090   9.200  1.00  0.00           C  \nATOM    158  C   GLY A  11      38.120  -0.010   8.320  1.00  0.00           C  \nATOM    159  O   GLY A  11      39.070   0.270   7.580  1.00  0.00           O  \nATOM    160  H   GLY A  11      37.620   3.120   8.570  1.00  0.00           H  \nATOM    161  HA2 GLY A  11      38.250   1.390   9.940  1.00  0.00           H  \nATOM    162  HA3 GLY A  11      36.640   0.720   9.750  1.00  0.00           H  \nATOM    163  N   PRO A  12      37.630  -1.260   8.390  1.00  0.00           N  \nATOM    164  CA  PRO A  12      38.110  -2.380   7.570  1.00  0.00           C  \nATOM    165  C   PRO A  12      38.080  -2.120   6.040  1.00  0.00           C  \nATOM    166  O   PRO A  12      37.250  -1.350   5.550  1.00  0.00           O  \nATOM    167  CB  PRO A  12      37.260  -3.590   7.940  1.00  0.00           C  \nATOM    168  CG  PRO A  12      36.810  -3.270   9.360  1.00  0.00           C  \nATOM    169  CD  PRO A  12      36.640  -1.770   9.340  1.00  0.00           C  \nATOM    170  HA  PRO A  12      39.140  -2.610   7.860  1.00  0.00           H  \nATOM    171  HB2 PRO A  12      36.370  -3.680   7.310  1.00  0.00           H  \nATOM    172  HB3 PRO A  12      37.800  -4.530   7.870  1.00  0.00           H  \nATOM    173  HG2 PRO A  12      35.870  -3.750   9.610  1.00  0.00           H  \nATOM    174  HG3 PRO A  12      37.600  -3.550  10.060  1.00  0.00           H  \nATOM    175  HD2 PRO A  12      35.640  -1.530   8.970  1.00  0.00           H  \nATOM    176  HD3 PRO A  12      36.780  -1.330  10.320  1.00  0.00           H  \nATOM    177  N   SER A  13      38.960  -2.790   5.300  1.00  0.00           N  \nATOM    178  CA  SER A  13      39.100  -2.670   3.840  1.00  0.00           C  \nATOM    179  C   SER A  13      38.030  -3.430   3.030  1.00  0.00           C  \nATOM    180  O   SER A  13      37.940  -3.250   1.810  1.00  0.00           O  \nATOM    181  CB  SER A  13      40.490  -3.130   3.420  1.00  0.00           C  \nATOM    182  OG  SER A  13      40.700  -4.480   3.800  1.00  0.00           O  \nATOM    183  H   SER A  13      39.620  -3.410   5.750  1.00  0.00           H  \nATOM    184  HA  SER A  13      38.990  -1.610   3.590  1.00  0.00           H  \nATOM    185  HB2 SER A  13      40.610  -3.030   2.350  1.00  0.00           H  \nATOM    186  HB3 SER A  13      41.230  -2.530   3.950  1.00  0.00           H  \nATOM    187  HG  SER A  13      41.590  -4.740   3.520  1.00  0.00           H  \nATOM    188  N   SER A  14      37.180  -4.230   3.680  1.00  0.00           N  \nATOM    189  CA  SER A  14      36.080  -4.970   3.070  1.00  0.00           C  \nATOM    190  C   SER A  14      34.910  -5.140   4.050  1.00  0.00           C  \nATOM    191  O   SER A  14      35.070  -4.990   5.270  1.00  0.00           O  \nATOM    192  CB  SER A  14      36.570  -6.350   2.600  1.00  0.00           C  \nATOM    193  OG  SER A  14      35.570  -7.050   1.890  1.00  0.00           O  \nATOM    194  H   SER A  14      37.290  -4.310   4.680  1.00  0.00           H  \nATOM    195  HA  SER A  14      35.700  -4.440   2.190  1.00  0.00           H  \nATOM    196  HB2 SER A  14      37.420  -6.180   1.930  1.00  0.00           H  \nATOM    197  HB3 SER A  14      36.890  -6.940   3.460  1.00  0.00           H  \nATOM    198  HG  SER A  14      35.940  -7.890   1.580  1.00  0.00           H  \nATOM    199  N   GLY A  15      33.690  -5.400   3.550  1.00  0.00           N  \nATOM    200  CA  GLY A  15      32.440  -5.420   4.310  1.00  0.00           C  \nATOM    201  C   GLY A  15      31.910  -4.020   4.680  1.00  0.00           C  \nATOM    202  O   GLY A  15      32.340  -3.020   4.120  1.00  0.00           O  \nATOM    203  H   GLY A  15      33.620  -5.510   2.550  1.00  0.00           H  \nATOM    204  HA2 GLY A  15      31.710  -5.990   3.750  1.00  0.00           H  \nATOM    205  HA3 GLY A  15      32.630  -5.980   5.220  1.00  0.00           H  \nATOM    206  N   ARG A  16      30.940  -3.970   5.620  1.00  0.00           N  \nATOM    207  CA  ARG A  16      30.320  -2.720   6.080  1.00  0.00           C  \nATOM    208  C   ARG A  16      31.280  -1.880   6.960  1.00  0.00           C  \nATOM    209  O   ARG A  16      32.100  -2.460   7.690  1.00  0.00           O  \nATOM    210  CB  ARG A  16      29.020  -3.000   6.830  1.00  0.00           C  \nATOM    211  CG  ARG A  16      27.940  -3.640   5.930  1.00  0.00           C  \nATOM    212  CD  ARG A  16      26.580  -3.720   6.640  1.00  0.00           C  \nATOM    213  NE  ARG A  16      25.960  -2.390   6.830  1.00  0.00           N  \nATOM    214  CZ  ARG A  16      25.180  -1.740   6.000  1.00  0.00           C  \nATOM    215  NH1 ARG A  16      24.820  -2.230   4.840  1.00  0.00           N  \nATOM    216  NH2 ARG A  16      24.730  -0.570   6.320  1.00  0.00           N  \nATOM    217  H   ARG A  16      30.670  -4.840   6.060  1.00  0.00           H  \nATOM    218  HA  ARG A  16      30.100  -2.110   5.200  1.00  0.00           H  \nATOM    219  HB2 ARG A  16      29.190  -3.670   7.680  1.00  0.00           H  \nATOM    220  HB3 ARG A  16      28.620  -2.070   7.230  1.00  0.00           H  \nATOM    221  HG2 ARG A  16      27.820  -3.030   5.030  1.00  0.00           H  \nATOM    222  HG3 ARG A  16      28.260  -4.640   5.660  1.00  0.00           H  \nATOM    223  HD2 ARG A  16      25.910  -4.380   6.090  1.00  0.00           H  \nATOM    224  HD3 ARG A  16      26.710  -4.220   7.600  1.00  0.00           H  \nATOM    225  HE  ARG A  16      26.160  -1.900   7.690  1.00  0.00           H  \nATOM    226 HH11 ARG A  16      25.130  -3.150   4.550  1.00  0.00           H  \nATOM    227 HH12 ARG A  16      24.220  -1.690   4.230  1.00  0.00           H  \nATOM    228 HH21 ARG A  16      24.110  -0.070   5.690  1.00  0.00           H  \nATOM    229 HH22 ARG A  16      24.970  -0.190   7.230  1.00  0.00           H  \nATOM    230  N   PRO A  17      31.150  -0.540   6.970  1.00  0.00           N  \nATOM    231  CA  PRO A  17      31.930   0.330   7.860  1.00  0.00           C  \nATOM    232  C   PRO A  17      31.510   0.190   9.340  1.00  0.00           C  \nATOM    233  O   PRO A  17      30.400  -0.250   9.620  1.00  0.00           O  \nATOM    234  CB  PRO A  17      31.700   1.740   7.290  1.00  0.00           C  \nATOM    235  CG  PRO A  17      30.280   1.660   6.730  1.00  0.00           C  \nATOM    236  CD  PRO A  17      30.270   0.260   6.140  1.00  0.00           C  \nATOM    237  HA  PRO A  17      32.980   0.080   7.760  1.00  0.00           H  \nATOM    238  HB2 PRO A  17      31.760   2.530   8.040  1.00  0.00           H  \nATOM    239  HB3 PRO A  17      32.390   1.940   6.470  1.00  0.00           H  \nATOM    240  HG2 PRO A  17      29.550   1.740   7.520  1.00  0.00           H  \nATOM    241  HG3 PRO A  17      30.110   2.430   5.980  1.00  0.00           H  \nATOM    242  HD2 PRO A  17      29.260  -0.160   6.110  1.00  0.00           H  \nATOM    243  HD3 PRO A  17      30.650   0.270   5.110  1.00  0.00           H  \nATOM    244  N   PRO A  18      32.370   0.620  10.300  1.00  0.00           N  \nATOM    245  CA  PRO A  18      32.140   0.390  11.730  1.00  0.00           C  \nATOM    246  C   PRO A  18      30.860   0.970  12.390  1.00  0.00           C  \nATOM    247  O   PRO A  18      30.480   0.420  13.430  1.00  0.00           O  \nATOM    248  CB  PRO A  18      33.420   0.900  12.440  1.00  0.00           C  \nATOM    249  CG  PRO A  18      34.100   1.800  11.420  1.00  0.00           C  \nATOM    250  CD  PRO A  18      33.670   1.220  10.070  1.00  0.00           C  \nATOM    251  HA  PRO A  18      32.100  -0.690  11.860  1.00  0.00           H  \nATOM    252  HB2 PRO A  18      33.250   1.410  13.380  1.00  0.00           H  \nATOM    253  HB3 PRO A  18      34.060   0.040  12.630  1.00  0.00           H  \nATOM    254  HG2 PRO A  18      33.740   2.820  11.510  1.00  0.00           H  \nATOM    255  HG3 PRO A  18      35.180   1.790  11.540  1.00  0.00           H  \nATOM    256  HD2 PRO A  18      33.620   1.990   9.300  1.00  0.00           H  \nATOM    257  HD3 PRO A  18      34.380   0.440   9.820  1.00  0.00           H  \nATOM    258  N   PRO A  19      30.120   1.970  11.830  1.00  0.00           N  \nATOM    259  CA  PRO A  19      28.810   2.340  12.350  1.00  0.00           C  \nATOM    260  C   PRO A  19      27.720   1.270  12.250  1.00  0.00           C  \nATOM    261  O   PRO A  19      26.660   1.400  12.870  1.00  0.00           O  \nATOM    262  CB  PRO A  19      28.400   3.610  11.580  1.00  0.00           C  \nATOM    263  CG  PRO A  19      29.730   4.200  11.110  1.00  0.00           C  \nATOM    264  CD  PRO A  19      30.540   2.950  10.830  1.00  0.00           C  \nATOM    265  HA  PRO A  19      28.870   2.600  13.410  1.00  0.00           H  \nATOM    266  HB2 PRO A  19      27.820   3.340  10.690  1.00  0.00           H  \nATOM    267  HB3 PRO A  19      27.850   4.310  12.210  1.00  0.00           H  \nATOM    268  HG2 PRO A  19      29.610   4.820  10.220  1.00  0.00           H  \nATOM    269  HG3 PRO A  19      30.190   4.760  11.930  1.00  0.00           H  \nATOM    270  HD2 PRO A  19      30.280   2.570   9.840  1.00  0.00           H  \nATOM    271  HD3 PRO A  19      31.610   3.170  10.920  1.00  0.00           H  \nATOM    272  N   SER A  20      27.940   0.190  11.470  1.00  0.00           N  \nATOM    273  CA  SER A  20      27.040  -0.970  11.320  1.00  0.00           C  \nATOM    274  C   SER A  20      27.360  -2.070  12.330  1.00  0.00           C  \nATOM    275  O   SER A  20      28.420  -2.720  12.200  1.00  0.00           O  \nATOM    276  CB  SER A  20      27.080  -1.520   9.900  1.00  0.00           C  \nATOM    277  OG  SER A  20      26.620  -0.510   9.020  1.00  0.00           O  \nATOM    278  OXT SER A  20      26.550  -2.300  13.240  1.00  0.00           O  \nATOM    279  H   SER A  20      28.840   0.160  11.010  1.00  0.00           H  \nATOM    280  HA  SER A  20      26.020  -0.650  11.520  1.00  0.00           H  \nATOM    281  HB2 SER A  20      28.110  -1.780   9.650  1.00  0.00           H  \nATOM    282  HB3 SER A  20      26.450  -2.410   9.850  1.00  0.00           H  \nATOM    283  HG  SER A  20      27.110   0.300   9.200  1.00  0.00           H  \nTER     284      SER A  20\nENDMDL\nEND\n",
           "type": "blob"
          }
         ],
         "kwargs": {
          "defaultRepresentation": true,
          "ext": "pdb",
          "height": "400px",
          "name": "nglview.adaptor.MDTrajTrajectory",
          "width": "400px"
         },
         "methodName": "loadFile",
         "reconstruc_color_scheme": false,
         "target": "Stage",
         "type": "call_method"
        },
        {
         "args": [
          "ball+stick"
         ],
         "component_index": 0,
         "kwargs": {
          "aspectRatio": 2,
          "radius": 0.1,
          "sele": "protein"
         },
         "methodName": "addRepresentation",
         "reconstruc_color_scheme": false,
         "target": "compList",
         "type": "call_method"
        },
        {
         "args": [
          "ribbon"
         ],
         "component_index": 0,
         "kwargs": {
          "sele": "protein"
         },
         "methodName": "addRepresentation",
         "reconstruc_color_scheme": false,
         "target": "compList",
         "type": "call_method"
        }
       ],
       "_ngl_original_stage_parameters": {
        "ambientColor": 14540253,
        "ambientIntensity": 0.2,
        "backgroundColor": "white",
        "cameraEyeSep": 0.3,
        "cameraFov": 40,
        "cameraType": "perspective",
        "clipDist": 10,
        "clipFar": 100,
        "clipMode": "scene",
        "clipNear": 0,
        "clipScale": "relative",
        "fogFar": 100,
        "fogNear": 50,
        "hoverTimeout": 0,
        "impostor": true,
        "lightColor": 14540253,
        "lightIntensity": 1,
        "mousePreset": "default",
        "panSpeed": 1,
        "quality": "medium",
        "rotateSpeed": 2,
        "sampleLevel": 0,
        "tooltip": true,
        "workerDefault": true,
        "zoomSpeed": 1.2
       },
       "_ngl_repr_dict": {
        "0": {
         "0": {
          "params": {
           "aspectRatio": 5,
           "assembly": "default",
           "capped": true,
           "clipCenter": {
            "x": 0,
            "y": 0,
            "z": 0
           },
           "clipNear": 0,
           "clipRadius": 0,
           "colorMode": "hcl",
           "colorReverse": true,
           "colorScale": "Spectral",
           "colorScheme": "residueindex",
           "colorValue": 9474192,
           "defaultAssembly": "",
           "depthWrite": true,
           "diffuse": 16777215,
           "diffuseInterior": false,
           "disablePicking": false,
           "flatShaded": false,
           "interiorColor": 2236962,
           "interiorDarkening": 0,
           "lazy": false,
           "matrix": {
            "elements": [
             1,
             0,
             0,
             0,
             0,
             1,
             0,
             0,
             0,
             0,
             1,
             0,
             0,
             0,
             0,
             1
            ]
           },
           "metalness": 0,
           "opacity": 1,
           "quality": "high",
           "radialSegments": 20,
           "radiusData": {},
           "radiusScale": 0.7,
           "radiusSize": 1,
           "radiusType": "sstruc",
           "roughness": 0.4,
           "sele": "",
           "side": "double",
           "smoothSheet": false,
           "subdiv": 6,
           "tension": null,
           "useInteriorColor": true,
           "visible": true,
           "wireframe": false
          },
          "type": "cartoon"
         },
         "1": {
          "params": {
           "aspectRatio": 1,
           "assembly": "default",
           "bondScale": 0.4,
           "clipCenter": {
            "x": 0,
            "y": 0,
            "z": 0
           },
           "clipNear": 0,
           "clipRadius": 0,
           "colorMode": "hcl",
           "colorReverse": true,
           "colorScale": "Spectral",
           "colorScheme": "residueindex",
           "colorValue": 9474192,
           "cylinderOnly": false,
           "defaultAssembly": "",
           "depthWrite": true,
           "diffuse": 16777215,
           "diffuseInterior": false,
           "disableImpostor": false,
           "disablePicking": false,
           "flatShaded": false,
           "interiorColor": 2236962,
           "interiorDarkening": 0,
           "lazy": false,
           "lineOnly": false,
           "linewidth": 2,
           "matrix": {
            "elements": [
             1,
             0,
             0,
             0,
             0,
             1,
             0,
             0,
             0,
             0,
             1,
             0,
             0,
             0,
             0,
             1
            ]
           },
           "metalness": 0,
           "opacity": 1,
           "openEnded": true,
           "quality": "high",
           "radialSegments": 20,
           "radiusData": {},
           "radiusScale": 1,
           "radiusSize": 0.3,
           "radiusType": "size",
           "roughness": 0.4,
           "sele": "",
           "side": "double",
           "sphereDetail": 2,
           "useInteriorColor": true,
           "visible": true,
           "wireframe": false
          },
          "type": "base"
         },
         "2": {
          "params": {
           "aspectRatio": 1.5,
           "assembly": "default",
           "bondScale": 0.3,
           "bondSpacing": 0.75,
           "clipCenter": {
            "x": 0,
            "y": 0,
            "z": 0
           },
           "clipNear": 0,
           "clipRadius": 0,
           "colorMode": "hcl",
           "colorReverse": false,
           "colorScale": "",
           "colorScheme": "element",
           "colorValue": 9474192,
           "cylinderOnly": false,
           "defaultAssembly": "",
           "depthWrite": true,
           "diffuse": 16777215,
           "diffuseInterior": false,
           "disableImpostor": false,
           "disablePicking": false,
           "flatShaded": false,
           "interiorColor": 2236962,
           "interiorDarkening": 0,
           "lazy": false,
           "lineOnly": false,
           "linewidth": 2,
           "matrix": {
            "elements": [
             1,
             0,
             0,
             0,
             0,
             1,
             0,
             0,
             0,
             0,
             1,
             0,
             0,
             0,
             0,
             1
            ]
           },
           "metalness": 0,
           "multipleBond": "off",
           "opacity": 1,
           "openEnded": true,
           "quality": "high",
           "radialSegments": 20,
           "radiusData": {},
           "radiusScale": 2,
           "radiusSize": 0.15,
           "radiusType": "size",
           "roughness": 0.4,
           "sele": "ligand",
           "side": "double",
           "sphereDetail": 2,
           "useInteriorColor": true,
           "visible": true,
           "wireframe": false
          },
          "type": "ball+stick"
         },
         "3": {
          "params": {
           "aspectRatio": 2,
           "assembly": "default",
           "bondScale": 0.4,
           "bondSpacing": 1,
           "clipCenter": {
            "x": 0,
            "y": 0,
            "z": 0
           },
           "clipNear": 0,
           "clipRadius": 0,
           "colorMode": "hcl",
           "colorReverse": false,
           "colorScale": "",
           "colorScheme": "element",
           "colorValue": 9474192,
           "cylinderOnly": false,
           "defaultAssembly": "",
           "depthWrite": true,
           "diffuse": 16777215,
           "diffuseInterior": false,
           "disableImpostor": false,
           "disablePicking": false,
           "flatShaded": false,
           "interiorColor": 2236962,
           "interiorDarkening": 0,
           "lazy": false,
           "lineOnly": false,
           "linewidth": 2,
           "matrix": {
            "elements": [
             1,
             0,
             0,
             0,
             0,
             1,
             0,
             0,
             0,
             0,
             1,
             0,
             0,
             0,
             0,
             1
            ]
           },
           "metalness": 0,
           "multipleBond": "off",
           "opacity": 1,
           "openEnded": true,
           "quality": "medium",
           "radialSegments": 10,
           "radiusData": {},
           "radiusScale": 1,
           "radiusSize": 0.1,
           "radiusType": "size",
           "roughness": 0.4,
           "sele": "protein",
           "side": "double",
           "sphereDetail": 1,
           "useInteriorColor": true,
           "visible": true,
           "wireframe": false
          },
          "type": "ball+stick"
         },
         "4": {
          "params": {
           "assembly": "default",
           "clipCenter": {
            "x": 0,
            "y": 0,
            "z": 0
           },
           "clipNear": 0,
           "clipRadius": 0,
           "colorMode": "hcl",
           "colorReverse": false,
           "colorScale": "RdYlBu",
           "colorScheme": "chainname",
           "colorValue": 9474192,
           "defaultAssembly": "",
           "depthWrite": true,
           "diffuse": 16777215,
           "diffuseInterior": false,
           "disablePicking": false,
           "flatShaded": false,
           "interiorColor": 2236962,
           "interiorDarkening": 0,
           "lazy": false,
           "matrix": {
            "elements": [
             1,
             0,
             0,
             0,
             0,
             1,
             0,
             0,
             0,
             0,
             1,
             0,
             0,
             0,
             0,
             1
            ]
           },
           "metalness": 0,
           "opacity": 1,
           "quality": "medium",
           "radiusData": {},
           "radiusScale": 4,
           "radiusSize": 1,
           "radiusType": "sstruc",
           "roughness": 0.4,
           "sele": "protein",
           "smoothSheet": false,
           "subdiv": 6,
           "tension": null,
           "useInteriorColor": false,
           "visible": true
          },
          "type": "ribbon"
         }
        }
       },
       "_ngl_serialize": false,
       "_ngl_version": "2.2.2",
       "_ngl_view_id": [
        "B411E964-E2B3-4D06-8F32-81F177A399A6"
       ],
       "_player_dict": {},
       "_scene_position": {},
       "_scene_rotation": {},
       "_synced_model_ids": [],
       "_synced_repr_model_ids": [],
       "_view_height": "400px",
       "_view_width": "400px",
       "background": "white",
       "frame": 0,
       "gui_style": null,
       "layout": "IPY_MODEL_8060ec2b0c6e4944aa3c26bdf6171c32",
       "max_frame": 5000,
       "n_components": 1,
       "picked": {}
      }
     },
     "fbbca06a10fb44fcb67f5910119bb1bd": {
      "model_module": "@jupyter-widgets/controls",
      "model_module_version": "2.0.0",
      "model_name": "ButtonModel",
      "state": {
       "icon": "compress",
       "layout": "IPY_MODEL_a56180698c3144e2b51cbab47bb3d9a7",
       "style": "IPY_MODEL_272521e193944f9ca97dd060e986bfc7",
       "tooltip": null
      }
     },
     "fc27ee479a4b4cf79856104e31298908": {
      "model_module": "@jupyter-widgets/base",
      "model_module_version": "2.0.0",
      "model_name": "LayoutModel",
      "state": {}
     }
    },
    "version_major": 2,
    "version_minor": 0
   }
  }
 },
 "nbformat": 4,
 "nbformat_minor": 4
}
