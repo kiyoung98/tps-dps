{
 "cells": [
  {
   "cell_type": "markdown",
   "metadata": {},
   "source": [
    "# Setup"
   ]
  },
  {
   "cell_type": "code",
   "execution_count": 1,
   "metadata": {},
   "outputs": [
    {
     "data": {
      "application/vnd.jupyter.widget-view+json": {
       "model_id": "9872f2473ab94747bbe811979f04626f",
       "version_major": 2,
       "version_minor": 0
      },
      "text/plain": []
     },
     "metadata": {},
     "output_type": "display_data"
    }
   ],
   "source": [
    "# NOTE: This job does not work well in vscode\n",
    "# PLEASE execute the ipynb file on the browser by ''jupyter notebook'', rather than in vscode.\n",
    "\n",
    "import os\n",
    "import tae\n",
    "import time\n",
    "import torch\n",
    "import imageio\n",
    "import matplotlib\n",
    "\n",
    "import numpy as np\n",
    "import mdtraj as md\n",
    "import nglview as nv\n",
    "import matplotlib.pyplot as plt\n",
    "\n",
    "from tqdm import tqdm\n",
    "from IPython.display import display\n",
    "from nglview.contrib.movie import MovieMaker"
   ]
  },
  {
   "cell_type": "markdown",
   "metadata": {},
   "source": [
    "# 3d views"
   ]
  },
  {
   "cell_type": "code",
   "execution_count": 2,
   "metadata": {},
   "outputs": [],
   "source": [
    "# Molecule configs\n",
    "\n",
    "start_file = f\"../page/data/bba/unfolded.pdb\"\n",
    "md_file = f\"../page/data/bba/bba.gro\"\n",
    "# start_file = f\"../page/data/trpcage/unfolded.pdb\"\n",
    "# md_file = f\"../page/data/trpcage/trpcage.gro\"\n",
    "# start_file = f\"../page/data/chignolin-unfolded.pdb\"\n",
    "# md_file = f\"../page/data/chignolin-path.gro\"\n",
    "\n",
    "# Image config\n",
    "IMAGE_SIZE = \"400px\""
   ]
  },
  {
   "cell_type": "code",
   "execution_count": 3,
   "metadata": {},
   "outputs": [
    {
     "data": {
      "application/vnd.jupyter.widget-view+json": {
       "model_id": "27425676badc4195a6d14b5088c7ba06",
       "version_major": 2,
       "version_minor": 0
      },
      "text/plain": [
       "NGLWidget(max_frame=5000)"
      ]
     },
     "metadata": {},
     "output_type": "display_data"
    }
   ],
   "source": [
    "traj = md.load(md_file, top=start_file)\n",
    "traj_view = nv.show_mdtraj(traj, width=IMAGE_SIZE, height=IMAGE_SIZE)\n",
    "traj_view.add_ball_and_stick('protein', aspectRatio=2, radius=0.1)\n",
    "# traj_view.add_ribbon('protein')\n",
    "traj_view.center()\n",
    "\n",
    "traj_view"
   ]
  },
  {
   "cell_type": "code",
   "execution_count": 4,
   "metadata": {},
   "outputs": [],
   "source": [
    "# NOTE: Set frame to desired one\n",
    "frame_idx = 200\n",
    "traj_view.frame = frame_idx"
   ]
  },
  {
   "cell_type": "code",
   "execution_count": 5,
   "metadata": {},
   "outputs": [
    {
     "name": "stdout",
     "output_type": "stream",
     "text": [
      "[]\n"
     ]
    }
   ],
   "source": [
    "# Save current view!!\n",
    "print(traj_view._camera_orientation)\n",
    "traj_view.render_image(frame=0, factor=10)\n",
    "im = traj_view.render_image(factor=4)"
   ]
  },
  {
   "cell_type": "code",
   "execution_count": 21,
   "metadata": {},
   "outputs": [
    {
     "name": "stdout",
     "output_type": "stream",
     "text": [
      ">> Saved frame 200 for alanine\n"
     ]
    }
   ],
   "source": [
    "with open(f'{path_to_save}/{molecule}_{frame_idx}.png', 'wb') as fh:\n",
    "    fh.write(im.value)\n",
    "    print(f\">> Saved frame {frame_idx} for {molecule}\")"
   ]
  }
 ],
 "metadata": {
  "kernelspec": {
   "display_name": "Python 3 (ipykernel)",
   "language": "python",
   "name": "python3"
  },
  "language_info": {
   "codemirror_mode": {
    "name": "ipython",
    "version": 3
   },
   "file_extension": ".py",
   "mimetype": "text/x-python",
   "name": "python",
   "nbconvert_exporter": "python",
   "pygments_lexer": "ipython3",
   "version": "3.9.19"
  },
  "widgets": {
   "application/vnd.jupyter.widget-state+json": {
    "state": {},
    "version_major": 2,
    "version_minor": 0
   }
  }
 },
 "nbformat": 4,
 "nbformat_minor": 4
}
